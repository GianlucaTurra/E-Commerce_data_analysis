{
  "nbformat": 4,
  "nbformat_minor": 0,
  "metadata": {
    "colab": {
      "provenance": [],
      "toc_visible": true
    },
    "kernelspec": {
      "name": "python3",
      "display_name": "Python 3"
    },
    "language_info": {
      "name": "python"
    }
  },
  "cells": [
    {
      "cell_type": "markdown",
      "source": [
        "# UK E-Commerce Analysis"
      ],
      "metadata": {
        "id": "Q8v1w0JTWpad"
      }
    },
    {
      "cell_type": "markdown",
      "source": [
        "## Preprocessing"
      ],
      "metadata": {
        "id": "ejxjL0pOWhFt"
      }
    },
    {
      "cell_type": "markdown",
      "source": [
        "### Importing libraries"
      ],
      "metadata": {
        "id": "GULR8zUgsEQa"
      }
    },
    {
      "cell_type": "code",
      "execution_count": null,
      "metadata": {
        "id": "sBJWQIvWjuqU"
      },
      "outputs": [],
      "source": [
        "import pandas as pd\n",
        "import matplotlib.pyplot as plt\n",
        "import seaborn as sns\n",
        "import numpy as np"
      ]
    },
    {
      "cell_type": "code",
      "source": [],
      "metadata": {
        "id": "TXyDHB8SWlM1"
      },
      "execution_count": null,
      "outputs": []
    },
    {
      "cell_type": "markdown",
      "source": [
        "### Importing the dataset and exploring the data"
      ],
      "metadata": {
        "id": "mM2a6CeVsMXC"
      }
    },
    {
      "cell_type": "code",
      "source": [
        "dataset = pd.read_csv('data.csv', encoding_errors='ignore')\n",
        "dataset.shape"
      ],
      "metadata": {
        "colab": {
          "base_uri": "https://localhost:8080/"
        },
        "id": "V7uZIOpXkGoa",
        "outputId": "4ea684d7-d69a-42ae-fa61-bbb4441f973b"
      },
      "execution_count": null,
      "outputs": [
        {
          "output_type": "execute_result",
          "data": {
            "text/plain": [
              "(541909, 8)"
            ]
          },
          "metadata": {},
          "execution_count": 2
        }
      ]
    },
    {
      "cell_type": "code",
      "source": [
        "dataset.isna().sum()"
      ],
      "metadata": {
        "id": "Ch7QBKAWDeGG",
        "colab": {
          "base_uri": "https://localhost:8080/"
        },
        "outputId": "203c393b-0597-406a-bff4-710bc69f5dcb"
      },
      "execution_count": null,
      "outputs": [
        {
          "output_type": "execute_result",
          "data": {
            "text/plain": [
              "InvoiceNo           0\n",
              "StockCode           0\n",
              "Description      1454\n",
              "Quantity            0\n",
              "InvoiceDate         0\n",
              "UnitPrice           0\n",
              "CustomerID     135080\n",
              "Country             0\n",
              "dtype: int64"
            ]
          },
          "metadata": {},
          "execution_count": 3
        }
      ]
    },
    {
      "cell_type": "code",
      "source": [
        "dataset.duplicated().sum()"
      ],
      "metadata": {
        "id": "Uqw7cVUXDf--",
        "colab": {
          "base_uri": "https://localhost:8080/"
        },
        "outputId": "2007174a-c79e-4342-8d0f-4681d90d41a3"
      },
      "execution_count": null,
      "outputs": [
        {
          "output_type": "execute_result",
          "data": {
            "text/plain": [
              "5268"
            ]
          },
          "metadata": {},
          "execution_count": 4
        }
      ]
    },
    {
      "cell_type": "markdown",
      "source": [
        "### Cleaning the data and adjusting data types"
      ],
      "metadata": {
        "id": "pkhiMBrNDrhm"
      }
    },
    {
      "cell_type": "markdown",
      "source": [
        "#### Removing duplicates"
      ],
      "metadata": {
        "id": "CknGY5Z3VtU0"
      }
    },
    {
      "cell_type": "code",
      "source": [
        "dataset.drop_duplicates(keep='first', inplace=True)\n",
        "print(dataset.shape)\n",
        "print(dataset.info())"
      ],
      "metadata": {
        "id": "K8LLW4iem9Ny",
        "colab": {
          "base_uri": "https://localhost:8080/"
        },
        "outputId": "e1f9c5e2-0e1b-4d83-96ca-d2efcc4d4678"
      },
      "execution_count": null,
      "outputs": [
        {
          "output_type": "stream",
          "name": "stdout",
          "text": [
            "(536641, 8)\n",
            "<class 'pandas.core.frame.DataFrame'>\n",
            "Int64Index: 536641 entries, 0 to 541908\n",
            "Data columns (total 8 columns):\n",
            " #   Column       Non-Null Count   Dtype  \n",
            "---  ------       --------------   -----  \n",
            " 0   InvoiceNo    536641 non-null  object \n",
            " 1   StockCode    536641 non-null  object \n",
            " 2   Description  535187 non-null  object \n",
            " 3   Quantity     536641 non-null  int64  \n",
            " 4   InvoiceDate  536641 non-null  object \n",
            " 5   UnitPrice    536641 non-null  float64\n",
            " 6   CustomerID   401604 non-null  float64\n",
            " 7   Country      536641 non-null  object \n",
            "dtypes: float64(2), int64(1), object(5)\n",
            "memory usage: 36.8+ MB\n",
            "None\n"
          ]
        }
      ]
    },
    {
      "cell_type": "markdown",
      "source": [
        "#### Filling Nan values"
      ],
      "metadata": {
        "id": "jFEhj4rpVzrE"
      }
    },
    {
      "cell_type": "code",
      "source": [
        "dataset['Description'] = dataset['Description'].fillna('Unknown')\n",
        "dataset['CustomerID'] = dataset['CustomerID'].fillna(0)"
      ],
      "metadata": {
        "id": "jTglr0uyp17y"
      },
      "execution_count": null,
      "outputs": []
    },
    {
      "cell_type": "markdown",
      "source": [
        "#### Changing data types where needed"
      ],
      "metadata": {
        "id": "T0ynLD3fV6hc"
      }
    },
    {
      "cell_type": "code",
      "source": [
        "dataset['InvoiceDate'] = pd.to_datetime(dataset['InvoiceDate'])"
      ],
      "metadata": {
        "id": "kx8RHSTisAQU"
      },
      "execution_count": null,
      "outputs": []
    },
    {
      "cell_type": "code",
      "source": [
        "dataset.info()"
      ],
      "metadata": {
        "id": "UH2oMqmIseCn",
        "colab": {
          "base_uri": "https://localhost:8080/"
        },
        "outputId": "73390f2e-28e9-423b-e5d2-2aaeeb21da75"
      },
      "execution_count": null,
      "outputs": [
        {
          "output_type": "stream",
          "name": "stdout",
          "text": [
            "<class 'pandas.core.frame.DataFrame'>\n",
            "Int64Index: 536641 entries, 0 to 541908\n",
            "Data columns (total 8 columns):\n",
            " #   Column       Non-Null Count   Dtype         \n",
            "---  ------       --------------   -----         \n",
            " 0   InvoiceNo    536641 non-null  object        \n",
            " 1   StockCode    536641 non-null  object        \n",
            " 2   Description  536641 non-null  object        \n",
            " 3   Quantity     536641 non-null  int64         \n",
            " 4   InvoiceDate  536641 non-null  datetime64[ns]\n",
            " 5   UnitPrice    536641 non-null  float64       \n",
            " 6   CustomerID   536641 non-null  float64       \n",
            " 7   Country      536641 non-null  object        \n",
            "dtypes: datetime64[ns](1), float64(2), int64(1), object(4)\n",
            "memory usage: 36.8+ MB\n"
          ]
        }
      ]
    },
    {
      "cell_type": "markdown",
      "source": [
        "#### Handling negative values for Quantity and Price"
      ],
      "metadata": {
        "id": "wO2cOZ2cWBz0"
      }
    },
    {
      "cell_type": "code",
      "source": [
        "dataset[dataset['UnitPrice'] < 0]"
      ],
      "metadata": {
        "id": "khibtDEeEJzP",
        "colab": {
          "base_uri": "https://localhost:8080/",
          "height": 112
        },
        "outputId": "bff50f11-dc6d-44c5-cdc1-691ebfdee4c9"
      },
      "execution_count": null,
      "outputs": [
        {
          "output_type": "execute_result",
          "data": {
            "text/plain": [
              "       InvoiceNo StockCode      Description  Quantity         InvoiceDate  \\\n",
              "299983   A563186         B  Adjust bad debt         1 2011-08-12 14:51:00   \n",
              "299984   A563187         B  Adjust bad debt         1 2011-08-12 14:52:00   \n",
              "\n",
              "        UnitPrice  CustomerID         Country  \n",
              "299983  -11062.06         0.0  United Kingdom  \n",
              "299984  -11062.06         0.0  United Kingdom  "
            ],
            "text/html": [
              "\n",
              "\n",
              "  <div id=\"df-d34af4b9-36cd-4426-a902-8fb6eb7faa10\">\n",
              "    <div class=\"colab-df-container\">\n",
              "      <div>\n",
              "<style scoped>\n",
              "    .dataframe tbody tr th:only-of-type {\n",
              "        vertical-align: middle;\n",
              "    }\n",
              "\n",
              "    .dataframe tbody tr th {\n",
              "        vertical-align: top;\n",
              "    }\n",
              "\n",
              "    .dataframe thead th {\n",
              "        text-align: right;\n",
              "    }\n",
              "</style>\n",
              "<table border=\"1\" class=\"dataframe\">\n",
              "  <thead>\n",
              "    <tr style=\"text-align: right;\">\n",
              "      <th></th>\n",
              "      <th>InvoiceNo</th>\n",
              "      <th>StockCode</th>\n",
              "      <th>Description</th>\n",
              "      <th>Quantity</th>\n",
              "      <th>InvoiceDate</th>\n",
              "      <th>UnitPrice</th>\n",
              "      <th>CustomerID</th>\n",
              "      <th>Country</th>\n",
              "    </tr>\n",
              "  </thead>\n",
              "  <tbody>\n",
              "    <tr>\n",
              "      <th>299983</th>\n",
              "      <td>A563186</td>\n",
              "      <td>B</td>\n",
              "      <td>Adjust bad debt</td>\n",
              "      <td>1</td>\n",
              "      <td>2011-08-12 14:51:00</td>\n",
              "      <td>-11062.06</td>\n",
              "      <td>0.0</td>\n",
              "      <td>United Kingdom</td>\n",
              "    </tr>\n",
              "    <tr>\n",
              "      <th>299984</th>\n",
              "      <td>A563187</td>\n",
              "      <td>B</td>\n",
              "      <td>Adjust bad debt</td>\n",
              "      <td>1</td>\n",
              "      <td>2011-08-12 14:52:00</td>\n",
              "      <td>-11062.06</td>\n",
              "      <td>0.0</td>\n",
              "      <td>United Kingdom</td>\n",
              "    </tr>\n",
              "  </tbody>\n",
              "</table>\n",
              "</div>\n",
              "      <button class=\"colab-df-convert\" onclick=\"convertToInteractive('df-d34af4b9-36cd-4426-a902-8fb6eb7faa10')\"\n",
              "              title=\"Convert this dataframe to an interactive table.\"\n",
              "              style=\"display:none;\">\n",
              "\n",
              "  <svg xmlns=\"http://www.w3.org/2000/svg\" height=\"24px\"viewBox=\"0 0 24 24\"\n",
              "       width=\"24px\">\n",
              "    <path d=\"M0 0h24v24H0V0z\" fill=\"none\"/>\n",
              "    <path d=\"M18.56 5.44l.94 2.06.94-2.06 2.06-.94-2.06-.94-.94-2.06-.94 2.06-2.06.94zm-11 1L8.5 8.5l.94-2.06 2.06-.94-2.06-.94L8.5 2.5l-.94 2.06-2.06.94zm10 10l.94 2.06.94-2.06 2.06-.94-2.06-.94-.94-2.06-.94 2.06-2.06.94z\"/><path d=\"M17.41 7.96l-1.37-1.37c-.4-.4-.92-.59-1.43-.59-.52 0-1.04.2-1.43.59L10.3 9.45l-7.72 7.72c-.78.78-.78 2.05 0 2.83L4 21.41c.39.39.9.59 1.41.59.51 0 1.02-.2 1.41-.59l7.78-7.78 2.81-2.81c.8-.78.8-2.07 0-2.86zM5.41 20L4 18.59l7.72-7.72 1.47 1.35L5.41 20z\"/>\n",
              "  </svg>\n",
              "      </button>\n",
              "\n",
              "\n",
              "\n",
              "    <div id=\"df-7ae6a8df-01f5-4ba4-8f54-62232ae4edec\">\n",
              "      <button class=\"colab-df-quickchart\" onclick=\"quickchart('df-7ae6a8df-01f5-4ba4-8f54-62232ae4edec')\"\n",
              "              title=\"Suggest charts.\"\n",
              "              style=\"display:none;\">\n",
              "\n",
              "<svg xmlns=\"http://www.w3.org/2000/svg\" height=\"24px\"viewBox=\"0 0 24 24\"\n",
              "     width=\"24px\">\n",
              "    <g>\n",
              "        <path d=\"M19 3H5c-1.1 0-2 .9-2 2v14c0 1.1.9 2 2 2h14c1.1 0 2-.9 2-2V5c0-1.1-.9-2-2-2zM9 17H7v-7h2v7zm4 0h-2V7h2v10zm4 0h-2v-4h2v4z\"/>\n",
              "    </g>\n",
              "</svg>\n",
              "      </button>\n",
              "    </div>\n",
              "\n",
              "<style>\n",
              "  .colab-df-quickchart {\n",
              "    background-color: #E8F0FE;\n",
              "    border: none;\n",
              "    border-radius: 50%;\n",
              "    cursor: pointer;\n",
              "    display: none;\n",
              "    fill: #1967D2;\n",
              "    height: 32px;\n",
              "    padding: 0 0 0 0;\n",
              "    width: 32px;\n",
              "  }\n",
              "\n",
              "  .colab-df-quickchart:hover {\n",
              "    background-color: #E2EBFA;\n",
              "    box-shadow: 0px 1px 2px rgba(60, 64, 67, 0.3), 0px 1px 3px 1px rgba(60, 64, 67, 0.15);\n",
              "    fill: #174EA6;\n",
              "  }\n",
              "\n",
              "  [theme=dark] .colab-df-quickchart {\n",
              "    background-color: #3B4455;\n",
              "    fill: #D2E3FC;\n",
              "  }\n",
              "\n",
              "  [theme=dark] .colab-df-quickchart:hover {\n",
              "    background-color: #434B5C;\n",
              "    box-shadow: 0px 1px 3px 1px rgba(0, 0, 0, 0.15);\n",
              "    filter: drop-shadow(0px 1px 2px rgba(0, 0, 0, 0.3));\n",
              "    fill: #FFFFFF;\n",
              "  }\n",
              "</style>\n",
              "\n",
              "    <script>\n",
              "      async function quickchart(key) {\n",
              "        const containerElement = document.querySelector('#' + key);\n",
              "        const charts = await google.colab.kernel.invokeFunction(\n",
              "            'suggestCharts', [key], {});\n",
              "      }\n",
              "    </script>\n",
              "\n",
              "      <script>\n",
              "\n",
              "function displayQuickchartButton(domScope) {\n",
              "  let quickchartButtonEl =\n",
              "    domScope.querySelector('#df-7ae6a8df-01f5-4ba4-8f54-62232ae4edec button.colab-df-quickchart');\n",
              "  quickchartButtonEl.style.display =\n",
              "    google.colab.kernel.accessAllowed ? 'block' : 'none';\n",
              "}\n",
              "\n",
              "        displayQuickchartButton(document);\n",
              "      </script>\n",
              "      <style>\n",
              "    .colab-df-container {\n",
              "      display:flex;\n",
              "      flex-wrap:wrap;\n",
              "      gap: 12px;\n",
              "    }\n",
              "\n",
              "    .colab-df-convert {\n",
              "      background-color: #E8F0FE;\n",
              "      border: none;\n",
              "      border-radius: 50%;\n",
              "      cursor: pointer;\n",
              "      display: none;\n",
              "      fill: #1967D2;\n",
              "      height: 32px;\n",
              "      padding: 0 0 0 0;\n",
              "      width: 32px;\n",
              "    }\n",
              "\n",
              "    .colab-df-convert:hover {\n",
              "      background-color: #E2EBFA;\n",
              "      box-shadow: 0px 1px 2px rgba(60, 64, 67, 0.3), 0px 1px 3px 1px rgba(60, 64, 67, 0.15);\n",
              "      fill: #174EA6;\n",
              "    }\n",
              "\n",
              "    [theme=dark] .colab-df-convert {\n",
              "      background-color: #3B4455;\n",
              "      fill: #D2E3FC;\n",
              "    }\n",
              "\n",
              "    [theme=dark] .colab-df-convert:hover {\n",
              "      background-color: #434B5C;\n",
              "      box-shadow: 0px 1px 3px 1px rgba(0, 0, 0, 0.15);\n",
              "      filter: drop-shadow(0px 1px 2px rgba(0, 0, 0, 0.3));\n",
              "      fill: #FFFFFF;\n",
              "    }\n",
              "  </style>\n",
              "\n",
              "      <script>\n",
              "        const buttonEl =\n",
              "          document.querySelector('#df-d34af4b9-36cd-4426-a902-8fb6eb7faa10 button.colab-df-convert');\n",
              "        buttonEl.style.display =\n",
              "          google.colab.kernel.accessAllowed ? 'block' : 'none';\n",
              "\n",
              "        async function convertToInteractive(key) {\n",
              "          const element = document.querySelector('#df-d34af4b9-36cd-4426-a902-8fb6eb7faa10');\n",
              "          const dataTable =\n",
              "            await google.colab.kernel.invokeFunction('convertToInteractive',\n",
              "                                                     [key], {});\n",
              "          if (!dataTable) return;\n",
              "\n",
              "          const docLinkHtml = 'Like what you see? Visit the ' +\n",
              "            '<a target=\"_blank\" href=https://colab.research.google.com/notebooks/data_table.ipynb>data table notebook</a>'\n",
              "            + ' to learn more about interactive tables.';\n",
              "          element.innerHTML = '';\n",
              "          dataTable['output_type'] = 'display_data';\n",
              "          await google.colab.output.renderOutput(dataTable, element);\n",
              "          const docLink = document.createElement('div');\n",
              "          docLink.innerHTML = docLinkHtml;\n",
              "          element.appendChild(docLink);\n",
              "        }\n",
              "      </script>\n",
              "    </div>\n",
              "  </div>\n"
            ]
          },
          "metadata": {},
          "execution_count": 9
        }
      ]
    },
    {
      "cell_type": "code",
      "source": [
        "dataset['Description'].str.contains('debt', case=False).sum()"
      ],
      "metadata": {
        "id": "pRe7LBFKFSWW",
        "colab": {
          "base_uri": "https://localhost:8080/"
        },
        "outputId": "e4304f41-2b0f-45b8-f8eb-de37942aaf82"
      },
      "execution_count": null,
      "outputs": [
        {
          "output_type": "execute_result",
          "data": {
            "text/plain": [
              "3"
            ]
          },
          "metadata": {},
          "execution_count": 10
        }
      ]
    },
    {
      "cell_type": "code",
      "source": [
        "dataset =  dataset[dataset['UnitPrice'] > 0]"
      ],
      "metadata": {
        "id": "YtDJGj6sFjcj"
      },
      "execution_count": null,
      "outputs": []
    },
    {
      "cell_type": "code",
      "source": [
        "negative_quantity = dataset[dataset['Quantity'] < 0]\n",
        "dataset = dataset[dataset['Quantity'] > 0]"
      ],
      "metadata": {
        "id": "nTE15ddGGsuW"
      },
      "execution_count": null,
      "outputs": []
    },
    {
      "cell_type": "markdown",
      "source": [
        "#### Splitting InvoiceDate into separate columns"
      ],
      "metadata": {
        "id": "Q_y3qKN4WVMM"
      }
    },
    {
      "cell_type": "code",
      "source": [
        "dataset['Date'] = dataset['InvoiceDate'].dt.date\n",
        "dataset['Time'] = dataset['InvoiceDate'].dt.time\n",
        "dataset['Year'] = dataset['InvoiceDate'].dt.year\n",
        "dataset['Month'] = dataset['InvoiceDate'].dt.month_name()\n",
        "dataset['Day'] = dataset['InvoiceDate'].dt.day_name()"
      ],
      "metadata": {
        "id": "Ml3OVJWFGvkc"
      },
      "execution_count": null,
      "outputs": []
    },
    {
      "cell_type": "code",
      "source": [
        "dataset.head(1)"
      ],
      "metadata": {
        "id": "jZlHm6v2T7aZ",
        "colab": {
          "base_uri": "https://localhost:8080/",
          "height": 81
        },
        "outputId": "1ea76f00-8ffc-4355-ca5a-cdb47161543f"
      },
      "execution_count": null,
      "outputs": [
        {
          "output_type": "execute_result",
          "data": {
            "text/plain": [
              "  InvoiceNo StockCode                         Description  Quantity  \\\n",
              "0    536365    85123A  WHITE HANGING HEART T-LIGHT HOLDER         6   \n",
              "\n",
              "          InvoiceDate  UnitPrice  CustomerID         Country        Date  \\\n",
              "0 2010-12-01 08:26:00       2.55     17850.0  United Kingdom  2010-12-01   \n",
              "\n",
              "       Time  Year     Month        Day  \n",
              "0  08:26:00  2010  December  Wednesday  "
            ],
            "text/html": [
              "\n",
              "\n",
              "  <div id=\"df-3f1d4030-82c9-4c7c-8c8a-891bf0df237c\">\n",
              "    <div class=\"colab-df-container\">\n",
              "      <div>\n",
              "<style scoped>\n",
              "    .dataframe tbody tr th:only-of-type {\n",
              "        vertical-align: middle;\n",
              "    }\n",
              "\n",
              "    .dataframe tbody tr th {\n",
              "        vertical-align: top;\n",
              "    }\n",
              "\n",
              "    .dataframe thead th {\n",
              "        text-align: right;\n",
              "    }\n",
              "</style>\n",
              "<table border=\"1\" class=\"dataframe\">\n",
              "  <thead>\n",
              "    <tr style=\"text-align: right;\">\n",
              "      <th></th>\n",
              "      <th>InvoiceNo</th>\n",
              "      <th>StockCode</th>\n",
              "      <th>Description</th>\n",
              "      <th>Quantity</th>\n",
              "      <th>InvoiceDate</th>\n",
              "      <th>UnitPrice</th>\n",
              "      <th>CustomerID</th>\n",
              "      <th>Country</th>\n",
              "      <th>Date</th>\n",
              "      <th>Time</th>\n",
              "      <th>Year</th>\n",
              "      <th>Month</th>\n",
              "      <th>Day</th>\n",
              "    </tr>\n",
              "  </thead>\n",
              "  <tbody>\n",
              "    <tr>\n",
              "      <th>0</th>\n",
              "      <td>536365</td>\n",
              "      <td>85123A</td>\n",
              "      <td>WHITE HANGING HEART T-LIGHT HOLDER</td>\n",
              "      <td>6</td>\n",
              "      <td>2010-12-01 08:26:00</td>\n",
              "      <td>2.55</td>\n",
              "      <td>17850.0</td>\n",
              "      <td>United Kingdom</td>\n",
              "      <td>2010-12-01</td>\n",
              "      <td>08:26:00</td>\n",
              "      <td>2010</td>\n",
              "      <td>December</td>\n",
              "      <td>Wednesday</td>\n",
              "    </tr>\n",
              "  </tbody>\n",
              "</table>\n",
              "</div>\n",
              "      <button class=\"colab-df-convert\" onclick=\"convertToInteractive('df-3f1d4030-82c9-4c7c-8c8a-891bf0df237c')\"\n",
              "              title=\"Convert this dataframe to an interactive table.\"\n",
              "              style=\"display:none;\">\n",
              "\n",
              "  <svg xmlns=\"http://www.w3.org/2000/svg\" height=\"24px\"viewBox=\"0 0 24 24\"\n",
              "       width=\"24px\">\n",
              "    <path d=\"M0 0h24v24H0V0z\" fill=\"none\"/>\n",
              "    <path d=\"M18.56 5.44l.94 2.06.94-2.06 2.06-.94-2.06-.94-.94-2.06-.94 2.06-2.06.94zm-11 1L8.5 8.5l.94-2.06 2.06-.94-2.06-.94L8.5 2.5l-.94 2.06-2.06.94zm10 10l.94 2.06.94-2.06 2.06-.94-2.06-.94-.94-2.06-.94 2.06-2.06.94z\"/><path d=\"M17.41 7.96l-1.37-1.37c-.4-.4-.92-.59-1.43-.59-.52 0-1.04.2-1.43.59L10.3 9.45l-7.72 7.72c-.78.78-.78 2.05 0 2.83L4 21.41c.39.39.9.59 1.41.59.51 0 1.02-.2 1.41-.59l7.78-7.78 2.81-2.81c.8-.78.8-2.07 0-2.86zM5.41 20L4 18.59l7.72-7.72 1.47 1.35L5.41 20z\"/>\n",
              "  </svg>\n",
              "      </button>\n",
              "\n",
              "\n",
              "\n",
              "    <div id=\"df-5bc1c0af-9ca7-4be2-b0de-fd35cb6b9b7f\">\n",
              "      <button class=\"colab-df-quickchart\" onclick=\"quickchart('df-5bc1c0af-9ca7-4be2-b0de-fd35cb6b9b7f')\"\n",
              "              title=\"Suggest charts.\"\n",
              "              style=\"display:none;\">\n",
              "\n",
              "<svg xmlns=\"http://www.w3.org/2000/svg\" height=\"24px\"viewBox=\"0 0 24 24\"\n",
              "     width=\"24px\">\n",
              "    <g>\n",
              "        <path d=\"M19 3H5c-1.1 0-2 .9-2 2v14c0 1.1.9 2 2 2h14c1.1 0 2-.9 2-2V5c0-1.1-.9-2-2-2zM9 17H7v-7h2v7zm4 0h-2V7h2v10zm4 0h-2v-4h2v4z\"/>\n",
              "    </g>\n",
              "</svg>\n",
              "      </button>\n",
              "    </div>\n",
              "\n",
              "<style>\n",
              "  .colab-df-quickchart {\n",
              "    background-color: #E8F0FE;\n",
              "    border: none;\n",
              "    border-radius: 50%;\n",
              "    cursor: pointer;\n",
              "    display: none;\n",
              "    fill: #1967D2;\n",
              "    height: 32px;\n",
              "    padding: 0 0 0 0;\n",
              "    width: 32px;\n",
              "  }\n",
              "\n",
              "  .colab-df-quickchart:hover {\n",
              "    background-color: #E2EBFA;\n",
              "    box-shadow: 0px 1px 2px rgba(60, 64, 67, 0.3), 0px 1px 3px 1px rgba(60, 64, 67, 0.15);\n",
              "    fill: #174EA6;\n",
              "  }\n",
              "\n",
              "  [theme=dark] .colab-df-quickchart {\n",
              "    background-color: #3B4455;\n",
              "    fill: #D2E3FC;\n",
              "  }\n",
              "\n",
              "  [theme=dark] .colab-df-quickchart:hover {\n",
              "    background-color: #434B5C;\n",
              "    box-shadow: 0px 1px 3px 1px rgba(0, 0, 0, 0.15);\n",
              "    filter: drop-shadow(0px 1px 2px rgba(0, 0, 0, 0.3));\n",
              "    fill: #FFFFFF;\n",
              "  }\n",
              "</style>\n",
              "\n",
              "    <script>\n",
              "      async function quickchart(key) {\n",
              "        const containerElement = document.querySelector('#' + key);\n",
              "        const charts = await google.colab.kernel.invokeFunction(\n",
              "            'suggestCharts', [key], {});\n",
              "      }\n",
              "    </script>\n",
              "\n",
              "      <script>\n",
              "\n",
              "function displayQuickchartButton(domScope) {\n",
              "  let quickchartButtonEl =\n",
              "    domScope.querySelector('#df-5bc1c0af-9ca7-4be2-b0de-fd35cb6b9b7f button.colab-df-quickchart');\n",
              "  quickchartButtonEl.style.display =\n",
              "    google.colab.kernel.accessAllowed ? 'block' : 'none';\n",
              "}\n",
              "\n",
              "        displayQuickchartButton(document);\n",
              "      </script>\n",
              "      <style>\n",
              "    .colab-df-container {\n",
              "      display:flex;\n",
              "      flex-wrap:wrap;\n",
              "      gap: 12px;\n",
              "    }\n",
              "\n",
              "    .colab-df-convert {\n",
              "      background-color: #E8F0FE;\n",
              "      border: none;\n",
              "      border-radius: 50%;\n",
              "      cursor: pointer;\n",
              "      display: none;\n",
              "      fill: #1967D2;\n",
              "      height: 32px;\n",
              "      padding: 0 0 0 0;\n",
              "      width: 32px;\n",
              "    }\n",
              "\n",
              "    .colab-df-convert:hover {\n",
              "      background-color: #E2EBFA;\n",
              "      box-shadow: 0px 1px 2px rgba(60, 64, 67, 0.3), 0px 1px 3px 1px rgba(60, 64, 67, 0.15);\n",
              "      fill: #174EA6;\n",
              "    }\n",
              "\n",
              "    [theme=dark] .colab-df-convert {\n",
              "      background-color: #3B4455;\n",
              "      fill: #D2E3FC;\n",
              "    }\n",
              "\n",
              "    [theme=dark] .colab-df-convert:hover {\n",
              "      background-color: #434B5C;\n",
              "      box-shadow: 0px 1px 3px 1px rgba(0, 0, 0, 0.15);\n",
              "      filter: drop-shadow(0px 1px 2px rgba(0, 0, 0, 0.3));\n",
              "      fill: #FFFFFF;\n",
              "    }\n",
              "  </style>\n",
              "\n",
              "      <script>\n",
              "        const buttonEl =\n",
              "          document.querySelector('#df-3f1d4030-82c9-4c7c-8c8a-891bf0df237c button.colab-df-convert');\n",
              "        buttonEl.style.display =\n",
              "          google.colab.kernel.accessAllowed ? 'block' : 'none';\n",
              "\n",
              "        async function convertToInteractive(key) {\n",
              "          const element = document.querySelector('#df-3f1d4030-82c9-4c7c-8c8a-891bf0df237c');\n",
              "          const dataTable =\n",
              "            await google.colab.kernel.invokeFunction('convertToInteractive',\n",
              "                                                     [key], {});\n",
              "          if (!dataTable) return;\n",
              "\n",
              "          const docLinkHtml = 'Like what you see? Visit the ' +\n",
              "            '<a target=\"_blank\" href=https://colab.research.google.com/notebooks/data_table.ipynb>data table notebook</a>'\n",
              "            + ' to learn more about interactive tables.';\n",
              "          element.innerHTML = '';\n",
              "          dataTable['output_type'] = 'display_data';\n",
              "          await google.colab.output.renderOutput(dataTable, element);\n",
              "          const docLink = document.createElement('div');\n",
              "          docLink.innerHTML = docLinkHtml;\n",
              "          element.appendChild(docLink);\n",
              "        }\n",
              "      </script>\n",
              "    </div>\n",
              "  </div>\n"
            ]
          },
          "metadata": {},
          "execution_count": 14
        }
      ]
    },
    {
      "cell_type": "markdown",
      "source": [
        "#### Creating a total columns"
      ],
      "metadata": {
        "id": "6PJKXODWc_Ks"
      }
    },
    {
      "cell_type": "code",
      "source": [
        "dataset['Total'] = dataset['Quantity'] * dataset['UnitPrice']"
      ],
      "metadata": {
        "id": "8EEhFGpxdFNk"
      },
      "execution_count": null,
      "outputs": []
    },
    {
      "cell_type": "markdown",
      "source": [
        "## Analysis"
      ],
      "metadata": {
        "id": "kuAe-r9bWzMk"
      }
    },
    {
      "cell_type": "code",
      "source": [
        "dataset.head(1)"
      ],
      "metadata": {
        "id": "XX9k2DnSUB9I",
        "colab": {
          "base_uri": "https://localhost:8080/",
          "height": 125
        },
        "outputId": "c2e41fc2-a27d-4b82-fbd7-8a76ef45550b"
      },
      "execution_count": null,
      "outputs": [
        {
          "output_type": "execute_result",
          "data": {
            "text/plain": [
              "  InvoiceNo StockCode                         Description  Quantity  \\\n",
              "0    536365    85123A  WHITE HANGING HEART T-LIGHT HOLDER         6   \n",
              "\n",
              "          InvoiceDate  UnitPrice  CustomerID         Country        Date  \\\n",
              "0 2010-12-01 08:26:00       2.55     17850.0  United Kingdom  2010-12-01   \n",
              "\n",
              "       Time  Year     Month        Day  Total  \n",
              "0  08:26:00  2010  December  Wednesday   15.3  "
            ],
            "text/html": [
              "\n",
              "\n",
              "  <div id=\"df-a1f5db7e-41d6-421e-bac3-b80b1abfd4d9\">\n",
              "    <div class=\"colab-df-container\">\n",
              "      <div>\n",
              "<style scoped>\n",
              "    .dataframe tbody tr th:only-of-type {\n",
              "        vertical-align: middle;\n",
              "    }\n",
              "\n",
              "    .dataframe tbody tr th {\n",
              "        vertical-align: top;\n",
              "    }\n",
              "\n",
              "    .dataframe thead th {\n",
              "        text-align: right;\n",
              "    }\n",
              "</style>\n",
              "<table border=\"1\" class=\"dataframe\">\n",
              "  <thead>\n",
              "    <tr style=\"text-align: right;\">\n",
              "      <th></th>\n",
              "      <th>InvoiceNo</th>\n",
              "      <th>StockCode</th>\n",
              "      <th>Description</th>\n",
              "      <th>Quantity</th>\n",
              "      <th>InvoiceDate</th>\n",
              "      <th>UnitPrice</th>\n",
              "      <th>CustomerID</th>\n",
              "      <th>Country</th>\n",
              "      <th>Date</th>\n",
              "      <th>Time</th>\n",
              "      <th>Year</th>\n",
              "      <th>Month</th>\n",
              "      <th>Day</th>\n",
              "      <th>Total</th>\n",
              "    </tr>\n",
              "  </thead>\n",
              "  <tbody>\n",
              "    <tr>\n",
              "      <th>0</th>\n",
              "      <td>536365</td>\n",
              "      <td>85123A</td>\n",
              "      <td>WHITE HANGING HEART T-LIGHT HOLDER</td>\n",
              "      <td>6</td>\n",
              "      <td>2010-12-01 08:26:00</td>\n",
              "      <td>2.55</td>\n",
              "      <td>17850.0</td>\n",
              "      <td>United Kingdom</td>\n",
              "      <td>2010-12-01</td>\n",
              "      <td>08:26:00</td>\n",
              "      <td>2010</td>\n",
              "      <td>December</td>\n",
              "      <td>Wednesday</td>\n",
              "      <td>15.3</td>\n",
              "    </tr>\n",
              "  </tbody>\n",
              "</table>\n",
              "</div>\n",
              "      <button class=\"colab-df-convert\" onclick=\"convertToInteractive('df-a1f5db7e-41d6-421e-bac3-b80b1abfd4d9')\"\n",
              "              title=\"Convert this dataframe to an interactive table.\"\n",
              "              style=\"display:none;\">\n",
              "\n",
              "  <svg xmlns=\"http://www.w3.org/2000/svg\" height=\"24px\"viewBox=\"0 0 24 24\"\n",
              "       width=\"24px\">\n",
              "    <path d=\"M0 0h24v24H0V0z\" fill=\"none\"/>\n",
              "    <path d=\"M18.56 5.44l.94 2.06.94-2.06 2.06-.94-2.06-.94-.94-2.06-.94 2.06-2.06.94zm-11 1L8.5 8.5l.94-2.06 2.06-.94-2.06-.94L8.5 2.5l-.94 2.06-2.06.94zm10 10l.94 2.06.94-2.06 2.06-.94-2.06-.94-.94-2.06-.94 2.06-2.06.94z\"/><path d=\"M17.41 7.96l-1.37-1.37c-.4-.4-.92-.59-1.43-.59-.52 0-1.04.2-1.43.59L10.3 9.45l-7.72 7.72c-.78.78-.78 2.05 0 2.83L4 21.41c.39.39.9.59 1.41.59.51 0 1.02-.2 1.41-.59l7.78-7.78 2.81-2.81c.8-.78.8-2.07 0-2.86zM5.41 20L4 18.59l7.72-7.72 1.47 1.35L5.41 20z\"/>\n",
              "  </svg>\n",
              "      </button>\n",
              "\n",
              "\n",
              "\n",
              "    <div id=\"df-5e53a0f3-9f89-4067-9945-aa957a1ae6f9\">\n",
              "      <button class=\"colab-df-quickchart\" onclick=\"quickchart('df-5e53a0f3-9f89-4067-9945-aa957a1ae6f9')\"\n",
              "              title=\"Suggest charts.\"\n",
              "              style=\"display:none;\">\n",
              "\n",
              "<svg xmlns=\"http://www.w3.org/2000/svg\" height=\"24px\"viewBox=\"0 0 24 24\"\n",
              "     width=\"24px\">\n",
              "    <g>\n",
              "        <path d=\"M19 3H5c-1.1 0-2 .9-2 2v14c0 1.1.9 2 2 2h14c1.1 0 2-.9 2-2V5c0-1.1-.9-2-2-2zM9 17H7v-7h2v7zm4 0h-2V7h2v10zm4 0h-2v-4h2v4z\"/>\n",
              "    </g>\n",
              "</svg>\n",
              "      </button>\n",
              "    </div>\n",
              "\n",
              "<style>\n",
              "  .colab-df-quickchart {\n",
              "    background-color: #E8F0FE;\n",
              "    border: none;\n",
              "    border-radius: 50%;\n",
              "    cursor: pointer;\n",
              "    display: none;\n",
              "    fill: #1967D2;\n",
              "    height: 32px;\n",
              "    padding: 0 0 0 0;\n",
              "    width: 32px;\n",
              "  }\n",
              "\n",
              "  .colab-df-quickchart:hover {\n",
              "    background-color: #E2EBFA;\n",
              "    box-shadow: 0px 1px 2px rgba(60, 64, 67, 0.3), 0px 1px 3px 1px rgba(60, 64, 67, 0.15);\n",
              "    fill: #174EA6;\n",
              "  }\n",
              "\n",
              "  [theme=dark] .colab-df-quickchart {\n",
              "    background-color: #3B4455;\n",
              "    fill: #D2E3FC;\n",
              "  }\n",
              "\n",
              "  [theme=dark] .colab-df-quickchart:hover {\n",
              "    background-color: #434B5C;\n",
              "    box-shadow: 0px 1px 3px 1px rgba(0, 0, 0, 0.15);\n",
              "    filter: drop-shadow(0px 1px 2px rgba(0, 0, 0, 0.3));\n",
              "    fill: #FFFFFF;\n",
              "  }\n",
              "</style>\n",
              "\n",
              "    <script>\n",
              "      async function quickchart(key) {\n",
              "        const containerElement = document.querySelector('#' + key);\n",
              "        const charts = await google.colab.kernel.invokeFunction(\n",
              "            'suggestCharts', [key], {});\n",
              "      }\n",
              "    </script>\n",
              "\n",
              "      <script>\n",
              "\n",
              "function displayQuickchartButton(domScope) {\n",
              "  let quickchartButtonEl =\n",
              "    domScope.querySelector('#df-5e53a0f3-9f89-4067-9945-aa957a1ae6f9 button.colab-df-quickchart');\n",
              "  quickchartButtonEl.style.display =\n",
              "    google.colab.kernel.accessAllowed ? 'block' : 'none';\n",
              "}\n",
              "\n",
              "        displayQuickchartButton(document);\n",
              "      </script>\n",
              "      <style>\n",
              "    .colab-df-container {\n",
              "      display:flex;\n",
              "      flex-wrap:wrap;\n",
              "      gap: 12px;\n",
              "    }\n",
              "\n",
              "    .colab-df-convert {\n",
              "      background-color: #E8F0FE;\n",
              "      border: none;\n",
              "      border-radius: 50%;\n",
              "      cursor: pointer;\n",
              "      display: none;\n",
              "      fill: #1967D2;\n",
              "      height: 32px;\n",
              "      padding: 0 0 0 0;\n",
              "      width: 32px;\n",
              "    }\n",
              "\n",
              "    .colab-df-convert:hover {\n",
              "      background-color: #E2EBFA;\n",
              "      box-shadow: 0px 1px 2px rgba(60, 64, 67, 0.3), 0px 1px 3px 1px rgba(60, 64, 67, 0.15);\n",
              "      fill: #174EA6;\n",
              "    }\n",
              "\n",
              "    [theme=dark] .colab-df-convert {\n",
              "      background-color: #3B4455;\n",
              "      fill: #D2E3FC;\n",
              "    }\n",
              "\n",
              "    [theme=dark] .colab-df-convert:hover {\n",
              "      background-color: #434B5C;\n",
              "      box-shadow: 0px 1px 3px 1px rgba(0, 0, 0, 0.15);\n",
              "      filter: drop-shadow(0px 1px 2px rgba(0, 0, 0, 0.3));\n",
              "      fill: #FFFFFF;\n",
              "    }\n",
              "  </style>\n",
              "\n",
              "      <script>\n",
              "        const buttonEl =\n",
              "          document.querySelector('#df-a1f5db7e-41d6-421e-bac3-b80b1abfd4d9 button.colab-df-convert');\n",
              "        buttonEl.style.display =\n",
              "          google.colab.kernel.accessAllowed ? 'block' : 'none';\n",
              "\n",
              "        async function convertToInteractive(key) {\n",
              "          const element = document.querySelector('#df-a1f5db7e-41d6-421e-bac3-b80b1abfd4d9');\n",
              "          const dataTable =\n",
              "            await google.colab.kernel.invokeFunction('convertToInteractive',\n",
              "                                                     [key], {});\n",
              "          if (!dataTable) return;\n",
              "\n",
              "          const docLinkHtml = 'Like what you see? Visit the ' +\n",
              "            '<a target=\"_blank\" href=https://colab.research.google.com/notebooks/data_table.ipynb>data table notebook</a>'\n",
              "            + ' to learn more about interactive tables.';\n",
              "          element.innerHTML = '';\n",
              "          dataTable['output_type'] = 'display_data';\n",
              "          await google.colab.output.renderOutput(dataTable, element);\n",
              "          const docLink = document.createElement('div');\n",
              "          docLink.innerHTML = docLinkHtml;\n",
              "          element.appendChild(docLink);\n",
              "        }\n",
              "      </script>\n",
              "    </div>\n",
              "  </div>\n"
            ]
          },
          "metadata": {},
          "execution_count": 16
        }
      ]
    },
    {
      "cell_type": "markdown",
      "source": [
        "#### Analysing the best month by revenues"
      ],
      "metadata": {
        "id": "9FSJzGsgmORb"
      }
    },
    {
      "cell_type": "code",
      "source": [
        "dataset_by_month = dataset.groupby(['Year', 'Month'], as_index=False).agg({'Total': pd.Series.sum})"
      ],
      "metadata": {
        "id": "ohDLwyx5XDZS"
      },
      "execution_count": null,
      "outputs": []
    },
    {
      "cell_type": "code",
      "source": [
        "months_order = ['January', 'February', 'March', 'April', 'May', 'June', 'July',\n",
        "                'August', 'September', 'October', 'November', 'December']\n",
        "dataset_by_month['Total Thousands'] = dataset_by_month['Total'] / 1000"
      ],
      "metadata": {
        "id": "ubD4wAh_fyzr"
      },
      "execution_count": null,
      "outputs": []
    },
    {
      "cell_type": "code",
      "source": [
        "plt.figure(figsize=(12, 6), dpi=200)\n",
        "with sns.axes_style('whitegrid'):\n",
        "  fig = sns.barplot(data=dataset_by_month,\n",
        "                    x='Month',\n",
        "                    y='Total Thousands',\n",
        "                    hue='Year',\n",
        "                    order=months_order)\n",
        "  fig.set(ylabel=\"Month's revenues\",\n",
        "          title='Total Revenues by Month')\n",
        "plt.show()"
      ],
      "metadata": {
        "id": "1lNqXD02XODL",
        "colab": {
          "base_uri": "https://localhost:8080/",
          "height": 823
        },
        "outputId": "f1472b5d-a394-460c-a48b-ea62e7615fe0"
      },
      "execution_count": null,
      "outputs": [
        {
          "output_type": "display_data",
          "data": {
            "text/plain": [
              "<Figure size 2400x1200 with 1 Axes>"
            ],
            "image/png": "[encoded data removed]"
          },
          "metadata": {}
        }
      ]
    },
    {
      "cell_type": "markdown",
      "source": [
        "### Analysing Weekly and daily data"
      ],
      "metadata": {
        "id": "5n4zN0Pc-JDX"
      }
    },
    {
      "cell_type": "markdown",
      "source": [
        "#### Weekly data analysis"
      ],
      "metadata": {
        "id": "-Hpv7PmJ_LOP"
      }
    },
    {
      "cell_type": "code",
      "source": [
        "dataset_by_month_day = dataset.groupby(['Month', 'Day'], as_index=False).agg({'Total': pd.Series.sum})"
      ],
      "metadata": {
        "id": "g0t1xxK9dduf"
      },
      "execution_count": null,
      "outputs": []
    },
    {
      "cell_type": "code",
      "source": [
        "dataset_by_day = dataset_by_month_day.groupby(['Day'], as_index=False).agg({'Total': pd.Series.mean})"
      ],
      "metadata": {
        "id": "jAQjrKuD8_PX"
      },
      "execution_count": null,
      "outputs": []
    },
    {
      "cell_type": "code",
      "source": [
        "days_order = ['Monday', 'Tuesday', 'Wednesday', 'Thursday', 'Friday', 'Saturday','Sunday']"
      ],
      "metadata": {
        "id": "dFUSx9CXnBvm"
      },
      "execution_count": null,
      "outputs": []
    },
    {
      "cell_type": "code",
      "source": [
        "plt.figure(figsize=(12, 6), dpi=100)\n",
        "with sns.axes_style('whitegrid'):\n",
        "  fig2 = sns.barplot(data=dataset_by_day,\n",
        "                     x='Day',\n",
        "                     y='Total',\n",
        "                     order=days_order)\n",
        "  fig2.set(ylabel=\"Average day's revenues\",\n",
        "           title='Average Revenues by Day')\n",
        "plt.show()"
      ],
      "metadata": {
        "id": "Amz6yp1HnDvu",
        "colab": {
          "base_uri": "https://localhost:8080/",
          "height": 564
        },
        "outputId": "2d3f0c6d-1a0b-4ad3-ae0e-a0e860d0fd27"
      },
      "execution_count": null,
      "outputs": [
        {
          "output_type": "display_data",
          "data": {
            "text/plain": [
              "<Figure size 1200x600 with 1 Axes>"
            ],
            "image/png": "[encoded data removed]"
          },
          "metadata": {}
        }
      ]
    },
    {
      "cell_type": "markdown",
      "source": [
        "#### Daily data analysis"
      ],
      "metadata": {
        "id": "OHjaSe8wBLY3"
      }
    },
    {
      "cell_type": "code",
      "source": [
        "dataset['Hour'] = dataset['InvoiceDate'].dt.hour"
      ],
      "metadata": {
        "id": "n08GrR-Cpal6"
      },
      "execution_count": null,
      "outputs": []
    },
    {
      "cell_type": "code",
      "source": [
        "dataset_by_hour = dataset.groupby(['Hour'], as_index=False).agg({'InvoiceNo': pd.Series.count})"
      ],
      "metadata": {
        "id": "FbP6hHjL-ayB"
      },
      "execution_count": null,
      "outputs": []
    },
    {
      "cell_type": "code",
      "source": [
        "plt.figure(figsize=(12,6), dpi=100)\n",
        "with sns.axes_style('whitegrid'):\n",
        "  fig3 = sns.lineplot(data=dataset_by_hour,\n",
        "                      x='Hour',\n",
        "                      y='InvoiceNo')\n",
        "  fig3.set(xlabel='Hour',\n",
        "           ylabel='Number of orders',\n",
        "           title='Number of orders per hour')\n",
        "plt.show()"
      ],
      "metadata": {
        "id": "HA_vk-fX-ePJ",
        "colab": {
          "base_uri": "https://localhost:8080/",
          "height": 564
        },
        "outputId": "3718627a-2a62-4541-ad49-0b54ac10cbb2"
      },
      "execution_count": null,
      "outputs": [
        {
          "output_type": "display_data",
          "data": {
            "text/plain": [
              "<Figure size 1200x600 with 1 Axes>"
            ],
            "image/png": "[encoded data removed]"
          },
          "metadata": {}
        }
      ]
    },
    {
      "cell_type": "markdown",
      "source": [
        "### Analysing customers"
      ],
      "metadata": {
        "id": "d1yh9pQrBVA-"
      }
    },
    {
      "cell_type": "markdown",
      "source": [
        "#### Customers' countries"
      ],
      "metadata": {
        "id": "rsyVwDfpKBQG"
      }
    },
    {
      "cell_type": "code",
      "source": [
        "dataset_country_orders = dataset.groupby(['Country'], as_index=False).agg({'InvoiceNo': pd.Series.count})\n",
        "dataset_country_value = dataset.groupby(['Country'], as_index=False).agg({'Total': pd.Series.sum})"
      ],
      "metadata": {
        "id": "uRh8UGktAIzO"
      },
      "execution_count": null,
      "outputs": []
    },
    {
      "cell_type": "code",
      "source": [
        "import plotly.express as px"
      ],
      "metadata": {
        "id": "7LrzxruaB992"
      },
      "execution_count": null,
      "outputs": []
    },
    {
      "cell_type": "code",
      "source": [
        "# Uk makes around 91% of orders and around 85% of the orders value\n",
        "# Therefor the focus of the analysis for this shifts on the relevance\n",
        "# of other countries"
      ],
      "metadata": {
        "id": "7_OGoD-DJq0l"
      },
      "execution_count": null,
      "outputs": []
    },
    {
      "cell_type": "code",
      "source": [
        "countries_no_uk_orders = dataset_country_orders[dataset_country_orders['Country'] != 'United Kingdom']\n",
        "countries_no_uk_value = dataset_country_value[dataset_country_value['Country'] != 'United Kingdom']"
      ],
      "metadata": {
        "id": "Kkb5sjygJ_p2"
      },
      "execution_count": null,
      "outputs": []
    },
    {
      "cell_type": "code",
      "source": [
        "fig4 = px.pie(data_frame=countries_no_uk_orders,\n",
        "              values='InvoiceNo',\n",
        "              names='Country',\n",
        "              title='Orders from each foreign country',\n",
        "              width=800,\n",
        "              height=600)\n",
        "fig4.show()"
      ],
      "metadata": {
        "id": "MHNnMF-XB_e2",
        "colab": {
          "base_uri": "https://localhost:8080/",
          "height": 617
        },
        "outputId": "db8abfb9-5d0c-4ed5-a683-eeae8b7aead1"
      },
      "execution_count": null,
      "outputs": [
        {
          "output_type": "display_data",
          "data": {
            "text/html": [
              "<html>\n",
              "<head><meta charset=\"utf-8\" /></head>\n",
              "<body>\n",
              "    <div>            <script src=\"https://cdnjs.cloudflare.com/ajax/libs/mathjax/2.7.5/MathJax.js?config=TeX-AMS-MML_SVG\"></script><script type=\"text/javascript\">if (window.MathJax && window.MathJax.Hub && window.MathJax.Hub.Config) {window.MathJax.Hub.Config({SVG: {font: \"STIX-Web\"}});}</script>                <script type=\"text/javascript\">window.PlotlyConfig = {MathJaxConfig: 'local'};</script>\n",
              "        <script src=\"https://cdn.plot.ly/plotly-2.18.2.min.js\"></script>                <div id=\"cb1f91e1-73fa-49df-ae8f-f6c3152cd05e\" class=\"plotly-graph-div\" style=\"height:600px; width:800px;\"></div>            <script type=\"text/javascript\">                                    window.PLOTLYENV=window.PLOTLYENV || {};                                    if (document.getElementById(\"cb1f91e1-73fa-49df-ae8f-f6c3152cd05e\")) {                    Plotly.newPlot(                        \"cb1f91e1-73fa-49df-ae8f-f6c3152cd05e\",                        [{\"domain\":{\"x\":[0.0,1.0],\"y\":[0.0,1.0]},\"hovertemplate\":\"Country=%{label}<br>InvoiceNo=%{value}<extra></extra>\",\"labels\":[\"Australia\",\"Austria\",\"Bahrain\",\"Belgium\",\"Brazil\",\"Canada\",\"Channel Islands\",\"Cyprus\",\"Czech Republic\",\"Denmark\",\"EIRE\",\"European Community\",\"Finland\",\"France\",\"Germany\",\"Greece\",\"Hong Kong\",\"Iceland\",\"Israel\",\"Italy\",\"Japan\",\"Lebanon\",\"Lithuania\",\"Malta\",\"Netherlands\",\"Norway\",\"Poland\",\"Portugal\",\"RSA\",\"Saudi Arabia\",\"Singapore\",\"Spain\",\"Sweden\",\"Switzerland\",\"USA\",\"United Arab Emirates\",\"Unspecified\"],\"legendgroup\":\"\",\"name\":\"\",\"showlegend\":true,\"values\":[1181,398,18,2031,32,151,747,603,25,380,7879,60,685,8392,9025,145,280,182,292,758,321,45,35,112,2359,1071,330,1492,57,9,222,2479,450,1958,179,68,442],\"type\":\"pie\"}],                        {\"template\":{\"data\":{\"histogram2dcontour\":[{\"type\":\"histogram2dcontour\",\"colorbar\":{\"outlinewidth\":0,\"ticks\":\"\"},\"colorscale\":[[0.0,\"#0d0887\"],[0.1111111111111111,\"#46039f\"],[0.2222222222222222,\"#7201a8\"],[0.3333333333333333,\"#9c179e\"],[0.4444444444444444,\"#bd3786\"],[0.5555555555555556,\"#d8576b\"],[0.6666666666666666,\"#ed7953\"],[0.7777777777777778,\"#fb9f3a\"],[0.8888888888888888,\"#fdca26\"],[1.0,\"#f0f921\"]]}],\"choropleth\":[{\"type\":\"choropleth\",\"colorbar\":{\"outlinewidth\":0,\"ticks\":\"\"}}],\"histogram2d\":[{\"type\":\"histogram2d\",\"colorbar\":{\"outlinewidth\":0,\"ticks\":\"\"},\"colorscale\":[[0.0,\"#0d0887\"],[0.1111111111111111,\"#46039f\"],[0.2222222222222222,\"#7201a8\"],[0.3333333333333333,\"#9c179e\"],[0.4444444444444444,\"#bd3786\"],[0.5555555555555556,\"#d8576b\"],[0.6666666666666666,\"#ed7953\"],[0.7777777777777778,\"#fb9f3a\"],[0.8888888888888888,\"#fdca26\"],[1.0,\"#f0f921\"]]}],\"heatmap\":[{\"type\":\"heatmap\",\"colorbar\":{\"outlinewidth\":0,\"ticks\":\"\"},\"colorscale\":[[0.0,\"#0d0887\"],[0.1111111111111111,\"#46039f\"],[0.2222222222222222,\"#7201a8\"],[0.3333333333333333,\"#9c179e\"],[0.4444444444444444,\"#bd3786\"],[0.5555555555555556,\"#d8576b\"],[0.6666666666666666,\"#ed7953\"],[0.7777777777777778,\"#fb9f3a\"],[0.8888888888888888,\"#fdca26\"],[1.0,\"#f0f921\"]]}],\"heatmapgl\":[{\"type\":\"heatmapgl\",\"colorbar\":{\"outlinewidth\":0,\"ticks\":\"\"},\"colorscale\":[[0.0,\"#0d0887\"],[0.1111111111111111,\"#46039f\"],[0.2222222222222222,\"#7201a8\"],[0.3333333333333333,\"#9c179e\"],[0.4444444444444444,\"#bd3786\"],[0.5555555555555556,\"#d8576b\"],[0.6666666666666666,\"#ed7953\"],[0.7777777777777778,\"#fb9f3a\"],[0.8888888888888888,\"#fdca26\"],[1.0,\"#f0f921\"]]}],\"contourcarpet\":[{\"type\":\"contourcarpet\",\"colorbar\":{\"outlinewidth\":0,\"ticks\":\"\"}}],\"contour\":[{\"type\":\"contour\",\"colorbar\":{\"outlinewidth\":0,\"ticks\":\"\"},\"colorscale\":[[0.0,\"#0d0887\"],[0.1111111111111111,\"#46039f\"],[0.2222222222222222,\"#7201a8\"],[0.3333333333333333,\"#9c179e\"],[0.4444444444444444,\"#bd3786\"],[0.5555555555555556,\"#d8576b\"],[0.6666666666666666,\"#ed7953\"],[0.7777777777777778,\"#fb9f3a\"],[0.8888888888888888,\"#fdca26\"],[1.0,\"#f0f921\"]]}],\"surface\":[{\"type\":\"surface\",\"colorbar\":{\"outlinewidth\":0,\"ticks\":\"\"},\"colorscale\":[[0.0,\"#0d0887\"],[0.1111111111111111,\"#46039f\"],[0.2222222222222222,\"#7201a8\"],[0.3333333333333333,\"#9c179e\"],[0.4444444444444444,\"#bd3786\"],[0.5555555555555556,\"#d8576b\"],[0.6666666666666666,\"#ed7953\"],[0.7777777777777778,\"#fb9f3a\"],[0.8888888888888888,\"#fdca26\"],[1.0,\"#f0f921\"]]}],\"mesh3d\":[{\"type\":\"mesh3d\",\"colorbar\":{\"outlinewidth\":0,\"ticks\":\"\"}}],\"scatter\":[{\"fillpattern\":{\"fillmode\":\"overlay\",\"size\":10,\"solidity\":0.2},\"type\":\"scatter\"}],\"parcoords\":[{\"type\":\"parcoords\",\"line\":{\"colorbar\":{\"outlinewidth\":0,\"ticks\":\"\"}}}],\"scatterpolargl\":[{\"type\":\"scatterpolargl\",\"marker\":{\"colorbar\":{\"outlinewidth\":0,\"ticks\":\"\"}}}],\"bar\":[{\"error_x\":{\"color\":\"#2a3f5f\"},\"error_y\":{\"color\":\"#2a3f5f\"},\"marker\":{\"line\":{\"color\":\"#E5ECF6\",\"width\":0.5},\"pattern\":{\"fillmode\":\"overlay\",\"size\":10,\"solidity\":0.2}},\"type\":\"bar\"}],\"scattergeo\":[{\"type\":\"scattergeo\",\"marker\":{\"colorbar\":{\"outlinewidth\":0,\"ticks\":\"\"}}}],\"scatterpolar\":[{\"type\":\"scatterpolar\",\"marker\":{\"colorbar\":{\"outlinewidth\":0,\"ticks\":\"\"}}}],\"histogram\":[{\"marker\":{\"pattern\":{\"fillmode\":\"overlay\",\"size\":10,\"solidity\":0.2}},\"type\":\"histogram\"}],\"scattergl\":[{\"type\":\"scattergl\",\"marker\":{\"colorbar\":{\"outlinewidth\":0,\"ticks\":\"\"}}}],\"scatter3d\":[{\"type\":\"scatter3d\",\"line\":{\"colorbar\":{\"outlinewidth\":0,\"ticks\":\"\"}},\"marker\":{\"colorbar\":{\"outlinewidth\":0,\"ticks\":\"\"}}}],\"scattermapbox\":[{\"type\":\"scattermapbox\",\"marker\":{\"colorbar\":{\"outlinewidth\":0,\"ticks\":\"\"}}}],\"scatterternary\":[{\"type\":\"scatterternary\",\"marker\":{\"colorbar\":{\"outlinewidth\":0,\"ticks\":\"\"}}}],\"scattercarpet\":[{\"type\":\"scattercarpet\",\"marker\":{\"colorbar\":{\"outlinewidth\":0,\"ticks\":\"\"}}}],\"carpet\":[{\"aaxis\":{\"endlinecolor\":\"#2a3f5f\",\"gridcolor\":\"white\",\"linecolor\":\"white\",\"minorgridcolor\":\"white\",\"startlinecolor\":\"#2a3f5f\"},\"baxis\":{\"endlinecolor\":\"#2a3f5f\",\"gridcolor\":\"white\",\"linecolor\":\"white\",\"minorgridcolor\":\"white\",\"startlinecolor\":\"#2a3f5f\"},\"type\":\"carpet\"}],\"table\":[{\"cells\":{\"fill\":{\"color\":\"#EBF0F8\"},\"line\":{\"color\":\"white\"}},\"header\":{\"fill\":{\"color\":\"#C8D4E3\"},\"line\":{\"color\":\"white\"}},\"type\":\"table\"}],\"barpolar\":[{\"marker\":{\"line\":{\"color\":\"#E5ECF6\",\"width\":0.5},\"pattern\":{\"fillmode\":\"overlay\",\"size\":10,\"solidity\":0.2}},\"type\":\"barpolar\"}],\"pie\":[{\"automargin\":true,\"type\":\"pie\"}]},\"layout\":{\"autotypenumbers\":\"strict\",\"colorway\":[\"#636efa\",\"#EF553B\",\"#00cc96\",\"#ab63fa\",\"#FFA15A\",\"#19d3f3\",\"#FF6692\",\"#B6E880\",\"#FF97FF\",\"#FECB52\"],\"font\":{\"color\":\"#2a3f5f\"},\"hovermode\":\"closest\",\"hoverlabel\":{\"align\":\"left\"},\"paper_bgcolor\":\"white\",\"plot_bgcolor\":\"#E5ECF6\",\"polar\":{\"bgcolor\":\"#E5ECF6\",\"angularaxis\":{\"gridcolor\":\"white\",\"linecolor\":\"white\",\"ticks\":\"\"},\"radialaxis\":{\"gridcolor\":\"white\",\"linecolor\":\"white\",\"ticks\":\"\"}},\"ternary\":{\"bgcolor\":\"#E5ECF6\",\"aaxis\":{\"gridcolor\":\"white\",\"linecolor\":\"white\",\"ticks\":\"\"},\"baxis\":{\"gridcolor\":\"white\",\"linecolor\":\"white\",\"ticks\":\"\"},\"caxis\":{\"gridcolor\":\"white\",\"linecolor\":\"white\",\"ticks\":\"\"}},\"coloraxis\":{\"colorbar\":{\"outlinewidth\":0,\"ticks\":\"\"}},\"colorscale\":{\"sequential\":[[0.0,\"#0d0887\"],[0.1111111111111111,\"#46039f\"],[0.2222222222222222,\"#7201a8\"],[0.3333333333333333,\"#9c179e\"],[0.4444444444444444,\"#bd3786\"],[0.5555555555555556,\"#d8576b\"],[0.6666666666666666,\"#ed7953\"],[0.7777777777777778,\"#fb9f3a\"],[0.8888888888888888,\"#fdca26\"],[1.0,\"#f0f921\"]],\"sequentialminus\":[[0.0,\"#0d0887\"],[0.1111111111111111,\"#46039f\"],[0.2222222222222222,\"#7201a8\"],[0.3333333333333333,\"#9c179e\"],[0.4444444444444444,\"#bd3786\"],[0.5555555555555556,\"#d8576b\"],[0.6666666666666666,\"#ed7953\"],[0.7777777777777778,\"#fb9f3a\"],[0.8888888888888888,\"#fdca26\"],[1.0,\"#f0f921\"]],\"diverging\":[[0,\"#8e0152\"],[0.1,\"#c51b7d\"],[0.2,\"#de77ae\"],[0.3,\"#f1b6da\"],[0.4,\"#fde0ef\"],[0.5,\"#f7f7f7\"],[0.6,\"#e6f5d0\"],[0.7,\"#b8e186\"],[0.8,\"#7fbc41\"],[0.9,\"#4d9221\"],[1,\"#276419\"]]},\"xaxis\":{\"gridcolor\":\"white\",\"linecolor\":\"white\",\"ticks\":\"\",\"title\":{\"standoff\":15},\"zerolinecolor\":\"white\",\"automargin\":true,\"zerolinewidth\":2},\"yaxis\":{\"gridcolor\":\"white\",\"linecolor\":\"white\",\"ticks\":\"\",\"title\":{\"standoff\":15},\"zerolinecolor\":\"white\",\"automargin\":true,\"zerolinewidth\":2},\"scene\":{\"xaxis\":{\"backgroundcolor\":\"#E5ECF6\",\"gridcolor\":\"white\",\"linecolor\":\"white\",\"showbackground\":true,\"ticks\":\"\",\"zerolinecolor\":\"white\",\"gridwidth\":2},\"yaxis\":{\"backgroundcolor\":\"#E5ECF6\",\"gridcolor\":\"white\",\"linecolor\":\"white\",\"showbackground\":true,\"ticks\":\"\",\"zerolinecolor\":\"white\",\"gridwidth\":2},\"zaxis\":{\"backgroundcolor\":\"#E5ECF6\",\"gridcolor\":\"white\",\"linecolor\":\"white\",\"showbackground\":true,\"ticks\":\"\",\"zerolinecolor\":\"white\",\"gridwidth\":2}},\"shapedefaults\":{\"line\":{\"color\":\"#2a3f5f\"}},\"annotationdefaults\":{\"arrowcolor\":\"#2a3f5f\",\"arrowhead\":0,\"arrowwidth\":1},\"geo\":{\"bgcolor\":\"white\",\"landcolor\":\"#E5ECF6\",\"subunitcolor\":\"white\",\"showland\":true,\"showlakes\":true,\"lakecolor\":\"white\"},\"title\":{\"x\":0.05},\"mapbox\":{\"style\":\"light\"}}},\"legend\":{\"tracegroupgap\":0},\"title\":{\"text\":\"Orders from each foreign country\"},\"height\":600,\"width\":800},                        {\"responsive\": true}                    ).then(function(){\n",
              "                            \n",
              "var gd = document.getElementById('cb1f91e1-73fa-49df-ae8f-f6c3152cd05e');\n",
              "var x = new MutationObserver(function (mutations, observer) {{\n",
              "        var display = window.getComputedStyle(gd).display;\n",
              "        if (!display || display === 'none') {{\n",
              "            console.log([gd, 'removed!']);\n",
              "            Plotly.purge(gd);\n",
              "            observer.disconnect();\n",
              "        }}\n",
              "}});\n",
              "\n",
              "// Listen for the removal of the full notebook cells\n",
              "var notebookContainer = gd.closest('#notebook-container');\n",
              "if (notebookContainer) {{\n",
              "    x.observe(notebookContainer, {childList: true});\n",
              "}}\n",
              "\n",
              "// Listen for the clearing of the current output cell\n",
              "var outputEl = gd.closest('.output');\n",
              "if (outputEl) {{\n",
              "    x.observe(outputEl, {childList: true});\n",
              "}}\n",
              "\n",
              "                        })                };                            </script>        </div>\n",
              "</body>\n",
              "</html>"
            ]
          },
          "metadata": {}
        }
      ]
    },
    {
      "cell_type": "code",
      "source": [
        "fig5 = px.pie(data_frame=countries_no_uk_value,\n",
        "              values='Total',\n",
        "              names='Country',\n",
        "              title='Value of each foreign country',\n",
        "              width=800,\n",
        "              height=600)\n",
        "fig5.show()"
      ],
      "metadata": {
        "id": "_t6eKd2BI-SA",
        "colab": {
          "base_uri": "https://localhost:8080/",
          "height": 617
        },
        "outputId": "1b281190-8551-47ee-fe24-eb98bf8ae25f"
      },
      "execution_count": null,
      "outputs": [
        {
          "output_type": "display_data",
          "data": {
            "text/html": [
              "<html>\n",
              "<head><meta charset=\"utf-8\" /></head>\n",
              "<body>\n",
              "    <div>            <script src=\"https://cdnjs.cloudflare.com/ajax/libs/mathjax/2.7.5/MathJax.js?config=TeX-AMS-MML_SVG\"></script><script type=\"text/javascript\">if (window.MathJax && window.MathJax.Hub && window.MathJax.Hub.Config) {window.MathJax.Hub.Config({SVG: {font: \"STIX-Web\"}});}</script>                <script type=\"text/javascript\">window.PlotlyConfig = {MathJaxConfig: 'local'};</script>\n",
              "        <script src=\"https://cdn.plot.ly/plotly-2.18.2.min.js\"></script>                <div id=\"2e72477b-dd85-4139-8925-3514eab95c79\" class=\"plotly-graph-div\" style=\"height:600px; width:800px;\"></div>            <script type=\"text/javascript\">                                    window.PLOTLYENV=window.PLOTLYENV || {};                                    if (document.getElementById(\"2e72477b-dd85-4139-8925-3514eab95c79\")) {                    Plotly.newPlot(                        \"2e72477b-dd85-4139-8925-3514eab95c79\",                        [{\"domain\":{\"x\":[0.0,1.0],\"y\":[0.0,1.0]},\"hovertemplate\":\"Country=%{label}<br>Total=%{value}<extra></extra>\",\"labels\":[\"Australia\",\"Austria\",\"Bahrain\",\"Belgium\",\"Brazil\",\"Canada\",\"Channel Islands\",\"Cyprus\",\"Czech Republic\",\"Denmark\",\"EIRE\",\"European Community\",\"Finland\",\"France\",\"Germany\",\"Greece\",\"Hong Kong\",\"Iceland\",\"Israel\",\"Italy\",\"Japan\",\"Lebanon\",\"Lithuania\",\"Malta\",\"Netherlands\",\"Norway\",\"Poland\",\"Portugal\",\"RSA\",\"Saudi Arabia\",\"Singapore\",\"Spain\",\"Sweden\",\"Switzerland\",\"USA\",\"United Arab Emirates\",\"Unspecified\"],\"legendgroup\":\"\",\"name\":\"\",\"showlegend\":true,\"values\":[138453.81,10198.68,754.14,41196.34,1143.6,3666.38,20440.54,13502.85,826.74,18955.34,283140.52,1300.25,22546.08,209625.37000000002,228678.40000000002,4760.52,15483.0,4310.000000000001,8129.41,17483.24,37416.37,1693.88,1661.06,2725.5899999999997,285446.34,36165.44,7334.650000000001,33683.05,1002.3100000000001,145.92000000000002,21279.29,61558.56,38367.83,57067.6,3580.39,1902.2800000000002,4740.9400000000005],\"type\":\"pie\"}],                        {\"template\":{\"data\":{\"histogram2dcontour\":[{\"type\":\"histogram2dcontour\",\"colorbar\":{\"outlinewidth\":0,\"ticks\":\"\"},\"colorscale\":[[0.0,\"#0d0887\"],[0.1111111111111111,\"#46039f\"],[0.2222222222222222,\"#7201a8\"],[0.3333333333333333,\"#9c179e\"],[0.4444444444444444,\"#bd3786\"],[0.5555555555555556,\"#d8576b\"],[0.6666666666666666,\"#ed7953\"],[0.7777777777777778,\"#fb9f3a\"],[0.8888888888888888,\"#fdca26\"],[1.0,\"#f0f921\"]]}],\"choropleth\":[{\"type\":\"choropleth\",\"colorbar\":{\"outlinewidth\":0,\"ticks\":\"\"}}],\"histogram2d\":[{\"type\":\"histogram2d\",\"colorbar\":{\"outlinewidth\":0,\"ticks\":\"\"},\"colorscale\":[[0.0,\"#0d0887\"],[0.1111111111111111,\"#46039f\"],[0.2222222222222222,\"#7201a8\"],[0.3333333333333333,\"#9c179e\"],[0.4444444444444444,\"#bd3786\"],[0.5555555555555556,\"#d8576b\"],[0.6666666666666666,\"#ed7953\"],[0.7777777777777778,\"#fb9f3a\"],[0.8888888888888888,\"#fdca26\"],[1.0,\"#f0f921\"]]}],\"heatmap\":[{\"type\":\"heatmap\",\"colorbar\":{\"outlinewidth\":0,\"ticks\":\"\"},\"colorscale\":[[0.0,\"#0d0887\"],[0.1111111111111111,\"#46039f\"],[0.2222222222222222,\"#7201a8\"],[0.3333333333333333,\"#9c179e\"],[0.4444444444444444,\"#bd3786\"],[0.5555555555555556,\"#d8576b\"],[0.6666666666666666,\"#ed7953\"],[0.7777777777777778,\"#fb9f3a\"],[0.8888888888888888,\"#fdca26\"],[1.0,\"#f0f921\"]]}],\"heatmapgl\":[{\"type\":\"heatmapgl\",\"colorbar\":{\"outlinewidth\":0,\"ticks\":\"\"},\"colorscale\":[[0.0,\"#0d0887\"],[0.1111111111111111,\"#46039f\"],[0.2222222222222222,\"#7201a8\"],[0.3333333333333333,\"#9c179e\"],[0.4444444444444444,\"#bd3786\"],[0.5555555555555556,\"#d8576b\"],[0.6666666666666666,\"#ed7953\"],[0.7777777777777778,\"#fb9f3a\"],[0.8888888888888888,\"#fdca26\"],[1.0,\"#f0f921\"]]}],\"contourcarpet\":[{\"type\":\"contourcarpet\",\"colorbar\":{\"outlinewidth\":0,\"ticks\":\"\"}}],\"contour\":[{\"type\":\"contour\",\"colorbar\":{\"outlinewidth\":0,\"ticks\":\"\"},\"colorscale\":[[0.0,\"#0d0887\"],[0.1111111111111111,\"#46039f\"],[0.2222222222222222,\"#7201a8\"],[0.3333333333333333,\"#9c179e\"],[0.4444444444444444,\"#bd3786\"],[0.5555555555555556,\"#d8576b\"],[0.6666666666666666,\"#ed7953\"],[0.7777777777777778,\"#fb9f3a\"],[0.8888888888888888,\"#fdca26\"],[1.0,\"#f0f921\"]]}],\"surface\":[{\"type\":\"surface\",\"colorbar\":{\"outlinewidth\":0,\"ticks\":\"\"},\"colorscale\":[[0.0,\"#0d0887\"],[0.1111111111111111,\"#46039f\"],[0.2222222222222222,\"#7201a8\"],[0.3333333333333333,\"#9c179e\"],[0.4444444444444444,\"#bd3786\"],[0.5555555555555556,\"#d8576b\"],[0.6666666666666666,\"#ed7953\"],[0.7777777777777778,\"#fb9f3a\"],[0.8888888888888888,\"#fdca26\"],[1.0,\"#f0f921\"]]}],\"mesh3d\":[{\"type\":\"mesh3d\",\"colorbar\":{\"outlinewidth\":0,\"ticks\":\"\"}}],\"scatter\":[{\"fillpattern\":{\"fillmode\":\"overlay\",\"size\":10,\"solidity\":0.2},\"type\":\"scatter\"}],\"parcoords\":[{\"type\":\"parcoords\",\"line\":{\"colorbar\":{\"outlinewidth\":0,\"ticks\":\"\"}}}],\"scatterpolargl\":[{\"type\":\"scatterpolargl\",\"marker\":{\"colorbar\":{\"outlinewidth\":0,\"ticks\":\"\"}}}],\"bar\":[{\"error_x\":{\"color\":\"#2a3f5f\"},\"error_y\":{\"color\":\"#2a3f5f\"},\"marker\":{\"line\":{\"color\":\"#E5ECF6\",\"width\":0.5},\"pattern\":{\"fillmode\":\"overlay\",\"size\":10,\"solidity\":0.2}},\"type\":\"bar\"}],\"scattergeo\":[{\"type\":\"scattergeo\",\"marker\":{\"colorbar\":{\"outlinewidth\":0,\"ticks\":\"\"}}}],\"scatterpolar\":[{\"type\":\"scatterpolar\",\"marker\":{\"colorbar\":{\"outlinewidth\":0,\"ticks\":\"\"}}}],\"histogram\":[{\"marker\":{\"pattern\":{\"fillmode\":\"overlay\",\"size\":10,\"solidity\":0.2}},\"type\":\"histogram\"}],\"scattergl\":[{\"type\":\"scattergl\",\"marker\":{\"colorbar\":{\"outlinewidth\":0,\"ticks\":\"\"}}}],\"scatter3d\":[{\"type\":\"scatter3d\",\"line\":{\"colorbar\":{\"outlinewidth\":0,\"ticks\":\"\"}},\"marker\":{\"colorbar\":{\"outlinewidth\":0,\"ticks\":\"\"}}}],\"scattermapbox\":[{\"type\":\"scattermapbox\",\"marker\":{\"colorbar\":{\"outlinewidth\":0,\"ticks\":\"\"}}}],\"scatterternary\":[{\"type\":\"scatterternary\",\"marker\":{\"colorbar\":{\"outlinewidth\":0,\"ticks\":\"\"}}}],\"scattercarpet\":[{\"type\":\"scattercarpet\",\"marker\":{\"colorbar\":{\"outlinewidth\":0,\"ticks\":\"\"}}}],\"carpet\":[{\"aaxis\":{\"endlinecolor\":\"#2a3f5f\",\"gridcolor\":\"white\",\"linecolor\":\"white\",\"minorgridcolor\":\"white\",\"startlinecolor\":\"#2a3f5f\"},\"baxis\":{\"endlinecolor\":\"#2a3f5f\",\"gridcolor\":\"white\",\"linecolor\":\"white\",\"minorgridcolor\":\"white\",\"startlinecolor\":\"#2a3f5f\"},\"type\":\"carpet\"}],\"table\":[{\"cells\":{\"fill\":{\"color\":\"#EBF0F8\"},\"line\":{\"color\":\"white\"}},\"header\":{\"fill\":{\"color\":\"#C8D4E3\"},\"line\":{\"color\":\"white\"}},\"type\":\"table\"}],\"barpolar\":[{\"marker\":{\"line\":{\"color\":\"#E5ECF6\",\"width\":0.5},\"pattern\":{\"fillmode\":\"overlay\",\"size\":10,\"solidity\":0.2}},\"type\":\"barpolar\"}],\"pie\":[{\"automargin\":true,\"type\":\"pie\"}]},\"layout\":{\"autotypenumbers\":\"strict\",\"colorway\":[\"#636efa\",\"#EF553B\",\"#00cc96\",\"#ab63fa\",\"#FFA15A\",\"#19d3f3\",\"#FF6692\",\"#B6E880\",\"#FF97FF\",\"#FECB52\"],\"font\":{\"color\":\"#2a3f5f\"},\"hovermode\":\"closest\",\"hoverlabel\":{\"align\":\"left\"},\"paper_bgcolor\":\"white\",\"plot_bgcolor\":\"#E5ECF6\",\"polar\":{\"bgcolor\":\"#E5ECF6\",\"angularaxis\":{\"gridcolor\":\"white\",\"linecolor\":\"white\",\"ticks\":\"\"},\"radialaxis\":{\"gridcolor\":\"white\",\"linecolor\":\"white\",\"ticks\":\"\"}},\"ternary\":{\"bgcolor\":\"#E5ECF6\",\"aaxis\":{\"gridcolor\":\"white\",\"linecolor\":\"white\",\"ticks\":\"\"},\"baxis\":{\"gridcolor\":\"white\",\"linecolor\":\"white\",\"ticks\":\"\"},\"caxis\":{\"gridcolor\":\"white\",\"linecolor\":\"white\",\"ticks\":\"\"}},\"coloraxis\":{\"colorbar\":{\"outlinewidth\":0,\"ticks\":\"\"}},\"colorscale\":{\"sequential\":[[0.0,\"#0d0887\"],[0.1111111111111111,\"#46039f\"],[0.2222222222222222,\"#7201a8\"],[0.3333333333333333,\"#9c179e\"],[0.4444444444444444,\"#bd3786\"],[0.5555555555555556,\"#d8576b\"],[0.6666666666666666,\"#ed7953\"],[0.7777777777777778,\"#fb9f3a\"],[0.8888888888888888,\"#fdca26\"],[1.0,\"#f0f921\"]],\"sequentialminus\":[[0.0,\"#0d0887\"],[0.1111111111111111,\"#46039f\"],[0.2222222222222222,\"#7201a8\"],[0.3333333333333333,\"#9c179e\"],[0.4444444444444444,\"#bd3786\"],[0.5555555555555556,\"#d8576b\"],[0.6666666666666666,\"#ed7953\"],[0.7777777777777778,\"#fb9f3a\"],[0.8888888888888888,\"#fdca26\"],[1.0,\"#f0f921\"]],\"diverging\":[[0,\"#8e0152\"],[0.1,\"#c51b7d\"],[0.2,\"#de77ae\"],[0.3,\"#f1b6da\"],[0.4,\"#fde0ef\"],[0.5,\"#f7f7f7\"],[0.6,\"#e6f5d0\"],[0.7,\"#b8e186\"],[0.8,\"#7fbc41\"],[0.9,\"#4d9221\"],[1,\"#276419\"]]},\"xaxis\":{\"gridcolor\":\"white\",\"linecolor\":\"white\",\"ticks\":\"\",\"title\":{\"standoff\":15},\"zerolinecolor\":\"white\",\"automargin\":true,\"zerolinewidth\":2},\"yaxis\":{\"gridcolor\":\"white\",\"linecolor\":\"white\",\"ticks\":\"\",\"title\":{\"standoff\":15},\"zerolinecolor\":\"white\",\"automargin\":true,\"zerolinewidth\":2},\"scene\":{\"xaxis\":{\"backgroundcolor\":\"#E5ECF6\",\"gridcolor\":\"white\",\"linecolor\":\"white\",\"showbackground\":true,\"ticks\":\"\",\"zerolinecolor\":\"white\",\"gridwidth\":2},\"yaxis\":{\"backgroundcolor\":\"#E5ECF6\",\"gridcolor\":\"white\",\"linecolor\":\"white\",\"showbackground\":true,\"ticks\":\"\",\"zerolinecolor\":\"white\",\"gridwidth\":2},\"zaxis\":{\"backgroundcolor\":\"#E5ECF6\",\"gridcolor\":\"white\",\"linecolor\":\"white\",\"showbackground\":true,\"ticks\":\"\",\"zerolinecolor\":\"white\",\"gridwidth\":2}},\"shapedefaults\":{\"line\":{\"color\":\"#2a3f5f\"}},\"annotationdefaults\":{\"arrowcolor\":\"#2a3f5f\",\"arrowhead\":0,\"arrowwidth\":1},\"geo\":{\"bgcolor\":\"white\",\"landcolor\":\"#E5ECF6\",\"subunitcolor\":\"white\",\"showland\":true,\"showlakes\":true,\"lakecolor\":\"white\"},\"title\":{\"x\":0.05},\"mapbox\":{\"style\":\"light\"}}},\"legend\":{\"tracegroupgap\":0},\"title\":{\"text\":\"Value of each foreign country\"},\"height\":600,\"width\":800},                        {\"responsive\": true}                    ).then(function(){\n",
              "                            \n",
              "var gd = document.getElementById('2e72477b-dd85-4139-8925-3514eab95c79');\n",
              "var x = new MutationObserver(function (mutations, observer) {{\n",
              "        var display = window.getComputedStyle(gd).display;\n",
              "        if (!display || display === 'none') {{\n",
              "            console.log([gd, 'removed!']);\n",
              "            Plotly.purge(gd);\n",
              "            observer.disconnect();\n",
              "        }}\n",
              "}});\n",
              "\n",
              "// Listen for the removal of the full notebook cells\n",
              "var notebookContainer = gd.closest('#notebook-container');\n",
              "if (notebookContainer) {{\n",
              "    x.observe(notebookContainer, {childList: true});\n",
              "}}\n",
              "\n",
              "// Listen for the clearing of the current output cell\n",
              "var outputEl = gd.closest('.output');\n",
              "if (outputEl) {{\n",
              "    x.observe(outputEl, {childList: true});\n",
              "}}\n",
              "\n",
              "                        })                };                            </script>        </div>\n",
              "</body>\n",
              "</html>"
            ]
          },
          "metadata": {}
        }
      ]
    },
    {
      "cell_type": "markdown",
      "source": [
        "### Products analysis"
      ],
      "metadata": {
        "id": "H_ey1Rscfdbo"
      }
    },
    {
      "cell_type": "code",
      "source": [
        "dataset_products = dataset.groupby(['Description'], as_index=False).agg({'InvoiceNo': pd.Series.count})"
      ],
      "metadata": {
        "id": "-dSP9VWmJbmz"
      },
      "execution_count": null,
      "outputs": []
    },
    {
      "cell_type": "markdown",
      "source": [
        "##### Top 100 most purchased products"
      ],
      "metadata": {
        "id": "wYuV3Ey-hkEI"
      }
    },
    {
      "cell_type": "code",
      "source": [
        "dataset_top_100 = dataset_products.sort_values(by='InvoiceNo', ascending=False).head(100)"
      ],
      "metadata": {
        "id": "6jLo-n0sft2s"
      },
      "execution_count": null,
      "outputs": []
    },
    {
      "cell_type": "code",
      "source": [
        "best_products = dataset_top_100['Description'].tolist()"
      ],
      "metadata": {
        "id": "i8kfO3hTNMy2"
      },
      "execution_count": null,
      "outputs": []
    },
    {
      "cell_type": "code",
      "source": [
        "dataset_best_products = dataset[dataset['Description'].isin(best_products)]"
      ],
      "metadata": {
        "id": "SCCbvVKHOhFO"
      },
      "execution_count": null,
      "outputs": []
    },
    {
      "cell_type": "code",
      "source": [
        "dataset_best_products.shape"
      ],
      "metadata": {
        "colab": {
          "base_uri": "https://localhost:8080/"
        },
        "id": "Wxy_5F35O5u-",
        "outputId": "05d4004a-d55d-4ec4-a20c-afcd9775a638"
      },
      "execution_count": null,
      "outputs": [
        {
          "output_type": "execute_result",
          "data": {
            "text/plain": [
              "(96791, 15)"
            ]
          },
          "metadata": {},
          "execution_count": 63
        }
      ]
    },
    {
      "cell_type": "markdown",
      "source": [
        "##### Products bought together (Apriori)"
      ],
      "metadata": {
        "id": "3ZgnEeAwh_ZH"
      }
    },
    {
      "cell_type": "code",
      "source": [
        "frame = {'InvoiceNo': dataset_best_products['InvoiceNo'],\n",
        "         'Description': dataset_best_products['Description']}\n",
        "dataset_to_dummies = pd.DataFrame(frame)"
      ],
      "metadata": {
        "id": "6Z7J3-_pgHv_"
      },
      "execution_count": 96,
      "outputs": []
    },
    {
      "cell_type": "code",
      "source": [
        "dataset_to_dummies.set_index('InvoiceNo')\n",
        "dataset_to_dummies.shape"
      ],
      "metadata": {
        "id": "5KeE_hhUiuUF",
        "colab": {
          "base_uri": "https://localhost:8080/"
        },
        "outputId": "e8ffc4ad-3781-439d-a81a-7c2f7ecf1491"
      },
      "execution_count": 97,
      "outputs": [
        {
          "output_type": "execute_result",
          "data": {
            "text/plain": [
              "(96791, 2)"
            ]
          },
          "metadata": {},
          "execution_count": 97
        }
      ]
    },
    {
      "cell_type": "code",
      "source": [
        "dataset_to_apriori = pd.get_dummies(dataset_to_dummies['Description'])\n",
        "dataset_to_apriori.shape"
      ],
      "metadata": {
        "id": "r4VyrWqlnXcs",
        "colab": {
          "base_uri": "https://localhost:8080/"
        },
        "outputId": "a3b50675-09df-43dc-cb84-92a1a84053da"
      },
      "execution_count": 109,
      "outputs": [
        {
          "output_type": "execute_result",
          "data": {
            "text/plain": [
              "(96791, 100)"
            ]
          },
          "metadata": {},
          "execution_count": 109
        }
      ]
    },
    {
      "cell_type": "code",
      "source": [
        "dataset_to_apriori['InvoiceNo'] = dataset_to_dummies['InvoiceNo']"
      ],
      "metadata": {
        "id": "vNDnjftrtcW3"
      },
      "execution_count": 110,
      "outputs": []
    },
    {
      "cell_type": "code",
      "source": [
        "dataset_apriori = dataset_to_apriori.groupby(['InvoiceNo'], as_index=False).agg('sum')"
      ],
      "metadata": {
        "id": "dtar85vtuJft"
      },
      "execution_count": 111,
      "outputs": []
    },
    {
      "cell_type": "code",
      "source": [
        "!pip install apyori"
      ],
      "metadata": {
        "id": "Oxn9vFD2vHuc",
        "colab": {
          "base_uri": "https://localhost:8080/"
        },
        "outputId": "f300fa6b-668f-41f2-8501-a581a40caddc"
      },
      "execution_count": null,
      "outputs": [
        {
          "output_type": "stream",
          "name": "stdout",
          "text": [
            "Collecting apyori\n",
            "  Downloading apyori-1.1.2.tar.gz (8.6 kB)\n",
            "  Preparing metadata (setup.py) ... \u001b[?25l\u001b[?25hdone\n",
            "Building wheels for collected packages: apyori\n",
            "  Building wheel for apyori (setup.py) ... \u001b[?25l\u001b[?25hdone\n",
            "  Created wheel for apyori: filename=apyori-1.1.2-py3-none-any.whl size=5954 sha256=e6052db6a41862dc480c2d3f3ac83d02b92752e75f396f06d9992cccbc96ea29\n",
            "  Stored in directory: /root/.cache/pip/wheels/c4/1a/79/20f55c470a50bb3702a8cb7c94d8ada15573538c7f4baebe2d\n",
            "Successfully built apyori\n",
            "Installing collected packages: apyori\n",
            "Successfully installed apyori-1.1.2\n"
          ]
        }
      ]
    },
    {
      "cell_type": "code",
      "source": [
        "from apyori import apriori"
      ],
      "metadata": {
        "id": "MJkWuoD_yxPU"
      },
      "execution_count": null,
      "outputs": []
    },
    {
      "cell_type": "code",
      "source": [
        "dataset_apriori = dataset_apriori.drop(['InvoiceNo'], axis=1)"
      ],
      "metadata": {
        "id": "Ao8jCxcb0if7"
      },
      "execution_count": 112,
      "outputs": []
    },
    {
      "cell_type": "code",
      "source": [
        "columns_names = list(dataset_apriori.columns.values)"
      ],
      "metadata": {
        "id": "Y9W0nIWmuSBj"
      },
      "execution_count": 114,
      "outputs": []
    },
    {
      "cell_type": "code",
      "source": [
        "for column in columns_names:\n",
        "  dataset_apriori[column] = np.where(dataset_apriori[column] == 1, column, np.NaN)"
      ],
      "metadata": {
        "id": "f5-Mk9f7Jm6h"
      },
      "execution_count": 115,
      "outputs": []
    },
    {
      "cell_type": "code",
      "source": [
        "transactions = []\n",
        "for i in range(0, dataset_apriori.shape[0]):\n",
        "  transactions.append([str(dataset_apriori.values[i, j]) for j in range(0, dataset_apriori.shape[1])])"
      ],
      "metadata": {
        "id": "4VsbIwd817Au"
      },
      "execution_count": 117,
      "outputs": []
    },
    {
      "cell_type": "code",
      "source": [
        "rules = apriori(transactions=transactions, min_support=0.003, min_confidence=0.2, min_lift=3, min_length=2, max_length=2)"
      ],
      "metadata": {
        "id": "k9tB6mO37pCq"
      },
      "execution_count": 130,
      "outputs": []
    },
    {
      "cell_type": "code",
      "source": [
        "results = list(rules)\n",
        "from pprint import pprint\n",
        "pprint(results)"
      ],
      "metadata": {
        "colab": {
          "base_uri": "https://localhost:8080/"
        },
        "id": "OfNotyFtC7pp",
        "outputId": "89ddf71e-e259-40f5-f622-ef0deb5d9adc"
      },
      "execution_count": 131,
      "outputs": [
        {
          "output_type": "stream",
          "name": "stdout",
          "text": [
            "[RelationRecord(items=frozenset({'DOTCOM POSTAGE', '6 RIBBONS RUSTIC CHARM'}), support=0.012559845799912952, ordered_statistics=[OrderedStatistic(items_base=frozenset({'6 RIBBONS RUSTIC CHARM'}), items_add=frozenset({'DOTCOM POSTAGE'}), confidence=0.21443736730360932, lift=4.884980422583497), OrderedStatistic(items_base=frozenset({'DOTCOM POSTAGE'}), items_add=frozenset({'6 RIBBONS RUSTIC CHARM'}), confidence=0.28611898016997167, lift=4.884980422583497)]),\n",
            " RelationRecord(items=frozenset({'JAM MAKING SET PRINTED', '6 RIBBONS RUSTIC CHARM'}), support=0.01442516943356339, ordered_statistics=[OrderedStatistic(items_base=frozenset({'6 RIBBONS RUSTIC CHARM'}), items_add=frozenset({'JAM MAKING SET PRINTED'}), confidence=0.2462845010615711, lift=3.414649681528662), OrderedStatistic(items_base=frozenset({'JAM MAKING SET PRINTED'}), items_add=frozenset({'6 RIBBONS RUSTIC CHARM'}), confidence=0.2, lift=3.414649681528662)]),\n",
            " RelationRecord(items=frozenset({'JAM MAKING SET WITH JARS', '6 RIBBONS RUSTIC CHARM'}), support=0.01268420070882298, ordered_statistics=[OrderedStatistic(items_base=frozenset({'6 RIBBONS RUSTIC CHARM'}), items_add=frozenset({'JAM MAKING SET WITH JARS'}), confidence=0.2165605095541401, lift=3.079524911723462)]),\n",
            " RelationRecord(items=frozenset({'PACK OF 72 RETROSPOT CAKE CASES', '6 RIBBONS RUSTIC CHARM'}), support=0.014362991979108375, ordered_statistics=[OrderedStatistic(items_base=frozenset({'6 RIBBONS RUSTIC CHARM'}), items_add=frozenset({'PACK OF 72 RETROSPOT CAKE CASES'}), confidence=0.2452229299363057, lift=3.06204998615342)]),\n",
            " RelationRecord(items=frozenset({'RECIPE BOX PANTRY YELLOW DESIGN', '6 RIBBONS RUSTIC CHARM'}), support=0.012746378163277996, ordered_statistics=[OrderedStatistic(items_base=frozenset({'6 RIBBONS RUSTIC CHARM'}), items_add=frozenset({'RECIPE BOX PANTRY YELLOW DESIGN'}), confidence=0.21762208067940553, lift=3.1731785345121297)]),\n",
            " RelationRecord(items=frozenset({'SET OF 3 BUTTERFLY COOKIE CUTTERS', '6 RIBBONS RUSTIC CHARM'}), support=0.00876702107815706, ordered_statistics=[OrderedStatistic(items_base=frozenset({'SET OF 3 BUTTERFLY COOKIE CUTTERS'}), items_add=frozenset({'6 RIBBONS RUSTIC CHARM'}), confidence=0.20674486803519063, lift=3.529806488970245)]),\n",
            " RelationRecord(items=frozenset({'60 TEATIME FAIRY CAKE CASES', 'JAM MAKING SET PRINTED'}), support=0.011565006528632718, ordered_statistics=[OrderedStatistic(items_base=frozenset({'60 TEATIME FAIRY CAKE CASES'}), items_add=frozenset({'JAM MAKING SET PRINTED'}), confidence=0.22878228782287824, lift=3.17198753022013)]),\n",
            " RelationRecord(items=frozenset({'60 TEATIME FAIRY CAKE CASES', 'JAM MAKING SET WITH JARS'}), support=0.01119194180190263, ordered_statistics=[OrderedStatistic(items_base=frozenset({'60 TEATIME FAIRY CAKE CASES'}), items_add=frozenset({'JAM MAKING SET WITH JARS'}), confidence=0.22140221402214022, lift=3.148374719821469)]),\n",
            " RelationRecord(items=frozenset({'60 TEATIME FAIRY CAKE CASES', 'PACK OF 60 PINK PAISLEY CAKE CASES'}), support=0.021513399241435055, ordered_statistics=[OrderedStatistic(items_base=frozenset({'60 TEATIME FAIRY CAKE CASES'}), items_add=frozenset({'PACK OF 60 PINK PAISLEY CAKE CASES'}), confidence=0.4255842558425584, lift=7.977472711790055), OrderedStatistic(items_base=frozenset({'PACK OF 60 PINK PAISLEY CAKE CASES'}), items_add=frozenset({'60 TEATIME FAIRY CAKE CASES'}), confidence=0.40326340326340326, lift=7.977472711790055)]),\n",
            " RelationRecord(items=frozenset({'60 TEATIME FAIRY CAKE CASES', 'PACK OF 72 RETROSPOT CAKE CASES'}), support=0.027171547596841386, ordered_statistics=[OrderedStatistic(items_base=frozenset({'60 TEATIME FAIRY CAKE CASES'}), items_add=frozenset({'PACK OF 72 RETROSPOT CAKE CASES'}), confidence=0.5375153751537516, lift=6.711847654190828), OrderedStatistic(items_base=frozenset({'PACK OF 72 RETROSPOT CAKE CASES'}), items_add=frozenset({'60 TEATIME FAIRY CAKE CASES'}), confidence=0.3392857142857143, lift=6.711847654190827)]),\n",
            " RelationRecord(items=frozenset({'60 TEATIME FAIRY CAKE CASES', 'RECIPE BOX PANTRY YELLOW DESIGN'}), support=0.010881054529627556, ordered_statistics=[OrderedStatistic(items_base=frozenset({'60 TEATIME FAIRY CAKE CASES'}), items_add=frozenset({'RECIPE BOX PANTRY YELLOW DESIGN'}), confidence=0.2152521525215252, lift=3.138622274708694)]),\n",
            " RelationRecord(items=frozenset({'RED RETROSPOT CHARLOTTE BAG', '60 TEATIME FAIRY CAKE CASES'}), support=0.010756699620717527, ordered_statistics=[OrderedStatistic(items_base=frozenset({'60 TEATIME FAIRY CAKE CASES'}), items_add=frozenset({'RED RETROSPOT CHARLOTTE BAG'}), confidence=0.2127921279212792, lift=3.3519449494201106)]),\n",
            " RelationRecord(items=frozenset({'60 TEATIME FAIRY CAKE CASES', 'SET OF 3 BUTTERFLY COOKIE CUTTERS'}), support=0.009761860349437294, ordered_statistics=[OrderedStatistic(items_base=frozenset({'SET OF 3 BUTTERFLY COOKIE CUTTERS'}), items_add=frozenset({'60 TEATIME FAIRY CAKE CASES'}), confidence=0.23020527859237538, lift=4.553987079460238)]),\n",
            " RelationRecord(items=frozenset({'60 TEATIME FAIRY CAKE CASES', 'SET OF 3 HEART COOKIE CUTTERS'}), support=0.00889137598706709, ordered_statistics=[OrderedStatistic(items_base=frozenset({'SET OF 3 HEART COOKIE CUTTERS'}), items_add=frozenset({'60 TEATIME FAIRY CAKE CASES'}), confidence=0.2109144542772861, lift=4.172370440518564)]),\n",
            " RelationRecord(items=frozenset({'60 TEATIME FAIRY CAKE CASES', 'SET OF 4 PANTRY JELLY MOULDS'}), support=0.010445812348442454, ordered_statistics=[OrderedStatistic(items_base=frozenset({'60 TEATIME FAIRY CAKE CASES'}), items_add=frozenset({'SET OF 4 PANTRY JELLY MOULDS'}), confidence=0.20664206642066418, lift=3.144204687079983)]),\n",
            " RelationRecord(items=frozenset({'60 TEATIME FAIRY CAKE CASES', 'STRAWBERRY CHARLOTTE BAG'}), support=0.009015730895977118, ordered_statistics=[OrderedStatistic(items_base=frozenset({'STRAWBERRY CHARLOTTE BAG'}), items_add=frozenset({'60 TEATIME FAIRY CAKE CASES'}), confidence=0.201949860724234, lift=3.9950302706369683)]),\n",
            " RelationRecord(items=frozenset({'60 TEATIME FAIRY CAKE CASES', 'WOODLAND CHARLOTTE BAG'}), support=0.01050798980289747, ordered_statistics=[OrderedStatistic(items_base=frozenset({'60 TEATIME FAIRY CAKE CASES'}), items_add=frozenset({'WOODLAND CHARLOTTE BAG'}), confidence=0.2078720787207872, lift=4.0474656683612835), OrderedStatistic(items_base=frozenset({'WOODLAND CHARLOTTE BAG'}), items_add=frozenset({'60 TEATIME FAIRY CAKE CASES'}), confidence=0.2046004842615012, lift=4.0474656683612835)]),\n",
            " RelationRecord(items=frozenset({'ALARM CLOCK BAKELIKE PINK', 'ALARM CLOCK BAKELIKE GREEN'}), support=0.025492756326555992, ordered_statistics=[OrderedStatistic(items_base=frozenset({'ALARM CLOCK BAKELIKE GREEN'}), items_add=frozenset({'ALARM CLOCK BAKELIKE PINK'}), confidence=0.4218106995884774, lift=8.75352449223417), OrderedStatistic(items_base=frozenset({'ALARM CLOCK BAKELIKE PINK'}), items_add=frozenset({'ALARM CLOCK BAKELIKE GREEN'}), confidence=0.5290322580645161, lift=8.75352449223417)]),\n",
            " RelationRecord(items=frozenset({'ALARM CLOCK BAKELIKE RED ', 'ALARM CLOCK BAKELIKE GREEN'}), support=0.038923086488839145, ordered_statistics=[OrderedStatistic(items_base=frozenset({'ALARM CLOCK BAKELIKE GREEN'}), items_add=frozenset({'ALARM CLOCK BAKELIKE RED '}), confidence=0.6440329218106996, lift=9.950030241576831), OrderedStatistic(items_base=frozenset({'ALARM CLOCK BAKELIKE RED '}), items_add=frozenset({'ALARM CLOCK BAKELIKE GREEN'}), confidence=0.6013448607108549, lift=9.950030241576831)]),\n",
            " RelationRecord(items=frozenset({'CHARLOTTE BAG PINK POLKADOT', 'ALARM CLOCK BAKELIKE GREEN'}), support=0.010197102530622396, ordered_statistics=[OrderedStatistic(items_base=frozenset({'CHARLOTTE BAG PINK POLKADOT'}), items_add=frozenset({'ALARM CLOCK BAKELIKE GREEN'}), confidence=0.2249657064471879, lift=3.7223492353807854)]),\n",
            " RelationRecord(items=frozenset({'CHARLOTTE BAG SUKI DESIGN', 'ALARM CLOCK BAKELIKE GREEN'}), support=0.011129764347447616, ordered_statistics=[OrderedStatistic(items_base=frozenset({'CHARLOTTE BAG SUKI DESIGN'}), items_add=frozenset({'ALARM CLOCK BAKELIKE GREEN'}), confidence=0.2048054919908467, lift=3.3887723535892875)]),\n",
            " RelationRecord(items=frozenset({'STRAWBERRY CHARLOTTE BAG', 'ALARM CLOCK BAKELIKE GREEN'}), support=0.00982403780389231, ordered_statistics=[OrderedStatistic(items_base=frozenset({'STRAWBERRY CHARLOTTE BAG'}), items_add=frozenset({'ALARM CLOCK BAKELIKE GREEN'}), confidence=0.22005571030640672, lift=3.6411069844217483)]),\n",
            " RelationRecord(items=frozenset({'WOODLAND CHARLOTTE BAG', 'ALARM CLOCK BAKELIKE GREEN'}), support=0.011440651619722688, ordered_statistics=[OrderedStatistic(items_base=frozenset({'WOODLAND CHARLOTTE BAG'}), items_add=frozenset({'ALARM CLOCK BAKELIKE GREEN'}), confidence=0.22276029055690072, lift=3.6858577706035334)]),\n",
            " RelationRecord(items=frozenset({'ALARM CLOCK BAKELIKE PINK', 'ALARM CLOCK BAKELIKE RED '}), support=0.02841509668594168, ordered_statistics=[OrderedStatistic(items_base=frozenset({'ALARM CLOCK BAKELIKE PINK'}), items_add=frozenset({'ALARM CLOCK BAKELIKE RED '}), confidence=0.5896774193548387, lift=9.110261225248676), OrderedStatistic(items_base=frozenset({'ALARM CLOCK BAKELIKE RED '}), items_add=frozenset({'ALARM CLOCK BAKELIKE PINK'}), confidence=0.4390009606147935, lift=9.110261225248676)]),\n",
            " RelationRecord(items=frozenset({'ALARM CLOCK BAKELIKE RED ', 'CHARLOTTE BAG PINK POLKADOT'}), support=0.009699682894982279, ordered_statistics=[OrderedStatistic(items_base=frozenset({'CHARLOTTE BAG PINK POLKADOT'}), items_add=frozenset({'ALARM CLOCK BAKELIKE RED '}), confidence=0.21399176954732507, lift=3.3060803358593938)]),\n",
            " RelationRecord(items=frozenset({'ALARM CLOCK BAKELIKE RED ', 'STRAWBERRY CHARLOTTE BAG'}), support=0.009761860349437294, ordered_statistics=[OrderedStatistic(items_base=frozenset({'STRAWBERRY CHARLOTTE BAG'}), items_add=frozenset({'ALARM CLOCK BAKELIKE RED '}), confidence=0.21866295264623956, lift=3.3782480954942082)]),\n",
            " RelationRecord(items=frozenset({'WOODLAND CHARLOTTE BAG', 'ALARM CLOCK BAKELIKE RED '}), support=0.010445812348442454, ordered_statistics=[OrderedStatistic(items_base=frozenset({'WOODLAND CHARLOTTE BAG'}), items_add=frozenset({'ALARM CLOCK BAKELIKE RED '}), confidence=0.20338983050847456, lift=3.1422849606799197)]),\n",
            " RelationRecord(items=frozenset({'ANTIQUE SILVER T-LIGHT GLASS', 'DOTCOM POSTAGE'}), support=0.009699682894982279, ordered_statistics=[OrderedStatistic(items_base=frozenset({'ANTIQUE SILVER T-LIGHT GLASS'}), items_add=frozenset({'DOTCOM POSTAGE'}), confidence=0.22740524781341107, lift=5.180394618389646), OrderedStatistic(items_base=frozenset({'DOTCOM POSTAGE'}), items_add=frozenset({'ANTIQUE SILVER T-LIGHT GLASS'}), confidence=0.22096317280453254, lift=5.180394618389645)]),\n",
            " RelationRecord(items=frozenset({'ANTIQUE SILVER T-LIGHT GLASS', 'VICTORIAN GLASS HANGING T-LIGHT'}), support=0.011565006528632718, ordered_statistics=[OrderedStatistic(items_base=frozenset({'ANTIQUE SILVER T-LIGHT GLASS'}), items_add=frozenset({'VICTORIAN GLASS HANGING T-LIGHT'}), confidence=0.27113702623906705, lift=4.221390893516859)]),\n",
            " RelationRecord(items=frozenset({'RETROSPOT TEA SET CERAMIC 11 PC ', 'BAKING SET 9 PIECE RETROSPOT '}), support=0.015979605794938755, ordered_statistics=[OrderedStatistic(items_base=frozenset({'BAKING SET 9 PIECE RETROSPOT '}), items_add=frozenset({'RETROSPOT TEA SET CERAMIC 11 PC '}), confidence=0.27634408602150534, lift=4.629627016129032), OrderedStatistic(items_base=frozenset({'RETROSPOT TEA SET CERAMIC 11 PC '}), items_add=frozenset({'BAKING SET 9 PIECE RETROSPOT '}), confidence=0.2677083333333333, lift=4.629627016129032)]),\n",
            " RelationRecord(items=frozenset({'CHARLOTTE BAG PINK POLKADOT', 'CHARLOTTE BAG SUKI DESIGN'}), support=0.024435739600820742, ordered_statistics=[OrderedStatistic(items_base=frozenset({'CHARLOTTE BAG PINK POLKADOT'}), items_add=frozenset({'CHARLOTTE BAG SUKI DESIGN'}), confidence=0.5390946502057613, lift=9.920205102127298), OrderedStatistic(items_base=frozenset({'CHARLOTTE BAG SUKI DESIGN'}), items_add=frozenset({'CHARLOTTE BAG PINK POLKADOT'}), confidence=0.4496567505720824, lift=9.920205102127298)]),\n",
            " RelationRecord(items=frozenset({'CHARLOTTE BAG PINK POLKADOT', 'DOTCOM POSTAGE'}), support=0.011316296710812659, ordered_statistics=[OrderedStatistic(items_base=frozenset({'CHARLOTTE BAG PINK POLKADOT'}), items_add=frozenset({'DOTCOM POSTAGE'}), confidence=0.24965706447187927, lift=5.687301087678802), OrderedStatistic(items_base=frozenset({'DOTCOM POSTAGE'}), items_add=frozenset({'CHARLOTTE BAG PINK POLKADOT'}), confidence=0.2577903682719547, lift=5.687301087678803)]),\n",
            " RelationRecord(items=frozenset({'JUMBO BAG APPLES', 'CHARLOTTE BAG PINK POLKADOT'}), support=0.00945097307716222, ordered_statistics=[OrderedStatistic(items_base=frozenset({'CHARLOTTE BAG PINK POLKADOT'}), items_add=frozenset({'JUMBO BAG APPLES'}), confidence=0.20850480109739367, lift=3.457095583556064)]),\n",
            " RelationRecord(items=frozenset({'CHARLOTTE BAG PINK POLKADOT', 'JUMBO BAG PINK POLKADOT'}), support=0.013057265435553068, ordered_statistics=[OrderedStatistic(items_base=frozenset({'CHARLOTTE BAG PINK POLKADOT'}), items_add=frozenset({'JUMBO BAG PINK POLKADOT'}), confidence=0.28806584362139914, lift=3.847975882859603)]),\n",
            " RelationRecord(items=frozenset({'CHARLOTTE BAG PINK POLKADOT', 'JUMBO BAG PINK VINTAGE PAISLEY'}), support=0.010259279985077412, ordered_statistics=[OrderedStatistic(items_base=frozenset({'CHARLOTTE BAG PINK POLKADOT'}), items_add=frozenset({'JUMBO BAG PINK VINTAGE PAISLEY'}), confidence=0.22633744855967078, lift=4.2426400759734095)]),\n",
            " RelationRecord(items=frozenset({'JUMBO BAG STRAWBERRY', 'CHARLOTTE BAG PINK POLKADOT'}), support=0.010321457439532425, ordered_statistics=[OrderedStatistic(items_base=frozenset({'CHARLOTTE BAG PINK POLKADOT'}), items_add=frozenset({'JUMBO BAG STRAWBERRY'}), confidence=0.22770919067215362, lift=4.477074466479519), OrderedStatistic(items_base=frozenset({'JUMBO BAG STRAWBERRY'}), items_add=frozenset({'CHARLOTTE BAG PINK POLKADOT'}), confidence=0.20293398533007334, lift=4.477074466479519)]),\n",
            " RelationRecord(items=frozenset({'JUMBO BAG WOODLAND ANIMALS', 'CHARLOTTE BAG PINK POLKADOT'}), support=0.009699682894982279, ordered_statistics=[OrderedStatistic(items_base=frozenset({'CHARLOTTE BAG PINK POLKADOT'}), items_add=frozenset({'JUMBO BAG WOODLAND ANIMALS'}), confidence=0.21399176954732507, lift=4.015903885215437)]),\n",
            " RelationRecord(items=frozenset({'CHARLOTTE BAG PINK POLKADOT', 'JUMBO STORAGE BAG SUKI'}), support=0.01280855561773301, ordered_statistics=[OrderedStatistic(items_base=frozenset({'CHARLOTTE BAG PINK POLKADOT'}), items_add=frozenset({'JUMBO STORAGE BAG SUKI'}), confidence=0.28257887517146774, lift=3.8711380318421766)]),\n",
            " RelationRecord(items=frozenset({'LUNCH BAG  BLACK SKULL.', 'CHARLOTTE BAG PINK POLKADOT'}), support=0.015979605794938755, ordered_statistics=[OrderedStatistic(items_base=frozenset({'CHARLOTTE BAG PINK POLKADOT'}), items_add=frozenset({'LUNCH BAG  BLACK SKULL.'}), confidence=0.35253772290809327, lift=4.550452807007114), OrderedStatistic(items_base=frozenset({'LUNCH BAG  BLACK SKULL.'}), items_add=frozenset({'CHARLOTTE BAG PINK POLKADOT'}), confidence=0.20626003210272872, lift=4.5504528070071135)]),\n",
            " RelationRecord(items=frozenset({'LUNCH BAG APPLE DESIGN', 'CHARLOTTE BAG PINK POLKADOT'}), support=0.011938071255362805, ordered_statistics=[OrderedStatistic(items_base=frozenset({'CHARLOTTE BAG PINK POLKADOT'}), items_add=frozenset({'LUNCH BAG APPLE DESIGN'}), confidence=0.2633744855967078, lift=4.156871297204957)]),\n",
            " RelationRecord(items=frozenset({'CHARLOTTE BAG PINK POLKADOT', 'LUNCH BAG CARS BLUE'}), support=0.015046943978113536, ordered_statistics=[OrderedStatistic(items_base=frozenset({'CHARLOTTE BAG PINK POLKADOT'}), items_add=frozenset({'LUNCH BAG CARS BLUE'}), confidence=0.33196159122085045, lift=4.6915099047495055), OrderedStatistic(items_base=frozenset({'LUNCH BAG CARS BLUE'}), items_add=frozenset({'CHARLOTTE BAG PINK POLKADOT'}), confidence=0.2126537785588752, lift=4.691509904749506)]),\n",
            " RelationRecord(items=frozenset({'LUNCH BAG PINK POLKADOT', 'CHARLOTTE BAG PINK POLKADOT'}), support=0.015233476341478579, ordered_statistics=[OrderedStatistic(items_base=frozenset({'CHARLOTTE BAG PINK POLKADOT'}), items_add=frozenset({'LUNCH BAG PINK POLKADOT'}), confidence=0.336076817558299, lift=5.009382258378242), OrderedStatistic(items_base=frozenset({'LUNCH BAG PINK POLKADOT'}), items_add=frozenset({'CHARLOTTE BAG PINK POLKADOT'}), confidence=0.22706209453197404, lift=5.009382258378242)]),\n",
            " RelationRecord(items=frozenset({'CHARLOTTE BAG PINK POLKADOT', 'LUNCH BAG RED RETROSPOT'}), support=0.018093639246409252, ordered_statistics=[OrderedStatistic(items_base=frozenset({'CHARLOTTE BAG PINK POLKADOT'}), items_add=frozenset({'LUNCH BAG RED RETROSPOT'}), confidence=0.3991769547325103, lift=4.149943738179033)]),\n",
            " RelationRecord(items=frozenset({'LUNCH BAG SPACEBOY DESIGN ', 'CHARLOTTE BAG PINK POLKADOT'}), support=0.013989927252378288, ordered_statistics=[OrderedStatistic(items_base=frozenset({'CHARLOTTE BAG PINK POLKADOT'}), items_add=frozenset({'LUNCH BAG SPACEBOY DESIGN '}), confidence=0.30864197530864196, lift=4.316425120772947)]),\n",
            " RelationRecord(items=frozenset({'LUNCH BAG SUKI DESIGN ', 'CHARLOTTE BAG PINK POLKADOT'}), support=0.012497668345457937, ordered_statistics=[OrderedStatistic(items_base=frozenset({'CHARLOTTE BAG PINK POLKADOT'}), items_add=frozenset({'LUNCH BAG SUKI DESIGN '}), confidence=0.27572016460905346, lift=4.1598568549788055)]),\n",
            " RelationRecord(items=frozenset({'CHARLOTTE BAG PINK POLKADOT', 'LUNCH BAG WOODLAND'}), support=0.012373313436547908, ordered_statistics=[OrderedStatistic(items_base=frozenset({'CHARLOTTE BAG PINK POLKADOT'}), items_add=frozenset({'LUNCH BAG WOODLAND'}), confidence=0.2729766803840878, lift=4.372792779499287)]),\n",
            " RelationRecord(items=frozenset({'CHARLOTTE BAG PINK POLKADOT', 'PACK OF 72 RETROSPOT CAKE CASES'}), support=0.014798234160293477, ordered_statistics=[OrderedStatistic(items_base=frozenset({'CHARLOTTE BAG PINK POLKADOT'}), items_add=frozenset({'PACK OF 72 RETROSPOT CAKE CASES'}), confidence=0.32647462277091904, lift=4.07662372517445)]),\n",
            " RelationRecord(items=frozenset({'POPCORN HOLDER', 'CHARLOTTE BAG PINK POLKADOT'}), support=0.009140085804887147, ordered_statistics=[OrderedStatistic(items_base=frozenset({'CHARLOTTE BAG PINK POLKADOT'}), items_add=frozenset({'POPCORN HOLDER'}), confidence=0.2016460905349794, lift=4.131304552960603)]),\n",
            " RelationRecord(items=frozenset({'RECIPE BOX PANTRY YELLOW DESIGN', 'CHARLOTTE BAG PINK POLKADOT'}), support=0.010818877075172543, ordered_statistics=[OrderedStatistic(items_base=frozenset({'CHARLOTTE BAG PINK POLKADOT'}), items_add=frozenset({'RECIPE BOX PANTRY YELLOW DESIGN'}), confidence=0.23868312757201646, lift=3.480272657063228)]),\n",
            " RelationRecord(items=frozenset({'RECYCLING BAG RETROSPOT ', 'CHARLOTTE BAG PINK POLKADOT'}), support=0.009637505440527265, ordered_statistics=[OrderedStatistic(items_base=frozenset({'CHARLOTTE BAG PINK POLKADOT'}), items_add=frozenset({'RECYCLING BAG RETROSPOT '}), confidence=0.21262002743484223, lift=4.583871181279582), OrderedStatistic(items_base=frozenset({'RECYCLING BAG RETROSPOT '}), items_add=frozenset({'CHARLOTTE BAG PINK POLKADOT'}), confidence=0.20777479892761397, lift=4.583871181279582)]),\n",
            " RelationRecord(items=frozenset({'RED RETROSPOT CHARLOTTE BAG', 'CHARLOTTE BAG PINK POLKADOT'}), support=0.03133743704532736, ordered_statistics=[OrderedStatistic(items_base=frozenset({'CHARLOTTE BAG PINK POLKADOT'}), items_add=frozenset({'RED RETROSPOT CHARLOTTE BAG'}), confidence=0.691358024691358, lift=10.89041244966808), OrderedStatistic(items_base=frozenset({'RED RETROSPOT CHARLOTTE BAG'}), items_add=frozenset({'CHARLOTTE BAG PINK POLKADOT'}), confidence=0.4936336924583741, lift=10.89041244966808)]),\n",
            " RelationRecord(items=frozenset({'RED TOADSTOOL LED NIGHT LIGHT', 'CHARLOTTE BAG PINK POLKADOT'}), support=0.009202263259342163, ordered_statistics=[OrderedStatistic(items_base=frozenset({'CHARLOTTE BAG PINK POLKADOT'}), items_add=frozenset({'RED TOADSTOOL LED NIGHT LIGHT'}), confidence=0.2030178326474623, lift=3.873233454886282)]),\n",
            " RelationRecord(items=frozenset({'STRAWBERRY CHARLOTTE BAG', 'CHARLOTTE BAG PINK POLKADOT'}), support=0.022881303239445375, ordered_statistics=[OrderedStatistic(items_base=frozenset({'CHARLOTTE BAG PINK POLKADOT'}), items_add=frozenset({'STRAWBERRY CHARLOTTE BAG'}), confidence=0.50480109739369, lift=11.307403968499605), OrderedStatistic(items_base=frozenset({'STRAWBERRY CHARLOTTE BAG'}), items_add=frozenset({'CHARLOTTE BAG PINK POLKADOT'}), confidence=0.5125348189415042, lift=11.307403968499605)]),\n",
            " RelationRecord(items=frozenset({'WOODLAND CHARLOTTE BAG', 'CHARLOTTE BAG PINK POLKADOT'}), support=0.02387614251072561, ordered_statistics=[OrderedStatistic(items_base=frozenset({'CHARLOTTE BAG PINK POLKADOT'}), items_add=frozenset({'WOODLAND CHARLOTTE BAG'}), confidence=0.5267489711934156, lift=10.256299883418526), OrderedStatistic(items_base=frozenset({'WOODLAND CHARLOTTE BAG'}), items_add=frozenset({'CHARLOTTE BAG PINK POLKADOT'}), confidence=0.46489104116222757, lift=10.256299883418526)]),\n",
            " RelationRecord(items=frozenset({'DOTCOM POSTAGE', 'CHARLOTTE BAG SUKI DESIGN'}), support=0.013057265435553068, ordered_statistics=[OrderedStatistic(items_base=frozenset({'CHARLOTTE BAG SUKI DESIGN'}), items_add=frozenset({'DOTCOM POSTAGE'}), confidence=0.24027459954233407, lift=5.47356428390844), OrderedStatistic(items_base=frozenset({'DOTCOM POSTAGE'}), items_add=frozenset({'CHARLOTTE BAG SUKI DESIGN'}), confidence=0.29745042492917845, lift=5.47356428390844)]),\n",
            " RelationRecord(items=frozenset({'JUMBO BAG APPLES', 'CHARLOTTE BAG SUKI DESIGN'}), support=0.011689361437542747, ordered_statistics=[OrderedStatistic(items_base=frozenset({'CHARLOTTE BAG SUKI DESIGN'}), items_add=frozenset({'JUMBO BAG APPLES'}), confidence=0.2151029748283753, lift=3.5664960249121234)]),\n",
            " RelationRecord(items=frozenset({'JUMBO BAG PINK VINTAGE PAISLEY', 'CHARLOTTE BAG SUKI DESIGN'}), support=0.012248958527637879, ordered_statistics=[OrderedStatistic(items_base=frozenset({'CHARLOTTE BAG SUKI DESIGN'}), items_add=frozenset({'JUMBO BAG PINK VINTAGE PAISLEY'}), confidence=0.22540045766590389, lift=4.225076411003185), OrderedStatistic(items_base=frozenset({'JUMBO BAG PINK VINTAGE PAISLEY'}), items_add=frozenset({'CHARLOTTE BAG SUKI DESIGN'}), confidence=0.22960372960372963, lift=4.225076411003185)]),\n",
            " RelationRecord(items=frozenset({'JUMBO BAG STRAWBERRY', 'CHARLOTTE BAG SUKI DESIGN'}), support=0.0110675868929926, ordered_statistics=[OrderedStatistic(items_base=frozenset({'CHARLOTTE BAG SUKI DESIGN'}), items_add=frozenset({'JUMBO BAG STRAWBERRY'}), confidence=0.20366132723112126, lift=4.0042605450588304), OrderedStatistic(items_base=frozenset({'JUMBO BAG STRAWBERRY'}), items_add=frozenset({'CHARLOTTE BAG SUKI DESIGN'}), confidence=0.2176039119804401, lift=4.0042605450588304)]),\n",
            " RelationRecord(items=frozenset({'JUMBO BAG WOODLAND ANIMALS', 'CHARLOTTE BAG SUKI DESIGN'}), support=0.01119194180190263, ordered_statistics=[OrderedStatistic(items_base=frozenset({'CHARLOTTE BAG SUKI DESIGN'}), items_add=frozenset({'JUMBO BAG WOODLAND ANIMALS'}), confidence=0.20594965675057206, lift=3.8649805478640027), OrderedStatistic(items_base=frozenset({'JUMBO BAG WOODLAND ANIMALS'}), items_add=frozenset({'CHARLOTTE BAG SUKI DESIGN'}), confidence=0.2100350058343057, lift=3.864980547864003)]),\n",
            " RelationRecord(items=frozenset({'JUMBO SHOPPER VINTAGE RED PAISLEY', 'CHARLOTTE BAG SUKI DESIGN'}), support=0.012311135982092894, ordered_statistics=[OrderedStatistic(items_base=frozenset({'CHARLOTTE BAG SUKI DESIGN'}), items_add=frozenset({'JUMBO SHOPPER VINTAGE RED PAISLEY'}), confidence=0.2265446224256293, lift=3.114117232881535)]),\n",
            " RelationRecord(items=frozenset({'JUMBO STORAGE BAG SKULLS', 'CHARLOTTE BAG SUKI DESIGN'}), support=0.009637505440527265, ordered_statistics=[OrderedStatistic(items_base=frozenset({'JUMBO STORAGE BAG SKULLS'}), items_add=frozenset({'CHARLOTTE BAG SUKI DESIGN'}), confidence=0.2223816355810617, lift=4.0921783124144335)]),\n",
            " RelationRecord(items=frozenset({'JUMBO STORAGE BAG SUKI', 'CHARLOTTE BAG SUKI DESIGN'}), support=0.016912267611763974, ordered_statistics=[OrderedStatistic(items_base=frozenset({'CHARLOTTE BAG SUKI DESIGN'}), items_add=frozenset({'JUMBO STORAGE BAG SUKI'}), confidence=0.3112128146453089, lift=4.263403490579645), OrderedStatistic(items_base=frozenset({'JUMBO STORAGE BAG SUKI'}), items_add=frozenset({'CHARLOTTE BAG SUKI DESIGN'}), confidence=0.23168654173764905, lift=4.263403490579645)]),\n",
            " RelationRecord(items=frozenset({'LUNCH BAG  BLACK SKULL.', 'CHARLOTTE BAG SUKI DESIGN'}), support=0.01796928433749922, ordered_statistics=[OrderedStatistic(items_base=frozenset({'CHARLOTTE BAG SUKI DESIGN'}), items_add=frozenset({'LUNCH BAG  BLACK SKULL.'}), confidence=0.3306636155606407, lift=4.2681082897767135), OrderedStatistic(items_base=frozenset({'LUNCH BAG  BLACK SKULL.'}), items_add=frozenset({'CHARLOTTE BAG SUKI DESIGN'}), confidence=0.2319422150882825, lift=4.2681082897767135)]),\n",
            " RelationRecord(items=frozenset({'LUNCH BAG APPLE DESIGN', 'CHARLOTTE BAG SUKI DESIGN'}), support=0.01442516943356339, ordered_statistics=[OrderedStatistic(items_base=frozenset({'CHARLOTTE BAG SUKI DESIGN'}), items_add=frozenset({'LUNCH BAG APPLE DESIGN'}), confidence=0.2654462242562929, lift=4.189569798541667), OrderedStatistic(items_base=frozenset({'LUNCH BAG APPLE DESIGN'}), items_add=frozenset({'CHARLOTTE BAG SUKI DESIGN'}), confidence=0.22767419038272818, lift=4.189569798541667)]),\n",
            " RelationRecord(items=frozenset({'LUNCH BAG CARS BLUE', 'CHARLOTTE BAG SUKI DESIGN'}), support=0.016290493067213828, ordered_statistics=[OrderedStatistic(items_base=frozenset({'CHARLOTTE BAG SUKI DESIGN'}), items_add=frozenset({'LUNCH BAG CARS BLUE'}), confidence=0.2997711670480549, lift=4.236572653456825), OrderedStatistic(items_base=frozenset({'LUNCH BAG CARS BLUE'}), items_add=frozenset({'CHARLOTTE BAG SUKI DESIGN'}), confidence=0.23022847100175745, lift=4.236572653456824)]),\n",
            " RelationRecord(items=frozenset({'LUNCH BAG DOLLY GIRL DESIGN', 'CHARLOTTE BAG SUKI DESIGN'}), support=0.008580488714792016, ordered_statistics=[OrderedStatistic(items_base=frozenset({'LUNCH BAG DOLLY GIRL DESIGN'}), items_add=frozenset({'CHARLOTTE BAG SUKI DESIGN'}), confidence=0.20474777448071216, lift=3.767687021708574)]),\n",
            " RelationRecord(items=frozenset({'LUNCH BAG PINK POLKADOT', 'CHARLOTTE BAG SUKI DESIGN'}), support=0.0136168625256482, ordered_statistics=[OrderedStatistic(items_base=frozenset({'CHARLOTTE BAG SUKI DESIGN'}), items_add=frozenset({'LUNCH BAG PINK POLKADOT'}), confidence=0.2505720823798627, lift=3.7348941621087417), OrderedStatistic(items_base=frozenset({'LUNCH BAG PINK POLKADOT'}), items_add=frozenset({'CHARLOTTE BAG SUKI DESIGN'}), confidence=0.2029657089898054, lift=3.7348941621087417)]),\n",
            " RelationRecord(items=frozenset({'LUNCH BAG RED RETROSPOT', 'CHARLOTTE BAG SUKI DESIGN'}), support=0.020705092333519866, ordered_statistics=[OrderedStatistic(items_base=frozenset({'CHARLOTTE BAG SUKI DESIGN'}), items_add=frozenset({'LUNCH BAG RED RETROSPOT'}), confidence=0.38100686498855835, lift=3.9610429279967576), OrderedStatistic(items_base=frozenset({'LUNCH BAG RED RETROSPOT'}), items_add=frozenset({'CHARLOTTE BAG SUKI DESIGN'}), confidence=0.21525533290239174, lift=3.9610429279967576)]),\n",
            " RelationRecord(items=frozenset({'LUNCH BAG SPACEBOY DESIGN ', 'CHARLOTTE BAG SUKI DESIGN'}), support=0.015046943978113536, ordered_statistics=[OrderedStatistic(items_base=frozenset({'CHARLOTTE BAG SUKI DESIGN'}), items_add=frozenset({'LUNCH BAG SPACEBOY DESIGN '}), confidence=0.2768878718535469, lift=3.872337080887474), OrderedStatistic(items_base=frozenset({'LUNCH BAG SPACEBOY DESIGN '}), items_add=frozenset({'CHARLOTTE BAG SUKI DESIGN'}), confidence=0.21043478260869566, lift=3.872337080887474)]),\n",
            " RelationRecord(items=frozenset({'LUNCH BAG SUKI DESIGN ', 'CHARLOTTE BAG SUKI DESIGN'}), support=0.017036622520674005, ordered_statistics=[OrderedStatistic(items_base=frozenset({'CHARLOTTE BAG SUKI DESIGN'}), items_add=frozenset({'LUNCH BAG SUKI DESIGN '}), confidence=0.31350114416475977, lift=4.72986763752517), OrderedStatistic(items_base=frozenset({'LUNCH BAG SUKI DESIGN '}), items_add=frozenset({'CHARLOTTE BAG SUKI DESIGN'}), confidence=0.25703564727954975, lift=4.72986763752517)]),\n",
            " RelationRecord(items=frozenset({'LUNCH BAG WOODLAND', 'CHARLOTTE BAG SUKI DESIGN'}), support=0.014736056705838463, ordered_statistics=[OrderedStatistic(items_base=frozenset({'CHARLOTTE BAG SUKI DESIGN'}), items_add=frozenset({'LUNCH BAG WOODLAND'}), confidence=0.2711670480549199, lift=4.343804416202468), OrderedStatistic(items_base=frozenset({'LUNCH BAG WOODLAND'}), items_add=frozenset({'CHARLOTTE BAG SUKI DESIGN'}), confidence=0.2360557768924303, lift=4.343804416202467)]),\n",
            " RelationRecord(items=frozenset({'PACK OF 72 RETROSPOT CAKE CASES', 'CHARLOTTE BAG SUKI DESIGN'}), support=0.015855250886028727, ordered_statistics=[OrderedStatistic(items_base=frozenset({'CHARLOTTE BAG SUKI DESIGN'}), items_add=frozenset({'PACK OF 72 RETROSPOT CAKE CASES'}), confidence=0.2917620137299771, lift=3.643174275480763)]),\n",
            " RelationRecord(items=frozenset({'POPCORN HOLDER', 'CHARLOTTE BAG SUKI DESIGN'}), support=0.00982403780389231, ordered_statistics=[OrderedStatistic(items_base=frozenset({'POPCORN HOLDER'}), items_add=frozenset({'CHARLOTTE BAG SUKI DESIGN'}), confidence=0.20127388535031848, lift=3.7037618971271993)]),\n",
            " RelationRecord(items=frozenset({'RECIPE BOX PANTRY YELLOW DESIGN', 'CHARLOTTE BAG SUKI DESIGN'}), support=0.01268420070882298, ordered_statistics=[OrderedStatistic(items_base=frozenset({'CHARLOTTE BAG SUKI DESIGN'}), items_add=frozenset({'RECIPE BOX PANTRY YELLOW DESIGN'}), confidence=0.2334096109839817, lift=3.4033787610656185)]),\n",
            " RelationRecord(items=frozenset({'RECYCLING BAG RETROSPOT ', 'CHARLOTTE BAG SUKI DESIGN'}), support=0.011129764347447616, ordered_statistics=[OrderedStatistic(items_base=frozenset({'CHARLOTTE BAG SUKI DESIGN'}), items_add=frozenset({'RECYCLING BAG RETROSPOT '}), confidence=0.2048054919908467, lift=4.415397758295962), OrderedStatistic(items_base=frozenset({'RECYCLING BAG RETROSPOT '}), items_add=frozenset({'CHARLOTTE BAG SUKI DESIGN'}), confidence=0.23994638069705096, lift=4.415397758295962)]),\n",
            " RelationRecord(items=frozenset({'RED RETROSPOT CHARLOTTE BAG', 'CHARLOTTE BAG SUKI DESIGN'}), support=0.03059130759186719, ordered_statistics=[OrderedStatistic(items_base=frozenset({'CHARLOTTE BAG SUKI DESIGN'}), items_add=frozenset({'RED RETROSPOT CHARLOTTE BAG'}), confidence=0.562929061784897, lift=8.867373262180703), OrderedStatistic(items_base=frozenset({'RED RETROSPOT CHARLOTTE BAG'}), items_add=frozenset({'CHARLOTTE BAG SUKI DESIGN'}), confidence=0.4818805093046033, lift=8.867373262180703)]),\n",
            " RelationRecord(items=frozenset({'ROUND SNACK BOXES SET OF4 WOODLAND ', 'CHARLOTTE BAG SUKI DESIGN'}), support=0.009140085804887147, ordered_statistics=[OrderedStatistic(items_base=frozenset({'ROUND SNACK BOXES SET OF4 WOODLAND '}), items_add=frozenset({'CHARLOTTE BAG SUKI DESIGN'}), confidence=0.20109439124487002, lift=3.7004589180677856)]),\n",
            " RelationRecord(items=frozenset({'STRAWBERRY CERAMIC TRINKET BOX', 'CHARLOTTE BAG SUKI DESIGN'}), support=0.009699682894982279, ordered_statistics=[OrderedStatistic(items_base=frozenset({'STRAWBERRY CERAMIC TRINKET BOX'}), items_add=frozenset({'CHARLOTTE BAG SUKI DESIGN'}), confidence=0.2222222222222222, lift=4.089244851258581)]),\n",
            " RelationRecord(items=frozenset({'STRAWBERRY CHARLOTTE BAG', 'CHARLOTTE BAG SUKI DESIGN'}), support=0.02524404650873593, ordered_statistics=[OrderedStatistic(items_base=frozenset({'CHARLOTTE BAG SUKI DESIGN'}), items_add=frozenset({'STRAWBERRY CHARLOTTE BAG'}), confidence=0.46453089244851253, lift=10.405362595054912), OrderedStatistic(items_base=frozenset({'STRAWBERRY CHARLOTTE BAG'}), items_add=frozenset({'CHARLOTTE BAG SUKI DESIGN'}), confidence=0.5654596100278552, lift=10.405362595054914)]),\n",
            " RelationRecord(items=frozenset({'WOODLAND CHARLOTTE BAG', 'CHARLOTTE BAG SUKI DESIGN'}), support=0.027668967232481502, ordered_statistics=[OrderedStatistic(items_base=frozenset({'CHARLOTTE BAG SUKI DESIGN'}), items_add=frozenset({'WOODLAND CHARLOTTE BAG'}), confidence=0.5091533180778032, lift=9.913695901507637), OrderedStatistic(items_base=frozenset({'WOODLAND CHARLOTTE BAG'}), items_add=frozenset({'CHARLOTTE BAG SUKI DESIGN'}), confidence=0.5387409200968523, lift=9.913695901507637)]),\n",
            " RelationRecord(items=frozenset({'CHOCOLATE HOT WATER BOTTLE', 'HOT WATER BOTTLE KEEP CALM'}), support=0.015979605794938755, ordered_statistics=[OrderedStatistic(items_base=frozenset({'CHOCOLATE HOT WATER BOTTLE'}), items_add=frozenset({'HOT WATER BOTTLE KEEP CALM'}), confidence=0.30450236966824645, lift=6.3684156194725725), OrderedStatistic(items_base=frozenset({'HOT WATER BOTTLE KEEP CALM'}), items_add=frozenset({'CHOCOLATE HOT WATER BOTTLE'}), confidence=0.3342002600780234, lift=6.368415619472572)]),\n",
            " RelationRecord(items=frozenset({'SCOTTIE DOG HOT WATER BOTTLE', 'CHOCOLATE HOT WATER BOTTLE'}), support=0.01821799415531928, ordered_statistics=[OrderedStatistic(items_base=frozenset({'CHOCOLATE HOT WATER BOTTLE'}), items_add=frozenset({'SCOTTIE DOG HOT WATER BOTTLE'}), confidence=0.34715639810426535, lift=7.336815178332325), OrderedStatistic(items_base=frozenset({'SCOTTIE DOG HOT WATER BOTTLE'}), items_add=frozenset({'CHOCOLATE HOT WATER BOTTLE'}), confidence=0.3850197109067017, lift=7.336815178332325)]),\n",
            " RelationRecord(items=frozenset({'CLOTHES PEGS RETROSPOT PACK 24 ', 'JAM MAKING SET PRINTED'}), support=0.010881054529627556, ordered_statistics=[OrderedStatistic(items_base=frozenset({'CLOTHES PEGS RETROSPOT PACK 24 '}), items_add=frozenset({'JAM MAKING SET PRINTED'}), confidence=0.22756827048114434, lift=3.1551555984036592)]),\n",
            " RelationRecord(items=frozenset({'CLOTHES PEGS RETROSPOT PACK 24 ', 'JAM MAKING SET WITH JARS'}), support=0.010881054529627556, ordered_statistics=[OrderedStatistic(items_base=frozenset({'CLOTHES PEGS RETROSPOT PACK 24 '}), items_add=frozenset({'JAM MAKING SET WITH JARS'}), confidence=0.22756827048114434, lift=3.236057024003753)]),\n",
            " RelationRecord(items=frozenset({'CLOTHES PEGS RETROSPOT PACK 24 ', 'PACK OF 72 RETROSPOT CAKE CASES'}), support=0.01280855561773301, ordered_statistics=[OrderedStatistic(items_base=frozenset({'CLOTHES PEGS RETROSPOT PACK 24 '}), items_add=frozenset({'PACK OF 72 RETROSPOT CAKE CASES'}), confidence=0.26788036410923277, lift=3.3449688633298065)]),\n",
            " RelationRecord(items=frozenset({'SET OF 4 PANTRY JELLY MOULDS', 'CLOTHES PEGS RETROSPOT PACK 24 '}), support=0.009948392712802338, ordered_statistics=[OrderedStatistic(items_base=frozenset({'CLOTHES PEGS RETROSPOT PACK 24 '}), items_add=frozenset({'SET OF 4 PANTRY JELLY MOULDS'}), confidence=0.2080624187256177, lift=3.1658163484996305)]),\n",
            " RelationRecord(items=frozenset({'SET/5 RED RETROSPOT LID GLASS BOWLS', 'CLOTHES PEGS RETROSPOT PACK 24 '}), support=0.010818877075172543, ordered_statistics=[OrderedStatistic(items_base=frozenset({'CLOTHES PEGS RETROSPOT PACK 24 '}), items_add=frozenset({'SET/5 RED RETROSPOT LID GLASS BOWLS'}), confidence=0.22626788036410925, lift=4.202155103805969), OrderedStatistic(items_base=frozenset({'SET/5 RED RETROSPOT LID GLASS BOWLS'}), items_add=frozenset({'CLOTHES PEGS RETROSPOT PACK 24 '}), confidence=0.20092378752886836, lift=4.202155103805969)]),\n",
            " RelationRecord(items=frozenset({'COOK WITH WINE METAL SIGN ', 'GIN + TONIC DIET METAL SIGN'}), support=0.018591058882049368, ordered_statistics=[OrderedStatistic(items_base=frozenset({'COOK WITH WINE METAL SIGN '}), items_add=frozenset({'GIN + TONIC DIET METAL SIGN'}), confidence=0.41643454038997213, lift=8.859149091391432), OrderedStatistic(items_base=frozenset({'GIN + TONIC DIET METAL SIGN'}), items_add=frozenset({'COOK WITH WINE METAL SIGN '}), confidence=0.3955026455026455, lift=8.859149091391432)]),\n",
            " RelationRecord(items=frozenset({'COOK WITH WINE METAL SIGN ', 'PLEASE ONE PERSON METAL SIGN'}), support=0.01821799415531928, ordered_statistics=[OrderedStatistic(items_base=frozenset({'COOK WITH WINE METAL SIGN '}), items_add=frozenset({'PLEASE ONE PERSON METAL SIGN'}), confidence=0.40807799442896936, lift=7.878893618728828), OrderedStatistic(items_base=frozenset({'PLEASE ONE PERSON METAL SIGN'}), items_add=frozenset({'COOK WITH WINE METAL SIGN '}), confidence=0.35174069627851134, lift=7.878893618728828)]),\n",
            " RelationRecord(items=frozenset({'DOLLY GIRL LUNCH BOX', 'DOTCOM POSTAGE'}), support=0.014487346888018405, ordered_statistics=[OrderedStatistic(items_base=frozenset({'DOLLY GIRL LUNCH BOX'}), items_add=frozenset({'DOTCOM POSTAGE'}), confidence=0.2767220902612827, lift=6.303854642595198), OrderedStatistic(items_base=frozenset({'DOTCOM POSTAGE'}), items_add=frozenset({'DOLLY GIRL LUNCH BOX'}), confidence=0.330028328611898, lift=6.303854642595197)]),\n",
            " RelationRecord(items=frozenset({'DOLLY GIRL LUNCH BOX', 'GREEN REGENCY TEACUP AND SAUCER'}), support=0.011254119256357645, ordered_statistics=[OrderedStatistic(items_base=frozenset({'DOLLY GIRL LUNCH BOX'}), items_add=frozenset({'GREEN REGENCY TEACUP AND SAUCER'}), confidence=0.2149643705463183, lift=3.443497979578125)]),\n",
            " RelationRecord(items=frozenset({'DOLLY GIRL LUNCH BOX', 'JAM MAKING SET PRINTED'}), support=0.011875893800907792, ordered_statistics=[OrderedStatistic(items_base=frozenset({'DOLLY GIRL LUNCH BOX'}), items_add=frozenset({'JAM MAKING SET PRINTED'}), confidence=0.2268408551068884, lift=3.145070235072488)]),\n",
            " RelationRecord(items=frozenset({'DOLLY GIRL LUNCH BOX', 'JUMBO BAG WOODLAND ANIMALS'}), support=0.011129764347447616, ordered_statistics=[OrderedStatistic(items_base=frozenset({'DOLLY GIRL LUNCH BOX'}), items_add=frozenset({'JUMBO BAG WOODLAND ANIMALS'}), confidence=0.2125890736342043, lift=3.989580013137582), OrderedStatistic(items_base=frozenset({'JUMBO BAG WOODLAND ANIMALS'}), items_add=frozenset({'DOLLY GIRL LUNCH BOX'}), confidence=0.2088681446907818, lift=3.989580013137582)]),\n",
            " RelationRecord(items=frozenset({'DOLLY GIRL LUNCH BOX', 'LUNCH BAG DOLLY GIRL DESIGN'}), support=0.011440651619722688, ordered_statistics=[OrderedStatistic(items_base=frozenset({'DOLLY GIRL LUNCH BOX'}), items_add=frozenset({'LUNCH BAG DOLLY GIRL DESIGN'}), confidence=0.2185273159144893, lift=5.2145027030455955), OrderedStatistic(items_base=frozenset({'LUNCH BAG DOLLY GIRL DESIGN'}), items_add=frozenset({'DOLLY GIRL LUNCH BOX'}), confidence=0.27299703264094954, lift=5.2145027030455955)]),\n",
            " RelationRecord(items=frozenset({'DOLLY GIRL LUNCH BOX', 'LUNCH BAG SPACEBOY DESIGN '}), support=0.01212460361872785, ordered_statistics=[OrderedStatistic(items_base=frozenset({'DOLLY GIRL LUNCH BOX'}), items_add=frozenset({'LUNCH BAG SPACEBOY DESIGN '}), confidence=0.2315914489311164, lift=3.238856759268822)]),\n",
            " RelationRecord(items=frozenset({'DOLLY GIRL LUNCH BOX', 'LUNCH BAG WOODLAND'}), support=0.010943231984082572, ordered_statistics=[OrderedStatistic(items_base=frozenset({'DOLLY GIRL LUNCH BOX'}), items_add=frozenset({'LUNCH BAG WOODLAND'}), confidence=0.20902612826603326, lift=3.348373725998618)]),\n",
            " RelationRecord(items=frozenset({'DOLLY GIRL LUNCH BOX', 'LUNCH BOX I LOVE LONDON'}), support=0.01566871852266368, ordered_statistics=[OrderedStatistic(items_base=frozenset({'DOLLY GIRL LUNCH BOX'}), items_add=frozenset({'LUNCH BOX I LOVE LONDON'}), confidence=0.2992874109263658, lift=6.955837326486621), OrderedStatistic(items_base=frozenset({'LUNCH BOX I LOVE LONDON'}), items_add=frozenset({'DOLLY GIRL LUNCH BOX'}), confidence=0.36416184971098264, lift=6.95583732648662)]),\n",
            " RelationRecord(items=frozenset({'DOLLY GIRL LUNCH BOX', 'RECIPE BOX PANTRY YELLOW DESIGN'}), support=0.010943231984082572, ordered_statistics=[OrderedStatistic(items_base=frozenset({'DOLLY GIRL LUNCH BOX'}), items_add=frozenset({'RECIPE BOX PANTRY YELLOW DESIGN'}), confidence=0.20902612826603326, lift=3.047839728832831)]),\n",
            " RelationRecord(items=frozenset({'DOLLY GIRL LUNCH BOX', 'RECYCLING BAG RETROSPOT '}), support=0.01050798980289747, ordered_statistics=[OrderedStatistic(items_base=frozenset({'DOLLY GIRL LUNCH BOX'}), items_add=frozenset({'RECYCLING BAG RETROSPOT '}), confidence=0.2007125890736342, lift=4.327158941114289), OrderedStatistic(items_base=frozenset({'RECYCLING BAG RETROSPOT '}), items_add=frozenset({'DOLLY GIRL LUNCH BOX'}), confidence=0.22654155495978553, lift=4.327158941114289)]),\n",
            " RelationRecord(items=frozenset({'DOLLY GIRL LUNCH BOX', 'RED TOADSTOOL LED NIGHT LIGHT'}), support=0.011751538891997761, ordered_statistics=[OrderedStatistic(items_base=frozenset({'DOLLY GIRL LUNCH BOX'}), items_add=frozenset({'RED TOADSTOOL LED NIGHT LIGHT'}), confidence=0.22446555819477435, lift=4.2824194216447875), OrderedStatistic(items_base=frozenset({'RED TOADSTOOL LED NIGHT LIGHT'}), items_add=frozenset({'DOLLY GIRL LUNCH BOX'}), confidence=0.22419928825622773, lift=4.282419421644787)]),\n",
            " RelationRecord(items=frozenset({'DOLLY GIRL LUNCH BOX', 'ROSES REGENCY TEACUP AND SAUCER '}), support=0.010632344711807499, ordered_statistics=[OrderedStatistic(items_base=frozenset({'DOLLY GIRL LUNCH BOX'}), items_add=frozenset({'ROSES REGENCY TEACUP AND SAUCER '}), confidence=0.20308788598574823, lift=3.0872046033164358)]),\n",
            " RelationRecord(items=frozenset({'DOLLY GIRL LUNCH BOX', 'ROUND SNACK BOXES SET OF4 WOODLAND '}), support=0.011005409438537585, ordered_statistics=[OrderedStatistic(items_base=frozenset({'DOLLY GIRL LUNCH BOX'}), items_add=frozenset({'ROUND SNACK BOXES SET OF4 WOODLAND '}), confidence=0.21021377672209024, lift=4.6249906580319795), OrderedStatistic(items_base=frozenset({'ROUND SNACK BOXES SET OF4 WOODLAND '}), items_add=frozenset({'DOLLY GIRL LUNCH BOX'}), confidence=0.24213406292749654, lift=4.6249906580319795)]),\n",
            " RelationRecord(items=frozenset({'DOLLY GIRL LUNCH BOX', 'SPACEBOY LUNCH BOX '}), support=0.03295405086115774, ordered_statistics=[OrderedStatistic(items_base=frozenset({'DOLLY GIRL LUNCH BOX'}), items_add=frozenset({'SPACEBOY LUNCH BOX '}), confidence=0.6294536817102138, lift=11.311177165302087), OrderedStatistic(items_base=frozenset({'SPACEBOY LUNCH BOX '}), items_add=frozenset({'DOLLY GIRL LUNCH BOX'}), confidence=0.5921787709497206, lift=11.311177165302086)]),\n",
            " RelationRecord(items=frozenset({'DOORMAT KEEP CALM AND COME IN', 'GARDENERS KNEELING PAD KEEP CALM '}), support=0.011254119256357645, ordered_statistics=[OrderedStatistic(items_base=frozenset({'DOORMAT KEEP CALM AND COME IN'}), items_add=frozenset({'GARDENERS KNEELING PAD KEEP CALM '}), confidence=0.25, lift=4.437913907284768)]),\n",
            " RelationRecord(items=frozenset({'GARDENERS KNEELING PAD KEEP CALM ', 'DOTCOM POSTAGE'}), support=0.009637505440527265, ordered_statistics=[OrderedStatistic(items_base=frozenset({'DOTCOM POSTAGE'}), items_add=frozenset({'GARDENERS KNEELING PAD KEEP CALM '}), confidence=0.21954674220963172, lift=3.897318162204754)]),\n",
            " RelationRecord(items=frozenset({'GREEN REGENCY TEACUP AND SAUCER', 'DOTCOM POSTAGE'}), support=0.020580737424609835, ordered_statistics=[OrderedStatistic(items_base=frozenset({'DOTCOM POSTAGE'}), items_add=frozenset({'GREEN REGENCY TEACUP AND SAUCER'}), confidence=0.46883852691218125, lift=7.510288872837262), OrderedStatistic(items_base=frozenset({'GREEN REGENCY TEACUP AND SAUCER'}), items_add=frozenset({'DOTCOM POSTAGE'}), confidence=0.3296812749003984, lift=7.510288872837262)]),\n",
            " RelationRecord(items=frozenset({'HANGING HEART JAR T-LIGHT HOLDER', 'DOTCOM POSTAGE'}), support=0.009637505440527265, ordered_statistics=[OrderedStatistic(items_base=frozenset({'DOTCOM POSTAGE'}), items_add=frozenset({'HANGING HEART JAR T-LIGHT HOLDER'}), confidence=0.21954674220963172, lift=4.883776286248281), OrderedStatistic(items_base=frozenset({'HANGING HEART JAR T-LIGHT HOLDER'}), items_add=frozenset({'DOTCOM POSTAGE'}), confidence=0.21438450899031813, lift=4.883776286248281)]),\n",
            " RelationRecord(items=frozenset({'HEART OF WICKER SMALL', 'DOTCOM POSTAGE'}), support=0.014549524342473419, ordered_statistics=[OrderedStatistic(items_base=frozenset({'DOTCOM POSTAGE'}), items_add=frozenset({'HEART OF WICKER SMALL'}), confidence=0.33144475920679883, lift=4.506023721321171)]),\n",
            " RelationRecord(items=frozenset({'JAM MAKING SET PRINTED', 'DOTCOM POSTAGE'}), support=0.018404526518684326, ordered_statistics=[OrderedStatistic(items_base=frozenset({'DOTCOM POSTAGE'}), items_add=frozenset({'JAM MAKING SET PRINTED'}), confidence=0.4192634560906516, lift=5.812943245091335), OrderedStatistic(items_base=frozenset({'JAM MAKING SET PRINTED'}), items_add=frozenset({'DOTCOM POSTAGE'}), confidence=0.25517241379310346, lift=5.812943245091335)]),\n",
            " RelationRecord(items=frozenset({'JAM MAKING SET WITH JARS', 'DOTCOM POSTAGE'}), support=0.015793073431573712, ordered_statistics=[OrderedStatistic(items_base=frozenset({'DOTCOM POSTAGE'}), items_add=frozenset({'JAM MAKING SET WITH JARS'}), confidence=0.3597733711048159, lift=5.116034595471931), OrderedStatistic(items_base=frozenset({'JAM MAKING SET WITH JARS'}), items_add=frozenset({'DOTCOM POSTAGE'}), confidence=0.224580017683466, lift=5.116034595471931)]),\n",
            " RelationRecord(items=frozenset({'JUMBO  BAG BAROQUE BLACK WHITE', 'DOTCOM POSTAGE'}), support=0.016787912702853944, ordered_statistics=[OrderedStatistic(items_base=frozenset({'DOTCOM POSTAGE'}), items_add=frozenset({'JUMBO  BAG BAROQUE BLACK WHITE'}), confidence=0.3824362606232294, lift=6.663837897728492), OrderedStatistic(items_base=frozenset({'JUMBO  BAG BAROQUE BLACK WHITE'}), items_add=frozenset({'DOTCOM POSTAGE'}), confidence=0.29252437703141926, lift=6.663837897728492)]),\n",
            " RelationRecord(items=frozenset({'JUMBO BAG ALPHABET', 'DOTCOM POSTAGE'}), support=0.009264440713797176, ordered_statistics=[OrderedStatistic(items_base=frozenset({'DOTCOM POSTAGE'}), items_add=frozenset({'JUMBO BAG ALPHABET'}), confidence=0.2110481586402266, lift=3.767244767381537)]),\n",
            " RelationRecord(items=frozenset({'JUMBO BAG APPLES', 'DOTCOM POSTAGE'}), support=0.015855250886028727, ordered_statistics=[OrderedStatistic(items_base=frozenset({'DOTCOM POSTAGE'}), items_add=frozenset({'JUMBO BAG APPLES'}), confidence=0.3611898016997167, lift=5.988675856429427), OrderedStatistic(items_base=frozenset({'JUMBO BAG APPLES'}), items_add=frozenset({'DOTCOM POSTAGE'}), confidence=0.26288659793814434, lift=5.988675856429427)]),\n",
            " RelationRecord(items=frozenset({'JUMBO BAG PINK POLKADOT', 'DOTCOM POSTAGE'}), support=0.021389044332525028, ordered_statistics=[OrderedStatistic(items_base=frozenset({'DOTCOM POSTAGE'}), items_add=frozenset({'JUMBO BAG PINK POLKADOT'}), confidence=0.48725212464589235, lift=6.508700930797247), OrderedStatistic(items_base=frozenset({'JUMBO BAG PINK POLKADOT'}), items_add=frozenset({'DOTCOM POSTAGE'}), confidence=0.2857142857142857, lift=6.508700930797247)]),\n",
            " RelationRecord(items=frozenset({'JUMBO BAG PINK VINTAGE PAISLEY', 'DOTCOM POSTAGE'}), support=0.014362991979108375, ordered_statistics=[OrderedStatistic(items_base=frozenset({'DOTCOM POSTAGE'}), items_add=frozenset({'JUMBO BAG PINK VINTAGE PAISLEY'}), confidence=0.32719546742209626, lift=6.133198954020483), OrderedStatistic(items_base=frozenset({'JUMBO BAG PINK VINTAGE PAISLEY'}), items_add=frozenset({'DOTCOM POSTAGE'}), confidence=0.2692307692307692, lift=6.133198954020483)]),\n",
            " RelationRecord(items=frozenset({'JUMBO BAG RED RETROSPOT', 'DOTCOM POSTAGE'}), support=0.029907355592862027, ordered_statistics=[OrderedStatistic(items_base=frozenset({'DOTCOM POSTAGE'}), items_add=frozenset({'JUMBO BAG RED RETROSPOT'}), confidence=0.6813031161473088, lift=5.293428993718438), OrderedStatistic(items_base=frozenset({'JUMBO BAG RED RETROSPOT'}), items_add=frozenset({'DOTCOM POSTAGE'}), confidence=0.23236714975845407, lift=5.293428993718437)]),\n",
            " RelationRecord(items=frozenset({'JUMBO BAG SPACEBOY DESIGN', 'DOTCOM POSTAGE'}), support=0.012932910526643039, ordered_statistics=[OrderedStatistic(items_base=frozenset({'DOTCOM POSTAGE'}), items_add=frozenset({'JUMBO BAG SPACEBOY DESIGN'}), confidence=0.29461756373937675, lift=6.968138643559407), OrderedStatistic(items_base=frozenset({'JUMBO BAG SPACEBOY DESIGN'}), items_add=frozenset({'DOTCOM POSTAGE'}), confidence=0.3058823529411765, lift=6.968138643559407)]),\n",
            " RelationRecord(items=frozenset({'JUMBO BAG STRAWBERRY', 'DOTCOM POSTAGE'}), support=0.009513150531617236, ordered_statistics=[OrderedStatistic(items_base=frozenset({'DOTCOM POSTAGE'}), items_add=frozenset({'JUMBO BAG STRAWBERRY'}), confidence=0.21671388101983002, lift=4.260891624012134)]),\n",
            " RelationRecord(items=frozenset({'JUMBO BAG WOODLAND ANIMALS', 'DOTCOM POSTAGE'}), support=0.02238388360380526, ordered_statistics=[OrderedStatistic(items_base=frozenset({'DOTCOM POSTAGE'}), items_add=frozenset({'JUMBO BAG WOODLAND ANIMALS'}), confidence=0.509915014164306, lift=9.569385265816258), OrderedStatistic(items_base=frozenset({'JUMBO BAG WOODLAND ANIMALS'}), items_add=frozenset({'DOTCOM POSTAGE'}), confidence=0.4200700116686114, lift=9.569385265816257)]),\n",
            " RelationRecord(items=frozenset({'JUMBO SHOPPER VINTAGE RED PAISLEY', 'DOTCOM POSTAGE'}), support=0.022570415967170306, ordered_statistics=[OrderedStatistic(items_base=frozenset({'DOTCOM POSTAGE'}), items_add=frozenset({'JUMBO SHOPPER VINTAGE RED PAISLEY'}), confidence=0.5141643059490085, lift=7.067781651775986), OrderedStatistic(items_base=frozenset({'JUMBO SHOPPER VINTAGE RED PAISLEY'}), items_add=frozenset({'DOTCOM POSTAGE'}), confidence=0.31025641025641026, lift=7.067781651775986)]),\n",
            " RelationRecord(items=frozenset({'JUMBO STORAGE BAG SKULLS', 'DOTCOM POSTAGE'}), support=0.013057265435553068, ordered_statistics=[OrderedStatistic(items_base=frozenset({'DOTCOM POSTAGE'}), items_add=frozenset({'JUMBO STORAGE BAG SKULLS'}), confidence=0.29745042492917845, lift=6.863551196751761), OrderedStatistic(items_base=frozenset({'JUMBO STORAGE BAG SKULLS'}), items_add=frozenset({'DOTCOM POSTAGE'}), confidence=0.3012912482065997, lift=6.86355119675176)]),\n",
            " RelationRecord(items=frozenset({'JUMBO STORAGE BAG SUKI', 'DOTCOM POSTAGE'}), support=0.024311384691910715, ordered_statistics=[OrderedStatistic(items_base=frozenset({'DOTCOM POSTAGE'}), items_add=frozenset({'JUMBO STORAGE BAG SUKI'}), confidence=0.5538243626062322, lift=7.587016374613316), OrderedStatistic(items_base=frozenset({'JUMBO STORAGE BAG SUKI'}), items_add=frozenset({'DOTCOM POSTAGE'}), confidence=0.33304940374787056, lift=7.5870163746133175)]),\n",
            " RelationRecord(items=frozenset({'LUNCH BAG RED RETROSPOT', 'DOTCOM POSTAGE'}), support=0.013865572343468259, ordered_statistics=[OrderedStatistic(items_base=frozenset({'DOTCOM POSTAGE'}), items_add=frozenset({'LUNCH BAG RED RETROSPOT'}), confidence=0.3158640226628895, lift=3.2838016008320956)]),\n",
            " RelationRecord(items=frozenset({'LUNCH BAG WOODLAND', 'DOTCOM POSTAGE'}), support=0.008953553441522105, ordered_statistics=[OrderedStatistic(items_base=frozenset({'DOTCOM POSTAGE'}), items_add=frozenset({'LUNCH BAG WOODLAND'}), confidence=0.2039660056657224, lift=3.267316005101408)]),\n",
            " RelationRecord(items=frozenset({'LUNCH BOX I LOVE LONDON', 'DOTCOM POSTAGE'}), support=0.011938071255362805, ordered_statistics=[OrderedStatistic(items_base=frozenset({'DOTCOM POSTAGE'}), items_add=frozenset({'LUNCH BOX I LOVE LONDON'}), confidence=0.27195467422096314, lift=6.3205881871325875), OrderedStatistic(items_base=frozenset({'LUNCH BOX I LOVE LONDON'}), items_add=frozenset({'DOTCOM POSTAGE'}), confidence=0.27745664739884396, lift=6.320588187132588)]),\n",
            " RelationRecord(items=frozenset({'NATURAL SLATE HEART CHALKBOARD ', 'DOTCOM POSTAGE'}), support=0.01796928433749922, ordered_statistics=[OrderedStatistic(items_base=frozenset({'DOTCOM POSTAGE'}), items_add=frozenset({'NATURAL SLATE HEART CHALKBOARD '}), confidence=0.40934844192634556, lift=5.296501199920689), OrderedStatistic(items_base=frozenset({'NATURAL SLATE HEART CHALKBOARD '}), items_add=frozenset({'DOTCOM POSTAGE'}), confidence=0.2325020112630732, lift=5.296501199920689)]),\n",
            " RelationRecord(items=frozenset({'PACK OF 60 PINK PAISLEY CAKE CASES', 'DOTCOM POSTAGE'}), support=0.012062426164272834, ordered_statistics=[OrderedStatistic(items_base=frozenset({'DOTCOM POSTAGE'}), items_add=frozenset({'PACK OF 60 PINK PAISLEY CAKE CASES'}), confidence=0.27478753541076484, lift=5.1508250955843025), OrderedStatistic(items_base=frozenset({'PACK OF 60 PINK PAISLEY CAKE CASES'}), items_add=frozenset({'DOTCOM POSTAGE'}), confidence=0.2261072261072261, lift=5.1508250955843025)]),\n",
            " RelationRecord(items=frozenset({'PACK OF 72 RETROSPOT CAKE CASES', 'DOTCOM POSTAGE'}), support=0.01280855561773301, ordered_statistics=[OrderedStatistic(items_base=frozenset({'DOTCOM POSTAGE'}), items_add=frozenset({'PACK OF 72 RETROSPOT CAKE CASES'}), confidence=0.29178470254957506, lift=3.643457586261503)]),\n",
            " RelationRecord(items=frozenset({'PAPER BUNTING RETROSPOT', 'DOTCOM POSTAGE'}), support=0.013679039980103214, ordered_statistics=[OrderedStatistic(items_base=frozenset({'DOTCOM POSTAGE'}), items_add=frozenset({'PAPER BUNTING RETROSPOT'}), confidence=0.311614730878187, lift=6.311964378732848), OrderedStatistic(items_base=frozenset({'PAPER BUNTING RETROSPOT'}), items_add=frozenset({'DOTCOM POSTAGE'}), confidence=0.2770780856423174, lift=6.311964378732847)]),\n",
            " RelationRecord(items=frozenset({\"PAPER CHAIN KIT 50'S CHRISTMAS \", 'DOTCOM POSTAGE'}), support=0.00982403780389231, ordered_statistics=[OrderedStatistic(items_base=frozenset({'DOTCOM POSTAGE'}), items_add=frozenset({\"PAPER CHAIN KIT 50'S CHRISTMAS \"}), confidence=0.2237960339943343, lift=3.160062875092957)]),\n",
            " RelationRecord(items=frozenset({'PINK REGENCY TEACUP AND SAUCER', 'DOTCOM POSTAGE'}), support=0.013430330162283156, ordered_statistics=[OrderedStatistic(items_base=frozenset({'DOTCOM POSTAGE'}), items_add=frozenset({'PINK REGENCY TEACUP AND SAUCER'}), confidence=0.3059490084985836, lift=6.457451317168923), OrderedStatistic(items_base=frozenset({'PINK REGENCY TEACUP AND SAUCER'}), items_add=frozenset({'DOTCOM POSTAGE'}), confidence=0.28346456692913385, lift=6.457451317168923)]),\n",
            " RelationRecord(items=frozenset({'PLEASE ONE PERSON METAL SIGN', 'DOTCOM POSTAGE'}), support=0.009077908350432134, ordered_statistics=[OrderedStatistic(items_base=frozenset({'DOTCOM POSTAGE'}), items_add=frozenset({'PLEASE ONE PERSON METAL SIGN'}), confidence=0.2067988668555241, lift=3.992732503766379)]),\n",
            " RelationRecord(items=frozenset({'POPCORN HOLDER', 'DOTCOM POSTAGE'}), support=0.008829198532612074, ordered_statistics=[OrderedStatistic(items_base=frozenset({'DOTCOM POSTAGE'}), items_add=frozenset({'POPCORN HOLDER'}), confidence=0.20113314447592065, lift=4.120795366377365)]),\n",
            " RelationRecord(items=frozenset({'RABBIT NIGHT LIGHT', 'DOTCOM POSTAGE'}), support=0.010321457439532425, ordered_statistics=[OrderedStatistic(items_base=frozenset({'DOTCOM POSTAGE'}), items_add=frozenset({'RABBIT NIGHT LIGHT'}), confidence=0.23512747875354106, lift=3.8825002472209458)]),\n",
            " RelationRecord(items=frozenset({'RECIPE BOX PANTRY YELLOW DESIGN', 'DOTCOM POSTAGE'}), support=0.01566871852266368, ordered_statistics=[OrderedStatistic(items_base=frozenset({'DOTCOM POSTAGE'}), items_add=frozenset({'RECIPE BOX PANTRY YELLOW DESIGN'}), confidence=0.35694050991501414, lift=5.204600381652921), OrderedStatistic(items_base=frozenset({'RECIPE BOX PANTRY YELLOW DESIGN'}), items_add=frozenset({'DOTCOM POSTAGE'}), confidence=0.228467815049864, lift=5.204600381652921)]),\n",
            " RelationRecord(items=frozenset({'RECYCLING BAG RETROSPOT ', 'DOTCOM POSTAGE'}), support=0.02101597960579494, ordered_statistics=[OrderedStatistic(items_base=frozenset({'DOTCOM POSTAGE'}), items_add=frozenset({'RECYCLING BAG RETROSPOT '}), confidence=0.4787535410764872, lift=10.321438607417084), OrderedStatistic(items_base=frozenset({'RECYCLING BAG RETROSPOT '}), items_add=frozenset({'DOTCOM POSTAGE'}), confidence=0.45308310991957107, lift=10.321438607417084)]),\n",
            " RelationRecord(items=frozenset({'RED RETROSPOT CHARLOTTE BAG', 'DOTCOM POSTAGE'}), support=0.012932910526643039, ordered_statistics=[OrderedStatistic(items_base=frozenset({'DOTCOM POSTAGE'}), items_add=frozenset({'RED RETROSPOT CHARLOTTE BAG'}), confidence=0.29461756373937675, lift=4.640875884055236), OrderedStatistic(items_base=frozenset({'RED RETROSPOT CHARLOTTE BAG'}), items_add=frozenset({'DOTCOM POSTAGE'}), confidence=0.20372184133202742, lift=4.640875884055236)]),\n",
            " RelationRecord(items=frozenset({'RED TOADSTOOL LED NIGHT LIGHT', 'DOTCOM POSTAGE'}), support=0.019461543244419573, ordered_statistics=[OrderedStatistic(items_base=frozenset({'DOTCOM POSTAGE'}), items_add=frozenset({'RED TOADSTOOL LED NIGHT LIGHT'}), confidence=0.44334277620396595, lift=8.458222858467835), OrderedStatistic(items_base=frozenset({'RED TOADSTOOL LED NIGHT LIGHT'}), items_add=frozenset({'DOTCOM POSTAGE'}), confidence=0.3712930011862396, lift=8.458222858467835)]),\n",
            " RelationRecord(items=frozenset({'ROSES REGENCY TEACUP AND SAUCER ', 'DOTCOM POSTAGE'}), support=0.017844929428589194, ordered_statistics=[OrderedStatistic(items_base=frozenset({'DOTCOM POSTAGE'}), items_add=frozenset({'ROSES REGENCY TEACUP AND SAUCER '}), confidence=0.4065155807365439, lift=6.179574749514023), OrderedStatistic(items_base=frozenset({'ROSES REGENCY TEACUP AND SAUCER '}), items_add=frozenset({'DOTCOM POSTAGE'}), confidence=0.27126654064272215, lift=6.179574749514023)]),\n",
            " RelationRecord(items=frozenset({'SET OF 3 BUTTERFLY COOKIE CUTTERS', 'DOTCOM POSTAGE'}), support=0.01038363489398744, ordered_statistics=[OrderedStatistic(items_base=frozenset({'DOTCOM POSTAGE'}), items_add=frozenset({'SET OF 3 BUTTERFLY COOKIE CUTTERS'}), confidence=0.23654390934844194, lift=5.578204829986792), OrderedStatistic(items_base=frozenset({'SET OF 3 BUTTERFLY COOKIE CUTTERS'}), items_add=frozenset({'DOTCOM POSTAGE'}), confidence=0.24486803519061587, lift=5.578204829986792)]),\n",
            " RelationRecord(items=frozenset({'SET OF 3 CAKE TINS PANTRY DESIGN ', 'DOTCOM POSTAGE'}), support=0.014549524342473419, ordered_statistics=[OrderedStatistic(items_base=frozenset({'DOTCOM POSTAGE'}), items_add=frozenset({'SET OF 3 CAKE TINS PANTRY DESIGN '}), confidence=0.33144475920679883, lift=3.868378855096477)]),\n",
            " RelationRecord(items=frozenset({'SET OF 3 HEART COOKIE CUTTERS', 'DOTCOM POSTAGE'}), support=0.010197102530622396, ordered_statistics=[OrderedStatistic(items_base=frozenset({'DOTCOM POSTAGE'}), items_add=frozenset({'SET OF 3 HEART COOKIE CUTTERS'}), confidence=0.23229461756373937, lift=5.510316127253127), OrderedStatistic(items_base=frozenset({'SET OF 3 HEART COOKIE CUTTERS'}), items_add=frozenset({'DOTCOM POSTAGE'}), confidence=0.24188790560471976, lift=5.510316127253127)]),\n",
            " RelationRecord(items=frozenset({'SET OF 3 REGENCY CAKE TINS', 'DOTCOM POSTAGE'}), support=0.009948392712802338, ordered_statistics=[OrderedStatistic(items_base=frozenset({'DOTCOM POSTAGE'}), items_add=frozenset({'SET OF 3 REGENCY CAKE TINS'}), confidence=0.22662889518413598, lift=4.189508645110872)]),\n",
            " RelationRecord(items=frozenset({'SET OF 4 PANTRY JELLY MOULDS', 'DOTCOM POSTAGE'}), support=0.01268420070882298, ordered_statistics=[OrderedStatistic(items_base=frozenset({'DOTCOM POSTAGE'}), items_add=frozenset({'SET OF 4 PANTRY JELLY MOULDS'}), confidence=0.28895184135977336, lift=4.396605926763704)]),\n",
            " RelationRecord(items=frozenset({'SET OF 6 SPICE TINS PANTRY DESIGN', 'DOTCOM POSTAGE'}), support=0.010259279985077412, ordered_statistics=[OrderedStatistic(items_base=frozenset({'DOTCOM POSTAGE'}), items_add=frozenset({'SET OF 6 SPICE TINS PANTRY DESIGN'}), confidence=0.23371104815864024, lift=4.578288413563229), OrderedStatistic(items_base=frozenset({'SET OF 6 SPICE TINS PANTRY DESIGN'}), items_add=frozenset({'DOTCOM POSTAGE'}), confidence=0.20097442143727162, lift=4.578288413563229)]),\n",
            " RelationRecord(items=frozenset({'SET/20 RED RETROSPOT PAPER NAPKINS ', 'DOTCOM POSTAGE'}), support=0.014362991979108375, ordered_statistics=[OrderedStatistic(items_base=frozenset({'DOTCOM POSTAGE'}), items_add=frozenset({'SET/20 RED RETROSPOT PAPER NAPKINS '}), confidence=0.32719546742209626, lift=5.441866290123655), OrderedStatistic(items_base=frozenset({'SET/20 RED RETROSPOT PAPER NAPKINS '}), items_add=frozenset({'DOTCOM POSTAGE'}), confidence=0.2388831437435367, lift=5.441866290123655)]),\n",
            " RelationRecord(items=frozenset({'SPACEBOY LUNCH BOX ', 'DOTCOM POSTAGE'}), support=0.011875893800907792, ordered_statistics=[OrderedStatistic(items_base=frozenset({'DOTCOM POSTAGE'}), items_add=frozenset({'SPACEBOY LUNCH BOX '}), confidence=0.2705382436260623, lift=4.861526896355263), OrderedStatistic(items_base=frozenset({'SPACEBOY LUNCH BOX '}), items_add=frozenset({'DOTCOM POSTAGE'}), confidence=0.2134078212290503, lift=4.861526896355263)]),\n",
            " RelationRecord(items=frozenset({'STRAWBERRY CERAMIC TRINKET BOX', 'DOTCOM POSTAGE'}), support=0.010010570167257352, ordered_statistics=[OrderedStatistic(items_base=frozenset({'DOTCOM POSTAGE'}), items_add=frozenset({'STRAWBERRY CERAMIC TRINKET BOX'}), confidence=0.2280453257790368, lift=5.224576886758189), OrderedStatistic(items_base=frozenset({'STRAWBERRY CERAMIC TRINKET BOX'}), items_add=frozenset({'DOTCOM POSTAGE'}), confidence=0.22934472934472933, lift=5.224576886758189)]),\n",
            " RelationRecord(items=frozenset({'STRAWBERRY CHARLOTTE BAG', 'DOTCOM POSTAGE'}), support=0.009326618168252192, ordered_statistics=[OrderedStatistic(items_base=frozenset({'DOTCOM POSTAGE'}), items_add=frozenset({'STRAWBERRY CHARLOTTE BAG'}), confidence=0.21246458923512748, lift=4.759147616530021), OrderedStatistic(items_base=frozenset({'STRAWBERRY CHARLOTTE BAG'}), items_add=frozenset({'DOTCOM POSTAGE'}), confidence=0.20891364902506965, lift=4.759147616530021)]),\n",
            " RelationRecord(items=frozenset({'VICTORIAN GLASS HANGING T-LIGHT', 'DOTCOM POSTAGE'}), support=0.014176459615743332, ordered_statistics=[OrderedStatistic(items_base=frozenset({'DOTCOM POSTAGE'}), items_add=frozenset({'VICTORIAN GLASS HANGING T-LIGHT'}), confidence=0.32294617563739375, lift=5.028018724855957), OrderedStatistic(items_base=frozenset({'VICTORIAN GLASS HANGING T-LIGHT'}), items_add=frozenset({'DOTCOM POSTAGE'}), confidence=0.22071636011616652, lift=5.028018724855958)]),\n",
            " RelationRecord(items=frozenset({'VINTAGE SNAP CARDS', 'DOTCOM POSTAGE'}), support=0.012622023254367966, ordered_statistics=[OrderedStatistic(items_base=frozenset({'DOTCOM POSTAGE'}), items_add=frozenset({'VINTAGE SNAP CARDS'}), confidence=0.2875354107648725, lift=5.043001102869622), OrderedStatistic(items_base=frozenset({'VINTAGE SNAP CARDS'}), items_add=frozenset({'DOTCOM POSTAGE'}), confidence=0.2213740458015267, lift=5.043001102869622)]),\n",
            " RelationRecord(items=frozenset({'WOODEN FRAME ANTIQUE WHITE ', 'DOTCOM POSTAGE'}), support=0.009388795622707207, ordered_statistics=[OrderedStatistic(items_base=frozenset({'DOTCOM POSTAGE'}), items_add=frozenset({'WOODEN FRAME ANTIQUE WHITE '}), confidence=0.21388101983002833, lift=3.568307512371728)]),\n",
            " RelationRecord(items=frozenset({'WOODEN PICTURE FRAME WHITE FINISH', 'DOTCOM POSTAGE'}), support=0.014238637070198346, ordered_statistics=[OrderedStatistic(items_base=frozenset({'DOTCOM POSTAGE'}), items_add=frozenset({'WOODEN PICTURE FRAME WHITE FINISH'}), confidence=0.32436260623229457, lift=4.768486102407673), OrderedStatistic(items_base=frozenset({'WOODEN PICTURE FRAME WHITE FINISH'}), items_add=frozenset({'DOTCOM POSTAGE'}), confidence=0.2093235831809872, lift=4.768486102407673)]),\n",
            " RelationRecord(items=frozenset({'WOODLAND CHARLOTTE BAG', 'DOTCOM POSTAGE'}), support=0.013243797798918112, ordered_statistics=[OrderedStatistic(items_base=frozenset({'DOTCOM POSTAGE'}), items_add=frozenset({'WOODLAND CHARLOTTE BAG'}), confidence=0.301699716713881, lift=5.874378382456838), OrderedStatistic(items_base=frozenset({'WOODLAND CHARLOTTE BAG'}), items_add=frozenset({'DOTCOM POSTAGE'}), confidence=0.2578692493946731, lift=5.874378382456837)]),\n",
            " RelationRecord(items=frozenset({'GARDENERS KNEELING PAD CUP OF TEA ', 'GARDENERS KNEELING PAD KEEP CALM '}), support=0.03332711558788783, ordered_statistics=[OrderedStatistic(items_base=frozenset({'GARDENERS KNEELING PAD CUP OF TEA '}), items_add=frozenset({'GARDENERS KNEELING PAD KEEP CALM '}), confidence=0.7146666666666667, lift=12.68651655629139), OrderedStatistic(items_base=frozenset({'GARDENERS KNEELING PAD KEEP CALM '}), items_add=frozenset({'GARDENERS KNEELING PAD CUP OF TEA '}), confidence=0.5916114790286976, lift=12.68651655629139)]),\n",
            " RelationRecord(items=frozenset({'GARDENERS KNEELING PAD CUP OF TEA ', 'JUMBO BAG APPLES'}), support=0.009886215258347323, ordered_statistics=[OrderedStatistic(items_base=frozenset({'GARDENERS KNEELING PAD CUP OF TEA '}), items_add=frozenset({'JUMBO BAG APPLES'}), confidence=0.212, lift=3.515047422680412)]),\n",
            " RelationRecord(items=frozenset({'POPCORN HOLDER', 'GARDENERS KNEELING PAD CUP OF TEA '}), support=0.010010570167257352, ordered_statistics=[OrderedStatistic(items_base=frozenset({'GARDENERS KNEELING PAD CUP OF TEA '}), items_add=frozenset({'POPCORN HOLDER'}), confidence=0.21466666666666664, lift=4.398068789808916), OrderedStatistic(items_base=frozenset({'POPCORN HOLDER'}), items_add=frozenset({'GARDENERS KNEELING PAD CUP OF TEA '}), confidence=0.20509554140127387, lift=4.398068789808917)]),\n",
            " RelationRecord(items=frozenset({'GARDENERS KNEELING PAD CUP OF TEA ', 'SET OF 4 PANTRY JELLY MOULDS'}), support=0.009886215258347323, ordered_statistics=[OrderedStatistic(items_base=frozenset({'GARDENERS KNEELING PAD CUP OF TEA '}), items_add=frozenset({'SET OF 4 PANTRY JELLY MOULDS'}), confidence=0.212, lift=3.2257294228949855)]),\n",
            " RelationRecord(items=frozenset({'HOT WATER BOTTLE KEEP CALM', 'GARDENERS KNEELING PAD KEEP CALM '}), support=0.010632344711807499, ordered_statistics=[OrderedStatistic(items_base=frozenset({'HOT WATER BOTTLE KEEP CALM'}), items_add=frozenset({'GARDENERS KNEELING PAD KEEP CALM '}), confidence=0.22236671001300393, lift=3.947377259535477)]),\n",
            " RelationRecord(items=frozenset({\"JUMBO BAG 50'S CHRISTMAS \", 'GARDENERS KNEELING PAD KEEP CALM '}), support=0.00889137598706709, ordered_statistics=[OrderedStatistic(items_base=frozenset({\"JUMBO BAG 50'S CHRISTMAS \"}), items_add=frozenset({'GARDENERS KNEELING PAD KEEP CALM '}), confidence=0.20140845070422536, lift=3.5753334576998417)]),\n",
            " RelationRecord(items=frozenset({'JUMBO BAG APPLES', 'GARDENERS KNEELING PAD KEEP CALM '}), support=0.011627183983087732, ordered_statistics=[OrderedStatistic(items_base=frozenset({'GARDENERS KNEELING PAD KEEP CALM '}), items_add=frozenset({'JUMBO BAG APPLES'}), confidence=0.206401766004415, lift=3.422226394483512)]),\n",
            " RelationRecord(items=frozenset({'POPCORN HOLDER', 'GARDENERS KNEELING PAD KEEP CALM '}), support=0.011254119256357645, ordered_statistics=[OrderedStatistic(items_base=frozenset({'POPCORN HOLDER'}), items_add=frozenset({'GARDENERS KNEELING PAD KEEP CALM '}), confidence=0.23057324840764332, lift=4.093056903024423)]),\n",
            " RelationRecord(items=frozenset({'PLEASE ONE PERSON METAL SIGN', 'GIN + TONIC DIET METAL SIGN'}), support=0.016352670521668843, ordered_statistics=[OrderedStatistic(items_base=frozenset({'GIN + TONIC DIET METAL SIGN'}), items_add=frozenset({'PLEASE ONE PERSON METAL SIGN'}), confidence=0.3478835978835979, lift=6.716700966100726), OrderedStatistic(items_base=frozenset({'PLEASE ONE PERSON METAL SIGN'}), items_add=frozenset({'GIN + TONIC DIET METAL SIGN'}), confidence=0.3157262905162065, lift=6.716700966100727)]),\n",
            " RelationRecord(items=frozenset({'GREEN REGENCY TEACUP AND SAUCER', 'JAM MAKING SET PRINTED'}), support=0.015793073431573712, ordered_statistics=[OrderedStatistic(items_base=frozenset({'GREEN REGENCY TEACUP AND SAUCER'}), items_add=frozenset({'JAM MAKING SET PRINTED'}), confidence=0.25298804780876494, lift=3.507592045610661), OrderedStatistic(items_base=frozenset({'JAM MAKING SET PRINTED'}), items_add=frozenset({'GREEN REGENCY TEACUP AND SAUCER'}), confidence=0.21896551724137933, lift=3.5075920456106613)]),\n",
            " RelationRecord(items=frozenset({'GREEN REGENCY TEACUP AND SAUCER', 'JAM MAKING SET WITH JARS'}), support=0.0161661381583038, ordered_statistics=[OrderedStatistic(items_base=frozenset({'GREEN REGENCY TEACUP AND SAUCER'}), items_add=frozenset({'JAM MAKING SET WITH JARS'}), confidence=0.25896414342629487, lift=3.682511333974448), OrderedStatistic(items_base=frozenset({'JAM MAKING SET WITH JARS'}), items_add=frozenset({'GREEN REGENCY TEACUP AND SAUCER'}), confidence=0.22988505747126442, lift=3.682511333974448)]),\n",
            " RelationRecord(items=frozenset({'JUMBO BAG WOODLAND ANIMALS', 'GREEN REGENCY TEACUP AND SAUCER'}), support=0.0110675868929926, ordered_statistics=[OrderedStatistic(items_base=frozenset({'JUMBO BAG WOODLAND ANIMALS'}), items_add=frozenset({'GREEN REGENCY TEACUP AND SAUCER'}), confidence=0.20770128354725786, lift=3.327151138735606)]),\n",
            " RelationRecord(items=frozenset({'GREEN REGENCY TEACUP AND SAUCER', 'PACK OF 20 NAPKINS PANTRY DESIGN'}), support=0.008456133805881987, ordered_statistics=[OrderedStatistic(items_base=frozenset({'PACK OF 20 NAPKINS PANTRY DESIGN'}), items_add=frozenset({'GREEN REGENCY TEACUP AND SAUCER'}), confidence=0.2095531587057011, lift=3.356816186716923)]),\n",
            " RelationRecord(items=frozenset({'PINK REGENCY TEACUP AND SAUCER', 'GREEN REGENCY TEACUP AND SAUCER'}), support=0.038798731579929115, ordered_statistics=[OrderedStatistic(items_base=frozenset({'GREEN REGENCY TEACUP AND SAUCER'}), items_add=frozenset({'PINK REGENCY TEACUP AND SAUCER'}), confidence=0.6215139442231075, lift=13.117859271575114), OrderedStatistic(items_base=frozenset({'PINK REGENCY TEACUP AND SAUCER'}), items_add=frozenset({'GREEN REGENCY TEACUP AND SAUCER'}), confidence=0.8188976377952755, lift=13.117859271575115)]),\n",
            " RelationRecord(items=frozenset({'RECIPE BOX PANTRY YELLOW DESIGN', 'GREEN REGENCY TEACUP AND SAUCER'}), support=0.013679039980103214, ordered_statistics=[OrderedStatistic(items_base=frozenset({'GREEN REGENCY TEACUP AND SAUCER'}), items_add=frozenset({'RECIPE BOX PANTRY YELLOW DESIGN'}), confidence=0.21912350597609562, lift=3.195071030474656)]),\n",
            " RelationRecord(items=frozenset({'RECYCLING BAG RETROSPOT ', 'GREEN REGENCY TEACUP AND SAUCER'}), support=0.011378474165267674, ordered_statistics=[OrderedStatistic(items_base=frozenset({'RECYCLING BAG RETROSPOT '}), items_add=frozenset({'GREEN REGENCY TEACUP AND SAUCER'}), confidence=0.24530831099195713, lift=3.929575264625146)]),\n",
            " RelationRecord(items=frozenset({'RED TOADSTOOL LED NIGHT LIGHT', 'GREEN REGENCY TEACUP AND SAUCER'}), support=0.012559845799912952, ordered_statistics=[OrderedStatistic(items_base=frozenset({'GREEN REGENCY TEACUP AND SAUCER'}), items_add=frozenset({'RED TOADSTOOL LED NIGHT LIGHT'}), confidence=0.201195219123506, lift=3.838461102210376), OrderedStatistic(items_base=frozenset({'RED TOADSTOOL LED NIGHT LIGHT'}), items_add=frozenset({'GREEN REGENCY TEACUP AND SAUCER'}), confidence=0.23962040332147094, lift=3.838461102210376)]),\n",
            " RelationRecord(items=frozenset({'GREEN REGENCY TEACUP AND SAUCER', 'REGENCY CAKESTAND 3 TIER'}), support=0.030840017409687247, ordered_statistics=[OrderedStatistic(items_base=frozenset({'GREEN REGENCY TEACUP AND SAUCER'}), items_add=frozenset({'REGENCY CAKESTAND 3 TIER'}), confidence=0.4940239043824701, lift=4.033191093494044), OrderedStatistic(items_base=frozenset({'REGENCY CAKESTAND 3 TIER'}), items_add=frozenset({'GREEN REGENCY TEACUP AND SAUCER'}), confidence=0.2517766497461929, lift=4.033191093494044)]),\n",
            " RelationRecord(items=frozenset({'ROSES REGENCY TEACUP AND SAUCER ', 'GREEN REGENCY TEACUP AND SAUCER'}), support=0.04688180065908102, ordered_statistics=[OrderedStatistic(items_base=frozenset({'GREEN REGENCY TEACUP AND SAUCER'}), items_add=frozenset({'ROSES REGENCY TEACUP AND SAUCER '}), confidence=0.750996015936255, lift=11.416133198773903), OrderedStatistic(items_base=frozenset({'ROSES REGENCY TEACUP AND SAUCER '}), items_add=frozenset({'GREEN REGENCY TEACUP AND SAUCER'}), confidence=0.7126654064272212, lift=11.416133198773903)]),\n",
            " RelationRecord(items=frozenset({'SET OF 3 HEART COOKIE CUTTERS', 'GREEN REGENCY TEACUP AND SAUCER'}), support=0.008580488714792016, ordered_statistics=[OrderedStatistic(items_base=frozenset({'SET OF 3 HEART COOKIE CUTTERS'}), items_add=frozenset({'GREEN REGENCY TEACUP AND SAUCER'}), confidence=0.20353982300884954, lift=3.2604890173817997)]),\n",
            " RelationRecord(items=frozenset({'SET OF 3 REGENCY CAKE TINS', 'GREEN REGENCY TEACUP AND SAUCER'}), support=0.013679039980103214, ordered_statistics=[OrderedStatistic(items_base=frozenset({'GREEN REGENCY TEACUP AND SAUCER'}), items_add=frozenset({'SET OF 3 REGENCY CAKE TINS'}), confidence=0.21912350597609562, lift=4.050762467371892), OrderedStatistic(items_base=frozenset({'SET OF 3 REGENCY CAKE TINS'}), items_add=frozenset({'GREEN REGENCY TEACUP AND SAUCER'}), confidence=0.25287356321839083, lift=4.050762467371892)]),\n",
            " RelationRecord(items=frozenset({'VICTORIAN GLASS HANGING T-LIGHT', 'GREEN REGENCY TEACUP AND SAUCER'}), support=0.012559845799912952, ordered_statistics=[OrderedStatistic(items_base=frozenset({'GREEN REGENCY TEACUP AND SAUCER'}), items_add=frozenset({'VICTORIAN GLASS HANGING T-LIGHT'}), confidence=0.201195219123506, lift=3.132451799770907)]),\n",
            " RelationRecord(items=frozenset({'HANGING HEART JAR T-LIGHT HOLDER', 'NATURAL SLATE HEART CHALKBOARD '}), support=0.011378474165267674, ordered_statistics=[OrderedStatistic(items_base=frozenset({'HANGING HEART JAR T-LIGHT HOLDER'}), items_add=frozenset({'NATURAL SLATE HEART CHALKBOARD '}), confidence=0.2531120331950208, lift=3.274980555008463)]),\n",
            " RelationRecord(items=frozenset({'HANGING HEART JAR T-LIGHT HOLDER', 'VICTORIAN GLASS HANGING T-LIGHT'}), support=0.011378474165267674, ordered_statistics=[OrderedStatistic(items_base=frozenset({'HANGING HEART JAR T-LIGHT HOLDER'}), items_add=frozenset({'VICTORIAN GLASS HANGING T-LIGHT'}), confidence=0.2531120331950208, lift=3.940755885649099)]),\n",
            " RelationRecord(items=frozenset({'HEART OF WICKER SMALL', 'HEART OF WICKER LARGE'}), support=0.029845178138407015, ordered_statistics=[OrderedStatistic(items_base=frozenset({'HEART OF WICKER LARGE'}), items_add=frozenset({'HEART OF WICKER SMALL'}), confidence=0.5251641137855579, lift=7.139657178371198), OrderedStatistic(items_base=frozenset({'HEART OF WICKER SMALL'}), items_add=frozenset({'HEART OF WICKER LARGE'}), confidence=0.4057480980557904, lift=7.139657178371199)]),\n",
            " RelationRecord(items=frozenset({'HEART OF WICKER LARGE', 'RED HANGING HEART T-LIGHT HOLDER'}), support=0.010197102530622396, ordered_statistics=[OrderedStatistic(items_base=frozenset({'RED HANGING HEART T-LIGHT HOLDER'}), items_add=frozenset({'HEART OF WICKER LARGE'}), confidence=0.2249657064471879, lift=3.958559580733176)]),\n",
            " RelationRecord(items=frozenset({'HEART OF WICKER SMALL', 'NATURAL SLATE HEART CHALKBOARD '}), support=0.018031461791954237, ordered_statistics=[OrderedStatistic(items_base=frozenset({'HEART OF WICKER SMALL'}), items_add=frozenset({'NATURAL SLATE HEART CHALKBOARD '}), confidence=0.24513947590870666, lift=3.1718247715524774), OrderedStatistic(items_base=frozenset({'NATURAL SLATE HEART CHALKBOARD '}), items_add=frozenset({'HEART OF WICKER SMALL'}), confidence=0.2333065164923572, lift=3.1718247715524774)]),\n",
            " RelationRecord(items=frozenset({'HEART OF WICKER SMALL', 'RED HANGING HEART T-LIGHT HOLDER'}), support=0.010072747621712367, ordered_statistics=[OrderedStatistic(items_base=frozenset({'RED HANGING HEART T-LIGHT HOLDER'}), items_add=frozenset({'HEART OF WICKER SMALL'}), confidence=0.2222222222222222, lift=3.0211327134404056)]),\n",
            " RelationRecord(items=frozenset({'SCOTTIE DOG HOT WATER BOTTLE', 'HOT WATER BOTTLE KEEP CALM'}), support=0.011627183983087732, ordered_statistics=[OrderedStatistic(items_base=frozenset({'HOT WATER BOTTLE KEEP CALM'}), items_add=frozenset({'SCOTTIE DOG HOT WATER BOTTLE'}), confidence=0.24317295188556567, lift=5.139225473292448), OrderedStatistic(items_base=frozenset({'SCOTTIE DOG HOT WATER BOTTLE'}), items_add=frozenset({'HOT WATER BOTTLE KEEP CALM'}), confidence=0.2457293035479632, lift=5.1392254732924485)]),\n",
            " RelationRecord(items=frozenset({'RECIPE BOX PANTRY YELLOW DESIGN', 'IVORY KITCHEN SCALES'}), support=0.009264440713797176, ordered_statistics=[OrderedStatistic(items_base=frozenset({'IVORY KITCHEN SCALES'}), items_add=frozenset({'RECIPE BOX PANTRY YELLOW DESIGN'}), confidence=0.20956399437412093, lift=3.055682431114222)]),\n",
            " RelationRecord(items=frozenset({'SET OF 3 CAKE TINS PANTRY DESIGN ', 'IVORY KITCHEN SCALES'}), support=0.011440651619722688, ordered_statistics=[OrderedStatistic(items_base=frozenset({'IVORY KITCHEN SCALES'}), items_add=frozenset({'SET OF 3 CAKE TINS PANTRY DESIGN '}), confidence=0.25879043600562585, lift=3.020411162756517)]),\n",
            " RelationRecord(items=frozenset({'JAM MAKING SET WITH JARS', 'JAM MAKING SET PRINTED'}), support=0.02922340359385687, ordered_statistics=[OrderedStatistic(items_base=frozenset({'JAM MAKING SET PRINTED'}), items_add=frozenset({'JAM MAKING SET WITH JARS'}), confidence=0.4051724137931035, lift=5.7616162078112145), OrderedStatistic(items_base=frozenset({'JAM MAKING SET WITH JARS'}), items_add=frozenset({'JAM MAKING SET PRINTED'}), confidence=0.4155614500442087, lift=5.7616162078112145)]),\n",
            " RelationRecord(items=frozenset({'PACK OF 20 NAPKINS PANTRY DESIGN', 'JAM MAKING SET PRINTED'}), support=0.011005409438537585, ordered_statistics=[OrderedStatistic(items_base=frozenset({'PACK OF 20 NAPKINS PANTRY DESIGN'}), items_add=frozenset({'JAM MAKING SET PRINTED'}), confidence=0.2727272727272727, lift=3.7812695924764888)]),\n",
            " RelationRecord(items=frozenset({'PACK OF 60 PINK PAISLEY CAKE CASES', 'JAM MAKING SET PRINTED'}), support=0.013243797798918112, ordered_statistics=[OrderedStatistic(items_base=frozenset({'PACK OF 60 PINK PAISLEY CAKE CASES'}), items_add=frozenset({'JAM MAKING SET PRINTED'}), confidence=0.24825174825174826, lift=3.4419248854593683)]),\n",
            " RelationRecord(items=frozenset({'PINK REGENCY TEACUP AND SAUCER', 'JAM MAKING SET PRINTED'}), support=0.0110675868929926, ordered_statistics=[OrderedStatistic(items_base=frozenset({'PINK REGENCY TEACUP AND SAUCER'}), items_add=frozenset({'JAM MAKING SET PRINTED'}), confidence=0.23359580052493437, lift=3.238725224002172)]),\n",
            " RelationRecord(items=frozenset({'RECIPE BOX PANTRY YELLOW DESIGN', 'JAM MAKING SET PRINTED'}), support=0.020456382515699808, ordered_statistics=[OrderedStatistic(items_base=frozenset({'JAM MAKING SET PRINTED'}), items_add=frozenset({'RECIPE BOX PANTRY YELLOW DESIGN'}), confidence=0.28362068965517245, lift=4.135513646168756), OrderedStatistic(items_base=frozenset({'RECIPE BOX PANTRY YELLOW DESIGN'}), items_add=frozenset({'JAM MAKING SET PRINTED'}), confidence=0.29827742520398914, lift=4.135513646168756)]),\n",
            " RelationRecord(items=frozenset({'RECYCLING BAG RETROSPOT ', 'JAM MAKING SET PRINTED'}), support=0.012311135982092894, ordered_statistics=[OrderedStatistic(items_base=frozenset({'RECYCLING BAG RETROSPOT '}), items_add=frozenset({'JAM MAKING SET PRINTED'}), confidence=0.26541554959785524, lift=3.6798950725709534)]),\n",
            " RelationRecord(items=frozenset({'RED TOADSTOOL LED NIGHT LIGHT', 'JAM MAKING SET PRINTED'}), support=0.012932910526643039, ordered_statistics=[OrderedStatistic(items_base=frozenset({'RED TOADSTOOL LED NIGHT LIGHT'}), items_add=frozenset({'JAM MAKING SET PRINTED'}), confidence=0.24673784104389085, lift=3.4209350840593937)]),\n",
            " RelationRecord(items=frozenset({'ROSES REGENCY TEACUP AND SAUCER ', 'JAM MAKING SET PRINTED'}), support=0.014798234160293477, ordered_statistics=[OrderedStatistic(items_base=frozenset({'JAM MAKING SET PRINTED'}), items_add=frozenset({'ROSES REGENCY TEACUP AND SAUCER '}), confidence=0.20517241379310344, lift=3.118892184342611), OrderedStatistic(items_base=frozenset({'ROSES REGENCY TEACUP AND SAUCER '}), items_add=frozenset({'JAM MAKING SET PRINTED'}), confidence=0.22495274102079393, lift=3.118892184342611)]),\n",
            " RelationRecord(items=frozenset({'SET OF 3 BUTTERFLY COOKIE CUTTERS', 'JAM MAKING SET PRINTED'}), support=0.01038363489398744, ordered_statistics=[OrderedStatistic(items_base=frozenset({'SET OF 3 BUTTERFLY COOKIE CUTTERS'}), items_add=frozenset({'JAM MAKING SET PRINTED'}), confidence=0.24486803519061587, lift=3.395010870664375)]),\n",
            " RelationRecord(items=frozenset({'SET OF 3 CAKE TINS PANTRY DESIGN ', 'JAM MAKING SET PRINTED'}), support=0.021389044332525028, ordered_statistics=[OrderedStatistic(items_base=frozenset({'JAM MAKING SET PRINTED'}), items_add=frozenset({'SET OF 3 CAKE TINS PANTRY DESIGN '}), confidence=0.29655172413793107, lift=3.461133076422602), OrderedStatistic(items_base=frozenset({'SET OF 3 CAKE TINS PANTRY DESIGN '}), items_add=frozenset({'JAM MAKING SET PRINTED'}), confidence=0.24963715529753266, lift=3.461133076422602)]),\n",
            " RelationRecord(items=frozenset({'SET OF 3 HEART COOKIE CUTTERS', 'JAM MAKING SET PRINTED'}), support=0.010694522166262514, ordered_statistics=[OrderedStatistic(items_base=frozenset({'SET OF 3 HEART COOKIE CUTTERS'}), items_add=frozenset({'JAM MAKING SET PRINTED'}), confidence=0.2536873156342183, lift=3.5172871528837355)]),\n",
            " RelationRecord(items=frozenset({'SET OF 3 REGENCY CAKE TINS', 'JAM MAKING SET PRINTED'}), support=0.012622023254367966, ordered_statistics=[OrderedStatistic(items_base=frozenset({'SET OF 3 REGENCY CAKE TINS'}), items_add=frozenset({'JAM MAKING SET PRINTED'}), confidence=0.23333333333333334, lift=3.235086206896552)]),\n",
            " RelationRecord(items=frozenset({'SET OF 4 PANTRY JELLY MOULDS', 'JAM MAKING SET PRINTED'}), support=0.016912267611763974, ordered_statistics=[OrderedStatistic(items_base=frozenset({'JAM MAKING SET PRINTED'}), items_add=frozenset({'SET OF 4 PANTRY JELLY MOULDS'}), confidence=0.23448275862068965, lift=3.5678204417185917), OrderedStatistic(items_base=frozenset({'SET OF 4 PANTRY JELLY MOULDS'}), items_add=frozenset({'JAM MAKING SET PRINTED'}), confidence=0.25733207190160834, lift=3.567820441718592)]),\n",
            " RelationRecord(items=frozenset({'SET OF 6 SPICE TINS PANTRY DESIGN', 'JAM MAKING SET PRINTED'}), support=0.013679039980103214, ordered_statistics=[OrderedStatistic(items_base=frozenset({'SET OF 6 SPICE TINS PANTRY DESIGN'}), items_add=frozenset({'JAM MAKING SET PRINTED'}), confidence=0.2679658952496955, lift=3.7152547356041836)]),\n",
            " RelationRecord(items=frozenset({'VINTAGE SNAP CARDS', 'JAM MAKING SET PRINTED'}), support=0.01268420070882298, ordered_statistics=[OrderedStatistic(items_base=frozenset({'VINTAGE SNAP CARDS'}), items_add=frozenset({'JAM MAKING SET PRINTED'}), confidence=0.22246455834242093, lift=3.0843943895009964)]),\n",
            " RelationRecord(items=frozenset({'JAM MAKING SET WITH JARS', 'PACK OF 20 NAPKINS PANTRY DESIGN'}), support=0.010259279985077412, ordered_statistics=[OrderedStatistic(items_base=frozenset({'PACK OF 20 NAPKINS PANTRY DESIGN'}), items_add=frozenset({'JAM MAKING SET WITH JARS'}), confidence=0.25423728813559326, lift=3.6152946994560096)]),\n",
            " RelationRecord(items=frozenset({'PACK OF 60 PINK PAISLEY CAKE CASES', 'JAM MAKING SET WITH JARS'}), support=0.012497668345457937, ordered_statistics=[OrderedStatistic(items_base=frozenset({'PACK OF 60 PINK PAISLEY CAKE CASES'}), items_add=frozenset({'JAM MAKING SET WITH JARS'}), confidence=0.23426573426573427, lift=3.3312960249299777)]),\n",
            " RelationRecord(items=frozenset({'PINK REGENCY TEACUP AND SAUCER', 'JAM MAKING SET WITH JARS'}), support=0.0110675868929926, ordered_statistics=[OrderedStatistic(items_base=frozenset({'PINK REGENCY TEACUP AND SAUCER'}), items_add=frozenset({'JAM MAKING SET WITH JARS'}), confidence=0.23359580052493437, lift=3.3217694605150485)]),\n",
            " RelationRecord(items=frozenset({'RECIPE BOX PANTRY YELLOW DESIGN', 'JAM MAKING SET WITH JARS'}), support=0.02064291487906485, ordered_statistics=[OrderedStatistic(items_base=frozenset({'JAM MAKING SET WITH JARS'}), items_add=frozenset({'RECIPE BOX PANTRY YELLOW DESIGN'}), confidence=0.2935455349248453, lift=4.280229227739154), OrderedStatistic(items_base=frozenset({'RECIPE BOX PANTRY YELLOW DESIGN'}), items_add=frozenset({'JAM MAKING SET WITH JARS'}), confidence=0.30099728014505894, lift=4.280229227739154)]),\n",
            " RelationRecord(items=frozenset({'RECYCLING BAG RETROSPOT ', 'JAM MAKING SET WITH JARS'}), support=0.010072747621712367, ordered_statistics=[OrderedStatistic(items_base=frozenset({'RECYCLING BAG RETROSPOT '}), items_add=frozenset({'JAM MAKING SET WITH JARS'}), confidence=0.21715817694369974, lift=3.0880238371224786)]),\n",
            " RelationRecord(items=frozenset({'RED TOADSTOOL LED NIGHT LIGHT', 'JAM MAKING SET WITH JARS'}), support=0.011316296710812659, ordered_statistics=[OrderedStatistic(items_base=frozenset({'RED TOADSTOOL LED NIGHT LIGHT'}), items_add=frozenset({'JAM MAKING SET WITH JARS'}), confidence=0.21589561091340448, lift=3.0700699472327893)]),\n",
            " RelationRecord(items=frozenset({'ROSES REGENCY TEACUP AND SAUCER ', 'JAM MAKING SET WITH JARS'}), support=0.015544363613753652, ordered_statistics=[OrderedStatistic(items_base=frozenset({'JAM MAKING SET WITH JARS'}), items_add=frozenset({'ROSES REGENCY TEACUP AND SAUCER '}), confidence=0.22104332449160036, lift=3.3601510281648475), OrderedStatistic(items_base=frozenset({'ROSES REGENCY TEACUP AND SAUCER '}), items_add=frozenset({'JAM MAKING SET WITH JARS'}), confidence=0.23629489603024575, lift=3.360151028164848)]),\n",
            " RelationRecord(items=frozenset({'SET OF 3 BUTTERFLY COOKIE CUTTERS', 'JAM MAKING SET WITH JARS'}), support=0.010321457439532425, ordered_statistics=[OrderedStatistic(items_base=frozenset({'SET OF 3 BUTTERFLY COOKIE CUTTERS'}), items_add=frozenset({'JAM MAKING SET WITH JARS'}), confidence=0.2434017595307918, lift=3.4612117582084214)]),\n",
            " RelationRecord(items=frozenset({'SET OF 3 CAKE TINS PANTRY DESIGN ', 'JAM MAKING SET WITH JARS'}), support=0.023503077783995522, ordered_statistics=[OrderedStatistic(items_base=frozenset({'JAM MAKING SET WITH JARS'}), items_add=frozenset({'SET OF 3 CAKE TINS PANTRY DESIGN '}), confidence=0.33421750663129973, lift=3.9007403186873684), OrderedStatistic(items_base=frozenset({'SET OF 3 CAKE TINS PANTRY DESIGN '}), items_add=frozenset({'JAM MAKING SET WITH JARS'}), confidence=0.274310595065312, lift=3.9007403186873684)]),\n",
            " RelationRecord(items=frozenset({'SET OF 3 HEART COOKIE CUTTERS', 'JAM MAKING SET WITH JARS'}), support=0.010197102530622396, ordered_statistics=[OrderedStatistic(items_base=frozenset({'SET OF 3 HEART COOKIE CUTTERS'}), items_add=frozenset({'JAM MAKING SET WITH JARS'}), confidence=0.24188790560471976, lift=3.4396845144480177)]),\n",
            " RelationRecord(items=frozenset({'SET OF 4 PANTRY JELLY MOULDS', 'JAM MAKING SET WITH JARS'}), support=0.018653236336504384, ordered_statistics=[OrderedStatistic(items_base=frozenset({'JAM MAKING SET WITH JARS'}), items_add=frozenset({'SET OF 4 PANTRY JELLY MOULDS'}), confidence=0.26525198938992045, lift=4.035995974794788), OrderedStatistic(items_base=frozenset({'SET OF 4 PANTRY JELLY MOULDS'}), items_add=frozenset({'JAM MAKING SET WITH JARS'}), confidence=0.28382213812677387, lift=4.035995974794788)]),\n",
            " RelationRecord(items=frozenset({'SET OF 6 SPICE TINS PANTRY DESIGN', 'JAM MAKING SET WITH JARS'}), support=0.016103960703848785, ordered_statistics=[OrderedStatistic(items_base=frozenset({'JAM MAKING SET WITH JARS'}), items_add=frozenset({'SET OF 6 SPICE TINS PANTRY DESIGN'}), confidence=0.229000884173298, lift=4.486018538561695), OrderedStatistic(items_base=frozenset({'SET OF 6 SPICE TINS PANTRY DESIGN'}), items_add=frozenset({'JAM MAKING SET WITH JARS'}), confidence=0.315468940316687, lift=4.486018538561695)]),\n",
            " RelationRecord(items=frozenset({'JUMBO  BAG BAROQUE BLACK WHITE', 'JUMBO BAG ALPHABET'}), support=0.013554685071193185, ordered_statistics=[OrderedStatistic(items_base=frozenset({'JUMBO  BAG BAROQUE BLACK WHITE'}), items_add=frozenset({'JUMBO BAG ALPHABET'}), confidence=0.2361863488624052, lift=4.215965647895741), OrderedStatistic(items_base=frozenset({'JUMBO BAG ALPHABET'}), items_add=frozenset({'JUMBO  BAG BAROQUE BLACK WHITE'}), confidence=0.24195338512763598, lift=4.215965647895741)]),\n",
            " RelationRecord(items=frozenset({'JUMBO BAG APPLES', 'JUMBO  BAG BAROQUE BLACK WHITE'}), support=0.017160977429584032, ordered_statistics=[OrderedStatistic(items_base=frozenset({'JUMBO  BAG BAROQUE BLACK WHITE'}), items_add=frozenset({'JUMBO BAG APPLES'}), confidence=0.2990249187432286, lift=4.957956462007573), OrderedStatistic(items_base=frozenset({'JUMBO BAG APPLES'}), items_add=frozenset({'JUMBO  BAG BAROQUE BLACK WHITE'}), confidence=0.2845360824742268, lift=4.957956462007573)]),\n",
            " RelationRecord(items=frozenset({'JUMBO  BAG BAROQUE BLACK WHITE', 'JUMBO BAG PINK POLKADOT'}), support=0.02524404650873593, ordered_statistics=[OrderedStatistic(items_base=frozenset({'JUMBO  BAG BAROQUE BLACK WHITE'}), items_add=frozenset({'JUMBO BAG PINK POLKADOT'}), confidence=0.4398699891657638, lift=5.875771624379551), OrderedStatistic(items_base=frozenset({'JUMBO BAG PINK POLKADOT'}), items_add=frozenset({'JUMBO  BAG BAROQUE BLACK WHITE'}), confidence=0.3372093023255814, lift=5.875771624379551)]),\n",
            " RelationRecord(items=frozenset({'JUMBO  BAG BAROQUE BLACK WHITE', 'JUMBO BAG PINK VINTAGE PAISLEY'}), support=0.0166013803394889, ordered_statistics=[OrderedStatistic(items_base=frozenset({'JUMBO  BAG BAROQUE BLACK WHITE'}), items_add=frozenset({'JUMBO BAG PINK VINTAGE PAISLEY'}), confidence=0.28927410617551463, lift=5.422372318905364), OrderedStatistic(items_base=frozenset({'JUMBO BAG PINK VINTAGE PAISLEY'}), items_add=frozenset({'JUMBO  BAG BAROQUE BLACK WHITE'}), confidence=0.3111888111888112, lift=5.422372318905364)]),\n",
            " RelationRecord(items=frozenset({'JUMBO  BAG BAROQUE BLACK WHITE', 'JUMBO BAG RED RETROSPOT'}), support=0.03568985885717839, ordered_statistics=[OrderedStatistic(items_base=frozenset({'JUMBO  BAG BAROQUE BLACK WHITE'}), items_add=frozenset({'JUMBO BAG RED RETROSPOT'}), confidence=0.6218851570964248, lift=4.831777285788308), OrderedStatistic(items_base=frozenset({'JUMBO BAG RED RETROSPOT'}), items_add=frozenset({'JUMBO  BAG BAROQUE BLACK WHITE'}), confidence=0.27729468599033813, lift=4.8317772857883075)]),\n",
            " RelationRecord(items=frozenset({'JUMBO BAG SPACEBOY DESIGN', 'JUMBO  BAG BAROQUE BLACK WHITE'}), support=0.013865572343468259, ordered_statistics=[OrderedStatistic(items_base=frozenset({'JUMBO  BAG BAROQUE BLACK WHITE'}), items_add=frozenset({'JUMBO BAG SPACEBOY DESIGN'}), confidence=0.24160346695557963, lift=5.71427729271557), OrderedStatistic(items_base=frozenset({'JUMBO BAG SPACEBOY DESIGN'}), items_add=frozenset({'JUMBO  BAG BAROQUE BLACK WHITE'}), confidence=0.3279411764705883, lift=5.71427729271557)]),\n",
            " RelationRecord(items=frozenset({'JUMBO  BAG BAROQUE BLACK WHITE', 'JUMBO BAG STRAWBERRY'}), support=0.01647702543057887, ordered_statistics=[OrderedStatistic(items_base=frozenset({'JUMBO  BAG BAROQUE BLACK WHITE'}), items_add=frozenset({'JUMBO BAG STRAWBERRY'}), confidence=0.28710725893824485, lift=5.6449218160193055), OrderedStatistic(items_base=frozenset({'JUMBO BAG STRAWBERRY'}), items_add=frozenset({'JUMBO  BAG BAROQUE BLACK WHITE'}), confidence=0.323960880195599, lift=5.644921816019305)]),\n",
            " RelationRecord(items=frozenset({'JUMBO  BAG BAROQUE BLACK WHITE', 'JUMBO BAG VINTAGE DOILY '}), support=0.00876702107815706, ordered_statistics=[OrderedStatistic(items_base=frozenset({'JUMBO BAG VINTAGE DOILY '}), items_add=frozenset({'JUMBO  BAG BAROQUE BLACK WHITE'}), confidence=0.2002840909090909, lift=3.489890611149414)]),\n",
            " RelationRecord(items=frozenset({'JUMBO  BAG BAROQUE BLACK WHITE', 'JUMBO BAG VINTAGE LEAF'}), support=0.012435490891002923, ordered_statistics=[OrderedStatistic(items_base=frozenset({'JUMBO  BAG BAROQUE BLACK WHITE'}), items_add=frozenset({'JUMBO BAG VINTAGE LEAF'}), confidence=0.21668472372697725, lift=3.996491297822219), OrderedStatistic(items_base=frozenset({'JUMBO BAG VINTAGE LEAF'}), items_add=frozenset({'JUMBO  BAG BAROQUE BLACK WHITE'}), confidence=0.22935779816513763, lift=3.9964912978222196)]),\n",
            " RelationRecord(items=frozenset({'JUMBO  BAG BAROQUE BLACK WHITE', 'JUMBO BAG WOODLAND ANIMALS'}), support=0.018591058882049368, ordered_statistics=[OrderedStatistic(items_base=frozenset({'JUMBO  BAG BAROQUE BLACK WHITE'}), items_add=frozenset({'JUMBO BAG WOODLAND ANIMALS'}), confidence=0.323943661971831, lift=6.079330123095634), OrderedStatistic(items_base=frozenset({'JUMBO BAG WOODLAND ANIMALS'}), items_add=frozenset({'JUMBO  BAG BAROQUE BLACK WHITE'}), confidence=0.34889148191365227, lift=6.079330123095633)]),\n",
            " RelationRecord(items=frozenset({'JUMBO SHOPPER VINTAGE RED PAISLEY', 'JUMBO  BAG BAROQUE BLACK WHITE'}), support=0.025865821053286078, ordered_statistics=[OrderedStatistic(items_base=frozenset({'JUMBO  BAG BAROQUE BLACK WHITE'}), items_add=frozenset({'JUMBO SHOPPER VINTAGE RED PAISLEY'}), confidence=0.4507042253521127, lift=6.195449620801734), OrderedStatistic(items_base=frozenset({'JUMBO SHOPPER VINTAGE RED PAISLEY'}), items_add=frozenset({'JUMBO  BAG BAROQUE BLACK WHITE'}), confidence=0.35555555555555557, lift=6.195449620801734)]),\n",
            " RelationRecord(items=frozenset({'JUMBO  BAG BAROQUE BLACK WHITE', 'JUMBO STORAGE BAG SKULLS'}), support=0.01604178324939377, ordered_statistics=[OrderedStatistic(items_base=frozenset({'JUMBO  BAG BAROQUE BLACK WHITE'}), items_add=frozenset({'JUMBO STORAGE BAG SKULLS'}), confidence=0.27952329360780065, lift=6.449889714625908), OrderedStatistic(items_base=frozenset({'JUMBO STORAGE BAG SKULLS'}), items_add=frozenset({'JUMBO  BAG BAROQUE BLACK WHITE'}), confidence=0.3701578192252511, lift=6.449889714625908)]),\n",
            " RelationRecord(items=frozenset({'JUMBO  BAG BAROQUE BLACK WHITE', 'JUMBO STORAGE BAG SUKI'}), support=0.025554933781011004, ordered_statistics=[OrderedStatistic(items_base=frozenset({'JUMBO  BAG BAROQUE BLACK WHITE'}), items_add=frozenset({'JUMBO STORAGE BAG SUKI'}), confidence=0.4452871072589382, lift=6.1001299370063915), OrderedStatistic(items_base=frozenset({'JUMBO STORAGE BAG SUKI'}), items_add=frozenset({'JUMBO  BAG BAROQUE BLACK WHITE'}), confidence=0.35008517887563884, lift=6.1001299370063915)]),\n",
            " RelationRecord(items=frozenset({'JUMBO  BAG BAROQUE BLACK WHITE', 'RECYCLING BAG RETROSPOT '}), support=0.01280855561773301, ordered_statistics=[OrderedStatistic(items_base=frozenset({'JUMBO  BAG BAROQUE BLACK WHITE'}), items_add=frozenset({'RECYCLING BAG RETROSPOT '}), confidence=0.22318526543878656, lift=4.811646949131373), OrderedStatistic(items_base=frozenset({'RECYCLING BAG RETROSPOT '}), items_add=frozenset({'JUMBO  BAG BAROQUE BLACK WHITE'}), confidence=0.2761394101876676, lift=4.811646949131373)]),\n",
            " RelationRecord(items=frozenset({'RED RETROSPOT CHARLOTTE BAG', 'JUMBO  BAG BAROQUE BLACK WHITE'}), support=0.011751538891997761, ordered_statistics=[OrderedStatistic(items_base=frozenset({'JUMBO  BAG BAROQUE BLACK WHITE'}), items_add=frozenset({'RED RETROSPOT CHARLOTTE BAG'}), confidence=0.20476706392199348, lift=3.2255325064225473)]),\n",
            " RelationRecord(items=frozenset({\"JUMBO BAG 50'S CHRISTMAS \", 'JUMBO BAG ALPHABET'}), support=0.011440651619722688, ordered_statistics=[OrderedStatistic(items_base=frozenset({\"JUMBO BAG 50'S CHRISTMAS \"}), items_add=frozenset({'JUMBO BAG ALPHABET'}), confidence=0.2591549295774648, lift=4.625958637507621), OrderedStatistic(items_base=frozenset({'JUMBO BAG ALPHABET'}), items_add=frozenset({\"JUMBO BAG 50'S CHRISTMAS \"}), confidence=0.20421753607103219, lift=4.625958637507621)]),\n",
            " RelationRecord(items=frozenset({'JUMBO BAG APPLES', \"JUMBO BAG 50'S CHRISTMAS \"}), support=0.012062426164272834, ordered_statistics=[OrderedStatistic(items_base=frozenset({\"JUMBO BAG 50'S CHRISTMAS \"}), items_add=frozenset({'JUMBO BAG APPLES'}), confidence=0.27323943661971833, lift=4.530422535211268)]),\n",
            " RelationRecord(items=frozenset({\"JUMBO BAG 50'S CHRISTMAS \", 'JUMBO BAG VINTAGE DOILY '}), support=0.013927749797923272, ordered_statistics=[OrderedStatistic(items_base=frozenset({\"JUMBO BAG 50'S CHRISTMAS \"}), items_add=frozenset({'JUMBO BAG VINTAGE DOILY '}), confidence=0.3154929577464789, lift=7.207490396927017), OrderedStatistic(items_base=frozenset({'JUMBO BAG VINTAGE DOILY '}), items_add=frozenset({\"JUMBO BAG 50'S CHRISTMAS \"}), confidence=0.3181818181818182, lift=7.2074903969270165)]),\n",
            " RelationRecord(items=frozenset({'JUMBO BAG VINTAGE LEAF', \"JUMBO BAG 50'S CHRISTMAS \"}), support=0.01119194180190263, ordered_statistics=[OrderedStatistic(items_base=frozenset({\"JUMBO BAG 50'S CHRISTMAS \"}), items_add=frozenset({'JUMBO BAG VINTAGE LEAF'}), confidence=0.2535211267605634, lift=4.675894818451996), OrderedStatistic(items_base=frozenset({'JUMBO BAG VINTAGE LEAF'}), items_add=frozenset({\"JUMBO BAG 50'S CHRISTMAS \"}), confidence=0.20642201834862384, lift=4.675894818451996)]),\n",
            " RelationRecord(items=frozenset({\"JUMBO BAG 50'S CHRISTMAS \", 'JUMBO STORAGE BAG SUKI'}), support=0.010259279985077412, ordered_statistics=[OrderedStatistic(items_base=frozenset({\"JUMBO BAG 50'S CHRISTMAS \"}), items_add=frozenset({'JUMBO STORAGE BAG SUKI'}), confidence=0.23239436619718312, lift=3.1836444561748687)]),\n",
            " RelationRecord(items=frozenset({\"PAPER CHAIN KIT 50'S CHRISTMAS \", \"JUMBO BAG 50'S CHRISTMAS \"}), support=0.015855250886028727, ordered_statistics=[OrderedStatistic(items_base=frozenset({\"JUMBO BAG 50'S CHRISTMAS \"}), items_add=frozenset({\"PAPER CHAIN KIT 50'S CHRISTMAS \"}), confidence=0.3591549295774648, lift=5.071368509564852), OrderedStatistic(items_base=frozenset({\"PAPER CHAIN KIT 50'S CHRISTMAS \"}), items_add=frozenset({\"JUMBO BAG 50'S CHRISTMAS \"}), confidence=0.22388059701492538, lift=5.071368509564852)]),\n",
            " RelationRecord(items=frozenset({'PAPER CHAIN KIT VINTAGE CHRISTMAS', \"JUMBO BAG 50'S CHRISTMAS \"}), support=0.009264440713797176, ordered_statistics=[OrderedStatistic(items_base=frozenset({\"JUMBO BAG 50'S CHRISTMAS \"}), items_add=frozenset({'PAPER CHAIN KIT VINTAGE CHRISTMAS'}), confidence=0.20985915492957746, lift=4.166870109546165)]),\n",
            " RelationRecord(items=frozenset({'POPCORN HOLDER', \"JUMBO BAG 50'S CHRISTMAS \"}), support=0.009699682894982279, ordered_statistics=[OrderedStatistic(items_base=frozenset({\"JUMBO BAG 50'S CHRISTMAS \"}), items_add=frozenset({'POPCORN HOLDER'}), confidence=0.21971830985915491, lift=4.501566340719475)]),\n",
            " RelationRecord(items=frozenset({'JUMBO BAG APPLES', 'JUMBO BAG ALPHABET'}), support=0.02400049741963564, ordered_statistics=[OrderedStatistic(items_base=frozenset({'JUMBO BAG ALPHABET'}), items_add=frozenset({'JUMBO BAG APPLES'}), confidence=0.42841287458379584, lift=7.103262125702256), OrderedStatistic(items_base=frozenset({'JUMBO BAG APPLES'}), items_add=frozenset({'JUMBO BAG ALPHABET'}), confidence=0.3979381443298969, lift=7.103262125702255)]),\n",
            " RelationRecord(items=frozenset({'JUMBO BAG ALPHABET', 'JUMBO BAG PINK POLKADOT'}), support=0.016352670521668843, ordered_statistics=[OrderedStatistic(items_base=frozenset({'JUMBO BAG ALPHABET'}), items_add=frozenset({'JUMBO BAG PINK POLKADOT'}), confidence=0.2918978912319645, lift=3.899164272993094), OrderedStatistic(items_base=frozenset({'JUMBO BAG PINK POLKADOT'}), items_add=frozenset({'JUMBO BAG ALPHABET'}), confidence=0.21843853820598005, lift=3.8991642729930938)]),\n",
            " RelationRecord(items=frozenset({'JUMBO BAG ALPHABET', 'JUMBO BAG PINK VINTAGE PAISLEY'}), support=0.01280855561773301, ordered_statistics=[OrderedStatistic(items_base=frozenset({'JUMBO BAG ALPHABET'}), items_add=frozenset({'JUMBO BAG PINK VINTAGE PAISLEY'}), confidence=0.2286348501664817, lift=4.285704306791987), OrderedStatistic(items_base=frozenset({'JUMBO BAG PINK VINTAGE PAISLEY'}), items_add=frozenset({'JUMBO BAG ALPHABET'}), confidence=0.2400932400932401, lift=4.285704306791987)]),\n",
            " RelationRecord(items=frozenset({'JUMBO BAG ALPHABET', 'JUMBO BAG RED RETROSPOT'}), support=0.02518186905428092, ordered_statistics=[OrderedStatistic(items_base=frozenset({'JUMBO BAG ALPHABET'}), items_add=frozenset({'JUMBO BAG RED RETROSPOT'}), confidence=0.44950055493895674, lift=3.492423876851807)]),\n",
            " RelationRecord(items=frozenset({'JUMBO BAG SPACEBOY DESIGN', 'JUMBO BAG ALPHABET'}), support=0.011875893800907792, ordered_statistics=[OrderedStatistic(items_base=frozenset({'JUMBO BAG ALPHABET'}), items_add=frozenset({'JUMBO BAG SPACEBOY DESIGN'}), confidence=0.21198668146503888, lift=5.0137967617679715), OrderedStatistic(items_base=frozenset({'JUMBO BAG SPACEBOY DESIGN'}), items_add=frozenset({'JUMBO BAG ALPHABET'}), confidence=0.2808823529411765, lift=5.0137967617679715)]),\n",
            " RelationRecord(items=frozenset({'JUMBO BAG ALPHABET', 'JUMBO BAG STRAWBERRY'}), support=0.01212460361872785, ordered_statistics=[OrderedStatistic(items_base=frozenset({'JUMBO BAG ALPHABET'}), items_add=frozenset({'JUMBO BAG STRAWBERRY'}), confidence=0.21642619311875697, lift=4.255235285976734), OrderedStatistic(items_base=frozenset({'JUMBO BAG STRAWBERRY'}), items_add=frozenset({'JUMBO BAG ALPHABET'}), confidence=0.23838630806845965, lift=4.255235285976733)]),\n",
            " RelationRecord(items=frozenset({'JUMBO BAG ALPHABET', 'JUMBO BAG VINTAGE DOILY '}), support=0.011751538891997761, ordered_statistics=[OrderedStatistic(items_base=frozenset({'JUMBO BAG ALPHABET'}), items_add=frozenset({'JUMBO BAG VINTAGE DOILY '}), confidence=0.2097669256381798, lift=4.792161171930179), OrderedStatistic(items_base=frozenset({'JUMBO BAG VINTAGE DOILY '}), items_add=frozenset({'JUMBO BAG ALPHABET'}), confidence=0.26846590909090906, lift=4.792161171930179)]),\n",
            " RelationRecord(items=frozenset({'JUMBO BAG VINTAGE LEAF', 'JUMBO BAG ALPHABET'}), support=0.019399365789964557, ordered_statistics=[OrderedStatistic(items_base=frozenset({'JUMBO BAG ALPHABET'}), items_add=frozenset({'JUMBO BAG VINTAGE LEAF'}), confidence=0.3462819089900111, lift=6.386756814548565), OrderedStatistic(items_base=frozenset({'JUMBO BAG VINTAGE LEAF'}), items_add=frozenset({'JUMBO BAG ALPHABET'}), confidence=0.35779816513761464, lift=6.386756814548565)]),\n",
            " RelationRecord(items=frozenset({'JUMBO BAG ALPHABET', 'JUMBO BAG WOODLAND ANIMALS'}), support=0.012248958527637879, ordered_statistics=[OrderedStatistic(items_base=frozenset({'JUMBO BAG ALPHABET'}), items_add=frozenset({'JUMBO BAG WOODLAND ANIMALS'}), confidence=0.21864594894561598, lift=4.103247137563993), OrderedStatistic(items_base=frozenset({'JUMBO BAG WOODLAND ANIMALS'}), items_add=frozenset({'JUMBO BAG ALPHABET'}), confidence=0.22987164527421236, lift=4.103247137563993)]),\n",
            " RelationRecord(items=frozenset({'JUMBO SHOPPER VINTAGE RED PAISLEY', 'JUMBO BAG ALPHABET'}), support=0.01566871852266368, ordered_statistics=[OrderedStatistic(items_base=frozenset({'JUMBO BAG ALPHABET'}), items_add=frozenset({'JUMBO SHOPPER VINTAGE RED PAISLEY'}), confidence=0.27968923418423974, lift=3.844651242209511), OrderedStatistic(items_base=frozenset({'JUMBO SHOPPER VINTAGE RED PAISLEY'}), items_add=frozenset({'JUMBO BAG ALPHABET'}), confidence=0.21538461538461537, lift=3.8446512422095105)]),\n",
            " RelationRecord(items=frozenset({'JUMBO BAG ALPHABET', 'JUMBO STORAGE BAG SKULLS'}), support=0.011502829074177703, ordered_statistics=[OrderedStatistic(items_base=frozenset({'JUMBO BAG ALPHABET'}), items_add=frozenset({'JUMBO STORAGE BAG SKULLS'}), confidence=0.20532741398446172, lift=4.73784906615796), OrderedStatistic(items_base=frozenset({'JUMBO STORAGE BAG SKULLS'}), items_add=frozenset({'JUMBO BAG ALPHABET'}), confidence=0.2654232424677188, lift=4.73784906615796)]),\n",
            " RelationRecord(items=frozenset({'JUMBO BAG ALPHABET', 'JUMBO STORAGE BAG SUKI'}), support=0.017844929428589194, ordered_statistics=[OrderedStatistic(items_base=frozenset({'JUMBO BAG ALPHABET'}), items_add=frozenset({'JUMBO STORAGE BAG SUKI'}), confidence=0.31853496115427304, lift=4.363711908214798), OrderedStatistic(items_base=frozenset({'JUMBO STORAGE BAG SUKI'}), items_add=frozenset({'JUMBO BAG ALPHABET'}), confidence=0.2444633730834753, lift=4.363711908214799)]),\n",
            " RelationRecord(items=frozenset({'JUMBO BAG ALPHABET', 'LUNCH BAG ALPHABET DESIGN'}), support=0.015482186159298639, ordered_statistics=[OrderedStatistic(items_base=frozenset({'JUMBO BAG ALPHABET'}), items_add=frozenset({'LUNCH BAG ALPHABET DESIGN'}), confidence=0.2763596004439512, lift=6.139076593839872), OrderedStatistic(items_base=frozenset({'LUNCH BAG ALPHABET DESIGN'}), items_add=frozenset({'JUMBO BAG ALPHABET'}), confidence=0.34392265193370164, lift=6.139076593839871)]),\n",
            " RelationRecord(items=frozenset({'LUNCH BAG APPLE DESIGN', 'JUMBO BAG ALPHABET'}), support=0.013865572343468259, ordered_statistics=[OrderedStatistic(items_base=frozenset({'JUMBO BAG ALPHABET'}), items_add=frozenset({'LUNCH BAG APPLE DESIGN'}), confidence=0.2475027746947836, lift=3.9063661682200244), OrderedStatistic(items_base=frozenset({'LUNCH BAG APPLE DESIGN'}), items_add=frozenset({'JUMBO BAG ALPHABET'}), confidence=0.21884200196270856, lift=3.9063661682200244)]),\n",
            " RelationRecord(items=frozenset({'JUMBO BAG ALPHABET', 'LUNCH BAG SUKI DESIGN '}), support=0.011689361437542747, ordered_statistics=[OrderedStatistic(items_base=frozenset({'JUMBO BAG ALPHABET'}), items_add=frozenset({'LUNCH BAG SUKI DESIGN '}), confidence=0.2086570477247503, lift=3.14805937950953)]),\n",
            " RelationRecord(items=frozenset({'JUMBO BAG APPLES', 'JUMBO BAG PINK POLKADOT'}), support=0.022197351240440217, ordered_statistics=[OrderedStatistic(items_base=frozenset({'JUMBO BAG APPLES'}), items_add=frozenset({'JUMBO BAG PINK POLKADOT'}), confidence=0.36804123711340203, lift=4.916285063533924), OrderedStatistic(items_base=frozenset({'JUMBO BAG PINK POLKADOT'}), items_add=frozenset({'JUMBO BAG APPLES'}), confidence=0.2965116279069767, lift=4.916285063533924)]),\n",
            " RelationRecord(items=frozenset({'JUMBO BAG APPLES', 'JUMBO BAG PINK VINTAGE PAISLEY'}), support=0.015295653795933594, ordered_statistics=[OrderedStatistic(items_base=frozenset({'JUMBO BAG APPLES'}), items_add=frozenset({'JUMBO BAG PINK VINTAGE PAISLEY'}), confidence=0.2536082474226804, lift=4.753824525989475), OrderedStatistic(items_base=frozenset({'JUMBO BAG PINK VINTAGE PAISLEY'}), items_add=frozenset({'JUMBO BAG APPLES'}), confidence=0.2867132867132867, lift=4.753824525989474)]),\n",
            " RelationRecord(items=frozenset({'JUMBO BAG APPLES', 'JUMBO BAG RED RETROSPOT'}), support=0.03301622831561276, ordered_statistics=[OrderedStatistic(items_base=frozenset({'JUMBO BAG APPLES'}), items_add=frozenset({'JUMBO BAG RED RETROSPOT'}), confidence=0.5474226804123711, lift=4.253236216943074), OrderedStatistic(items_base=frozenset({'JUMBO BAG RED RETROSPOT'}), items_add=frozenset({'JUMBO BAG APPLES'}), confidence=0.25652173913043474, lift=4.253236216943074)]),\n",
            " RelationRecord(items=frozenset({'JUMBO BAG SPACEBOY DESIGN', 'JUMBO BAG APPLES'}), support=0.014798234160293477, ordered_statistics=[OrderedStatistic(items_base=frozenset({'JUMBO BAG APPLES'}), items_add=frozenset({'JUMBO BAG SPACEBOY DESIGN'}), confidence=0.245360824742268, lift=5.803144329896907), OrderedStatistic(items_base=frozenset({'JUMBO BAG SPACEBOY DESIGN'}), items_add=frozenset({'JUMBO BAG APPLES'}), confidence=0.35000000000000003, lift=5.803144329896908)]),\n",
            " RelationRecord(items=frozenset({'JUMBO BAG APPLES', 'JUMBO BAG STRAWBERRY'}), support=0.014176459615743332, ordered_statistics=[OrderedStatistic(items_base=frozenset({'JUMBO BAG APPLES'}), items_add=frozenset({'JUMBO BAG STRAWBERRY'}), confidence=0.23505154639175257, lift=4.62143523303002), OrderedStatistic(items_base=frozenset({'JUMBO BAG STRAWBERRY'}), items_add=frozenset({'JUMBO BAG APPLES'}), confidence=0.2787286063569682, lift=4.62143523303002)]),\n",
            " RelationRecord(items=frozenset({'JUMBO BAG APPLES', 'JUMBO BAG VINTAGE DOILY '}), support=0.01442516943356339, ordered_statistics=[OrderedStatistic(items_base=frozenset({'JUMBO BAG APPLES'}), items_add=frozenset({'JUMBO BAG VINTAGE DOILY '}), confidence=0.23917525773195875, lift=5.463999531396438), OrderedStatistic(items_base=frozenset({'JUMBO BAG VINTAGE DOILY '}), items_add=frozenset({'JUMBO BAG APPLES'}), confidence=0.32954545454545453, lift=5.463999531396438)]),\n",
            " RelationRecord(items=frozenset({'JUMBO BAG APPLES', 'JUMBO BAG VINTAGE LEAF'}), support=0.022072996331530186, ordered_statistics=[OrderedStatistic(items_base=frozenset({'JUMBO BAG APPLES'}), items_add=frozenset({'JUMBO BAG VINTAGE LEAF'}), confidence=0.36597938144329895, lift=6.75005320155112), OrderedStatistic(items_base=frozenset({'JUMBO BAG VINTAGE LEAF'}), items_add=frozenset({'JUMBO BAG APPLES'}), confidence=0.40711009174311924, lift=6.75005320155112)]),\n",
            " RelationRecord(items=frozenset({'JUMBO BAG APPLES', 'JUMBO BAG WOODLAND ANIMALS'}), support=0.018591058882049368, ordered_statistics=[OrderedStatistic(items_base=frozenset({'JUMBO BAG APPLES'}), items_add=frozenset({'JUMBO BAG WOODLAND ANIMALS'}), confidence=0.30824742268041233, lift=5.784764642904401), OrderedStatistic(items_base=frozenset({'JUMBO BAG WOODLAND ANIMALS'}), items_add=frozenset({'JUMBO BAG APPLES'}), confidence=0.34889148191365227, lift=5.784764642904401)]),\n",
            " RelationRecord(items=frozenset({'JUMBO SHOPPER VINTAGE RED PAISLEY', 'JUMBO BAG APPLES'}), support=0.020332027606789777, ordered_statistics=[OrderedStatistic(items_base=frozenset({'JUMBO BAG APPLES'}), items_add=frozenset({'JUMBO SHOPPER VINTAGE RED PAISLEY'}), confidence=0.33711340206185564, lift=4.634012688342585), OrderedStatistic(items_base=frozenset({'JUMBO SHOPPER VINTAGE RED PAISLEY'}), items_add=frozenset({'JUMBO BAG APPLES'}), confidence=0.2794871794871795, lift=4.634012688342585)]),\n",
            " RelationRecord(items=frozenset({'JUMBO BAG APPLES', 'JUMBO STORAGE BAG SKULLS'}), support=0.014736056705838463, ordered_statistics=[OrderedStatistic(items_base=frozenset({'JUMBO BAG APPLES'}), items_add=frozenset({'JUMBO STORAGE BAG SKULLS'}), confidence=0.2443298969072165, lift=5.6378159712464315), OrderedStatistic(items_base=frozenset({'JUMBO STORAGE BAG SKULLS'}), items_add=frozenset({'JUMBO BAG APPLES'}), confidence=0.3400286944045911, lift=5.6378159712464315)]),\n",
            " RelationRecord(items=frozenset({'JUMBO BAG APPLES', 'JUMBO STORAGE BAG SUKI'}), support=0.02294348069390039, ordered_statistics=[OrderedStatistic(items_base=frozenset({'JUMBO BAG APPLES'}), items_add=frozenset({'JUMBO STORAGE BAG SUKI'}), confidence=0.3804123711340206, lift=5.2113902597516635), OrderedStatistic(items_base=frozenset({'JUMBO STORAGE BAG SUKI'}), items_add=frozenset({'JUMBO BAG APPLES'}), confidence=0.31431005110732535, lift=5.2113902597516635)]),\n",
            " RelationRecord(items=frozenset({'JUMBO BAG APPLES', 'LUNCH BAG ALPHABET DESIGN'}), support=0.010570167257352483, ordered_statistics=[OrderedStatistic(items_base=frozenset({'LUNCH BAG ALPHABET DESIGN'}), items_add=frozenset({'JUMBO BAG APPLES'}), confidence=0.23480662983425413, lift=3.8931907501281535)]),\n",
            " RelationRecord(items=frozenset({'JUMBO BAG APPLES', 'LUNCH BAG APPLE DESIGN'}), support=0.022072996331530186, ordered_statistics=[OrderedStatistic(items_base=frozenset({'JUMBO BAG APPLES'}), items_add=frozenset({'LUNCH BAG APPLE DESIGN'}), confidence=0.36597938144329895, lift=5.776296753437269), OrderedStatistic(items_base=frozenset({'LUNCH BAG APPLE DESIGN'}), items_add=frozenset({'JUMBO BAG APPLES'}), confidence=0.34838076545632973, lift=5.7762967534372684)]),\n",
            " RelationRecord(items=frozenset({'JUMBO BAG APPLES', 'LUNCH BAG CARS BLUE'}), support=0.013679039980103214, ordered_statistics=[OrderedStatistic(items_base=frozenset({'JUMBO BAG APPLES'}), items_add=frozenset({'LUNCH BAG CARS BLUE'}), confidence=0.22680412371134018, lift=3.2053521279872443)]),\n",
            " RelationRecord(items=frozenset({'LUNCH BAG PINK POLKADOT', 'JUMBO BAG APPLES'}), support=0.0136168625256482, ordered_statistics=[OrderedStatistic(items_base=frozenset({'JUMBO BAG APPLES'}), items_add=frozenset({'LUNCH BAG PINK POLKADOT'}), confidence=0.22577319587628866, lift=3.365255152250557), OrderedStatistic(items_base=frozenset({'LUNCH BAG PINK POLKADOT'}), items_add=frozenset({'JUMBO BAG APPLES'}), confidence=0.2029657089898054, lift=3.365255152250557)]),\n",
            " RelationRecord(items=frozenset({'JUMBO BAG APPLES', 'LUNCH BAG SUKI DESIGN '}), support=0.014114282161288317, ordered_statistics=[OrderedStatistic(items_base=frozenset({'JUMBO BAG APPLES'}), items_add=frozenset({'LUNCH BAG SUKI DESIGN '}), confidence=0.234020618556701, lift=3.5307257113015216), OrderedStatistic(items_base=frozenset({'LUNCH BAG SUKI DESIGN '}), items_add=frozenset({'JUMBO BAG APPLES'}), confidence=0.21294559099437146, lift=3.5307257113015216)]),\n",
            " RelationRecord(items=frozenset({'JUMBO BAG APPLES', 'LUNCH BAG WOODLAND'}), support=0.012248958527637879, ordered_statistics=[OrderedStatistic(items_base=frozenset({'JUMBO BAG APPLES'}), items_add=frozenset({'LUNCH BAG WOODLAND'}), confidence=0.20309278350515464, lift=3.253327925411755)]),\n",
            " RelationRecord(items=frozenset({'JUMBO BAG APPLES', 'RECYCLING BAG RETROSPOT '}), support=0.012311135982092894, ordered_statistics=[OrderedStatistic(items_base=frozenset({'JUMBO BAG APPLES'}), items_add=frozenset({'RECYCLING BAG RETROSPOT '}), confidence=0.20412371134020618, lift=4.400699262043614), OrderedStatistic(items_base=frozenset({'RECYCLING BAG RETROSPOT '}), items_add=frozenset({'JUMBO BAG APPLES'}), confidence=0.26541554959785524, lift=4.400699262043614)]),\n",
            " RelationRecord(items=frozenset({'RED RETROSPOT CHARLOTTE BAG', 'JUMBO BAG APPLES'}), support=0.012870733072188025, ordered_statistics=[OrderedStatistic(items_base=frozenset({'JUMBO BAG APPLES'}), items_add=frozenset({'RED RETROSPOT CHARLOTTE BAG'}), confidence=0.2134020618556701, lift=3.3615527530115004), OrderedStatistic(items_base=frozenset({'RED RETROSPOT CHARLOTTE BAG'}), items_add=frozenset({'JUMBO BAG APPLES'}), confidence=0.20274240940254654, lift=3.361552753011501)]),\n",
            " RelationRecord(items=frozenset({'RED TOADSTOOL LED NIGHT LIGHT', 'JUMBO BAG APPLES'}), support=0.011378474165267674, ordered_statistics=[OrderedStatistic(items_base=frozenset({'RED TOADSTOOL LED NIGHT LIGHT'}), items_add=frozenset({'JUMBO BAG APPLES'}), confidence=0.21708185053380782, lift=3.5993066001394136)]),\n",
            " RelationRecord(items=frozenset({'JUMBO BAG APPLES', 'STRAWBERRY CHARLOTTE BAG'}), support=0.008953553441522105, ordered_statistics=[OrderedStatistic(items_base=frozenset({'STRAWBERRY CHARLOTTE BAG'}), items_add=frozenset({'JUMBO BAG APPLES'}), confidence=0.20055710306406688, lift=3.325319472762255)]),\n",
            " RelationRecord(items=frozenset({'JUMBO BAG APPLES', 'WOODLAND CHARLOTTE BAG'}), support=0.010694522166262514, ordered_statistics=[OrderedStatistic(items_base=frozenset({'WOODLAND CHARLOTTE BAG'}), items_add=frozenset({'JUMBO BAG APPLES'}), confidence=0.20823244552058112, lift=3.452579815780934)]),\n",
            " RelationRecord(items=frozenset({'JUMBO BAG PINK VINTAGE PAISLEY', 'JUMBO BAG PINK POLKADOT'}), support=0.023254367966175464, ordered_statistics=[OrderedStatistic(items_base=frozenset({'JUMBO BAG PINK POLKADOT'}), items_add=frozenset({'JUMBO BAG PINK VINTAGE PAISLEY'}), confidence=0.3106312292358804, lift=5.822706363404038), OrderedStatistic(items_base=frozenset({'JUMBO BAG PINK VINTAGE PAISLEY'}), items_add=frozenset({'JUMBO BAG PINK POLKADOT'}), confidence=0.4358974358974359, lift=5.822706363404038)]),\n",
            " RelationRecord(items=frozenset({'JUMBO BAG RED RETROSPOT', 'JUMBO BAG PINK POLKADOT'}), support=0.050052850836286765, ordered_statistics=[OrderedStatistic(items_base=frozenset({'JUMBO BAG PINK POLKADOT'}), items_add=frozenset({'JUMBO BAG RED RETROSPOT'}), confidence=0.6686046511627907, lift=5.194767441860464), OrderedStatistic(items_base=frozenset({'JUMBO BAG RED RETROSPOT'}), items_add=frozenset({'JUMBO BAG PINK POLKADOT'}), confidence=0.3888888888888889, lift=5.194767441860465)]),\n",
            " RelationRecord(items=frozenset({'JUMBO BAG SPACEBOY DESIGN', 'JUMBO BAG PINK POLKADOT'}), support=0.020705092333519866, ordered_statistics=[OrderedStatistic(items_base=frozenset({'JUMBO BAG PINK POLKADOT'}), items_add=frozenset({'JUMBO BAG SPACEBOY DESIGN'}), confidence=0.276578073089701, lift=6.541478161031855), OrderedStatistic(items_base=frozenset({'JUMBO BAG SPACEBOY DESIGN'}), items_add=frozenset({'JUMBO BAG PINK POLKADOT'}), confidence=0.4897058823529412, lift=6.541478161031855)]),\n",
            " RelationRecord(items=frozenset({'JUMBO BAG STRAWBERRY', 'JUMBO BAG PINK POLKADOT'}), support=0.021078157060249954, ordered_statistics=[OrderedStatistic(items_base=frozenset({'JUMBO BAG PINK POLKADOT'}), items_add=frozenset({'JUMBO BAG STRAWBERRY'}), confidence=0.2815614617940199, lift=5.53588385089636), OrderedStatistic(items_base=frozenset({'JUMBO BAG STRAWBERRY'}), items_add=frozenset({'JUMBO BAG PINK POLKADOT'}), confidence=0.41442542787286063, lift=5.53588385089636)]),\n",
            " RelationRecord(items=frozenset({'JUMBO BAG VINTAGE DOILY ', 'JUMBO BAG PINK POLKADOT'}), support=0.011813716346452776, ordered_statistics=[OrderedStatistic(items_base=frozenset({'JUMBO BAG VINTAGE DOILY '}), items_add=frozenset({'JUMBO BAG PINK POLKADOT'}), confidence=0.26988636363636365, lift=3.605134872395047)]),\n",
            " RelationRecord(items=frozenset({'JUMBO BAG VINTAGE LEAF', 'JUMBO BAG PINK POLKADOT'}), support=0.014549524342473419, ordered_statistics=[OrderedStatistic(items_base=frozenset({'JUMBO BAG VINTAGE LEAF'}), items_add=frozenset({'JUMBO BAG PINK POLKADOT'}), confidence=0.268348623853211, lift=3.584593785241854)]),\n",
            " RelationRecord(items=frozenset({'JUMBO BAG WOODLAND ANIMALS', 'JUMBO BAG PINK POLKADOT'}), support=0.026238885780016166, ordered_statistics=[OrderedStatistic(items_base=frozenset({'JUMBO BAG PINK POLKADOT'}), items_add=frozenset({'JUMBO BAG WOODLAND ANIMALS'}), confidence=0.35049833887043186, lift=6.577671860038688), OrderedStatistic(items_base=frozenset({'JUMBO BAG WOODLAND ANIMALS'}), items_add=frozenset({'JUMBO BAG PINK POLKADOT'}), confidence=0.49241540256709454, lift=6.577671860038689)]),\n",
            " RelationRecord(items=frozenset({'JUMBO SHOPPER VINTAGE RED PAISLEY', 'JUMBO BAG PINK POLKADOT'}), support=0.028788161412671764, ordered_statistics=[OrderedStatistic(items_base=frozenset({'JUMBO BAG PINK POLKADOT'}), items_add=frozenset({'JUMBO SHOPPER VINTAGE RED PAISLEY'}), confidence=0.3845514950166113, lift=5.286104012266803), OrderedStatistic(items_base=frozenset({'JUMBO SHOPPER VINTAGE RED PAISLEY'}), items_add=frozenset({'JUMBO BAG PINK POLKADOT'}), confidence=0.3957264957264957, lift=5.286104012266803)]),\n",
            " RelationRecord(items=frozenset({'JUMBO STORAGE BAG SKULLS', 'JUMBO BAG PINK POLKADOT'}), support=0.020021140334514704, ordered_statistics=[OrderedStatistic(items_base=frozenset({'JUMBO BAG PINK POLKADOT'}), items_add=frozenset({'JUMBO STORAGE BAG SKULLS'}), confidence=0.26744186046511625, lift=6.171115411564512), OrderedStatistic(items_base=frozenset({'JUMBO STORAGE BAG SKULLS'}), items_add=frozenset({'JUMBO BAG PINK POLKADOT'}), confidence=0.4619799139167862, lift=6.171115411564512)]),\n",
            " RelationRecord(items=frozenset({'JUMBO STORAGE BAG SUKI', 'JUMBO BAG PINK POLKADOT'}), support=0.03127525959087235, ordered_statistics=[OrderedStatistic(items_base=frozenset({'JUMBO BAG PINK POLKADOT'}), items_add=frozenset({'JUMBO STORAGE BAG SUKI'}), confidence=0.41777408637873753, lift=5.723220299173113), OrderedStatistic(items_base=frozenset({'JUMBO STORAGE BAG SUKI'}), items_add=frozenset({'JUMBO BAG PINK POLKADOT'}), confidence=0.4284497444633731, lift=5.723220299173113)]),\n",
            " RelationRecord(items=frozenset({'LUNCH BAG PINK POLKADOT', 'JUMBO BAG PINK POLKADOT'}), support=0.018155816700864268, ordered_statistics=[OrderedStatistic(items_base=frozenset({'JUMBO BAG PINK POLKADOT'}), items_add=frozenset({'LUNCH BAG PINK POLKADOT'}), confidence=0.2425249169435216, lift=3.6149473949978295), OrderedStatistic(items_base=frozenset({'LUNCH BAG PINK POLKADOT'}), items_add=frozenset({'JUMBO BAG PINK POLKADOT'}), confidence=0.2706209453197405, lift=3.6149473949978295)]),\n",
            " RelationRecord(items=frozenset({'RECYCLING BAG RETROSPOT ', 'JUMBO BAG PINK POLKADOT'}), support=0.018404526518684326, ordered_statistics=[OrderedStatistic(items_base=frozenset({'JUMBO BAG PINK POLKADOT'}), items_add=frozenset({'RECYCLING BAG RETROSPOT '}), confidence=0.24584717607973422, lift=5.3002146553490155), OrderedStatistic(items_base=frozenset({'RECYCLING BAG RETROSPOT '}), items_add=frozenset({'JUMBO BAG PINK POLKADOT'}), confidence=0.39678284182305634, lift=5.3002146553490155)]),\n",
            " RelationRecord(items=frozenset({'RED RETROSPOT CHARLOTTE BAG', 'JUMBO BAG PINK POLKADOT'}), support=0.014549524342473419, ordered_statistics=[OrderedStatistic(items_base=frozenset({'RED RETROSPOT CHARLOTTE BAG'}), items_add=frozenset({'JUMBO BAG PINK POLKADOT'}), confidence=0.22918707149853085, lift=3.0614748097266373)]),\n",
            " RelationRecord(items=frozenset({'RED TOADSTOOL LED NIGHT LIGHT', 'JUMBO BAG PINK POLKADOT'}), support=0.012497668345457937, ordered_statistics=[OrderedStatistic(items_base=frozenset({'RED TOADSTOOL LED NIGHT LIGHT'}), items_add=frozenset({'JUMBO BAG PINK POLKADOT'}), confidence=0.2384341637010676, lift=3.184997221598231)]),\n",
            " RelationRecord(items=frozenset({'JUMBO BAG RED RETROSPOT', 'JUMBO BAG PINK VINTAGE PAISLEY'}), support=0.031586146863147424, ordered_statistics=[OrderedStatistic(items_base=frozenset({'JUMBO BAG PINK VINTAGE PAISLEY'}), items_add=frozenset({'JUMBO BAG RED RETROSPOT'}), confidence=0.5920745920745921, lift=4.600162156683896), OrderedStatistic(items_base=frozenset({'JUMBO BAG RED RETROSPOT'}), items_add=frozenset({'JUMBO BAG PINK VINTAGE PAISLEY'}), confidence=0.24541062801932365, lift=4.600162156683895)]),\n",
            " RelationRecord(items=frozenset({'JUMBO BAG SPACEBOY DESIGN', 'JUMBO BAG PINK VINTAGE PAISLEY'}), support=0.012497668345457937, ordered_statistics=[OrderedStatistic(items_base=frozenset({'JUMBO BAG PINK VINTAGE PAISLEY'}), items_add=frozenset({'JUMBO BAG SPACEBOY DESIGN'}), confidence=0.23426573426573427, lift=5.54072912381736), OrderedStatistic(items_base=frozenset({'JUMBO BAG SPACEBOY DESIGN'}), items_add=frozenset({'JUMBO BAG PINK VINTAGE PAISLEY'}), confidence=0.29558823529411765, lift=5.54072912381736)]),\n",
            " RelationRecord(items=frozenset({'JUMBO BAG STRAWBERRY', 'JUMBO BAG PINK VINTAGE PAISLEY'}), support=0.017596219610769136, ordered_statistics=[OrderedStatistic(items_base=frozenset({'JUMBO BAG PINK VINTAGE PAISLEY'}), items_add=frozenset({'JUMBO BAG STRAWBERRY'}), confidence=0.3298368298368299, lift=6.485043684921436), OrderedStatistic(items_base=frozenset({'JUMBO BAG STRAWBERRY'}), items_add=frozenset({'JUMBO BAG PINK VINTAGE PAISLEY'}), confidence=0.34596577017114916, lift=6.485043684921436)]),\n",
            " RelationRecord(items=frozenset({'JUMBO BAG VINTAGE DOILY ', 'JUMBO BAG PINK VINTAGE PAISLEY'}), support=0.008829198532612074, ordered_statistics=[OrderedStatistic(items_base=frozenset({'JUMBO BAG VINTAGE DOILY '}), items_add=frozenset({'JUMBO BAG PINK VINTAGE PAISLEY'}), confidence=0.20170454545454544, lift=3.7809023363000636)]),\n",
            " RelationRecord(items=frozenset({'JUMBO BAG VINTAGE LEAF', 'JUMBO BAG PINK VINTAGE PAISLEY'}), support=0.012373313436547908, ordered_statistics=[OrderedStatistic(items_base=frozenset({'JUMBO BAG PINK VINTAGE PAISLEY'}), items_add=frozenset({'JUMBO BAG VINTAGE LEAF'}), confidence=0.23193473193473194, lift=4.2777595111310704), OrderedStatistic(items_base=frozenset({'JUMBO BAG VINTAGE LEAF'}), items_add=frozenset({'JUMBO BAG PINK VINTAGE PAISLEY'}), confidence=0.22821100917431192, lift=4.2777595111310704)]),\n",
            " RelationRecord(items=frozenset({'JUMBO BAG WOODLAND ANIMALS', 'JUMBO BAG PINK VINTAGE PAISLEY'}), support=0.017347509792949075, ordered_statistics=[OrderedStatistic(items_base=frozenset({'JUMBO BAG PINK VINTAGE PAISLEY'}), items_add=frozenset({'JUMBO BAG WOODLAND ANIMALS'}), confidence=0.32517482517482516, lift=6.102434904651941), OrderedStatistic(items_base=frozenset({'JUMBO BAG WOODLAND ANIMALS'}), items_add=frozenset({'JUMBO BAG PINK VINTAGE PAISLEY'}), confidence=0.3255542590431738, lift=6.102434904651941)]),\n",
            " RelationRecord(items=frozenset({'JUMBO SHOPPER VINTAGE RED PAISLEY', 'JUMBO BAG PINK VINTAGE PAISLEY'}), support=0.025492756326555992, ordered_statistics=[OrderedStatistic(items_base=frozenset({'JUMBO BAG PINK VINTAGE PAISLEY'}), items_add=frozenset({'JUMBO SHOPPER VINTAGE RED PAISLEY'}), confidence=0.47785547785547794, lift=6.568674914828763), OrderedStatistic(items_base=frozenset({'JUMBO SHOPPER VINTAGE RED PAISLEY'}), items_add=frozenset({'JUMBO BAG PINK VINTAGE PAISLEY'}), confidence=0.35042735042735046, lift=6.568674914828762)]),\n",
            " RelationRecord(items=frozenset({'JUMBO STORAGE BAG SKULLS', 'JUMBO BAG PINK VINTAGE PAISLEY'}), support=0.015171298887023565, ordered_statistics=[OrderedStatistic(items_base=frozenset({'JUMBO BAG PINK VINTAGE PAISLEY'}), items_add=frozenset({'JUMBO STORAGE BAG SKULLS'}), confidence=0.2843822843822844, lift=6.562009009641722), OrderedStatistic(items_base=frozenset({'JUMBO STORAGE BAG SKULLS'}), items_add=frozenset({'JUMBO BAG PINK VINTAGE PAISLEY'}), confidence=0.3500717360114778, lift=6.562009009641722)]),\n",
            " RelationRecord(items=frozenset({'JUMBO BAG PINK VINTAGE PAISLEY', 'JUMBO STORAGE BAG SUKI'}), support=0.022259528694895232, ordered_statistics=[OrderedStatistic(items_base=frozenset({'JUMBO BAG PINK VINTAGE PAISLEY'}), items_add=frozenset({'JUMBO STORAGE BAG SUKI'}), confidence=0.4172494172494173, lift=5.716032689627238), OrderedStatistic(items_base=frozenset({'JUMBO STORAGE BAG SUKI'}), items_add=frozenset({'JUMBO BAG PINK VINTAGE PAISLEY'}), confidence=0.3049403747870528, lift=5.716032689627239)]),\n",
            " RelationRecord(items=frozenset({'LUNCH BAG PINK POLKADOT', 'JUMBO BAG PINK VINTAGE PAISLEY'}), support=0.011875893800907792, ordered_statistics=[OrderedStatistic(items_base=frozenset({'JUMBO BAG PINK VINTAGE PAISLEY'}), items_add=frozenset({'LUNCH BAG PINK POLKADOT'}), confidence=0.22261072261072265, lift=3.318117008107741)]),\n",
            " RelationRecord(items=frozenset({'JUMBO BAG PINK VINTAGE PAISLEY', 'LUNCH BAG WOODLAND'}), support=0.0110675868929926, ordered_statistics=[OrderedStatistic(items_base=frozenset({'JUMBO BAG PINK VINTAGE PAISLEY'}), items_add=frozenset({'LUNCH BAG WOODLAND'}), confidence=0.20745920745920748, lift=3.3232733402056116)]),\n",
            " RelationRecord(items=frozenset({'RECYCLING BAG RETROSPOT ', 'JUMBO BAG PINK VINTAGE PAISLEY'}), support=0.011129764347447616, ordered_statistics=[OrderedStatistic(items_base=frozenset({'JUMBO BAG PINK VINTAGE PAISLEY'}), items_add=frozenset({'RECYCLING BAG RETROSPOT '}), confidence=0.20862470862470864, lift=4.497736178031085), OrderedStatistic(items_base=frozenset({'RECYCLING BAG RETROSPOT '}), items_add=frozenset({'JUMBO BAG PINK VINTAGE PAISLEY'}), confidence=0.23994638069705096, lift=4.497736178031085)]),\n",
            " RelationRecord(items=frozenset({'RED RETROSPOT CHARLOTTE BAG', 'JUMBO BAG PINK VINTAGE PAISLEY'}), support=0.01280855561773301, ordered_statistics=[OrderedStatistic(items_base=frozenset({'JUMBO BAG PINK VINTAGE PAISLEY'}), items_add=frozenset({'RED RETROSPOT CHARLOTTE BAG'}), confidence=0.2400932400932401, lift=3.781997630185681), OrderedStatistic(items_base=frozenset({'RED RETROSPOT CHARLOTTE BAG'}), items_add=frozenset({'JUMBO BAG PINK VINTAGE PAISLEY'}), confidence=0.2017629774730656, lift=3.781997630185681)]),\n",
            " RelationRecord(items=frozenset({'STRAWBERRY CHARLOTTE BAG', 'JUMBO BAG PINK VINTAGE PAISLEY'}), support=0.010197102530622396, ordered_statistics=[OrderedStatistic(items_base=frozenset({'STRAWBERRY CHARLOTTE BAG'}), items_add=frozenset({'JUMBO BAG PINK VINTAGE PAISLEY'}), confidence=0.2284122562674095, lift=4.281531838634903)]),\n",
            " RelationRecord(items=frozenset({'WOODLAND CHARLOTTE BAG', 'JUMBO BAG PINK VINTAGE PAISLEY'}), support=0.010694522166262514, ordered_statistics=[OrderedStatistic(items_base=frozenset({'JUMBO BAG PINK VINTAGE PAISLEY'}), items_add=frozenset({'WOODLAND CHARLOTTE BAG'}), confidence=0.20046620046620048, lift=3.903266225300124), OrderedStatistic(items_base=frozenset({'WOODLAND CHARLOTTE BAG'}), items_add=frozenset({'JUMBO BAG PINK VINTAGE PAISLEY'}), confidence=0.20823244552058112, lift=3.903266225300124)]),\n",
            " RelationRecord(items=frozenset({'JUMBO BAG SPACEBOY DESIGN', 'JUMBO BAG RED RETROSPOT'}), support=0.02617670832556115, ordered_statistics=[OrderedStatistic(items_base=frozenset({'JUMBO BAG RED RETROSPOT'}), items_add=frozenset({'JUMBO BAG SPACEBOY DESIGN'}), confidence=0.20338164251207727, lift=4.810274936061381), OrderedStatistic(items_base=frozenset({'JUMBO BAG SPACEBOY DESIGN'}), items_add=frozenset({'JUMBO BAG RED RETROSPOT'}), confidence=0.6191176470588236, lift=4.810274936061381)]),\n",
            " RelationRecord(items=frozenset({'JUMBO BAG RED RETROSPOT', 'JUMBO BAG STRAWBERRY'}), support=0.0327675184977927, ordered_statistics=[OrderedStatistic(items_base=frozenset({'JUMBO BAG RED RETROSPOT'}), items_add=frozenset({'JUMBO BAG STRAWBERRY'}), confidence=0.25458937198067627, lift=5.005575635165301), OrderedStatistic(items_base=frozenset({'JUMBO BAG STRAWBERRY'}), items_add=frozenset({'JUMBO BAG RED RETROSPOT'}), confidence=0.6442542787286063, lift=5.005575635165301)]),\n",
            " RelationRecord(items=frozenset({'JUMBO BAG VINTAGE DOILY ', 'JUMBO BAG RED RETROSPOT'}), support=0.021762109059255113, ordered_statistics=[OrderedStatistic(items_base=frozenset({'JUMBO BAG VINTAGE DOILY '}), items_add=frozenset({'JUMBO BAG RED RETROSPOT'}), confidence=0.4971590909090909, lift=3.8627099802371534)]),\n",
            " RelationRecord(items=frozenset({'JUMBO BAG VINTAGE LEAF', 'JUMBO BAG RED RETROSPOT'}), support=0.025927998507741093, ordered_statistics=[OrderedStatistic(items_base=frozenset({'JUMBO BAG RED RETROSPOT'}), items_add=frozenset({'JUMBO BAG VINTAGE LEAF'}), confidence=0.20144927536231882, lift=3.7154916234543274), OrderedStatistic(items_base=frozenset({'JUMBO BAG VINTAGE LEAF'}), items_add=frozenset({'JUMBO BAG RED RETROSPOT'}), confidence=0.4782110091743119, lift=3.7154916234543274)]),\n",
            " RelationRecord(items=frozenset({'JUMBO BAG RED RETROSPOT', 'JUMBO BAG WOODLAND ANIMALS'}), support=0.032580986134427656, ordered_statistics=[OrderedStatistic(items_base=frozenset({'JUMBO BAG RED RETROSPOT'}), items_add=frozenset({'JUMBO BAG WOODLAND ANIMALS'}), confidence=0.25314009661835746, lift=4.750585967226422), OrderedStatistic(items_base=frozenset({'JUMBO BAG WOODLAND ANIMALS'}), items_add=frozenset({'JUMBO BAG RED RETROSPOT'}), confidence=0.6114352392065344, lift=4.750585967226422)]),\n",
            " RelationRecord(items=frozenset({'JUMBO SHOPPER VINTAGE RED PAISLEY', 'JUMBO BAG RED RETROSPOT'}), support=0.041845426848224836, ordered_statistics=[OrderedStatistic(items_base=frozenset({'JUMBO BAG RED RETROSPOT'}), items_add=frozenset({'JUMBO SHOPPER VINTAGE RED PAISLEY'}), confidence=0.32512077294685987, lift=4.469160163507989), OrderedStatistic(items_base=frozenset({'JUMBO SHOPPER VINTAGE RED PAISLEY'}), items_add=frozenset({'JUMBO BAG RED RETROSPOT'}), confidence=0.5752136752136753, lift=4.46916016350799)]),\n",
            " RelationRecord(items=frozenset({'JUMBO STORAGE BAG SKULLS', 'JUMBO BAG RED RETROSPOT'}), support=0.02518186905428092, ordered_statistics=[OrderedStatistic(items_base=frozenset({'JUMBO STORAGE BAG SKULLS'}), items_add=frozenset({'JUMBO BAG RED RETROSPOT'}), confidence=0.5810616929698709, lift=4.514596718857214)]),\n",
            " RelationRecord(items=frozenset({'JUMBO BAG RED RETROSPOT', 'JUMBO STORAGE BAG SUKI'}), support=0.04408381520860536, ordered_statistics=[OrderedStatistic(items_base=frozenset({'JUMBO BAG RED RETROSPOT'}), items_add=frozenset({'JUMBO STORAGE BAG SUKI'}), confidence=0.34251207729468597, lift=4.692182060588104), OrderedStatistic(items_base=frozenset({'JUMBO STORAGE BAG SUKI'}), items_add=frozenset({'JUMBO BAG RED RETROSPOT'}), confidence=0.6039182282793867, lift=4.692182060588104)]),\n",
            " RelationRecord(items=frozenset({'JUMBO BAG RED RETROSPOT', 'RECYCLING BAG RETROSPOT '}), support=0.025430578872100977, ordered_statistics=[OrderedStatistic(items_base=frozenset({'RECYCLING BAG RETROSPOT '}), items_add=frozenset({'JUMBO BAG RED RETROSPOT'}), confidence=0.5482573726541555, lift=4.259721412752069)]),\n",
            " RelationRecord(items=frozenset({'RED RETROSPOT CHARLOTTE BAG', 'JUMBO BAG RED RETROSPOT'}), support=0.025865821053286078, ordered_statistics=[OrderedStatistic(items_base=frozenset({'JUMBO BAG RED RETROSPOT'}), items_add=frozenset({'RED RETROSPOT CHARLOTTE BAG'}), confidence=0.2009661835748792, lift=3.1656602648724603), OrderedStatistic(items_base=frozenset({'RED RETROSPOT CHARLOTTE BAG'}), items_add=frozenset({'JUMBO BAG RED RETROSPOT'}), confidence=0.40744368266405484, lift=3.1656602648724608)]),\n",
            " RelationRecord(items=frozenset({'JUMBO BAG SPACEBOY DESIGN', 'JUMBO BAG STRAWBERRY'}), support=0.011502829074177703, ordered_statistics=[OrderedStatistic(items_base=frozenset({'JUMBO BAG SPACEBOY DESIGN'}), items_add=frozenset({'JUMBO BAG STRAWBERRY'}), confidence=0.2720588235294118, lift=5.349048971666907), OrderedStatistic(items_base=frozenset({'JUMBO BAG STRAWBERRY'}), items_add=frozenset({'JUMBO BAG SPACEBOY DESIGN'}), confidence=0.22616136919315402, lift=5.349048971666907)]),\n",
            " RelationRecord(items=frozenset({'JUMBO BAG SPACEBOY DESIGN', 'JUMBO BAG VINTAGE LEAF'}), support=0.01050798980289747, ordered_statistics=[OrderedStatistic(items_base=frozenset({'JUMBO BAG SPACEBOY DESIGN'}), items_add=frozenset({'JUMBO BAG VINTAGE LEAF'}), confidence=0.24852941176470592, lift=4.58382858877496)]),\n",
            " RelationRecord(items=frozenset({'JUMBO BAG SPACEBOY DESIGN', 'JUMBO BAG WOODLAND ANIMALS'}), support=0.01790710688304421, ordered_statistics=[OrderedStatistic(items_base=frozenset({'JUMBO BAG SPACEBOY DESIGN'}), items_add=frozenset({'JUMBO BAG WOODLAND ANIMALS'}), confidence=0.42352941176470593, lift=7.9482188207838576), OrderedStatistic(items_base=frozenset({'JUMBO BAG WOODLAND ANIMALS'}), items_add=frozenset({'JUMBO BAG SPACEBOY DESIGN'}), confidence=0.33605600933488916, lift=7.948218820783857)]),\n",
            " RelationRecord(items=frozenset({'JUMBO BAG SPACEBOY DESIGN', 'JUMBO SHOPPER VINTAGE RED PAISLEY'}), support=0.016787912702853944, ordered_statistics=[OrderedStatistic(items_base=frozenset({'JUMBO BAG SPACEBOY DESIGN'}), items_add=frozenset({'JUMBO SHOPPER VINTAGE RED PAISLEY'}), confidence=0.39705882352941174, lift=5.4580316742081445), OrderedStatistic(items_base=frozenset({'JUMBO SHOPPER VINTAGE RED PAISLEY'}), items_add=frozenset({'JUMBO BAG SPACEBOY DESIGN'}), confidence=0.23076923076923075, lift=5.4580316742081445)]),\n",
            " RelationRecord(items=frozenset({'JUMBO BAG SPACEBOY DESIGN', 'JUMBO STORAGE BAG SKULLS'}), support=0.0136168625256482, ordered_statistics=[OrderedStatistic(items_base=frozenset({'JUMBO BAG SPACEBOY DESIGN'}), items_add=frozenset({'JUMBO STORAGE BAG SKULLS'}), confidence=0.3220588235294118, lift=7.43138028525614), OrderedStatistic(items_base=frozenset({'JUMBO STORAGE BAG SKULLS'}), items_add=frozenset({'JUMBO BAG SPACEBOY DESIGN'}), confidence=0.31420373027259685, lift=7.43138028525614)]),\n",
            " RelationRecord(items=frozenset({'JUMBO BAG SPACEBOY DESIGN', 'JUMBO STORAGE BAG SUKI'}), support=0.02089162469688491, ordered_statistics=[OrderedStatistic(items_base=frozenset({'JUMBO BAG SPACEBOY DESIGN'}), items_add=frozenset({'JUMBO STORAGE BAG SUKI'}), confidence=0.49411764705882355, lift=6.769075057621004), OrderedStatistic(items_base=frozenset({'JUMBO STORAGE BAG SUKI'}), items_add=frozenset({'JUMBO BAG SPACEBOY DESIGN'}), confidence=0.28620102214650767, lift=6.769075057621005)]),\n",
            " RelationRecord(items=frozenset({'JUMBO BAG SPACEBOY DESIGN', 'LUNCH BAG PINK POLKADOT'}), support=0.008704843623702045, ordered_statistics=[OrderedStatistic(items_base=frozenset({'JUMBO BAG SPACEBOY DESIGN'}), items_add=frozenset({'LUNCH BAG PINK POLKADOT'}), confidence=0.2058823529411765, lift=3.0687728288720497)]),\n",
            " RelationRecord(items=frozenset({'JUMBO BAG SPACEBOY DESIGN', 'LUNCH BAG RED RETROSPOT'}), support=0.012622023254367966, ordered_statistics=[OrderedStatistic(items_base=frozenset({'JUMBO BAG SPACEBOY DESIGN'}), items_add=frozenset({'LUNCH BAG RED RETROSPOT'}), confidence=0.2985294117647059, lift=3.1035866382752197)]),\n",
            " RelationRecord(items=frozenset({'JUMBO BAG SPACEBOY DESIGN', 'LUNCH BAG SPACEBOY DESIGN '}), support=0.011627183983087732, ordered_statistics=[OrderedStatistic(items_base=frozenset({'JUMBO BAG SPACEBOY DESIGN'}), items_add=frozenset({'LUNCH BAG SPACEBOY DESIGN '}), confidence=0.275, lift=3.8459347826086963)]),\n",
            " RelationRecord(items=frozenset({'JUMBO BAG SPACEBOY DESIGN', 'LUNCH BAG WOODLAND'}), support=0.00876702107815706, ordered_statistics=[OrderedStatistic(items_base=frozenset({'JUMBO BAG SPACEBOY DESIGN'}), items_add=frozenset({'LUNCH BAG WOODLAND'}), confidence=0.2073529411764706, lift=3.3215710686665108)]),\n",
            " RelationRecord(items=frozenset({'JUMBO BAG SPACEBOY DESIGN', 'RECYCLING BAG RETROSPOT '}), support=0.011565006528632718, ordered_statistics=[OrderedStatistic(items_base=frozenset({'JUMBO BAG SPACEBOY DESIGN'}), items_add=frozenset({'RECYCLING BAG RETROSPOT '}), confidence=0.2735294117647059, lift=5.8970154549755565), OrderedStatistic(items_base=frozenset({'RECYCLING BAG RETROSPOT '}), items_add=frozenset({'JUMBO BAG SPACEBOY DESIGN'}), confidence=0.24932975871313676, lift=5.897015454975557)]),\n",
            " RelationRecord(items=frozenset({'RED RETROSPOT CHARLOTTE BAG', 'JUMBO BAG SPACEBOY DESIGN'}), support=0.009015730895977118, ordered_statistics=[OrderedStatistic(items_base=frozenset({'JUMBO BAG SPACEBOY DESIGN'}), items_add=frozenset({'RED RETROSPOT CHARLOTTE BAG'}), confidence=0.21323529411764708, lift=3.358925793627931)]),\n",
            " RelationRecord(items=frozenset({'JUMBO BAG SPACEBOY DESIGN', 'RED TOADSTOOL LED NIGHT LIGHT'}), support=0.008953553441522105, ordered_statistics=[OrderedStatistic(items_base=frozenset({'JUMBO BAG SPACEBOY DESIGN'}), items_add=frozenset({'RED TOADSTOOL LED NIGHT LIGHT'}), confidence=0.21176470588235297, lift=4.040108854929873)]),\n",
            " RelationRecord(items=frozenset({'JUMBO BAG SPACEBOY DESIGN', 'SPACEBOY LUNCH BOX '}), support=0.00889137598706709, ordered_statistics=[OrderedStatistic(items_base=frozenset({'JUMBO BAG SPACEBOY DESIGN'}), items_add=frozenset({'SPACEBOY LUNCH BOX '}), confidence=0.21029411764705885, lift=3.778950049293461)]),\n",
            " RelationRecord(items=frozenset({'JUMBO BAG VINTAGE LEAF', 'JUMBO BAG STRAWBERRY'}), support=0.012870733072188025, ordered_statistics=[OrderedStatistic(items_base=frozenset({'JUMBO BAG STRAWBERRY'}), items_add=frozenset({'JUMBO BAG VINTAGE LEAF'}), confidence=0.25305623471882643, lift=4.667320439200557), OrderedStatistic(items_base=frozenset({'JUMBO BAG VINTAGE LEAF'}), items_add=frozenset({'JUMBO BAG STRAWBERRY'}), confidence=0.23738532110091745, lift=4.667320439200557)]),\n",
            " RelationRecord(items=frozenset({'JUMBO BAG STRAWBERRY', 'JUMBO BAG WOODLAND ANIMALS'}), support=0.013803394889013243, ordered_statistics=[OrderedStatistic(items_base=frozenset({'JUMBO BAG STRAWBERRY'}), items_add=frozenset({'JUMBO BAG WOODLAND ANIMALS'}), confidence=0.2713936430317848, lift=5.093143478273273), OrderedStatistic(items_base=frozenset({'JUMBO BAG WOODLAND ANIMALS'}), items_add=frozenset({'JUMBO BAG STRAWBERRY'}), confidence=0.2590431738623104, lift=5.093143478273274)]),\n",
            " RelationRecord(items=frozenset({'JUMBO SHOPPER VINTAGE RED PAISLEY', 'JUMBO BAG STRAWBERRY'}), support=0.01510912143256855, ordered_statistics=[OrderedStatistic(items_base=frozenset({'JUMBO BAG STRAWBERRY'}), items_add=frozenset({'JUMBO SHOPPER VINTAGE RED PAISLEY'}), confidence=0.2970660146699266, lift=4.0835151401166065), OrderedStatistic(items_base=frozenset({'JUMBO SHOPPER VINTAGE RED PAISLEY'}), items_add=frozenset({'JUMBO BAG STRAWBERRY'}), confidence=0.20769230769230768, lift=4.0835151401166065)]),\n",
            " RelationRecord(items=frozenset({'JUMBO STORAGE BAG SKULLS', 'JUMBO BAG STRAWBERRY'}), support=0.012932910526643039, ordered_statistics=[OrderedStatistic(items_base=frozenset({'JUMBO BAG STRAWBERRY'}), items_add=frozenset({'JUMBO STORAGE BAG SKULLS'}), confidence=0.254278728606357, lift=5.867381337411821), OrderedStatistic(items_base=frozenset({'JUMBO STORAGE BAG SKULLS'}), items_add=frozenset({'JUMBO BAG STRAWBERRY'}), confidence=0.2984218077474892, lift=5.86738133741182)]),\n",
            " RelationRecord(items=frozenset({'JUMBO BAG STRAWBERRY', 'JUMBO STORAGE BAG SUKI'}), support=0.019212833426599515, ordered_statistics=[OrderedStatistic(items_base=frozenset({'JUMBO BAG STRAWBERRY'}), items_add=frozenset({'JUMBO STORAGE BAG SUKI'}), confidence=0.37775061124694376, lift=5.174925963104426), OrderedStatistic(items_base=frozenset({'JUMBO STORAGE BAG SUKI'}), items_add=frozenset({'JUMBO BAG STRAWBERRY'}), confidence=0.2632027257240204, lift=5.1749259631044255)]),\n",
            " RelationRecord(items=frozenset({'JUMBO BAG STRAWBERRY', 'LUNCH BAG  BLACK SKULL.'}), support=0.013057265435553068, ordered_statistics=[OrderedStatistic(items_base=frozenset({'JUMBO BAG STRAWBERRY'}), items_add=frozenset({'LUNCH BAG  BLACK SKULL.'}), confidence=0.25672371638141805, lift=3.313713908958545)]),\n",
            " RelationRecord(items=frozenset({'LUNCH BAG PINK POLKADOT', 'JUMBO BAG STRAWBERRY'}), support=0.011813716346452776, ordered_statistics=[OrderedStatistic(items_base=frozenset({'JUMBO BAG STRAWBERRY'}), items_add=frozenset({'LUNCH BAG PINK POLKADOT'}), confidence=0.23227383863080683, lift=3.4621502749761506)]),\n",
            " RelationRecord(items=frozenset({'JUMBO BAG STRAWBERRY', 'LUNCH BAG RED RETROSPOT'}), support=0.015171298887023565, ordered_statistics=[OrderedStatistic(items_base=frozenset({'JUMBO BAG STRAWBERRY'}), items_add=frozenset({'LUNCH BAG RED RETROSPOT'}), confidence=0.2982885085574572, lift=3.101082148112207)]),\n",
            " RelationRecord(items=frozenset({'JUMBO BAG STRAWBERRY', 'RECYCLING BAG RETROSPOT '}), support=0.009948392712802338, ordered_statistics=[OrderedStatistic(items_base=frozenset({'RECYCLING BAG RETROSPOT '}), items_add=frozenset({'JUMBO BAG STRAWBERRY'}), confidence=0.21447721179624668, lift=4.216915644644297)]),\n",
            " RelationRecord(items=frozenset({'RED RETROSPOT CHARLOTTE BAG', 'JUMBO BAG STRAWBERRY'}), support=0.01349250761673817, ordered_statistics=[OrderedStatistic(items_base=frozenset({'JUMBO BAG STRAWBERRY'}), items_add=frozenset({'RED RETROSPOT CHARLOTTE BAG'}), confidence=0.265281173594132, lift=4.1787630900239225), OrderedStatistic(items_base=frozenset({'RED RETROSPOT CHARLOTTE BAG'}), items_add=frozenset({'JUMBO BAG STRAWBERRY'}), confidence=0.21253672869735551, lift=4.1787630900239225)]),\n",
            " RelationRecord(items=frozenset({'JUMBO BAG STRAWBERRY', 'STRAWBERRY CHARLOTTE BAG'}), support=0.012062426164272834, ordered_statistics=[OrderedStatistic(items_base=frozenset({'JUMBO BAG STRAWBERRY'}), items_add=frozenset({'STRAWBERRY CHARLOTTE BAG'}), confidence=0.23716381418092908, lift=5.312403375309029), OrderedStatistic(items_base=frozenset({'STRAWBERRY CHARLOTTE BAG'}), items_add=frozenset({'JUMBO BAG STRAWBERRY'}), confidence=0.2701949860724234, lift=5.312403375309029)]),\n",
            " RelationRecord(items=frozenset({'WOODLAND CHARLOTTE BAG', 'JUMBO BAG STRAWBERRY'}), support=0.010321457439532425, ordered_statistics=[OrderedStatistic(items_base=frozenset({'JUMBO BAG STRAWBERRY'}), items_add=frozenset({'WOODLAND CHARLOTTE BAG'}), confidence=0.20293398533007334, lift=3.951316326953474), OrderedStatistic(items_base=frozenset({'WOODLAND CHARLOTTE BAG'}), items_add=frozenset({'JUMBO BAG STRAWBERRY'}), confidence=0.2009685230024213, lift=3.951316326953474)]),\n",
            " RelationRecord(items=frozenset({'JUMBO BAG VINTAGE LEAF', 'JUMBO BAG VINTAGE DOILY '}), support=0.017098799975129017, ordered_statistics=[OrderedStatistic(items_base=frozenset({'JUMBO BAG VINTAGE DOILY '}), items_add=frozenset({'JUMBO BAG VINTAGE LEAF'}), confidence=0.39062499999999994, lift=7.204612241972476), OrderedStatistic(items_base=frozenset({'JUMBO BAG VINTAGE LEAF'}), items_add=frozenset({'JUMBO BAG VINTAGE DOILY '}), confidence=0.3153669724770642, lift=7.204612241972476)]),\n",
            " RelationRecord(items=frozenset({'JUMBO SHOPPER VINTAGE RED PAISLEY', 'JUMBO BAG VINTAGE DOILY '}), support=0.012062426164272834, ordered_statistics=[OrderedStatistic(items_base=frozenset({'JUMBO BAG VINTAGE DOILY '}), items_add=frozenset({'JUMBO SHOPPER VINTAGE RED PAISLEY'}), confidence=0.2755681818181818, lift=3.7880026223776224)]),\n",
            " RelationRecord(items=frozenset({'JUMBO BAG VINTAGE DOILY ', 'JUMBO STORAGE BAG SUKI'}), support=0.011938071255362805, ordered_statistics=[OrderedStatistic(items_base=frozenset({'JUMBO BAG VINTAGE DOILY '}), items_add=frozenset({'JUMBO STORAGE BAG SUKI'}), confidence=0.2727272727272727, lift=3.73617779154406)]),\n",
            " RelationRecord(items=frozenset({'LUNCH BAG APPLE DESIGN', 'JUMBO BAG VINTAGE DOILY '}), support=0.010134925076167381, ordered_statistics=[OrderedStatistic(items_base=frozenset({'JUMBO BAG VINTAGE DOILY '}), items_add=frozenset({'LUNCH BAG APPLE DESIGN'}), confidence=0.23153409090909088, lift=3.654330504505308)]),\n",
            " RelationRecord(items=frozenset({'LUNCH BAG SUKI DESIGN ', 'JUMBO BAG VINTAGE DOILY '}), support=0.00876702107815706, ordered_statistics=[OrderedStatistic(items_base=frozenset({'JUMBO BAG VINTAGE DOILY '}), items_add=frozenset({'LUNCH BAG SUKI DESIGN '}), confidence=0.2002840909090909, lift=3.0217345535562)]),\n",
            " RelationRecord(items=frozenset({'RED RETROSPOT CHARLOTTE BAG', 'JUMBO BAG VINTAGE DOILY '}), support=0.009202263259342163, ordered_statistics=[OrderedStatistic(items_base=frozenset({'JUMBO BAG VINTAGE DOILY '}), items_add=frozenset({'RED RETROSPOT CHARLOTTE BAG'}), confidence=0.21022727272727273, lift=3.311542827887098)]),\n",
            " RelationRecord(items=frozenset({'JUMBO SHOPPER VINTAGE RED PAISLEY', 'JUMBO BAG VINTAGE LEAF'}), support=0.01591742834048374, ordered_statistics=[OrderedStatistic(items_base=frozenset({'JUMBO BAG VINTAGE LEAF'}), items_add=frozenset({'JUMBO SHOPPER VINTAGE RED PAISLEY'}), confidence=0.2935779816513761, lift=4.035568101623147), OrderedStatistic(items_base=frozenset({'JUMBO SHOPPER VINTAGE RED PAISLEY'}), items_add=frozenset({'JUMBO BAG VINTAGE LEAF'}), confidence=0.21880341880341878, lift=4.035568101623147)]),\n",
            " RelationRecord(items=frozenset({'JUMBO BAG VINTAGE LEAF', 'JUMBO STORAGE BAG SKULLS'}), support=0.009699682894982279, ordered_statistics=[OrderedStatistic(items_base=frozenset({'JUMBO STORAGE BAG SKULLS'}), items_add=frozenset({'JUMBO BAG VINTAGE LEAF'}), confidence=0.22381635581061693, lift=4.128025745988706)]),\n",
            " RelationRecord(items=frozenset({'JUMBO BAG VINTAGE LEAF', 'JUMBO STORAGE BAG SUKI'}), support=0.016228315612758813, ordered_statistics=[OrderedStatistic(items_base=frozenset({'JUMBO BAG VINTAGE LEAF'}), items_add=frozenset({'JUMBO STORAGE BAG SUKI'}), confidence=0.29931192660550454, lift=4.100369434068424), OrderedStatistic(items_base=frozenset({'JUMBO STORAGE BAG SUKI'}), items_add=frozenset({'JUMBO BAG VINTAGE LEAF'}), confidence=0.22231686541737647, lift=4.100369434068424)]),\n",
            " RelationRecord(items=frozenset({'JUMBO BAG VINTAGE LEAF', 'LUNCH BAG ALPHABET DESIGN'}), support=0.009388795622707207, ordered_statistics=[OrderedStatistic(items_base=frozenset({'LUNCH BAG ALPHABET DESIGN'}), items_add=frozenset({'JUMBO BAG VINTAGE LEAF'}), confidence=0.20856353591160223, lift=3.846705674387957)]),\n",
            " RelationRecord(items=frozenset({'JUMBO BAG VINTAGE LEAF', 'LUNCH BAG APPLE DESIGN'}), support=0.014114282161288317, ordered_statistics=[OrderedStatistic(items_base=frozenset({'JUMBO BAG VINTAGE LEAF'}), items_add=frozenset({'LUNCH BAG APPLE DESIGN'}), confidence=0.2603211009174312, lift=4.108679358248328), OrderedStatistic(items_base=frozenset({'LUNCH BAG APPLE DESIGN'}), items_add=frozenset({'JUMBO BAG VINTAGE LEAF'}), confidence=0.22276741903827282, lift=4.108679358248327)]),\n",
            " RelationRecord(items=frozenset({'LUNCH BAG PINK POLKADOT', 'JUMBO BAG VINTAGE LEAF'}), support=0.010943231984082572, ordered_statistics=[OrderedStatistic(items_base=frozenset({'JUMBO BAG VINTAGE LEAF'}), items_add=frozenset({'LUNCH BAG PINK POLKADOT'}), confidence=0.2018348623853211, lift=3.008443087806413)]),\n",
            " RelationRecord(items=frozenset({'JUMBO BAG VINTAGE LEAF', 'LUNCH BAG SUKI DESIGN '}), support=0.011378474165267674, ordered_statistics=[OrderedStatistic(items_base=frozenset({'JUMBO BAG VINTAGE LEAF'}), items_add=frozenset({'LUNCH BAG SUKI DESIGN '}), confidence=0.2098623853211009, lift=3.16624459954903)]),\n",
            " RelationRecord(items=frozenset({'RED RETROSPOT CHARLOTTE BAG', 'JUMBO BAG VINTAGE LEAF'}), support=0.011129764347447616, ordered_statistics=[OrderedStatistic(items_base=frozenset({'JUMBO BAG VINTAGE LEAF'}), items_add=frozenset({'RED RETROSPOT CHARLOTTE BAG'}), confidence=0.20527522935779818, lift=3.2335372318917415)]),\n",
            " RelationRecord(items=frozenset({'JUMBO SHOPPER VINTAGE RED PAISLEY', 'JUMBO BAG WOODLAND ANIMALS'}), support=0.024187029783000684, ordered_statistics=[OrderedStatistic(items_base=frozenset({'JUMBO BAG WOODLAND ANIMALS'}), items_add=frozenset({'JUMBO SHOPPER VINTAGE RED PAISLEY'}), confidence=0.45390898483080516, lift=6.23950273763576), OrderedStatistic(items_base=frozenset({'JUMBO SHOPPER VINTAGE RED PAISLEY'}), items_add=frozenset({'JUMBO BAG WOODLAND ANIMALS'}), confidence=0.33247863247863246, lift=6.2395027376357595)]),\n",
            " RelationRecord(items=frozenset({'JUMBO STORAGE BAG SKULLS', 'JUMBO BAG WOODLAND ANIMALS'}), support=0.017160977429584032, ordered_statistics=[OrderedStatistic(items_base=frozenset({'JUMBO BAG WOODLAND ANIMALS'}), items_add=frozenset({'JUMBO STORAGE BAG SKULLS'}), confidence=0.3220536756126021, lift=7.431261499106858), OrderedStatistic(items_base=frozenset({'JUMBO STORAGE BAG SKULLS'}), items_add=frozenset({'JUMBO BAG WOODLAND ANIMALS'}), confidence=0.39598278335724535, lift=7.431261499106857)]),\n",
            " RelationRecord(items=frozenset({'JUMBO BAG WOODLAND ANIMALS', 'JUMBO STORAGE BAG SUKI'}), support=0.027668967232481502, ordered_statistics=[OrderedStatistic(items_base=frozenset({'JUMBO BAG WOODLAND ANIMALS'}), items_add=frozenset({'JUMBO STORAGE BAG SUKI'}), confidence=0.5192532088681447, lift=7.113415126257557), OrderedStatistic(items_base=frozenset({'JUMBO STORAGE BAG SUKI'}), items_add=frozenset({'JUMBO BAG WOODLAND ANIMALS'}), confidence=0.37904599659284494, lift=7.113415126257555)]),\n",
            " RelationRecord(items=frozenset({'JUMBO BAG WOODLAND ANIMALS', 'LUNCH BAG WOODLAND'}), support=0.014549524342473419, ordered_statistics=[OrderedStatistic(items_base=frozenset({'JUMBO BAG WOODLAND ANIMALS'}), items_add=frozenset({'LUNCH BAG WOODLAND'}), confidence=0.27304550758459745, lift=4.373895317214224), OrderedStatistic(items_base=frozenset({'LUNCH BAG WOODLAND'}), items_add=frozenset({'JUMBO BAG WOODLAND ANIMALS'}), confidence=0.23306772908366533, lift=4.373895317214224)]),\n",
            " RelationRecord(items=frozenset({'RECYCLING BAG RETROSPOT ', 'JUMBO BAG WOODLAND ANIMALS'}), support=0.01697444506621899, ordered_statistics=[OrderedStatistic(items_base=frozenset({'JUMBO BAG WOODLAND ANIMALS'}), items_add=frozenset({'RECYCLING BAG RETROSPOT '}), confidence=0.3185530921820304, lift=6.867680136144229), OrderedStatistic(items_base=frozenset({'RECYCLING BAG RETROSPOT '}), items_add=frozenset({'JUMBO BAG WOODLAND ANIMALS'}), confidence=0.36595174262734587, lift=6.867680136144228)]),\n",
            " RelationRecord(items=frozenset({'RED RETROSPOT CHARLOTTE BAG', 'JUMBO BAG WOODLAND ANIMALS'}), support=0.012311135982092894, ordered_statistics=[OrderedStatistic(items_base=frozenset({'JUMBO BAG WOODLAND ANIMALS'}), items_add=frozenset({'RED RETROSPOT CHARLOTTE BAG'}), confidence=0.2310385064177363, lift=3.639365620682128)]),\n",
            " RelationRecord(items=frozenset({'RED TOADSTOOL LED NIGHT LIGHT', 'JUMBO BAG WOODLAND ANIMALS'}), support=0.013927749797923272, ordered_statistics=[OrderedStatistic(items_base=frozenset({'JUMBO BAG WOODLAND ANIMALS'}), items_add=frozenset({'RED TOADSTOOL LED NIGHT LIGHT'}), confidence=0.2613768961493582, lift=4.986624698422453), OrderedStatistic(items_base=frozenset({'RED TOADSTOOL LED NIGHT LIGHT'}), items_add=frozenset({'JUMBO BAG WOODLAND ANIMALS'}), confidence=0.265717674970344, lift=4.986624698422453)]),\n",
            " RelationRecord(items=frozenset({'STRAWBERRY CHARLOTTE BAG', 'JUMBO BAG WOODLAND ANIMALS'}), support=0.009015730895977118, ordered_statistics=[OrderedStatistic(items_base=frozenset({'STRAWBERRY CHARLOTTE BAG'}), items_add=frozenset({'JUMBO BAG WOODLAND ANIMALS'}), confidence=0.201949860724234, lift=3.7899178646766107)]),\n",
            " RelationRecord(items=frozenset({'WOODEN PICTURE FRAME WHITE FINISH', 'JUMBO BAG WOODLAND ANIMALS'}), support=0.011129764347447616, ordered_statistics=[OrderedStatistic(items_base=frozenset({'JUMBO BAG WOODLAND ANIMALS'}), items_add=frozenset({'WOODEN PICTURE FRAME WHITE FINISH'}), confidence=0.2088681446907818, lift=3.070590832780479)]),\n",
            " RelationRecord(items=frozenset({'WOODLAND CHARLOTTE BAG', 'JUMBO BAG WOODLAND ANIMALS'}), support=0.014176459615743332, ordered_statistics=[OrderedStatistic(items_base=frozenset({'JUMBO BAG WOODLAND ANIMALS'}), items_add=frozenset({'WOODLAND CHARLOTTE BAG'}), confidence=0.2660443407234539, lift=5.1801345421977105), OrderedStatistic(items_base=frozenset({'WOODLAND CHARLOTTE BAG'}), items_add=frozenset({'JUMBO BAG WOODLAND ANIMALS'}), confidence=0.27602905569007263, lift=5.1801345421977105)]),\n",
            " RelationRecord(items=frozenset({'JUMBO SHOPPER VINTAGE RED PAISLEY', 'JUMBO STORAGE BAG SKULLS'}), support=0.01846670397313934, ordered_statistics=[OrderedStatistic(items_base=frozenset({'JUMBO SHOPPER VINTAGE RED PAISLEY'}), items_add=frozenset({'JUMBO STORAGE BAG SKULLS'}), confidence=0.2538461538461539, lift=5.857399845491669), OrderedStatistic(items_base=frozenset({'JUMBO STORAGE BAG SKULLS'}), items_add=frozenset({'JUMBO SHOPPER VINTAGE RED PAISLEY'}), confidence=0.42611190817790534, lift=5.857399845491668)]),\n",
            " RelationRecord(items=frozenset({'JUMBO SHOPPER VINTAGE RED PAISLEY', 'JUMBO STORAGE BAG SUKI'}), support=0.03208356649878754, ordered_statistics=[OrderedStatistic(items_base=frozenset({'JUMBO SHOPPER VINTAGE RED PAISLEY'}), items_add=frozenset({'JUMBO STORAGE BAG SUKI'}), confidence=0.441025641025641, lift=6.041750753505438), OrderedStatistic(items_base=frozenset({'JUMBO STORAGE BAG SUKI'}), items_add=frozenset({'JUMBO SHOPPER VINTAGE RED PAISLEY'}), confidence=0.4395229982964225, lift=6.041750753505439)]),\n",
            " RelationRecord(items=frozenset({'JUMBO SHOPPER VINTAGE RED PAISLEY', 'RECYCLING BAG RETROSPOT '}), support=0.015979605794938755, ordered_statistics=[OrderedStatistic(items_base=frozenset({'JUMBO SHOPPER VINTAGE RED PAISLEY'}), items_add=frozenset({'RECYCLING BAG RETROSPOT '}), confidence=0.21965811965811965, lift=4.73560527943906), OrderedStatistic(items_base=frozenset({'RECYCLING BAG RETROSPOT '}), items_add=frozenset({'JUMBO SHOPPER VINTAGE RED PAISLEY'}), confidence=0.3445040214477212, lift=4.73560527943906)]),\n",
            " RelationRecord(items=frozenset({'JUMBO SHOPPER VINTAGE RED PAISLEY', 'RED TOADSTOOL LED NIGHT LIGHT'}), support=0.012932910526643039, ordered_statistics=[OrderedStatistic(items_base=frozenset({'RED TOADSTOOL LED NIGHT LIGHT'}), items_add=frozenset({'JUMBO SHOPPER VINTAGE RED PAISLEY'}), confidence=0.24673784104389085, lift=3.3916963226571766)]),\n",
            " RelationRecord(items=frozenset({'JUMBO STORAGE BAG SKULLS', 'JUMBO STORAGE BAG SUKI'}), support=0.022197351240440217, ordered_statistics=[OrderedStatistic(items_base=frozenset({'JUMBO STORAGE BAG SKULLS'}), items_add=frozenset({'JUMBO STORAGE BAG SUKI'}), confidence=0.5121951219512195, lift=7.016724145094943), OrderedStatistic(items_base=frozenset({'JUMBO STORAGE BAG SUKI'}), items_add=frozenset({'JUMBO STORAGE BAG SKULLS'}), confidence=0.3040885860306644, lift=7.016724145094944)]),\n",
            " RelationRecord(items=frozenset({'JUMBO STORAGE BAG SKULLS', 'LUNCH BAG  BLACK SKULL.'}), support=0.015295653795933594, ordered_statistics=[OrderedStatistic(items_base=frozenset({'JUMBO STORAGE BAG SKULLS'}), items_add=frozenset({'LUNCH BAG  BLACK SKULL.'}), confidence=0.35294117647058826, lift=4.555660466433765)]),\n",
            " RelationRecord(items=frozenset({'JUMBO STORAGE BAG SKULLS', 'LUNCH BAG CARS BLUE'}), support=0.010756699620717527, ordered_statistics=[OrderedStatistic(items_base=frozenset({'JUMBO STORAGE BAG SKULLS'}), items_add=frozenset({'LUNCH BAG CARS BLUE'}), confidence=0.24820659971305595, lift=3.5078266636072746)]),\n",
            " RelationRecord(items=frozenset({'LUNCH BAG PINK POLKADOT', 'JUMBO STORAGE BAG SKULLS'}), support=0.011813716346452776, ordered_statistics=[OrderedStatistic(items_base=frozenset({'JUMBO STORAGE BAG SKULLS'}), items_add=frozenset({'LUNCH BAG PINK POLKADOT'}), confidence=0.27259684361549497, lift=4.06318353648564)]),\n",
            " RelationRecord(items=frozenset({'LUNCH BAG SPACEBOY DESIGN ', 'JUMBO STORAGE BAG SKULLS'}), support=0.00982403780389231, ordered_statistics=[OrderedStatistic(items_base=frozenset({'JUMBO STORAGE BAG SKULLS'}), items_add=frozenset({'LUNCH BAG SPACEBOY DESIGN '}), confidence=0.22668579626972743, lift=3.1702501403530663)]),\n",
            " RelationRecord(items=frozenset({'JUMBO STORAGE BAG SKULLS', 'LUNCH BAG SUKI DESIGN '}), support=0.00957532798607225, ordered_statistics=[OrderedStatistic(items_base=frozenset({'JUMBO STORAGE BAG SKULLS'}), items_add=frozenset({'LUNCH BAG SUKI DESIGN '}), confidence=0.22094691535150646, lift=3.3334795868651765)]),\n",
            " RelationRecord(items=frozenset({'JUMBO STORAGE BAG SKULLS', 'LUNCH BAG WOODLAND'}), support=0.010072747621712367, ordered_statistics=[OrderedStatistic(items_base=frozenset({'JUMBO STORAGE BAG SKULLS'}), items_add=frozenset({'LUNCH BAG WOODLAND'}), confidence=0.23242467718794835, lift=3.723193309973878)]),\n",
            " RelationRecord(items=frozenset({'JUMBO STORAGE BAG SKULLS', 'RECYCLING BAG RETROSPOT '}), support=0.011502829074177703, ordered_statistics=[OrderedStatistic(items_base=frozenset({'JUMBO STORAGE BAG SKULLS'}), items_add=frozenset({'RECYCLING BAG RETROSPOT '}), confidence=0.2654232424677188, lift=5.722254703228313), OrderedStatistic(items_base=frozenset({'RECYCLING BAG RETROSPOT '}), items_add=frozenset({'JUMBO STORAGE BAG SKULLS'}), confidence=0.24798927613941021, lift=5.722254703228313)]),\n",
            " RelationRecord(items=frozenset({'RED RETROSPOT CHARLOTTE BAG', 'JUMBO STORAGE BAG SKULLS'}), support=0.010943231984082572, ordered_statistics=[OrderedStatistic(items_base=frozenset({'JUMBO STORAGE BAG SKULLS'}), items_add=frozenset({'RED RETROSPOT CHARLOTTE BAG'}), confidence=0.25251076040172166, lift=3.9776009398049847)]),\n",
            " RelationRecord(items=frozenset({'RED TOADSTOOL LED NIGHT LIGHT', 'JUMBO STORAGE BAG SKULLS'}), support=0.008704843623702045, ordered_statistics=[OrderedStatistic(items_base=frozenset({'JUMBO STORAGE BAG SKULLS'}), items_add=frozenset({'RED TOADSTOOL LED NIGHT LIGHT'}), confidence=0.20086083213773315, lift=3.832081569716681)]),\n",
            " RelationRecord(items=frozenset({'WOODLAND CHARLOTTE BAG', 'JUMBO STORAGE BAG SKULLS'}), support=0.008829198532612074, ordered_statistics=[OrderedStatistic(items_base=frozenset({'JUMBO STORAGE BAG SKULLS'}), items_add=frozenset({'WOODLAND CHARLOTTE BAG'}), confidence=0.2037302725968436, lift=3.966820791979462)]),\n",
            " RelationRecord(items=frozenset({'LUNCH BAG DOLLY GIRL DESIGN', 'JUMBO STORAGE BAG SUKI'}), support=0.009326618168252192, ordered_statistics=[OrderedStatistic(items_base=frozenset({'LUNCH BAG DOLLY GIRL DESIGN'}), items_add=frozenset({'JUMBO STORAGE BAG SUKI'}), confidence=0.22255192878338279, lift=3.048809770547824)]),\n",
            " RelationRecord(items=frozenset({'LUNCH BAG PINK POLKADOT', 'JUMBO STORAGE BAG SUKI'}), support=0.014860411614748492, ordered_statistics=[OrderedStatistic(items_base=frozenset({'JUMBO STORAGE BAG SUKI'}), items_add=frozenset({'LUNCH BAG PINK POLKADOT'}), confidence=0.20357751277683134, lift=3.0344181074974776), OrderedStatistic(items_base=frozenset({'LUNCH BAG PINK POLKADOT'}), items_add=frozenset({'JUMBO STORAGE BAG SUKI'}), confidence=0.22150139017608897, lift=3.0344181074974776)]),\n",
            " RelationRecord(items=frozenset({'LUNCH BAG SUKI DESIGN ', 'JUMBO STORAGE BAG SUKI'}), support=0.01834234906422931, ordered_statistics=[OrderedStatistic(items_base=frozenset({'JUMBO STORAGE BAG SUKI'}), items_add=frozenset({'LUNCH BAG SUKI DESIGN '}), confidence=0.2512776831345826, lift=3.79108722125093), OrderedStatistic(items_base=frozenset({'LUNCH BAG SUKI DESIGN '}), items_add=frozenset({'JUMBO STORAGE BAG SUKI'}), confidence=0.2767354596622889, lift=3.7910872212509306)]),\n",
            " RelationRecord(items=frozenset({'LUNCH BAG WOODLAND', 'JUMBO STORAGE BAG SUKI'}), support=0.013927749797923272, ordered_statistics=[OrderedStatistic(items_base=frozenset({'LUNCH BAG WOODLAND'}), items_add=frozenset({'JUMBO STORAGE BAG SUKI'}), confidence=0.22310756972111553, lift=3.0564216727638)]),\n",
            " RelationRecord(items=frozenset({'PAPER BUNTING RETROSPOT', 'JUMBO STORAGE BAG SUKI'}), support=0.011005409438537585, ordered_statistics=[OrderedStatistic(items_base=frozenset({'PAPER BUNTING RETROSPOT'}), items_add=frozenset({'JUMBO STORAGE BAG SUKI'}), confidence=0.2229219143576826, lift=3.05387832079609)]),\n",
            " RelationRecord(items=frozenset({'RECYCLING BAG RETROSPOT ', 'JUMBO STORAGE BAG SUKI'}), support=0.018280171609774295, ordered_statistics=[OrderedStatistic(items_base=frozenset({'JUMBO STORAGE BAG SUKI'}), items_add=frozenset({'RECYCLING BAG RETROSPOT '}), confidence=0.2504258943781942, lift=5.398927157217825), OrderedStatistic(items_base=frozenset({'RECYCLING BAG RETROSPOT '}), items_add=frozenset({'JUMBO STORAGE BAG SUKI'}), confidence=0.3941018766756032, lift=5.398927157217825)]),\n",
            " RelationRecord(items=frozenset({'RED RETROSPOT CHARLOTTE BAG', 'JUMBO STORAGE BAG SUKI'}), support=0.016725735248398932, ordered_statistics=[OrderedStatistic(items_base=frozenset({'JUMBO STORAGE BAG SUKI'}), items_add=frozenset({'RED RETROSPOT CHARLOTTE BAG'}), confidence=0.22913117546848383, lift=3.60932095500453), OrderedStatistic(items_base=frozenset({'RED RETROSPOT CHARLOTTE BAG'}), items_add=frozenset({'JUMBO STORAGE BAG SUKI'}), confidence=0.2634671890303624, lift=3.6093209550045304)]),\n",
            " RelationRecord(items=frozenset({'RED TOADSTOOL LED NIGHT LIGHT', 'JUMBO STORAGE BAG SUKI'}), support=0.013430330162283156, ordered_statistics=[OrderedStatistic(items_base=frozenset({'RED TOADSTOOL LED NIGHT LIGHT'}), items_add=frozenset({'JUMBO STORAGE BAG SUKI'}), confidence=0.25622775800711745, lift=3.5101456831588327)]),\n",
            " RelationRecord(items=frozenset({'STRAWBERRY CHARLOTTE BAG', 'JUMBO STORAGE BAG SUKI'}), support=0.011316296710812659, ordered_statistics=[OrderedStatistic(items_base=frozenset({'STRAWBERRY CHARLOTTE BAG'}), items_add=frozenset({'JUMBO STORAGE BAG SUKI'}), confidence=0.25348189415041783, lift=3.4725292194388158)]),\n",
            " RelationRecord(items=frozenset({'WOODLAND CHARLOTTE BAG', 'JUMBO STORAGE BAG SUKI'}), support=0.0136168625256482, ordered_statistics=[OrderedStatistic(items_base=frozenset({'WOODLAND CHARLOTTE BAG'}), items_add=frozenset({'JUMBO STORAGE BAG SUKI'}), confidence=0.2651331719128329, lift=3.6321437852419862)]),\n",
            " RelationRecord(items=frozenset({'LUNCH BAG ALPHABET DESIGN', 'LUNCH BAG  BLACK SKULL.'}), support=0.017844929428589194, ordered_statistics=[OrderedStatistic(items_base=frozenset({'LUNCH BAG  BLACK SKULL.'}), items_add=frozenset({'LUNCH BAG ALPHABET DESIGN'}), confidence=0.2303370786516854, lift=5.11672822645726), OrderedStatistic(items_base=frozenset({'LUNCH BAG ALPHABET DESIGN'}), items_add=frozenset({'LUNCH BAG  BLACK SKULL.'}), confidence=0.39640883977900554, lift=5.11672822645726)]),\n",
            " RelationRecord(items=frozenset({'LUNCH BAG APPLE DESIGN', 'LUNCH BAG  BLACK SKULL.'}), support=0.02480880432755083, ordered_statistics=[OrderedStatistic(items_base=frozenset({'LUNCH BAG  BLACK SKULL.'}), items_add=frozenset({'LUNCH BAG APPLE DESIGN'}), confidence=0.3202247191011236, lift=5.054145394802131), OrderedStatistic(items_base=frozenset({'LUNCH BAG APPLE DESIGN'}), items_add=frozenset({'LUNCH BAG  BLACK SKULL.'}), confidence=0.39156035328753686, lift=5.054145394802131)]),\n",
            " RelationRecord(items=frozenset({'LUNCH BAG  BLACK SKULL.', 'LUNCH BAG CARS BLUE'}), support=0.03115090468196232, ordered_statistics=[OrderedStatistic(items_base=frozenset({'LUNCH BAG  BLACK SKULL.'}), items_add=frozenset({'LUNCH BAG CARS BLUE'}), confidence=0.40208667736757625, lift=5.6825659333064396), OrderedStatistic(items_base=frozenset({'LUNCH BAG CARS BLUE'}), items_add=frozenset({'LUNCH BAG  BLACK SKULL.'}), confidence=0.44024604569420034, lift=5.6825659333064396)]),\n",
            " RelationRecord(items=frozenset({'LUNCH BAG DOLLY GIRL DESIGN', 'LUNCH BAG  BLACK SKULL.'}), support=0.018155816700864268, ordered_statistics=[OrderedStatistic(items_base=frozenset({'LUNCH BAG  BLACK SKULL.'}), items_add=frozenset({'LUNCH BAG DOLLY GIRL DESIGN'}), confidence=0.23434991974317818, lift=5.59206195731385), OrderedStatistic(items_base=frozenset({'LUNCH BAG DOLLY GIRL DESIGN'}), items_add=frozenset({'LUNCH BAG  BLACK SKULL.'}), confidence=0.4332344213649852, lift=5.59206195731385)]),\n",
            " RelationRecord(items=frozenset({'LUNCH BAG PINK POLKADOT', 'LUNCH BAG  BLACK SKULL.'}), support=0.032643163588882675, ordered_statistics=[OrderedStatistic(items_base=frozenset({'LUNCH BAG  BLACK SKULL.'}), items_add=frozenset({'LUNCH BAG PINK POLKADOT'}), confidence=0.4213483146067416, lift=6.280393831158689), OrderedStatistic(items_base=frozenset({'LUNCH BAG PINK POLKADOT'}), items_add=frozenset({'LUNCH BAG  BLACK SKULL.'}), confidence=0.48656163113994444, lift=6.280393831158689)]),\n",
            " RelationRecord(items=frozenset({'LUNCH BAG  BLACK SKULL.', 'LUNCH BAG RED RETROSPOT'}), support=0.038176957035378975, ordered_statistics=[OrderedStatistic(items_base=frozenset({'LUNCH BAG  BLACK SKULL.'}), items_add=frozenset({'LUNCH BAG RED RETROSPOT'}), confidence=0.49277688603531306, lift=5.123032099615992), OrderedStatistic(items_base=frozenset({'LUNCH BAG RED RETROSPOT'}), items_add=frozenset({'LUNCH BAG  BLACK SKULL.'}), confidence=0.3968972204266322, lift=5.123032099615992)]),\n",
            " RelationRecord(items=frozenset({'LUNCH BAG SPACEBOY DESIGN ', 'LUNCH BAG  BLACK SKULL.'}), support=0.030840017409687247, ordered_statistics=[OrderedStatistic(items_base=frozenset({'LUNCH BAG  BLACK SKULL.'}), items_add=frozenset({'LUNCH BAG SPACEBOY DESIGN '}), confidence=0.39807383627608345, lift=5.567149138111522), OrderedStatistic(items_base=frozenset({'LUNCH BAG SPACEBOY DESIGN '}), items_add=frozenset({'LUNCH BAG  BLACK SKULL.'}), confidence=0.43130434782608695, lift=5.567149138111522)]),\n",
            " RelationRecord(items=frozenset({'LUNCH BAG SUKI DESIGN ', 'LUNCH BAG  BLACK SKULL.'}), support=0.03059130759186719, ordered_statistics=[OrderedStatistic(items_base=frozenset({'LUNCH BAG  BLACK SKULL.'}), items_add=frozenset({'LUNCH BAG SUKI DESIGN '}), confidence=0.39486356340288925, lift=5.957402148413384), OrderedStatistic(items_base=frozenset({'LUNCH BAG SUKI DESIGN '}), items_add=frozenset({'LUNCH BAG  BLACK SKULL.'}), confidence=0.4615384615384615, lift=5.957402148413384)]),\n",
            " RelationRecord(items=frozenset({'LUNCH BAG  BLACK SKULL.', 'LUNCH BAG WOODLAND'}), support=0.02654977305229124, ordered_statistics=[OrderedStatistic(items_base=frozenset({'LUNCH BAG  BLACK SKULL.'}), items_add=frozenset({'LUNCH BAG WOODLAND'}), confidence=0.34269662921348315, lift=5.489631362191683), OrderedStatistic(items_base=frozenset({'LUNCH BAG WOODLAND'}), items_add=frozenset({'LUNCH BAG  BLACK SKULL.'}), confidence=0.4252988047808765, lift=5.489631362191683)]),\n",
            " RelationRecord(items=frozenset({'RECYCLING BAG RETROSPOT ', 'LUNCH BAG  BLACK SKULL.'}), support=0.011316296710812659, ordered_statistics=[OrderedStatistic(items_base=frozenset({'RECYCLING BAG RETROSPOT '}), items_add=frozenset({'LUNCH BAG  BLACK SKULL.'}), confidence=0.24396782841823056, lift=3.149064674518782)]),\n",
            " RelationRecord(items=frozenset({'RED RETROSPOT CHARLOTTE BAG', 'LUNCH BAG  BLACK SKULL.'}), support=0.021078157060249954, ordered_statistics=[OrderedStatistic(items_base=frozenset({'LUNCH BAG  BLACK SKULL.'}), items_add=frozenset({'RED RETROSPOT CHARLOTTE BAG'}), confidence=0.2720706260032103, lift=4.28571192753147), OrderedStatistic(items_base=frozenset({'RED RETROSPOT CHARLOTTE BAG'}), items_add=frozenset({'LUNCH BAG  BLACK SKULL.'}), confidence=0.33202742409402547, lift=4.28571192753147)]),\n",
            " RelationRecord(items=frozenset({'STRAWBERRY CHARLOTTE BAG', 'LUNCH BAG  BLACK SKULL.'}), support=0.01697444506621899, ordered_statistics=[OrderedStatistic(items_base=frozenset({'LUNCH BAG  BLACK SKULL.'}), items_add=frozenset({'STRAWBERRY CHARLOTTE BAG'}), confidence=0.21910112359550563, lift=4.9078041375856785), OrderedStatistic(items_base=frozenset({'STRAWBERRY CHARLOTTE BAG'}), items_add=frozenset({'LUNCH BAG  BLACK SKULL.'}), confidence=0.3802228412256268, lift=4.9078041375856785)]),\n",
            " RelationRecord(items=frozenset({'WOODLAND CHARLOTTE BAG', 'LUNCH BAG  BLACK SKULL.'}), support=0.017285332338494063, ordered_statistics=[OrderedStatistic(items_base=frozenset({'LUNCH BAG  BLACK SKULL.'}), items_add=frozenset({'WOODLAND CHARLOTTE BAG'}), confidence=0.2231139646869984, lift=4.3442395811876455), OrderedStatistic(items_base=frozenset({'WOODLAND CHARLOTTE BAG'}), items_add=frozenset({'LUNCH BAG  BLACK SKULL.'}), confidence=0.3365617433414044, lift=4.3442395811876455)]),\n",
            " RelationRecord(items=frozenset({'LUNCH BAG APPLE DESIGN', 'LUNCH BAG ALPHABET DESIGN'}), support=0.02182428651371013, ordered_statistics=[OrderedStatistic(items_base=frozenset({'LUNCH BAG ALPHABET DESIGN'}), items_add=frozenset({'LUNCH BAG APPLE DESIGN'}), confidence=0.4848066298342541, lift=7.651761558021893), OrderedStatistic(items_base=frozenset({'LUNCH BAG APPLE DESIGN'}), items_add=frozenset({'LUNCH BAG ALPHABET DESIGN'}), confidence=0.34445534838076547, lift=7.651761558021893)]),\n",
            " RelationRecord(items=frozenset({'LUNCH BAG ALPHABET DESIGN', 'LUNCH BAG CARS BLUE'}), support=0.016787912702853944, ordered_statistics=[OrderedStatistic(items_base=frozenset({'LUNCH BAG ALPHABET DESIGN'}), items_add=frozenset({'LUNCH BAG CARS BLUE'}), confidence=0.37292817679558005, lift=5.270477915117147), OrderedStatistic(items_base=frozenset({'LUNCH BAG CARS BLUE'}), items_add=frozenset({'LUNCH BAG ALPHABET DESIGN'}), confidence=0.23725834797891035, lift=5.270477915117148)]),\n",
            " RelationRecord(items=frozenset({'LUNCH BAG DOLLY GIRL DESIGN', 'LUNCH BAG ALPHABET DESIGN'}), support=0.011440651619722688, ordered_statistics=[OrderedStatistic(items_base=frozenset({'LUNCH BAG ALPHABET DESIGN'}), items_add=frozenset({'LUNCH BAG DOLLY GIRL DESIGN'}), confidence=0.25414364640883974, lift=6.06438021542043), OrderedStatistic(items_base=frozenset({'LUNCH BAG DOLLY GIRL DESIGN'}), items_add=frozenset({'LUNCH BAG ALPHABET DESIGN'}), confidence=0.27299703264094954, lift=6.06438021542043)]),\n",
            " RelationRecord(items=frozenset({'LUNCH BAG PINK POLKADOT', 'LUNCH BAG ALPHABET DESIGN'}), support=0.015171298887023565, ordered_statistics=[OrderedStatistic(items_base=frozenset({'LUNCH BAG ALPHABET DESIGN'}), items_add=frozenset({'LUNCH BAG PINK POLKADOT'}), confidence=0.33701657458563533, lift=5.023389776701365), OrderedStatistic(items_base=frozenset({'LUNCH BAG PINK POLKADOT'}), items_add=frozenset({'LUNCH BAG ALPHABET DESIGN'}), confidence=0.2261353104726599, lift=5.023389776701366)]),\n",
            " RelationRecord(items=frozenset({'LUNCH BAG ALPHABET DESIGN', 'LUNCH BAG RED RETROSPOT'}), support=0.018155816700864268, ordered_statistics=[OrderedStatistic(items_base=frozenset({'LUNCH BAG ALPHABET DESIGN'}), items_add=frozenset({'LUNCH BAG RED RETROSPOT'}), confidence=0.40331491712707185, lift=4.192963033067031)]),\n",
            " RelationRecord(items=frozenset({'LUNCH BAG SPACEBOY DESIGN ', 'LUNCH BAG ALPHABET DESIGN'}), support=0.018155816700864268, ordered_statistics=[OrderedStatistic(items_base=frozenset({'LUNCH BAG ALPHABET DESIGN'}), items_add=frozenset({'LUNCH BAG SPACEBOY DESIGN '}), confidence=0.40331491712707185, lift=5.640446793177997), OrderedStatistic(items_base=frozenset({'LUNCH BAG SPACEBOY DESIGN '}), items_add=frozenset({'LUNCH BAG ALPHABET DESIGN'}), confidence=0.2539130434782609, lift=5.640446793177997)]),\n",
            " RelationRecord(items=frozenset({'LUNCH BAG SUKI DESIGN ', 'LUNCH BAG ALPHABET DESIGN'}), support=0.018653236336504384, ordered_statistics=[OrderedStatistic(items_base=frozenset({'LUNCH BAG ALPHABET DESIGN'}), items_add=frozenset({'LUNCH BAG SUKI DESIGN '}), confidence=0.4143646408839779, lift=6.251619624143542), OrderedStatistic(items_base=frozenset({'LUNCH BAG SUKI DESIGN '}), items_add=frozenset({'LUNCH BAG ALPHABET DESIGN'}), confidence=0.28142589118198874, lift=6.251619624143543)]),\n",
            " RelationRecord(items=frozenset({'LUNCH BAG ALPHABET DESIGN', 'LUNCH BAG WOODLAND'}), support=0.014922589069203508, ordered_statistics=[OrderedStatistic(items_base=frozenset({'LUNCH BAG ALPHABET DESIGN'}), items_add=frozenset({'LUNCH BAG WOODLAND'}), confidence=0.3314917127071823, lift=5.3101406528581805), OrderedStatistic(items_base=frozenset({'LUNCH BAG WOODLAND'}), items_add=frozenset({'LUNCH BAG ALPHABET DESIGN'}), confidence=0.23904382470119523, lift=5.3101406528581805)]),\n",
            " RelationRecord(items=frozenset({'RED RETROSPOT CHARLOTTE BAG', 'LUNCH BAG ALPHABET DESIGN'}), support=0.009699682894982279, ordered_statistics=[OrderedStatistic(items_base=frozenset({'LUNCH BAG ALPHABET DESIGN'}), items_add=frozenset({'RED RETROSPOT CHARLOTTE BAG'}), confidence=0.21546961325966849, lift=3.3941212439326622)]),\n",
            " RelationRecord(items=frozenset({'LUNCH BAG APPLE DESIGN', 'LUNCH BAG CARS BLUE'}), support=0.022197351240440217, ordered_statistics=[OrderedStatistic(items_base=frozenset({'LUNCH BAG APPLE DESIGN'}), items_add=frozenset({'LUNCH BAG CARS BLUE'}), confidence=0.3503434739941119, lift=4.951295335893938), OrderedStatistic(items_base=frozenset({'LUNCH BAG CARS BLUE'}), items_add=frozenset({'LUNCH BAG APPLE DESIGN'}), confidence=0.31370826010544817, lift=4.951295335893938)]),\n",
            " RelationRecord(items=frozenset({'LUNCH BAG APPLE DESIGN', 'LUNCH BAG DOLLY GIRL DESIGN'}), support=0.014114282161288317, ordered_statistics=[OrderedStatistic(items_base=frozenset({'LUNCH BAG APPLE DESIGN'}), items_add=frozenset({'LUNCH BAG DOLLY GIRL DESIGN'}), confidence=0.22276741903827282, lift=5.315680119276768), OrderedStatistic(items_base=frozenset({'LUNCH BAG DOLLY GIRL DESIGN'}), items_add=frozenset({'LUNCH BAG APPLE DESIGN'}), confidence=0.3367952522255193, lift=5.315680119276769)]),\n",
            " RelationRecord(items=frozenset({'LUNCH BAG PINK POLKADOT', 'LUNCH BAG APPLE DESIGN'}), support=0.021140334514704966, ordered_statistics=[OrderedStatistic(items_base=frozenset({'LUNCH BAG APPLE DESIGN'}), items_add=frozenset({'LUNCH BAG PINK POLKADOT'}), confidence=0.3336604514229637, lift=4.973365190209013), OrderedStatistic(items_base=frozenset({'LUNCH BAG PINK POLKADOT'}), items_add=frozenset({'LUNCH BAG APPLE DESIGN'}), confidence=0.31510658016682114, lift=4.973365190209013)]),\n",
            " RelationRecord(items=frozenset({'LUNCH BAG APPLE DESIGN', 'LUNCH BAG RED RETROSPOT'}), support=0.029472113411676926, ordered_statistics=[OrderedStatistic(items_base=frozenset({'LUNCH BAG APPLE DESIGN'}), items_add=frozenset({'LUNCH BAG RED RETROSPOT'}), confidence=0.4651619234543671, lift=4.835940022570514), OrderedStatistic(items_base=frozenset({'LUNCH BAG RED RETROSPOT'}), items_add=frozenset({'LUNCH BAG APPLE DESIGN'}), confidence=0.3063994828700711, lift=4.835940022570514)]),\n",
            " RelationRecord(items=frozenset({'LUNCH BAG APPLE DESIGN', 'LUNCH BAG SPACEBOY DESIGN '}), support=0.02387614251072561, ordered_statistics=[OrderedStatistic(items_base=frozenset({'LUNCH BAG APPLE DESIGN'}), items_add=frozenset({'LUNCH BAG SPACEBOY DESIGN '}), confidence=0.3768400392541708, lift=5.2701898707172425), OrderedStatistic(items_base=frozenset({'LUNCH BAG SPACEBOY DESIGN '}), items_add=frozenset({'LUNCH BAG APPLE DESIGN'}), confidence=0.3339130434782609, lift=5.2701898707172425)]),\n",
            " RelationRecord(items=frozenset({'LUNCH BAG APPLE DESIGN', 'LUNCH BAG SUKI DESIGN '}), support=0.026674127961201267, ordered_statistics=[OrderedStatistic(items_base=frozenset({'LUNCH BAG APPLE DESIGN'}), items_add=frozenset({'LUNCH BAG SUKI DESIGN '}), confidence=0.4210009813542689, lift=6.351743698987529), OrderedStatistic(items_base=frozenset({'LUNCH BAG SUKI DESIGN '}), items_add=frozenset({'LUNCH BAG APPLE DESIGN'}), confidence=0.40243902439024387, lift=6.35174369898753)]),\n",
            " RelationRecord(items=frozenset({'LUNCH BAG APPLE DESIGN', 'LUNCH BAG WOODLAND'}), support=0.0221351737859852, ordered_statistics=[OrderedStatistic(items_base=frozenset({'LUNCH BAG APPLE DESIGN'}), items_add=frozenset({'LUNCH BAG WOODLAND'}), confidence=0.34936211972522085, lift=5.5964053501401665), OrderedStatistic(items_base=frozenset({'LUNCH BAG WOODLAND'}), items_add=frozenset({'LUNCH BAG APPLE DESIGN'}), confidence=0.3545816733067729, lift=5.5964053501401665)]),\n",
            " RelationRecord(items=frozenset({'RED RETROSPOT CHARLOTTE BAG', 'LUNCH BAG APPLE DESIGN'}), support=0.015979605794938755, ordered_statistics=[OrderedStatistic(items_base=frozenset({'LUNCH BAG APPLE DESIGN'}), items_add=frozenset({'RED RETROSPOT CHARLOTTE BAG'}), confidence=0.25220804710500494, lift=3.9728325382857927), OrderedStatistic(items_base=frozenset({'RED RETROSPOT CHARLOTTE BAG'}), items_add=frozenset({'LUNCH BAG APPLE DESIGN'}), confidence=0.25171400587659154, lift=3.972832538285792)]),\n",
            " RelationRecord(items=frozenset({'LUNCH BAG APPLE DESIGN', 'STRAWBERRY CHARLOTTE BAG'}), support=0.013119442890008083, ordered_statistics=[OrderedStatistic(items_base=frozenset({'LUNCH BAG APPLE DESIGN'}), items_add=frozenset({'STRAWBERRY CHARLOTTE BAG'}), confidence=0.2070657507360157, lift=4.638215138004653), OrderedStatistic(items_base=frozenset({'STRAWBERRY CHARLOTTE BAG'}), items_add=frozenset({'LUNCH BAG APPLE DESIGN'}), confidence=0.2938718662952646, lift=4.638215138004653)]),\n",
            " RelationRecord(items=frozenset({'LUNCH BAG APPLE DESIGN', 'WOODLAND CHARLOTTE BAG'}), support=0.013368152707828141, ordered_statistics=[OrderedStatistic(items_base=frozenset({'LUNCH BAG APPLE DESIGN'}), items_add=frozenset({'WOODLAND CHARLOTTE BAG'}), confidence=0.21099116781158, lift=4.108197278345813), OrderedStatistic(items_base=frozenset({'WOODLAND CHARLOTTE BAG'}), items_add=frozenset({'LUNCH BAG APPLE DESIGN'}), confidence=0.2602905569007264, lift=4.108197278345813)]),\n",
            " RelationRecord(items=frozenset({'LUNCH BAG DOLLY GIRL DESIGN', 'LUNCH BAG CARS BLUE'}), support=0.0166013803394889, ordered_statistics=[OrderedStatistic(items_base=frozenset({'LUNCH BAG CARS BLUE'}), items_add=frozenset({'LUNCH BAG DOLLY GIRL DESIGN'}), confidence=0.23462214411247803, lift=5.5985577800608075), OrderedStatistic(items_base=frozenset({'LUNCH BAG DOLLY GIRL DESIGN'}), items_add=frozenset({'LUNCH BAG CARS BLUE'}), confidence=0.3961424332344214, lift=5.5985577800608075)]),\n",
            " RelationRecord(items=frozenset({'LUNCH BAG PINK POLKADOT', 'LUNCH BAG CARS BLUE'}), support=0.030404775228502146, ordered_statistics=[OrderedStatistic(items_base=frozenset({'LUNCH BAG CARS BLUE'}), items_add=frozenset({'LUNCH BAG PINK POLKADOT'}), confidence=0.429701230228471, lift=6.404897947881834), OrderedStatistic(items_base=frozenset({'LUNCH BAG PINK POLKADOT'}), items_add=frozenset({'LUNCH BAG CARS BLUE'}), confidence=0.45319740500463396, lift=6.404897947881834)]),\n",
            " RelationRecord(items=frozenset({'LUNCH BAG RED RETROSPOT', 'LUNCH BAG CARS BLUE'}), support=0.033638002860162906, ordered_statistics=[OrderedStatistic(items_base=frozenset({'LUNCH BAG CARS BLUE'}), items_add=frozenset({'LUNCH BAG RED RETROSPOT'}), confidence=0.47539543057996486, lift=4.942330129293843), OrderedStatistic(items_base=frozenset({'LUNCH BAG RED RETROSPOT'}), items_add=frozenset({'LUNCH BAG CARS BLUE'}), confidence=0.3497091144149968, lift=4.942330129293843)]),\n",
            " RelationRecord(items=frozenset({'LUNCH BAG SPACEBOY DESIGN ', 'LUNCH BAG CARS BLUE'}), support=0.029285581048311884, ordered_statistics=[OrderedStatistic(items_base=frozenset({'LUNCH BAG CARS BLUE'}), items_add=frozenset({'LUNCH BAG SPACEBOY DESIGN '}), confidence=0.413884007029877, lift=5.788257813096966), OrderedStatistic(items_base=frozenset({'LUNCH BAG SPACEBOY DESIGN '}), items_add=frozenset({'LUNCH BAG CARS BLUE'}), confidence=0.40956521739130436, lift=5.788257813096966)]),\n",
            " RelationRecord(items=frozenset({'LUNCH BAG SUKI DESIGN ', 'LUNCH BAG CARS BLUE'}), support=0.02841509668594168, ordered_statistics=[OrderedStatistic(items_base=frozenset({'LUNCH BAG CARS BLUE'}), items_add=frozenset({'LUNCH BAG SUKI DESIGN '}), confidence=0.4015817223198594, lift=6.058760637964633), OrderedStatistic(items_base=frozenset({'LUNCH BAG SUKI DESIGN '}), items_add=frozenset({'LUNCH BAG CARS BLUE'}), confidence=0.42870544090056284, lift=6.058760637964633)]),\n",
            " RelationRecord(items=frozenset({'LUNCH BAG WOODLAND', 'LUNCH BAG CARS BLUE'}), support=0.026922837779021328, ordered_statistics=[OrderedStatistic(items_base=frozenset({'LUNCH BAG CARS BLUE'}), items_add=frozenset({'LUNCH BAG WOODLAND'}), confidence=0.38049209138840073, lift=6.095074009760607), OrderedStatistic(items_base=frozenset({'LUNCH BAG WOODLAND'}), items_add=frozenset({'LUNCH BAG CARS BLUE'}), confidence=0.4312749003984064, lift=6.095074009760606)]),\n",
            " RelationRecord(items=frozenset({'RED RETROSPOT CHARLOTTE BAG', 'LUNCH BAG CARS BLUE'}), support=0.01846670397313934, ordered_statistics=[OrderedStatistic(items_base=frozenset({'LUNCH BAG CARS BLUE'}), items_add=frozenset({'RED RETROSPOT CHARLOTTE BAG'}), confidence=0.2609841827768014, lift=4.111076015278449), OrderedStatistic(items_base=frozenset({'RED RETROSPOT CHARLOTTE BAG'}), items_add=frozenset({'LUNCH BAG CARS BLUE'}), confidence=0.2908912830558276, lift=4.111076015278449)]),\n",
            " RelationRecord(items=frozenset({'ROUND SNACK BOXES SET OF4 WOODLAND ', 'LUNCH BAG CARS BLUE'}), support=0.009699682894982279, ordered_statistics=[OrderedStatistic(items_base=frozenset({'ROUND SNACK BOXES SET OF4 WOODLAND '}), items_add=frozenset({'LUNCH BAG CARS BLUE'}), confidence=0.21340629274965797, lift=3.016004750696616)]),\n",
            " RelationRecord(items=frozenset({'STRAWBERRY CHARLOTTE BAG', 'LUNCH BAG CARS BLUE'}), support=0.016290493067213828, ordered_statistics=[OrderedStatistic(items_base=frozenset({'LUNCH BAG CARS BLUE'}), items_add=frozenset({'STRAWBERRY CHARLOTTE BAG'}), confidence=0.23022847100175745, lift=5.157053619946052), OrderedStatistic(items_base=frozenset({'STRAWBERRY CHARLOTTE BAG'}), items_add=frozenset({'LUNCH BAG CARS BLUE'}), confidence=0.36490250696378834, lift=5.157053619946052)]),\n",
            " RelationRecord(items=frozenset({'WOODLAND CHARLOTTE BAG', 'LUNCH BAG CARS BLUE'}), support=0.015979605794938755, ordered_statistics=[OrderedStatistic(items_base=frozenset({'LUNCH BAG CARS BLUE'}), items_add=frozenset({'WOODLAND CHARLOTTE BAG'}), confidence=0.2258347978910369, lift=4.39721677298008), OrderedStatistic(items_base=frozenset({'WOODLAND CHARLOTTE BAG'}), items_add=frozenset({'LUNCH BAG CARS BLUE'}), confidence=0.311138014527845, lift=4.39721677298008)]),\n",
            " RelationRecord(items=frozenset({'LUNCH BAG PINK POLKADOT', 'LUNCH BAG DOLLY GIRL DESIGN'}), support=0.01604178324939377, ordered_statistics=[OrderedStatistic(items_base=frozenset({'LUNCH BAG DOLLY GIRL DESIGN'}), items_add=frozenset({'LUNCH BAG PINK POLKADOT'}), confidence=0.3827893175074184, lift=5.70565393278203), OrderedStatistic(items_base=frozenset({'LUNCH BAG PINK POLKADOT'}), items_add=frozenset({'LUNCH BAG DOLLY GIRL DESIGN'}), confidence=0.2391102873030584, lift=5.70565393278203)]),\n",
            " RelationRecord(items=frozenset({'LUNCH BAG DOLLY GIRL DESIGN', 'LUNCH BAG RED RETROSPOT'}), support=0.021762109059255113, ordered_statistics=[OrderedStatistic(items_base=frozenset({'LUNCH BAG DOLLY GIRL DESIGN'}), items_add=frozenset({'LUNCH BAG RED RETROSPOT'}), confidence=0.5192878338278931, lift=5.39864656202586), OrderedStatistic(items_base=frozenset({'LUNCH BAG RED RETROSPOT'}), items_add=frozenset({'LUNCH BAG DOLLY GIRL DESIGN'}), confidence=0.22624434389140272, lift=5.398646562025861)]),\n",
            " RelationRecord(items=frozenset({'LUNCH BAG SPACEBOY DESIGN ', 'LUNCH BAG DOLLY GIRL DESIGN'}), support=0.023503077783995522, ordered_statistics=[OrderedStatistic(items_base=frozenset({'LUNCH BAG DOLLY GIRL DESIGN'}), items_add=frozenset({'LUNCH BAG SPACEBOY DESIGN '}), confidence=0.5608308605341246, lift=7.843341504322022), OrderedStatistic(items_base=frozenset({'LUNCH BAG SPACEBOY DESIGN '}), items_add=frozenset({'LUNCH BAG DOLLY GIRL DESIGN'}), confidence=0.32869565217391306, lift=7.843341504322024)]),\n",
            " RelationRecord(items=frozenset({'LUNCH BAG SUKI DESIGN ', 'LUNCH BAG DOLLY GIRL DESIGN'}), support=0.016912267611763974, ordered_statistics=[OrderedStatistic(items_base=frozenset({'LUNCH BAG DOLLY GIRL DESIGN'}), items_add=frozenset({'LUNCH BAG SUKI DESIGN '}), confidence=0.4035608308605341, lift=6.088619927514043), OrderedStatistic(items_base=frozenset({'LUNCH BAG SUKI DESIGN '}), items_add=frozenset({'LUNCH BAG DOLLY GIRL DESIGN'}), confidence=0.2551594746716698, lift=6.088619927514043)]),\n",
            " RelationRecord(items=frozenset({'LUNCH BAG DOLLY GIRL DESIGN', 'LUNCH BAG WOODLAND'}), support=0.017347509792949075, ordered_statistics=[OrderedStatistic(items_base=frozenset({'LUNCH BAG DOLLY GIRL DESIGN'}), items_add=frozenset({'LUNCH BAG WOODLAND'}), confidence=0.41394658753709196, lift=6.630979051154432), OrderedStatistic(items_base=frozenset({'LUNCH BAG WOODLAND'}), items_add=frozenset({'LUNCH BAG DOLLY GIRL DESIGN'}), confidence=0.2778884462151394, lift=6.630979051154433)]),\n",
            " RelationRecord(items=frozenset({'RED RETROSPOT CHARLOTTE BAG', 'LUNCH BAG DOLLY GIRL DESIGN'}), support=0.00957532798607225, ordered_statistics=[OrderedStatistic(items_base=frozenset({'LUNCH BAG DOLLY GIRL DESIGN'}), items_add=frozenset({'RED RETROSPOT CHARLOTTE BAG'}), confidence=0.22848664688427298, lift=3.599168209441491)]),\n",
            " RelationRecord(items=frozenset({'SPACEBOY LUNCH BOX ', 'LUNCH BAG DOLLY GIRL DESIGN'}), support=0.01050798980289747, ordered_statistics=[OrderedStatistic(items_base=frozenset({'LUNCH BAG DOLLY GIRL DESIGN'}), items_add=frozenset({'SPACEBOY LUNCH BOX '}), confidence=0.2507418397626113, lift=4.505788836762098)]),\n",
            " RelationRecord(items=frozenset({'LUNCH BAG PINK POLKADOT', 'LUNCH BAG RED RETROSPOT'}), support=0.03662252067400361, ordered_statistics=[OrderedStatistic(items_base=frozenset({'LUNCH BAG PINK POLKADOT'}), items_add=frozenset({'LUNCH BAG RED RETROSPOT'}), confidence=0.545875810936052, lift=5.675061840520055), OrderedStatistic(items_base=frozenset({'LUNCH BAG RED RETROSPOT'}), items_add=frozenset({'LUNCH BAG PINK POLKADOT'}), confidence=0.3807369101486749, lift=5.675061840520054)]),\n",
            " RelationRecord(items=frozenset({'LUNCH BAG PINK POLKADOT', 'LUNCH BAG SPACEBOY DESIGN '}), support=0.02617670832556115, ordered_statistics=[OrderedStatistic(items_base=frozenset({'LUNCH BAG PINK POLKADOT'}), items_add=frozenset({'LUNCH BAG SPACEBOY DESIGN '}), confidence=0.3901760889712697, lift=5.456697425152114), OrderedStatistic(items_base=frozenset({'LUNCH BAG SPACEBOY DESIGN '}), items_add=frozenset({'LUNCH BAG PINK POLKADOT'}), confidence=0.3660869565217391, lift=5.456697425152114)]),\n",
            " RelationRecord(items=frozenset({'LUNCH BAG PINK POLKADOT', 'LUNCH BAG SUKI DESIGN '}), support=0.024995336690915873, ordered_statistics=[OrderedStatistic(items_base=frozenset({'LUNCH BAG PINK POLKADOT'}), items_add=frozenset({'LUNCH BAG SUKI DESIGN '}), confidence=0.37256719184430026, lift=5.621011394401389), OrderedStatistic(items_base=frozenset({'LUNCH BAG SUKI DESIGN '}), items_add=frozenset({'LUNCH BAG PINK POLKADOT'}), confidence=0.3771106941838649, lift=5.62101139440139)]),\n",
            " RelationRecord(items=frozenset({'LUNCH BAG PINK POLKADOT', 'LUNCH BAG WOODLAND'}), support=0.023751787601815583, ordered_statistics=[OrderedStatistic(items_base=frozenset({'LUNCH BAG PINK POLKADOT'}), items_add=frozenset({'LUNCH BAG WOODLAND'}), confidence=0.35403151065801675, lift=5.671203970032752), OrderedStatistic(items_base=frozenset({'LUNCH BAG WOODLAND'}), items_add=frozenset({'LUNCH BAG PINK POLKADOT'}), confidence=0.38047808764940244, lift=5.671203970032752)]),\n",
            " RelationRecord(items=frozenset({'LUNCH BAG PINK POLKADOT', 'RECYCLING BAG RETROSPOT '}), support=0.009699682894982279, ordered_statistics=[OrderedStatistic(items_base=frozenset({'RECYCLING BAG RETROSPOT '}), items_add=frozenset({'LUNCH BAG PINK POLKADOT'}), confidence=0.20911528150134048, lift=3.1169611421557546)]),\n",
            " RelationRecord(items=frozenset({'RED RETROSPOT CHARLOTTE BAG', 'LUNCH BAG PINK POLKADOT'}), support=0.016663557793943917, ordered_statistics=[OrderedStatistic(items_base=frozenset({'LUNCH BAG PINK POLKADOT'}), items_add=frozenset({'RED RETROSPOT CHARLOTTE BAG'}), confidence=0.2483781278962002, lift=3.912502870670507), OrderedStatistic(items_base=frozenset({'RED RETROSPOT CHARLOTTE BAG'}), items_add=frozenset({'LUNCH BAG PINK POLKADOT'}), confidence=0.2624877571008815, lift=3.9125028706705076)]),\n",
            " RelationRecord(items=frozenset({'LUNCH BAG PINK POLKADOT', 'STRAWBERRY CHARLOTTE BAG'}), support=0.013803394889013243, ordered_statistics=[OrderedStatistic(items_base=frozenset({'LUNCH BAG PINK POLKADOT'}), items_add=frozenset({'STRAWBERRY CHARLOTTE BAG'}), confidence=0.2057460611677479, lift=4.608654459277005), OrderedStatistic(items_base=frozenset({'STRAWBERRY CHARLOTTE BAG'}), items_add=frozenset({'LUNCH BAG PINK POLKADOT'}), confidence=0.30919220055710306, lift=4.608654459277005)]),\n",
            " RelationRecord(items=frozenset({'LUNCH BAG PINK POLKADOT', 'WOODLAND CHARLOTTE BAG'}), support=0.012062426164272834, ordered_statistics=[OrderedStatistic(items_base=frozenset({'WOODLAND CHARLOTTE BAG'}), items_add=frozenset({'LUNCH BAG PINK POLKADOT'}), confidence=0.23486682808716705, lift=3.5007999964095533)]),\n",
            " RelationRecord(items=frozenset({'LUNCH BAG SPACEBOY DESIGN ', 'LUNCH BAG RED RETROSPOT'}), support=0.03407324504134801, ordered_statistics=[OrderedStatistic(items_base=frozenset({'LUNCH BAG RED RETROSPOT'}), items_add=frozenset({'LUNCH BAG SPACEBOY DESIGN '}), confidence=0.35423400129282484, lift=4.954039515471741), OrderedStatistic(items_base=frozenset({'LUNCH BAG SPACEBOY DESIGN '}), items_add=frozenset({'LUNCH BAG RED RETROSPOT'}), confidence=0.47652173913043483, lift=4.954039515471742)]),\n",
            " RelationRecord(items=frozenset({'LUNCH BAG SUKI DESIGN ', 'LUNCH BAG RED RETROSPOT'}), support=0.033638002860162906, ordered_statistics=[OrderedStatistic(items_base=frozenset({'LUNCH BAG RED RETROSPOT'}), items_add=frozenset({'LUNCH BAG SUKI DESIGN '}), confidence=0.3497091144149968, lift=5.27614604797035), OrderedStatistic(items_base=frozenset({'LUNCH BAG SUKI DESIGN '}), items_add=frozenset({'LUNCH BAG RED RETROSPOT'}), confidence=0.5075046904315197, lift=5.27614604797035)]),\n",
            " RelationRecord(items=frozenset({'LUNCH BAG WOODLAND', 'LUNCH BAG RED RETROSPOT'}), support=0.03195921158987751, ordered_statistics=[OrderedStatistic(items_base=frozenset({'LUNCH BAG RED RETROSPOT'}), items_add=frozenset({'LUNCH BAG WOODLAND'}), confidence=0.33225597931480283, lift=5.322383381792803), OrderedStatistic(items_base=frozenset({'LUNCH BAG WOODLAND'}), items_add=frozenset({'LUNCH BAG RED RETROSPOT'}), confidence=0.5119521912350598, lift=5.322383381792803)]),\n",
            " RelationRecord(items=frozenset({'RECYCLING BAG RETROSPOT ', 'LUNCH BAG RED RETROSPOT'}), support=0.01510912143256855, ordered_statistics=[OrderedStatistic(items_base=frozenset({'RECYCLING BAG RETROSPOT '}), items_add=frozenset({'LUNCH BAG RED RETROSPOT'}), confidence=0.3257372654155496, lift=3.3864463087771717)]),\n",
            " RelationRecord(items=frozenset({'RED RETROSPOT CHARLOTTE BAG', 'LUNCH BAG RED RETROSPOT'}), support=0.023751787601815583, ordered_statistics=[OrderedStatistic(items_base=frozenset({'LUNCH BAG RED RETROSPOT'}), items_add=frozenset({'RED RETROSPOT CHARLOTTE BAG'}), confidence=0.24692954104718814, lift=3.889684435516089), OrderedStatistic(items_base=frozenset({'RED RETROSPOT CHARLOTTE BAG'}), items_add=frozenset({'LUNCH BAG RED RETROSPOT'}), confidence=0.37414299706170423, lift=3.889684435516089)]),\n",
            " RelationRecord(items=frozenset({'STRAWBERRY CHARLOTTE BAG', 'LUNCH BAG RED RETROSPOT'}), support=0.018280171609774295, ordered_statistics=[OrderedStatistic(items_base=frozenset({'STRAWBERRY CHARLOTTE BAG'}), items_add=frozenset({'LUNCH BAG RED RETROSPOT'}), confidence=0.40947075208913647, lift=4.256960637265405)]),\n",
            " RelationRecord(items=frozenset({'WOODLAND CHARLOTTE BAG', 'LUNCH BAG RED RETROSPOT'}), support=0.018777591245414414, ordered_statistics=[OrderedStatistic(items_base=frozenset({'WOODLAND CHARLOTTE BAG'}), items_add=frozenset({'LUNCH BAG RED RETROSPOT'}), confidence=0.3656174334140436, lift=3.8010505375553096)]),\n",
            " RelationRecord(items=frozenset({'LUNCH BAG SPACEBOY DESIGN ', 'LUNCH BAG SUKI DESIGN '}), support=0.027420257414661444, ordered_statistics=[OrderedStatistic(items_base=frozenset({'LUNCH BAG SPACEBOY DESIGN '}), items_add=frozenset({'LUNCH BAG SUKI DESIGN '}), confidence=0.3834782608695652, lift=5.78562933355086), OrderedStatistic(items_base=frozenset({'LUNCH BAG SUKI DESIGN '}), items_add=frozenset({'LUNCH BAG SPACEBOY DESIGN '}), confidence=0.4136960600375234, lift=5.78562933355086)]),\n",
            " RelationRecord(items=frozenset({'LUNCH BAG SPACEBOY DESIGN ', 'LUNCH BAG WOODLAND'}), support=0.029036871230491822, ordered_statistics=[OrderedStatistic(items_base=frozenset({'LUNCH BAG SPACEBOY DESIGN '}), items_add=frozenset({'LUNCH BAG WOODLAND'}), confidence=0.40608695652173915, lift=6.505076216871644), OrderedStatistic(items_base=frozenset({'LUNCH BAG WOODLAND'}), items_add=frozenset({'LUNCH BAG SPACEBOY DESIGN '}), confidence=0.4651394422310757, lift=6.505076216871644)]),\n",
            " RelationRecord(items=frozenset({'PLASTERS IN TIN WOODLAND ANIMALS', 'LUNCH BAG SPACEBOY DESIGN '}), support=0.009513150531617236, ordered_statistics=[OrderedStatistic(items_base=frozenset({'PLASTERS IN TIN WOODLAND ANIMALS'}), items_add=frozenset({'LUNCH BAG SPACEBOY DESIGN '}), confidence=0.22046109510086456, lift=3.083196341310613)]),\n",
            " RelationRecord(items=frozenset({'RED RETROSPOT CHARLOTTE BAG', 'LUNCH BAG SPACEBOY DESIGN '}), support=0.017596219610769136, ordered_statistics=[OrderedStatistic(items_base=frozenset({'LUNCH BAG SPACEBOY DESIGN '}), items_add=frozenset({'RED RETROSPOT CHARLOTTE BAG'}), confidence=0.24608695652173915, lift=3.876411872418345), OrderedStatistic(items_base=frozenset({'RED RETROSPOT CHARLOTTE BAG'}), items_add=frozenset({'LUNCH BAG SPACEBOY DESIGN '}), confidence=0.277179236043095, lift=3.8764118724183456)]),\n",
            " RelationRecord(items=frozenset({'ROUND SNACK BOXES SET OF4 WOODLAND ', 'LUNCH BAG SPACEBOY DESIGN '}), support=0.010881054529627556, ordered_statistics=[OrderedStatistic(items_base=frozenset({'ROUND SNACK BOXES SET OF4 WOODLAND '}), items_add=frozenset({'LUNCH BAG SPACEBOY DESIGN '}), confidence=0.23939808481532146, lift=3.348034259204187)]),\n",
            " RelationRecord(items=frozenset({'LUNCH BAG SPACEBOY DESIGN ', 'SPACEBOY LUNCH BOX '}), support=0.014860411614748492, ordered_statistics=[OrderedStatistic(items_base=frozenset({'LUNCH BAG SPACEBOY DESIGN '}), items_add=frozenset({'SPACEBOY LUNCH BOX '}), confidence=0.20782608695652174, lift=3.734599951420938), OrderedStatistic(items_base=frozenset({'SPACEBOY LUNCH BOX '}), items_add=frozenset({'LUNCH BAG SPACEBOY DESIGN '}), confidence=0.2670391061452514, lift=3.734599951420938)]),\n",
            " RelationRecord(items=frozenset({'LUNCH BAG SPACEBOY DESIGN ', 'STRAWBERRY CHARLOTTE BAG'}), support=0.014300814524653361, ordered_statistics=[OrderedStatistic(items_base=frozenset({'LUNCH BAG SPACEBOY DESIGN '}), items_add=frozenset({'STRAWBERRY CHARLOTTE BAG'}), confidence=0.2, lift=4.479944289693594), OrderedStatistic(items_base=frozenset({'STRAWBERRY CHARLOTTE BAG'}), items_add=frozenset({'LUNCH BAG SPACEBOY DESIGN '}), confidence=0.32033426183844016, lift=4.479944289693594)]),\n",
            " RelationRecord(items=frozenset({'WOODLAND CHARLOTTE BAG', 'LUNCH BAG SPACEBOY DESIGN '}), support=0.014300814524653361, ordered_statistics=[OrderedStatistic(items_base=frozenset({'LUNCH BAG SPACEBOY DESIGN '}), items_add=frozenset({'WOODLAND CHARLOTTE BAG'}), confidence=0.2, lift=3.894188861985472), OrderedStatistic(items_base=frozenset({'WOODLAND CHARLOTTE BAG'}), items_add=frozenset({'LUNCH BAG SPACEBOY DESIGN '}), confidence=0.2784503631961259, lift=3.8941888619854725)]),\n",
            " RelationRecord(items=frozenset({'LUNCH BAG SUKI DESIGN ', 'LUNCH BAG WOODLAND'}), support=0.023378722875085495, ordered_statistics=[OrderedStatistic(items_base=frozenset({'LUNCH BAG SUKI DESIGN '}), items_add=frozenset({'LUNCH BAG WOODLAND'}), confidence=0.3527204502814259, lift=5.650202193103758), OrderedStatistic(items_base=frozenset({'LUNCH BAG WOODLAND'}), items_add=frozenset({'LUNCH BAG SUKI DESIGN '}), confidence=0.3745019920318725, lift=5.650202193103757)]),\n",
            " RelationRecord(items=frozenset({'RED RETROSPOT CHARLOTTE BAG', 'LUNCH BAG SUKI DESIGN '}), support=0.016787912702853944, ordered_statistics=[OrderedStatistic(items_base=frozenset({'LUNCH BAG SUKI DESIGN '}), items_add=frozenset({'RED RETROSPOT CHARLOTTE BAG'}), confidence=0.25328330206378985, lift=3.9897701734494926), OrderedStatistic(items_base=frozenset({'RED RETROSPOT CHARLOTTE BAG'}), items_add=frozenset({'LUNCH BAG SUKI DESIGN '}), confidence=0.2644466209598433, lift=3.9897701734494926)]),\n",
            " RelationRecord(items=frozenset({'LUNCH BAG SUKI DESIGN ', 'STRAWBERRY CHARLOTTE BAG'}), support=0.01374121743455823, ordered_statistics=[OrderedStatistic(items_base=frozenset({'LUNCH BAG SUKI DESIGN '}), items_add=frozenset({'STRAWBERRY CHARLOTTE BAG'}), confidence=0.2073170731707317, lift=4.643844690536042), OrderedStatistic(items_base=frozenset({'STRAWBERRY CHARLOTTE BAG'}), items_add=frozenset({'LUNCH BAG SUKI DESIGN '}), confidence=0.30779944289693595, lift=4.643844690536041)]),\n",
            " RelationRecord(items=frozenset({'WOODLAND CHARLOTTE BAG', 'LUNCH BAG SUKI DESIGN '}), support=0.014487346888018405, ordered_statistics=[OrderedStatistic(items_base=frozenset({'LUNCH BAG SUKI DESIGN '}), items_add=frozenset({'WOODLAND CHARLOTTE BAG'}), confidence=0.21857410881801126, lift=4.2558443003875), OrderedStatistic(items_base=frozenset({'WOODLAND CHARLOTTE BAG'}), items_add=frozenset({'LUNCH BAG SUKI DESIGN '}), confidence=0.2820823244552058, lift=4.2558443003874995)]),\n",
            " RelationRecord(items=frozenset({'PLASTERS IN TIN WOODLAND ANIMALS', 'LUNCH BAG WOODLAND'}), support=0.010259279985077412, ordered_statistics=[OrderedStatistic(items_base=frozenset({'PLASTERS IN TIN WOODLAND ANIMALS'}), items_add=frozenset({'LUNCH BAG WOODLAND'}), confidence=0.2377521613832853, lift=3.8085338760232843)]),\n",
            " RelationRecord(items=frozenset({'RED RETROSPOT CHARLOTTE BAG', 'LUNCH BAG WOODLAND'}), support=0.01591742834048374, ordered_statistics=[OrderedStatistic(items_base=frozenset({'LUNCH BAG WOODLAND'}), items_add=frozenset({'RED RETROSPOT CHARLOTTE BAG'}), confidence=0.2549800796812749, lift=4.016498160150777), OrderedStatistic(items_base=frozenset({'RED RETROSPOT CHARLOTTE BAG'}), items_add=frozenset({'LUNCH BAG WOODLAND'}), confidence=0.25073457394711063, lift=4.016498160150777)]),\n",
            " RelationRecord(items=frozenset({'ROUND SNACK BOXES SET OF4 WOODLAND ', 'LUNCH BAG WOODLAND'}), support=0.013865572343468259, ordered_statistics=[OrderedStatistic(items_base=frozenset({'LUNCH BAG WOODLAND'}), items_add=frozenset({'ROUND SNACK BOXES SET OF4 WOODLAND '}), confidence=0.22211155378486055, lift=4.88675802944174), OrderedStatistic(items_base=frozenset({'ROUND SNACK BOXES SET OF4 WOODLAND '}), items_add=frozenset({'LUNCH BAG WOODLAND'}), confidence=0.30506155950752395, lift=4.886758029441741)]),\n",
            " RelationRecord(items=frozenset({'SPACEBOY LUNCH BOX ', 'LUNCH BAG WOODLAND'}), support=0.011875893800907792, ordered_statistics=[OrderedStatistic(items_base=frozenset({'SPACEBOY LUNCH BOX '}), items_add=frozenset({'LUNCH BAG WOODLAND'}), confidence=0.2134078212290503, lift=3.418563733891251)]),\n",
            " RelationRecord(items=frozenset({'STRAWBERRY CHARLOTTE BAG', 'LUNCH BAG WOODLAND'}), support=0.013679039980103214, ordered_statistics=[OrderedStatistic(items_base=frozenset({'LUNCH BAG WOODLAND'}), items_add=frozenset({'STRAWBERRY CHARLOTTE BAG'}), confidence=0.21912350597609562, lift=4.908305496676248), OrderedStatistic(items_base=frozenset({'STRAWBERRY CHARLOTTE BAG'}), items_add=frozenset({'LUNCH BAG WOODLAND'}), confidence=0.30640668523676884, lift=4.908305496676248)]),\n",
            " RelationRecord(items=frozenset({'WOODLAND CHARLOTTE BAG', 'LUNCH BAG WOODLAND'}), support=0.01697444506621899, ordered_statistics=[OrderedStatistic(items_base=frozenset({'LUNCH BAG WOODLAND'}), items_add=frozenset({'WOODLAND CHARLOTTE BAG'}), confidence=0.2719123505976096, lift=5.2943902356675006), OrderedStatistic(items_base=frozenset({'WOODLAND CHARLOTTE BAG'}), items_add=frozenset({'LUNCH BAG WOODLAND'}), confidence=0.3305084745762712, lift=5.2943902356675)]),\n",
            " RelationRecord(items=frozenset({'RED TOADSTOOL LED NIGHT LIGHT', 'LUNCH BOX I LOVE LONDON'}), support=0.009388795622707207, ordered_statistics=[OrderedStatistic(items_base=frozenset({'LUNCH BOX I LOVE LONDON'}), items_add=frozenset({'RED TOADSTOOL LED NIGHT LIGHT'}), confidence=0.21820809248554915, lift=4.163037664822167)]),\n",
            " RelationRecord(items=frozenset({'LUNCH BOX I LOVE LONDON', 'SPACEBOY LUNCH BOX '}), support=0.01604178324939377, ordered_statistics=[OrderedStatistic(items_base=frozenset({'LUNCH BOX I LOVE LONDON'}), items_add=frozenset({'SPACEBOY LUNCH BOX '}), confidence=0.37283236994219654, lift=6.699735201989214), OrderedStatistic(items_base=frozenset({'SPACEBOY LUNCH BOX '}), items_add=frozenset({'LUNCH BOX I LOVE LONDON'}), confidence=0.28826815642458103, lift=6.699735201989215)]),\n",
            " RelationRecord(items=frozenset({'NATURAL SLATE HEART CHALKBOARD ', 'RECYCLING BAG RETROSPOT '}), support=0.012248958527637879, ordered_statistics=[OrderedStatistic(items_base=frozenset({'RECYCLING BAG RETROSPOT '}), items_add=frozenset({'NATURAL SLATE HEART CHALKBOARD '}), confidence=0.2640750670241287, lift=3.4168296886154965)]),\n",
            " RelationRecord(items=frozenset({'RECIPE BOX PANTRY YELLOW DESIGN', 'PACK OF 20 NAPKINS PANTRY DESIGN'}), support=0.010943231984082572, ordered_statistics=[OrderedStatistic(items_base=frozenset({'PACK OF 20 NAPKINS PANTRY DESIGN'}), items_add=frozenset({'RECIPE BOX PANTRY YELLOW DESIGN'}), confidence=0.2711864406779661, lift=3.95420809195261)]),\n",
            " RelationRecord(items=frozenset({'ROSES REGENCY TEACUP AND SAUCER ', 'PACK OF 20 NAPKINS PANTRY DESIGN'}), support=0.008145246533606914, ordered_statistics=[OrderedStatistic(items_base=frozenset({'PACK OF 20 NAPKINS PANTRY DESIGN'}), items_add=frozenset({'ROSES REGENCY TEACUP AND SAUCER '}), confidence=0.20184899845916796, lift=3.0683718735527394)]),\n",
            " RelationRecord(items=frozenset({'SET OF 3 CAKE TINS PANTRY DESIGN ', 'PACK OF 20 NAPKINS PANTRY DESIGN'}), support=0.013181620344463098, ordered_statistics=[OrderedStatistic(items_base=frozenset({'PACK OF 20 NAPKINS PANTRY DESIGN'}), items_add=frozenset({'SET OF 3 CAKE TINS PANTRY DESIGN '}), confidence=0.32665639445300465, lift=3.8124925921536095)]),\n",
            " RelationRecord(items=frozenset({'SET OF 4 PANTRY JELLY MOULDS', 'PACK OF 20 NAPKINS PANTRY DESIGN'}), support=0.009699682894982279, ordered_statistics=[OrderedStatistic(items_base=frozenset({'PACK OF 20 NAPKINS PANTRY DESIGN'}), items_add=frozenset({'SET OF 4 PANTRY JELLY MOULDS'}), confidence=0.24036979969183359, lift=3.6573959209496305)]),\n",
            " RelationRecord(items=frozenset({'SET OF 6 SPICE TINS PANTRY DESIGN', 'PACK OF 20 NAPKINS PANTRY DESIGN'}), support=0.008704843623702045, ordered_statistics=[OrderedStatistic(items_base=frozenset({'PACK OF 20 NAPKINS PANTRY DESIGN'}), items_add=frozenset({'SET OF 6 SPICE TINS PANTRY DESIGN'}), confidence=0.21571648690292758, lift=4.22578350652836)]),\n",
            " RelationRecord(items=frozenset({'SET/20 RED RETROSPOT PAPER NAPKINS ', 'PACK OF 20 NAPKINS PANTRY DESIGN'}), support=0.009948392712802338, ordered_statistics=[OrderedStatistic(items_base=frozenset({'PACK OF 20 NAPKINS PANTRY DESIGN'}), items_add=frozenset({'SET/20 RED RETROSPOT PAPER NAPKINS '}), confidence=0.24653312788906012, lift=4.10030227077534)]),\n",
            " RelationRecord(items=frozenset({'PACK OF 60 PINK PAISLEY CAKE CASES', 'PACK OF 72 RETROSPOT CAKE CASES'}), support=0.02561711123546602, ordered_statistics=[OrderedStatistic(items_base=frozenset({'PACK OF 60 PINK PAISLEY CAKE CASES'}), items_add=frozenset({'PACK OF 72 RETROSPOT CAKE CASES'}), confidence=0.4801864801864802, lift=5.995993137297486), OrderedStatistic(items_base=frozenset({'PACK OF 72 RETROSPOT CAKE CASES'}), items_add=frozenset({'PACK OF 60 PINK PAISLEY CAKE CASES'}), confidence=0.3198757763975155, lift=5.995993137297486)]),\n",
            " RelationRecord(items=frozenset({'SET OF 3 BUTTERFLY COOKIE CUTTERS', 'PACK OF 60 PINK PAISLEY CAKE CASES'}), support=0.009637505440527265, ordered_statistics=[OrderedStatistic(items_base=frozenset({'SET OF 3 BUTTERFLY COOKIE CUTTERS'}), items_add=frozenset({'PACK OF 60 PINK PAISLEY CAKE CASES'}), confidence=0.2272727272727273, lift=4.260171646535284)]),\n",
            " RelationRecord(items=frozenset({'PACK OF 60 PINK PAISLEY CAKE CASES', 'SET OF 3 HEART COOKIE CUTTERS'}), support=0.008829198532612074, ordered_statistics=[OrderedStatistic(items_base=frozenset({'SET OF 3 HEART COOKIE CUTTERS'}), items_add=frozenset({'PACK OF 60 PINK PAISLEY CAKE CASES'}), confidence=0.2094395280235988, lift=3.925892691379417)]),\n",
            " RelationRecord(items=frozenset({'SET OF 4 PANTRY JELLY MOULDS', 'PACK OF 60 PINK PAISLEY CAKE CASES'}), support=0.011254119256357645, ordered_statistics=[OrderedStatistic(items_base=frozenset({'PACK OF 60 PINK PAISLEY CAKE CASES'}), items_add=frozenset({'SET OF 4 PANTRY JELLY MOULDS'}), confidence=0.21095571095571097, lift=3.2098398290451273)]),\n",
            " RelationRecord(items=frozenset({'RED RETROSPOT CHARLOTTE BAG', 'PACK OF 72 RETROSPOT CAKE CASES'}), support=0.018653236336504384, ordered_statistics=[OrderedStatistic(items_base=frozenset({'PACK OF 72 RETROSPOT CAKE CASES'}), items_add=frozenset({'RED RETROSPOT CHARLOTTE BAG'}), confidence=0.23291925465838512, lift=3.668991550118323), OrderedStatistic(items_base=frozenset({'RED RETROSPOT CHARLOTTE BAG'}), items_add=frozenset({'PACK OF 72 RETROSPOT CAKE CASES'}), confidence=0.2938295788442703, lift=3.6689915501183226)]),\n",
            " RelationRecord(items=frozenset({'SET OF 3 BUTTERFLY COOKIE CUTTERS', 'PACK OF 72 RETROSPOT CAKE CASES'}), support=0.012373313436547908, ordered_statistics=[OrderedStatistic(items_base=frozenset({'SET OF 3 BUTTERFLY COOKIE CUTTERS'}), items_add=frozenset({'PACK OF 72 RETROSPOT CAKE CASES'}), confidence=0.29178885630498536, lift=3.6435094533797203)]),\n",
            " RelationRecord(items=frozenset({'SET OF 3 HEART COOKIE CUTTERS', 'PACK OF 72 RETROSPOT CAKE CASES'}), support=0.010881054529627556, ordered_statistics=[OrderedStatistic(items_base=frozenset({'SET OF 3 HEART COOKIE CUTTERS'}), items_add=frozenset({'PACK OF 72 RETROSPOT CAKE CASES'}), confidence=0.2581120943952802, lift=3.222994420931127)]),\n",
            " RelationRecord(items=frozenset({'SET/20 RED RETROSPOT PAPER NAPKINS ', 'PACK OF 72 RETROSPOT CAKE CASES'}), support=0.01778275197413418, ordered_statistics=[OrderedStatistic(items_base=frozenset({'PACK OF 72 RETROSPOT CAKE CASES'}), items_add=frozenset({'SET/20 RED RETROSPOT PAPER NAPKINS '}), confidence=0.2220496894409938, lift=3.693097368437956), OrderedStatistic(items_base=frozenset({'SET/20 RED RETROSPOT PAPER NAPKINS '}), items_add=frozenset({'PACK OF 72 RETROSPOT CAKE CASES'}), confidence=0.2957600827300931, lift=3.693097368437956)]),\n",
            " RelationRecord(items=frozenset({'STRAWBERRY CERAMIC TRINKET BOX', 'PACK OF 72 RETROSPOT CAKE CASES'}), support=0.011005409438537585, ordered_statistics=[OrderedStatistic(items_base=frozenset({'STRAWBERRY CERAMIC TRINKET BOX'}), items_add=frozenset({'PACK OF 72 RETROSPOT CAKE CASES'}), confidence=0.25213675213675213, lift=3.1483815097945533)]),\n",
            " RelationRecord(items=frozenset({'STRAWBERRY CHARLOTTE BAG', 'PACK OF 72 RETROSPOT CAKE CASES'}), support=0.014798234160293477, ordered_statistics=[OrderedStatistic(items_base=frozenset({'STRAWBERRY CHARLOTTE BAG'}), items_add=frozenset({'PACK OF 72 RETROSPOT CAKE CASES'}), confidence=0.33147632311977715, lift=4.139078963303864)]),\n",
            " RelationRecord(items=frozenset({'WOODLAND CHARLOTTE BAG', 'PACK OF 72 RETROSPOT CAKE CASES'}), support=0.016290493067213828, ordered_statistics=[OrderedStatistic(items_base=frozenset({'PACK OF 72 RETROSPOT CAKE CASES'}), items_add=frozenset({'WOODLAND CHARLOTTE BAG'}), confidence=0.20341614906832298, lift=3.960704510249199), OrderedStatistic(items_base=frozenset({'WOODLAND CHARLOTTE BAG'}), items_add=frozenset({'PACK OF 72 RETROSPOT CAKE CASES'}), confidence=0.3171912832929782, lift=3.960704510249199)]),\n",
            " RelationRecord(items=frozenset({'SET/20 RED RETROSPOT PAPER NAPKINS ', 'PAPER BUNTING RETROSPOT'}), support=0.013679039980103214, ordered_statistics=[OrderedStatistic(items_base=frozenset({'PAPER BUNTING RETROSPOT'}), items_add=frozenset({'SET/20 RED RETROSPOT PAPER NAPKINS '}), confidence=0.2770780856423174, lift=4.6083214595505595), OrderedStatistic(items_base=frozenset({'SET/20 RED RETROSPOT PAPER NAPKINS '}), items_add=frozenset({'PAPER BUNTING RETROSPOT'}), confidence=0.22750775594622544, lift=4.608321459550559)]),\n",
            " RelationRecord(items=frozenset({\"PAPER CHAIN KIT 50'S CHRISTMAS \", 'PAPER CHAIN KIT VINTAGE CHRISTMAS'}), support=0.0332027606789778, ordered_statistics=[OrderedStatistic(items_base=frozenset({\"PAPER CHAIN KIT 50'S CHRISTMAS \"}), items_add=frozenset({'PAPER CHAIN KIT VINTAGE CHRISTMAS'}), confidence=0.4688323090430202, lift=9.308925958443078), OrderedStatistic(items_base=frozenset({'PAPER CHAIN KIT VINTAGE CHRISTMAS'}), items_add=frozenset({\"PAPER CHAIN KIT 50'S CHRISTMAS \"}), confidence=0.6592592592592592, lift=9.308925958443078)]),\n",
            " RelationRecord(items=frozenset({'POPCORN HOLDER', \"PAPER CHAIN KIT 50'S CHRISTMAS \"}), support=0.01200024870981782, ordered_statistics=[OrderedStatistic(items_base=frozenset({'POPCORN HOLDER'}), items_add=frozenset({\"PAPER CHAIN KIT 50'S CHRISTMAS \"}), confidence=0.24585987261146497, lift=3.471610475162591)]),\n",
            " RelationRecord(items=frozenset({'SPOTTY BUNTING', 'PARTY BUNTING'}), support=0.02922340359385687, ordered_statistics=[OrderedStatistic(items_base=frozenset({'PARTY BUNTING'}), items_add=frozenset({'SPOTTY BUNTING'}), confidence=0.2812687013764213, lift=4.017446291507091), OrderedStatistic(items_base=frozenset({'SPOTTY BUNTING'}), items_add=frozenset({'PARTY BUNTING'}), confidence=0.4174067495559503, lift=4.017446291507091)]),\n",
            " RelationRecord(items=frozenset({'PINK REGENCY TEACUP AND SAUCER', 'RECIPE BOX PANTRY YELLOW DESIGN'}), support=0.009948392712802338, ordered_statistics=[OrderedStatistic(items_base=frozenset({'PINK REGENCY TEACUP AND SAUCER'}), items_add=frozenset({'RECIPE BOX PANTRY YELLOW DESIGN'}), confidence=0.2099737532808399, lift=3.061657184057795)]),\n",
            " RelationRecord(items=frozenset({'PINK REGENCY TEACUP AND SAUCER', 'REGENCY CAKESTAND 3 TIER'}), support=0.02400049741963564, ordered_statistics=[OrderedStatistic(items_base=frozenset({'PINK REGENCY TEACUP AND SAUCER'}), items_add=frozenset({'REGENCY CAKESTAND 3 TIER'}), confidence=0.5065616797900262, lift=4.135548982773092)]),\n",
            " RelationRecord(items=frozenset({'PINK REGENCY TEACUP AND SAUCER', 'ROSES REGENCY TEACUP AND SAUCER '}), support=0.03674687558291363, ordered_statistics=[OrderedStatistic(items_base=frozenset({'PINK REGENCY TEACUP AND SAUCER'}), items_add=frozenset({'ROSES REGENCY TEACUP AND SAUCER '}), confidence=0.7755905511811023, lift=11.790002679249215), OrderedStatistic(items_base=frozenset({'ROSES REGENCY TEACUP AND SAUCER '}), items_add=frozenset({'PINK REGENCY TEACUP AND SAUCER'}), confidence=0.558601134215501, lift=11.790002679249215)]),\n",
            " RelationRecord(items=frozenset({'PINK REGENCY TEACUP AND SAUCER', 'SET OF 3 REGENCY CAKE TINS'}), support=0.011751538891997761, ordered_statistics=[OrderedStatistic(items_base=frozenset({'PINK REGENCY TEACUP AND SAUCER'}), items_add=frozenset({'SET OF 3 REGENCY CAKE TINS'}), confidence=0.2480314960629921, lift=4.5851615530817265), OrderedStatistic(items_base=frozenset({'SET OF 3 REGENCY CAKE TINS'}), items_add=frozenset({'PINK REGENCY TEACUP AND SAUCER'}), confidence=0.21724137931034482, lift=4.5851615530817265)]),\n",
            " RelationRecord(items=frozenset({'PLASTERS IN TIN WOODLAND ANIMALS', 'POSTAGE'}), support=0.009140085804887147, ordered_statistics=[OrderedStatistic(items_base=frozenset({'PLASTERS IN TIN WOODLAND ANIMALS'}), items_add=frozenset({'POSTAGE'}), confidence=0.21181556195965417, lift=3.025426006214137)]),\n",
            " RelationRecord(items=frozenset({'RED RETROSPOT CHARLOTTE BAG', 'PLASTERS IN TIN WOODLAND ANIMALS'}), support=0.00876702107815706, ordered_statistics=[OrderedStatistic(items_base=frozenset({'PLASTERS IN TIN WOODLAND ANIMALS'}), items_add=frozenset({'RED RETROSPOT CHARLOTTE BAG'}), confidence=0.20317002881844382, lift=3.2003756841205013)]),\n",
            " RelationRecord(items=frozenset({'PLASTERS IN TIN WOODLAND ANIMALS', 'ROUND SNACK BOXES SET OF4 WOODLAND '}), support=0.010694522166262514, ordered_statistics=[OrderedStatistic(items_base=frozenset({'PLASTERS IN TIN WOODLAND ANIMALS'}), items_add=frozenset({'ROUND SNACK BOXES SET OF4 WOODLAND '}), confidence=0.24783861671469742, lift=5.452788608238684), OrderedStatistic(items_base=frozenset({'ROUND SNACK BOXES SET OF4 WOODLAND '}), items_add=frozenset({'PLASTERS IN TIN WOODLAND ANIMALS'}), confidence=0.23529411764705882, lift=5.452788608238684)]),\n",
            " RelationRecord(items=frozenset({'PLASTERS IN TIN WOODLAND ANIMALS', 'WOODLAND CHARLOTTE BAG'}), support=0.009699682894982279, ordered_statistics=[OrderedStatistic(items_base=frozenset({'PLASTERS IN TIN WOODLAND ANIMALS'}), items_add=frozenset({'WOODLAND CHARLOTTE BAG'}), confidence=0.22478386167146971, lift=4.3767540523756026)]),\n",
            " RelationRecord(items=frozenset({'POPCORN HOLDER', 'RABBIT NIGHT LIGHT'}), support=0.010694522166262514, ordered_statistics=[OrderedStatistic(items_base=frozenset({'POPCORN HOLDER'}), items_add=frozenset({'RABBIT NIGHT LIGHT'}), confidence=0.21910828025477708, lift=3.617986110202854)]),\n",
            " RelationRecord(items=frozenset({'POPCORN HOLDER', 'RED RETROSPOT CHARLOTTE BAG'}), support=0.010694522166262514, ordered_statistics=[OrderedStatistic(items_base=frozenset({'POPCORN HOLDER'}), items_add=frozenset({'RED RETROSPOT CHARLOTTE BAG'}), confidence=0.21910828025477708, lift=3.451438267715553)]),\n",
            " RelationRecord(items=frozenset({'POPCORN HOLDER', 'STRAWBERRY CHARLOTTE BAG'}), support=0.009015730895977118, ordered_statistics=[OrderedStatistic(items_base=frozenset({'STRAWBERRY CHARLOTTE BAG'}), items_add=frozenset({'POPCORN HOLDER'}), confidence=0.201949860724234, lift=4.13752816564058)]),\n",
            " RelationRecord(items=frozenset({'ROUND SNACK BOXES SET OF4 WOODLAND ', 'POSTAGE'}), support=0.014798234160293477, ordered_statistics=[OrderedStatistic(items_base=frozenset({'POSTAGE'}), items_add=frozenset({'ROUND SNACK BOXES SET OF4 WOODLAND '}), confidence=0.2113676731793961, lift=4.6503779586104335), OrderedStatistic(items_base=frozenset({'ROUND SNACK BOXES SET OF4 WOODLAND '}), items_add=frozenset({'POSTAGE'}), confidence=0.3255813953488372, lift=4.650377958610434)]),\n",
            " RelationRecord(items=frozenset({'RED TOADSTOOL LED NIGHT LIGHT', 'RABBIT NIGHT LIGHT'}), support=0.013927749797923272, ordered_statistics=[OrderedStatistic(items_base=frozenset({'RABBIT NIGHT LIGHT'}), items_add=frozenset({'RED TOADSTOOL LED NIGHT LIGHT'}), confidence=0.2299794661190965, lift=4.387615366065752), OrderedStatistic(items_base=frozenset({'RED TOADSTOOL LED NIGHT LIGHT'}), items_add=frozenset({'RABBIT NIGHT LIGHT'}), confidence=0.265717674970344, lift=4.387615366065752)]),\n",
            " RelationRecord(items=frozenset({'RECYCLING BAG RETROSPOT ', 'RECIPE BOX PANTRY YELLOW DESIGN'}), support=0.011254119256357645, ordered_statistics=[OrderedStatistic(items_base=frozenset({'RECYCLING BAG RETROSPOT '}), items_add=frozenset({'RECIPE BOX PANTRY YELLOW DESIGN'}), confidence=0.24262734584450404, lift=3.537783865110751)]),\n",
            " RelationRecord(items=frozenset({'RED RETROSPOT CHARLOTTE BAG', 'RECIPE BOX PANTRY YELLOW DESIGN'}), support=0.014238637070198346, ordered_statistics=[OrderedStatistic(items_base=frozenset({'RECIPE BOX PANTRY YELLOW DESIGN'}), items_add=frozenset({'RED RETROSPOT CHARLOTTE BAG'}), confidence=0.20761559383499545, lift=3.2704031299199134), OrderedStatistic(items_base=frozenset({'RED RETROSPOT CHARLOTTE BAG'}), items_add=frozenset({'RECIPE BOX PANTRY YELLOW DESIGN'}), confidence=0.22428991185112632, lift=3.2704031299199134)]),\n",
            " RelationRecord(items=frozenset({'RED TOADSTOOL LED NIGHT LIGHT', 'RECIPE BOX PANTRY YELLOW DESIGN'}), support=0.011378474165267674, ordered_statistics=[OrderedStatistic(items_base=frozenset({'RED TOADSTOOL LED NIGHT LIGHT'}), items_add=frozenset({'RECIPE BOX PANTRY YELLOW DESIGN'}), confidence=0.21708185053380782, lift=3.1653013618633103)]),\n",
            " RelationRecord(items=frozenset({'SET OF 3 BUTTERFLY COOKIE CUTTERS', 'RECIPE BOX PANTRY YELLOW DESIGN'}), support=0.0110675868929926, ordered_statistics=[OrderedStatistic(items_base=frozenset({'SET OF 3 BUTTERFLY COOKIE CUTTERS'}), items_add=frozenset({'RECIPE BOX PANTRY YELLOW DESIGN'}), confidence=0.26099706744868034, lift=3.8056353905504317)]),\n",
            " RelationRecord(items=frozenset({'SET OF 3 CAKE TINS PANTRY DESIGN ', 'RECIPE BOX PANTRY YELLOW DESIGN'}), support=0.023938319965180626, ordered_statistics=[OrderedStatistic(items_base=frozenset({'RECIPE BOX PANTRY YELLOW DESIGN'}), items_add=frozenset({'SET OF 3 CAKE TINS PANTRY DESIGN '}), confidence=0.34904805077062556, lift=4.073831495314928), OrderedStatistic(items_base=frozenset({'SET OF 3 CAKE TINS PANTRY DESIGN '}), items_add=frozenset({'RECIPE BOX PANTRY YELLOW DESIGN'}), confidence=0.2793904208998549, lift=4.073831495314929)]),\n",
            " RelationRecord(items=frozenset({'SET OF 3 HEART COOKIE CUTTERS', 'RECIPE BOX PANTRY YELLOW DESIGN'}), support=0.010010570167257352, ordered_statistics=[OrderedStatistic(items_base=frozenset({'SET OF 3 HEART COOKIE CUTTERS'}), items_add=frozenset({'RECIPE BOX PANTRY YELLOW DESIGN'}), confidence=0.23746312684365778, lift=3.462483652789255)]),\n",
            " RelationRecord(items=frozenset({'SET OF 4 PANTRY JELLY MOULDS', 'RECIPE BOX PANTRY YELLOW DESIGN'}), support=0.0166013803394889, ordered_statistics=[OrderedStatistic(items_base=frozenset({'RECIPE BOX PANTRY YELLOW DESIGN'}), items_add=frozenset({'SET OF 4 PANTRY JELLY MOULDS'}), confidence=0.24206708975521304, lift=3.6832213855563776), OrderedStatistic(items_base=frozenset({'SET OF 4 PANTRY JELLY MOULDS'}), items_add=frozenset({'RECIPE BOX PANTRY YELLOW DESIGN'}), confidence=0.25260170293282874, lift=3.6832213855563776)]),\n",
            " RelationRecord(items=frozenset({'SET OF 6 SPICE TINS PANTRY DESIGN', 'RECIPE BOX PANTRY YELLOW DESIGN'}), support=0.015046943978113536, ordered_statistics=[OrderedStatistic(items_base=frozenset({'RECIPE BOX PANTRY YELLOW DESIGN'}), items_add=frozenset({'SET OF 6 SPICE TINS PANTRY DESIGN'}), confidence=0.21940163191296463, lift=4.297973746718892), OrderedStatistic(items_base=frozenset({'SET OF 6 SPICE TINS PANTRY DESIGN'}), items_add=frozenset({'RECIPE BOX PANTRY YELLOW DESIGN'}), confidence=0.29476248477466505, lift=4.297973746718892)]),\n",
            " RelationRecord(items=frozenset({'STRAWBERRY CHARLOTTE BAG', 'RECIPE BOX PANTRY YELLOW DESIGN'}), support=0.010943231984082572, ordered_statistics=[OrderedStatistic(items_base=frozenset({'STRAWBERRY CHARLOTTE BAG'}), items_add=frozenset({'RECIPE BOX PANTRY YELLOW DESIGN'}), confidence=0.24512534818941506, lift=3.5742075928652426)]),\n",
            " RelationRecord(items=frozenset({'WOODLAND CHARLOTTE BAG', 'RECIPE BOX PANTRY YELLOW DESIGN'}), support=0.012062426164272834, ordered_statistics=[OrderedStatistic(items_base=frozenset({'WOODLAND CHARLOTTE BAG'}), items_add=frozenset({'RECIPE BOX PANTRY YELLOW DESIGN'}), confidence=0.23486682808716705, lift=3.424626651066099)]),\n",
            " RelationRecord(items=frozenset({'RED RETROSPOT CHARLOTTE BAG', 'RECYCLING BAG RETROSPOT '}), support=0.012311135982092894, ordered_statistics=[OrderedStatistic(items_base=frozenset({'RECYCLING BAG RETROSPOT '}), items_add=frozenset({'RED RETROSPOT CHARLOTTE BAG'}), confidence=0.26541554959785524, lift=4.180879808209898)]),\n",
            " RelationRecord(items=frozenset({'RED TOADSTOOL LED NIGHT LIGHT', 'RECYCLING BAG RETROSPOT '}), support=0.012248958527637879, ordered_statistics=[OrderedStatistic(items_base=frozenset({'RECYCLING BAG RETROSPOT '}), items_add=frozenset({'RED TOADSTOOL LED NIGHT LIGHT'}), confidence=0.2640750670241287, lift=5.038101189737914), OrderedStatistic(items_base=frozenset({'RED TOADSTOOL LED NIGHT LIGHT'}), items_add=frozenset({'RECYCLING BAG RETROSPOT '}), confidence=0.23368920521945433, lift=5.038101189737914)]),\n",
            " RelationRecord(items=frozenset({'ROSES REGENCY TEACUP AND SAUCER ', 'RECYCLING BAG RETROSPOT '}), support=0.01038363489398744, ordered_statistics=[OrderedStatistic(items_base=frozenset({'RECYCLING BAG RETROSPOT '}), items_add=frozenset({'ROSES REGENCY TEACUP AND SAUCER '}), confidence=0.22386058981233245, lift=3.402977188990305)]),\n",
            " RelationRecord(items=frozenset({'SET/20 RED RETROSPOT PAPER NAPKINS ', 'RECYCLING BAG RETROSPOT '}), support=0.010072747621712367, ordered_statistics=[OrderedStatistic(items_base=frozenset({'RECYCLING BAG RETROSPOT '}), items_add=frozenset({'SET/20 RED RETROSPOT PAPER NAPKINS '}), confidence=0.21715817694369974, lift=3.6117424609984727)]),\n",
            " RelationRecord(items=frozenset({'STRAWBERRY CHARLOTTE BAG', 'RECYCLING BAG RETROSPOT '}), support=0.008953553441522105, ordered_statistics=[OrderedStatistic(items_base=frozenset({'STRAWBERRY CHARLOTTE BAG'}), items_add=frozenset({'RECYCLING BAG RETROSPOT '}), confidence=0.20055710306406688, lift=4.323806821151995)]),\n",
            " RelationRecord(items=frozenset({'WOODEN PICTURE FRAME WHITE FINISH', 'RECYCLING BAG RETROSPOT '}), support=0.010259279985077412, ordered_statistics=[OrderedStatistic(items_base=frozenset({'RECYCLING BAG RETROSPOT '}), items_add=frozenset({'WOODEN PICTURE FRAME WHITE FINISH'}), confidence=0.2211796246648794, lift=3.2515830927653155)]),\n",
            " RelationRecord(items=frozenset({'WOODLAND CHARLOTTE BAG', 'RECYCLING BAG RETROSPOT '}), support=0.011316296710812659, ordered_statistics=[OrderedStatistic(items_base=frozenset({'RECYCLING BAG RETROSPOT '}), items_add=frozenset({'WOODLAND CHARLOTTE BAG'}), confidence=0.24396782841823056, lift=4.750284000545281), OrderedStatistic(items_base=frozenset({'WOODLAND CHARLOTTE BAG'}), items_add=frozenset({'RECYCLING BAG RETROSPOT '}), confidence=0.22033898305084745, lift=4.750284000545281)]),\n",
            " RelationRecord(items=frozenset({'WHITE HANGING HEART T-LIGHT HOLDER', 'RED HANGING HEART T-LIGHT HOLDER'}), support=0.029720823229496984, ordered_statistics=[OrderedStatistic(items_base=frozenset({'RED HANGING HEART T-LIGHT HOLDER'}), items_add=frozenset({'WHITE HANGING HEART T-LIGHT HOLDER'}), confidence=0.6556927297668038, lift=4.7825424820133815), OrderedStatistic(items_base=frozenset({'WHITE HANGING HEART T-LIGHT HOLDER'}), items_add=frozenset({'RED HANGING HEART T-LIGHT HOLDER'}), confidence=0.21678004535147394, lift=4.7825424820133815)]),\n",
            " RelationRecord(items=frozenset({'RED RETROSPOT CHARLOTTE BAG', 'RED TOADSTOOL LED NIGHT LIGHT'}), support=0.011254119256357645, ordered_statistics=[OrderedStatistic(items_base=frozenset({'RED TOADSTOOL LED NIGHT LIGHT'}), items_add=frozenset({'RED RETROSPOT CHARLOTTE BAG'}), confidence=0.2147093712930012, lift=3.3821457575958256)]),\n",
            " RelationRecord(items=frozenset({'RED RETROSPOT CHARLOTTE BAG', 'ROUND SNACK BOXES SET OF4 WOODLAND '}), support=0.010632344711807499, ordered_statistics=[OrderedStatistic(items_base=frozenset({'ROUND SNACK BOXES SET OF4 WOODLAND '}), items_add=frozenset({'RED RETROSPOT CHARLOTTE BAG'}), confidence=0.23392612859097126, lift=3.6848520334266315)]),\n",
            " RelationRecord(items=frozenset({'RED RETROSPOT CHARLOTTE BAG', 'STRAWBERRY CERAMIC TRINKET BOX'}), support=0.010943231984082572, ordered_statistics=[OrderedStatistic(items_base=frozenset({'STRAWBERRY CERAMIC TRINKET BOX'}), items_add=frozenset({'RED RETROSPOT CHARLOTTE BAG'}), confidence=0.25071225071225073, lift=3.949270448780733)]),\n",
            " RelationRecord(items=frozenset({'RED RETROSPOT CHARLOTTE BAG', 'STRAWBERRY CHARLOTTE BAG'}), support=0.029783000683952, ordered_statistics=[OrderedStatistic(items_base=frozenset({'RED RETROSPOT CHARLOTTE BAG'}), items_add=frozenset({'STRAWBERRY CHARLOTTE BAG'}), confidence=0.4691478942213516, lift=10.50878214869359), OrderedStatistic(items_base=frozenset({'STRAWBERRY CHARLOTTE BAG'}), items_add=frozenset({'RED RETROSPOT CHARLOTTE BAG'}), confidence=0.6671309192200557, lift=10.50878214869359)]),\n",
            " RelationRecord(items=frozenset({'RED RETROSPOT CHARLOTTE BAG', 'WOODLAND CHARLOTTE BAG'}), support=0.030840017409687247, ordered_statistics=[OrderedStatistic(items_base=frozenset({'RED RETROSPOT CHARLOTTE BAG'}), items_add=frozenset({'WOODLAND CHARLOTTE BAG'}), confidence=0.4857982370225269, lift=9.458950418926513), OrderedStatistic(items_base=frozenset({'WOODLAND CHARLOTTE BAG'}), items_add=frozenset({'RED RETROSPOT CHARLOTTE BAG'}), confidence=0.6004842615012106, lift=9.458950418926513)]),\n",
            " RelationRecord(items=frozenset({'RED TOADSTOOL LED NIGHT LIGHT', 'ROSES REGENCY TEACUP AND SAUCER '}), support=0.011378474165267674, ordered_statistics=[OrderedStatistic(items_base=frozenset({'RED TOADSTOOL LED NIGHT LIGHT'}), items_add=frozenset({'ROSES REGENCY TEACUP AND SAUCER '}), confidence=0.21708185053380782, lift=3.29993138198037)]),\n",
            " RelationRecord(items=frozenset({'ROUND SNACK BOXES SET OF4 WOODLAND ', 'RED TOADSTOOL LED NIGHT LIGHT'}), support=0.01038363489398744, ordered_statistics=[OrderedStatistic(items_base=frozenset({'ROUND SNACK BOXES SET OF4 WOODLAND '}), items_add=frozenset({'RED TOADSTOOL LED NIGHT LIGHT'}), confidence=0.22845417236662105, lift=4.35851536675251)]),\n",
            " RelationRecord(items=frozenset({'RED TOADSTOOL LED NIGHT LIGHT', 'SPACEBOY LUNCH BOX '}), support=0.010818877075172543, ordered_statistics=[OrderedStatistic(items_base=frozenset({'RED TOADSTOOL LED NIGHT LIGHT'}), items_add=frozenset({'SPACEBOY LUNCH BOX '}), confidence=0.20640569395017794, lift=3.7090757271516335)]),\n",
            " RelationRecord(items=frozenset({'VINTAGE SNAP CARDS', 'RED TOADSTOOL LED NIGHT LIGHT'}), support=0.010756699620717527, ordered_statistics=[OrderedStatistic(items_base=frozenset({'RED TOADSTOOL LED NIGHT LIGHT'}), items_add=frozenset({'VINTAGE SNAP CARDS'}), confidence=0.2052194543297746, lift=3.599285151565719)]),\n",
            " RelationRecord(items=frozenset({'RED TOADSTOOL LED NIGHT LIGHT', 'WOODLAND CHARLOTTE BAG'}), support=0.012932910526643039, ordered_statistics=[OrderedStatistic(items_base=frozenset({'RED TOADSTOOL LED NIGHT LIGHT'}), items_add=frozenset({'WOODLAND CHARLOTTE BAG'}), confidence=0.24673784104389085, lift=4.8042187621173085), OrderedStatistic(items_base=frozenset({'WOODLAND CHARLOTTE BAG'}), items_add=frozenset({'RED TOADSTOOL LED NIGHT LIGHT'}), confidence=0.2518159806295399, lift=4.804218762117308)]),\n",
            " RelationRecord(items=frozenset({'ROSES REGENCY TEACUP AND SAUCER ', 'REGENCY CAKESTAND 3 TIER'}), support=0.03195921158987751, ordered_statistics=[OrderedStatistic(items_base=frozenset({'REGENCY CAKESTAND 3 TIER'}), items_add=frozenset({'ROSES REGENCY TEACUP AND SAUCER '}), confidence=0.2609137055837564, lift=3.966233579303926), OrderedStatistic(items_base=frozenset({'ROSES REGENCY TEACUP AND SAUCER '}), items_add=frozenset({'REGENCY CAKESTAND 3 TIER'}), confidence=0.48582230623818523, lift=3.9662335793039256)]),\n",
            " RelationRecord(items=frozenset({'ROSES REGENCY TEACUP AND SAUCER ', 'SET OF 3 REGENCY CAKE TINS'}), support=0.014114282161288317, ordered_statistics=[OrderedStatistic(items_base=frozenset({'ROSES REGENCY TEACUP AND SAUCER '}), items_add=frozenset({'SET OF 3 REGENCY CAKE TINS'}), confidence=0.21455576559546313, lift=3.966322273645786), OrderedStatistic(items_base=frozenset({'SET OF 3 REGENCY CAKE TINS'}), items_add=frozenset({'ROSES REGENCY TEACUP AND SAUCER '}), confidence=0.26091954022988506, lift=3.966322273645786)]),\n",
            " RelationRecord(items=frozenset({'ROUND SNACK BOXES SET OF4 WOODLAND ', 'SPACEBOY LUNCH BOX '}), support=0.01268420070882298, ordered_statistics=[OrderedStatistic(items_base=frozenset({'ROUND SNACK BOXES SET OF4 WOODLAND '}), items_add=frozenset({'SPACEBOY LUNCH BOX '}), confidence=0.27906976744186046, lift=5.014836949460829), OrderedStatistic(items_base=frozenset({'SPACEBOY LUNCH BOX '}), items_add=frozenset({'ROUND SNACK BOXES SET OF4 WOODLAND '}), confidence=0.22793296089385476, lift=5.014836949460829)]),\n",
            " RelationRecord(items=frozenset({'ROUND SNACK BOXES SET OF4 WOODLAND ', 'WOODLAND CHARLOTTE BAG'}), support=0.012746378163277996, ordered_statistics=[OrderedStatistic(items_base=frozenset({'ROUND SNACK BOXES SET OF4 WOODLAND '}), items_add=frozenset({'WOODLAND CHARLOTTE BAG'}), confidence=0.280437756497948, lift=5.460387939172516), OrderedStatistic(items_base=frozenset({'WOODLAND CHARLOTTE BAG'}), items_add=frozenset({'ROUND SNACK BOXES SET OF4 WOODLAND '}), confidence=0.24818401937046006, lift=5.460387939172516)]),\n",
            " RelationRecord(items=frozenset({'SET OF 3 BUTTERFLY COOKIE CUTTERS', 'SET OF 3 HEART COOKIE CUTTERS'}), support=0.018964123608779457, ordered_statistics=[OrderedStatistic(items_base=frozenset({'SET OF 3 BUTTERFLY COOKIE CUTTERS'}), items_add=frozenset({'SET OF 3 HEART COOKIE CUTTERS'}), confidence=0.44721407624633436, lift=10.608471959099992), OrderedStatistic(items_base=frozenset({'SET OF 3 HEART COOKIE CUTTERS'}), items_add=frozenset({'SET OF 3 BUTTERFLY COOKIE CUTTERS'}), confidence=0.4498525073746312, lift=10.608471959099992)]),\n",
            " RelationRecord(items=frozenset({'SET OF 3 BUTTERFLY COOKIE CUTTERS', 'SET OF 4 PANTRY JELLY MOULDS'}), support=0.010881054529627556, ordered_statistics=[OrderedStatistic(items_base=frozenset({'SET OF 3 BUTTERFLY COOKIE CUTTERS'}), items_add=frozenset({'SET OF 4 PANTRY JELLY MOULDS'}), confidence=0.2565982404692082, lift=3.9043230855877726)]),\n",
            " RelationRecord(items=frozenset({'SET OF 3 CAKE TINS PANTRY DESIGN ', 'SET OF 3 REGENCY CAKE TINS'}), support=0.016912267611763974, ordered_statistics=[OrderedStatistic(items_base=frozenset({'SET OF 3 REGENCY CAKE TINS'}), items_add=frozenset({'SET OF 3 CAKE TINS PANTRY DESIGN '}), confidence=0.31264367816091954, lift=3.6489464991742153)]),\n",
            " RelationRecord(items=frozenset({'SET OF 4 PANTRY JELLY MOULDS', 'SET OF 3 CAKE TINS PANTRY DESIGN '}), support=0.01796928433749922, ordered_statistics=[OrderedStatistic(items_base=frozenset({'SET OF 3 CAKE TINS PANTRY DESIGN '}), items_add=frozenset({'SET OF 4 PANTRY JELLY MOULDS'}), confidence=0.2097242380261248, lift=3.191102100448595), OrderedStatistic(items_base=frozenset({'SET OF 4 PANTRY JELLY MOULDS'}), items_add=frozenset({'SET OF 3 CAKE TINS PANTRY DESIGN '}), confidence=0.27341532639545885, lift=3.1911021004485955)]),\n",
            " RelationRecord(items=frozenset({'SET OF 3 CAKE TINS PANTRY DESIGN ', 'SET OF 6 SPICE TINS PANTRY DESIGN'}), support=0.0246844494186408, ordered_statistics=[OrderedStatistic(items_base=frozenset({'SET OF 3 CAKE TINS PANTRY DESIGN '}), items_add=frozenset({'SET OF 6 SPICE TINS PANTRY DESIGN'}), confidence=0.2880986937590711, lift=5.643716555087869), OrderedStatistic(items_base=frozenset({'SET OF 6 SPICE TINS PANTRY DESIGN'}), items_add=frozenset({'SET OF 3 CAKE TINS PANTRY DESIGN '}), confidence=0.4835566382460414, lift=5.643716555087869)]),\n",
            " RelationRecord(items=frozenset({'SET OF 4 PANTRY JELLY MOULDS', 'SET OF 3 HEART COOKIE CUTTERS'}), support=0.009513150531617236, ordered_statistics=[OrderedStatistic(items_base=frozenset({'SET OF 3 HEART COOKIE CUTTERS'}), items_add=frozenset({'SET OF 4 PANTRY JELLY MOULDS'}), confidence=0.22566371681415928, lift=3.4336325047512997)]),\n",
            " RelationRecord(items=frozenset({'SET OF 4 PANTRY JELLY MOULDS', 'SET OF 6 SPICE TINS PANTRY DESIGN'}), support=0.011813716346452776, ordered_statistics=[OrderedStatistic(items_base=frozenset({'SET OF 6 SPICE TINS PANTRY DESIGN'}), items_add=frozenset({'SET OF 4 PANTRY JELLY MOULDS'}), confidence=0.23142509135200975, lift=3.521295879105367)]),\n",
            " RelationRecord(items=frozenset({'STRAWBERRY CERAMIC TRINKET BOX', 'WOODLAND CHARLOTTE BAG'}), support=0.009140085804887147, ordered_statistics=[OrderedStatistic(items_base=frozenset({'STRAWBERRY CERAMIC TRINKET BOX'}), items_add=frozenset({'WOODLAND CHARLOTTE BAG'}), confidence=0.2094017094017094, lift=4.077249022164277)]),\n",
            " RelationRecord(items=frozenset({'WOODLAND CHARLOTTE BAG', 'STRAWBERRY CHARLOTTE BAG'}), support=0.024870981782005846, ordered_statistics=[OrderedStatistic(items_base=frozenset({'STRAWBERRY CHARLOTTE BAG'}), items_add=frozenset({'WOODLAND CHARLOTTE BAG'}), confidence=0.5571030640668524, lift=10.847322735335577), OrderedStatistic(items_base=frozenset({'WOODLAND CHARLOTTE BAG'}), items_add=frozenset({'STRAWBERRY CHARLOTTE BAG'}), confidence=0.48426150121065376, lift=10.847322735335577)]),\n",
            " RelationRecord(items=frozenset({'WOOD BLACK BOARD ANT WHITE FINISH', 'WOODEN FRAME ANTIQUE WHITE '}), support=0.009326618168252192, ordered_statistics=[OrderedStatistic(items_base=frozenset({'WOOD BLACK BOARD ANT WHITE FINISH'}), items_add=frozenset({'WOODEN FRAME ANTIQUE WHITE '}), confidence=0.21897810218978103, lift=3.6533452463882243)]),\n",
            " RelationRecord(items=frozenset({'WOOD BLACK BOARD ANT WHITE FINISH', 'WOODEN PICTURE FRAME WHITE FINISH'}), support=0.01119194180190263, ordered_statistics=[OrderedStatistic(items_base=frozenset({'WOOD BLACK BOARD ANT WHITE FINISH'}), items_add=frozenset({'WOODEN PICTURE FRAME WHITE FINISH'}), confidence=0.26277372262773724, lift=3.8630619570584077)]),\n",
            " RelationRecord(items=frozenset({'WOODEN FRAME ANTIQUE WHITE ', 'WOODEN PICTURE FRAME WHITE FINISH'}), support=0.03307840577006777, ordered_statistics=[OrderedStatistic(items_base=frozenset({'WOODEN FRAME ANTIQUE WHITE '}), items_add=frozenset({'WOODEN PICTURE FRAME WHITE FINISH'}), confidence=0.5518672199170124, lift=8.113053471595348), OrderedStatistic(items_base=frozenset({'WOODEN PICTURE FRAME WHITE FINISH'}), items_add=frozenset({'WOODEN FRAME ANTIQUE WHITE '}), confidence=0.4862888482632541, lift=8.113053471595348)])]\n"
          ]
        }
      ]
    },
    {
      "cell_type": "code",
      "source": [
        "def inspect(results):\n",
        "  lhs = [tuple(result[2][0][0])[0] for result in results]\n",
        "  rhs = [tuple(result[2][0][1])[0] for result in results]\n",
        "  supports = [result[1] for result in results]\n",
        "  confidences = [result[2][0][2] for result in results]\n",
        "  lifts = [result[2][0][3] for result in results]\n",
        "  return list(zip(lhs, rhs, supports, confidences, lifts))\n",
        "resultsinDataFrame = pd.DataFrame(inspect(results), columns=['Left Hand Side', 'Right Hand Side', 'Support', 'Confidence', 'Lift'])"
      ],
      "metadata": {
        "id": "EtrNuCXbMUWg"
      },
      "execution_count": 132,
      "outputs": []
    },
    {
      "cell_type": "code",
      "source": [
        "resultsinDataFrame"
      ],
      "metadata": {
        "colab": {
          "base_uri": "https://localhost:8080/",
          "height": 424
        },
        "id": "AgooQANzMaTY",
        "outputId": "56ee4cc5-074a-4995-cc89-441b1a62be70"
      },
      "execution_count": 123,
      "outputs": [
        {
          "output_type": "execute_result",
          "data": {
            "text/plain": [
              "                           Left Hand Side                    Right Hand Side  \\\n",
              "0                  6 RIBBONS RUSTIC CHARM                     DOTCOM POSTAGE   \n",
              "1                  6 RIBBONS RUSTIC CHARM             JAM MAKING SET PRINTED   \n",
              "2                  6 RIBBONS RUSTIC CHARM           JAM MAKING SET WITH JARS   \n",
              "3                  6 RIBBONS RUSTIC CHARM    PACK OF 72 RETROSPOT CAKE CASES   \n",
              "4                  6 RIBBONS RUSTIC CHARM    RECIPE BOX PANTRY YELLOW DESIGN   \n",
              "...                                   ...                                ...   \n",
              "29458  WHITE HANGING HEART T-LIGHT HOLDER  WOODEN PICTURE FRAME WHITE FINISH   \n",
              "29459   WOOD BLACK BOARD ANT WHITE FINISH  WOODEN PICTURE FRAME WHITE FINISH   \n",
              "29460   WOOD BLACK BOARD ANT WHITE FINISH        WOODEN FRAME ANTIQUE WHITE    \n",
              "29461   WOOD BLACK BOARD ANT WHITE FINISH  WOODEN PICTURE FRAME WHITE FINISH   \n",
              "29462         WOODEN FRAME ANTIQUE WHITE   WOODEN PICTURE FRAME WHITE FINISH   \n",
              "\n",
              "        Support  Confidence      Lift  \n",
              "0      0.012560    0.214437  4.884980  \n",
              "1      0.014425    0.246285  3.414650  \n",
              "2      0.012684    0.216561  3.079525  \n",
              "3      0.014363    0.245223  3.062050  \n",
              "4      0.012746    0.217622  3.173179  \n",
              "...         ...         ...       ...  \n",
              "29458  0.003109    0.268817  3.951908  \n",
              "29459  0.005907    0.633333  9.310695  \n",
              "29460  0.009327    0.218978  3.653345  \n",
              "29461  0.011192    0.262774  3.863062  \n",
              "29462  0.033078    0.551867  8.113053  \n",
              "\n",
              "[29463 rows x 5 columns]"
            ],
            "text/html": [
              "\n",
              "\n",
              "  <div id=\"df-c0470c8c-6357-49c2-8997-24f7c52c3c7d\">\n",
              "    <div class=\"colab-df-container\">\n",
              "      <div>\n",
              "<style scoped>\n",
              "    .dataframe tbody tr th:only-of-type {\n",
              "        vertical-align: middle;\n",
              "    }\n",
              "\n",
              "    .dataframe tbody tr th {\n",
              "        vertical-align: top;\n",
              "    }\n",
              "\n",
              "    .dataframe thead th {\n",
              "        text-align: right;\n",
              "    }\n",
              "</style>\n",
              "<table border=\"1\" class=\"dataframe\">\n",
              "  <thead>\n",
              "    <tr style=\"text-align: right;\">\n",
              "      <th></th>\n",
              "      <th>Left Hand Side</th>\n",
              "      <th>Right Hand Side</th>\n",
              "      <th>Support</th>\n",
              "      <th>Confidence</th>\n",
              "      <th>Lift</th>\n",
              "    </tr>\n",
              "  </thead>\n",
              "  <tbody>\n",
              "    <tr>\n",
              "      <th>0</th>\n",
              "      <td>6 RIBBONS RUSTIC CHARM</td>\n",
              "      <td>DOTCOM POSTAGE</td>\n",
              "      <td>0.012560</td>\n",
              "      <td>0.214437</td>\n",
              "      <td>4.884980</td>\n",
              "    </tr>\n",
              "    <tr>\n",
              "      <th>1</th>\n",
              "      <td>6 RIBBONS RUSTIC CHARM</td>\n",
              "      <td>JAM MAKING SET PRINTED</td>\n",
              "      <td>0.014425</td>\n",
              "      <td>0.246285</td>\n",
              "      <td>3.414650</td>\n",
              "    </tr>\n",
              "    <tr>\n",
              "      <th>2</th>\n",
              "      <td>6 RIBBONS RUSTIC CHARM</td>\n",
              "      <td>JAM MAKING SET WITH JARS</td>\n",
              "      <td>0.012684</td>\n",
              "      <td>0.216561</td>\n",
              "      <td>3.079525</td>\n",
              "    </tr>\n",
              "    <tr>\n",
              "      <th>3</th>\n",
              "      <td>6 RIBBONS RUSTIC CHARM</td>\n",
              "      <td>PACK OF 72 RETROSPOT CAKE CASES</td>\n",
              "      <td>0.014363</td>\n",
              "      <td>0.245223</td>\n",
              "      <td>3.062050</td>\n",
              "    </tr>\n",
              "    <tr>\n",
              "      <th>4</th>\n",
              "      <td>6 RIBBONS RUSTIC CHARM</td>\n",
              "      <td>RECIPE BOX PANTRY YELLOW DESIGN</td>\n",
              "      <td>0.012746</td>\n",
              "      <td>0.217622</td>\n",
              "      <td>3.173179</td>\n",
              "    </tr>\n",
              "    <tr>\n",
              "      <th>...</th>\n",
              "      <td>...</td>\n",
              "      <td>...</td>\n",
              "      <td>...</td>\n",
              "      <td>...</td>\n",
              "      <td>...</td>\n",
              "    </tr>\n",
              "    <tr>\n",
              "      <th>29458</th>\n",
              "      <td>WHITE HANGING HEART T-LIGHT HOLDER</td>\n",
              "      <td>WOODEN PICTURE FRAME WHITE FINISH</td>\n",
              "      <td>0.003109</td>\n",
              "      <td>0.268817</td>\n",
              "      <td>3.951908</td>\n",
              "    </tr>\n",
              "    <tr>\n",
              "      <th>29459</th>\n",
              "      <td>WOOD BLACK BOARD ANT WHITE FINISH</td>\n",
              "      <td>WOODEN PICTURE FRAME WHITE FINISH</td>\n",
              "      <td>0.005907</td>\n",
              "      <td>0.633333</td>\n",
              "      <td>9.310695</td>\n",
              "    </tr>\n",
              "    <tr>\n",
              "      <th>29460</th>\n",
              "      <td>WOOD BLACK BOARD ANT WHITE FINISH</td>\n",
              "      <td>WOODEN FRAME ANTIQUE WHITE</td>\n",
              "      <td>0.009327</td>\n",
              "      <td>0.218978</td>\n",
              "      <td>3.653345</td>\n",
              "    </tr>\n",
              "    <tr>\n",
              "      <th>29461</th>\n",
              "      <td>WOOD BLACK BOARD ANT WHITE FINISH</td>\n",
              "      <td>WOODEN PICTURE FRAME WHITE FINISH</td>\n",
              "      <td>0.011192</td>\n",
              "      <td>0.262774</td>\n",
              "      <td>3.863062</td>\n",
              "    </tr>\n",
              "    <tr>\n",
              "      <th>29462</th>\n",
              "      <td>WOODEN FRAME ANTIQUE WHITE</td>\n",
              "      <td>WOODEN PICTURE FRAME WHITE FINISH</td>\n",
              "      <td>0.033078</td>\n",
              "      <td>0.551867</td>\n",
              "      <td>8.113053</td>\n",
              "    </tr>\n",
              "  </tbody>\n",
              "</table>\n",
              "<p>29463 rows × 5 columns</p>\n",
              "</div>\n",
              "      <button class=\"colab-df-convert\" onclick=\"convertToInteractive('df-c0470c8c-6357-49c2-8997-24f7c52c3c7d')\"\n",
              "              title=\"Convert this dataframe to an interactive table.\"\n",
              "              style=\"display:none;\">\n",
              "\n",
              "  <svg xmlns=\"http://www.w3.org/2000/svg\" height=\"24px\"viewBox=\"0 0 24 24\"\n",
              "       width=\"24px\">\n",
              "    <path d=\"M0 0h24v24H0V0z\" fill=\"none\"/>\n",
              "    <path d=\"M18.56 5.44l.94 2.06.94-2.06 2.06-.94-2.06-.94-.94-2.06-.94 2.06-2.06.94zm-11 1L8.5 8.5l.94-2.06 2.06-.94-2.06-.94L8.5 2.5l-.94 2.06-2.06.94zm10 10l.94 2.06.94-2.06 2.06-.94-2.06-.94-.94-2.06-.94 2.06-2.06.94z\"/><path d=\"M17.41 7.96l-1.37-1.37c-.4-.4-.92-.59-1.43-.59-.52 0-1.04.2-1.43.59L10.3 9.45l-7.72 7.72c-.78.78-.78 2.05 0 2.83L4 21.41c.39.39.9.59 1.41.59.51 0 1.02-.2 1.41-.59l7.78-7.78 2.81-2.81c.8-.78.8-2.07 0-2.86zM5.41 20L4 18.59l7.72-7.72 1.47 1.35L5.41 20z\"/>\n",
              "  </svg>\n",
              "      </button>\n",
              "\n",
              "\n",
              "\n",
              "    <div id=\"df-8d983fa1-acbf-45d5-8546-b908bc27ff92\">\n",
              "      <button class=\"colab-df-quickchart\" onclick=\"quickchart('df-8d983fa1-acbf-45d5-8546-b908bc27ff92')\"\n",
              "              title=\"Suggest charts.\"\n",
              "              style=\"display:none;\">\n",
              "\n",
              "<svg xmlns=\"http://www.w3.org/2000/svg\" height=\"24px\"viewBox=\"0 0 24 24\"\n",
              "     width=\"24px\">\n",
              "    <g>\n",
              "        <path d=\"M19 3H5c-1.1 0-2 .9-2 2v14c0 1.1.9 2 2 2h14c1.1 0 2-.9 2-2V5c0-1.1-.9-2-2-2zM9 17H7v-7h2v7zm4 0h-2V7h2v10zm4 0h-2v-4h2v4z\"/>\n",
              "    </g>\n",
              "</svg>\n",
              "      </button>\n",
              "    </div>\n",
              "\n",
              "<style>\n",
              "  .colab-df-quickchart {\n",
              "    background-color: #E8F0FE;\n",
              "    border: none;\n",
              "    border-radius: 50%;\n",
              "    cursor: pointer;\n",
              "    display: none;\n",
              "    fill: #1967D2;\n",
              "    height: 32px;\n",
              "    padding: 0 0 0 0;\n",
              "    width: 32px;\n",
              "  }\n",
              "\n",
              "  .colab-df-quickchart:hover {\n",
              "    background-color: #E2EBFA;\n",
              "    box-shadow: 0px 1px 2px rgba(60, 64, 67, 0.3), 0px 1px 3px 1px rgba(60, 64, 67, 0.15);\n",
              "    fill: #174EA6;\n",
              "  }\n",
              "\n",
              "  [theme=dark] .colab-df-quickchart {\n",
              "    background-color: #3B4455;\n",
              "    fill: #D2E3FC;\n",
              "  }\n",
              "\n",
              "  [theme=dark] .colab-df-quickchart:hover {\n",
              "    background-color: #434B5C;\n",
              "    box-shadow: 0px 1px 3px 1px rgba(0, 0, 0, 0.15);\n",
              "    filter: drop-shadow(0px 1px 2px rgba(0, 0, 0, 0.3));\n",
              "    fill: #FFFFFF;\n",
              "  }\n",
              "</style>\n",
              "\n",
              "    <script>\n",
              "      async function quickchart(key) {\n",
              "        const containerElement = document.querySelector('#' + key);\n",
              "        const charts = await google.colab.kernel.invokeFunction(\n",
              "            'suggestCharts', [key], {});\n",
              "      }\n",
              "    </script>\n",
              "\n",
              "      <script>\n",
              "\n",
              "function displayQuickchartButton(domScope) {\n",
              "  let quickchartButtonEl =\n",
              "    domScope.querySelector('#df-8d983fa1-acbf-45d5-8546-b908bc27ff92 button.colab-df-quickchart');\n",
              "  quickchartButtonEl.style.display =\n",
              "    google.colab.kernel.accessAllowed ? 'block' : 'none';\n",
              "}\n",
              "\n",
              "        displayQuickchartButton(document);\n",
              "      </script>\n",
              "      <style>\n",
              "    .colab-df-container {\n",
              "      display:flex;\n",
              "      flex-wrap:wrap;\n",
              "      gap: 12px;\n",
              "    }\n",
              "\n",
              "    .colab-df-convert {\n",
              "      background-color: #E8F0FE;\n",
              "      border: none;\n",
              "      border-radius: 50%;\n",
              "      cursor: pointer;\n",
              "      display: none;\n",
              "      fill: #1967D2;\n",
              "      height: 32px;\n",
              "      padding: 0 0 0 0;\n",
              "      width: 32px;\n",
              "    }\n",
              "\n",
              "    .colab-df-convert:hover {\n",
              "      background-color: #E2EBFA;\n",
              "      box-shadow: 0px 1px 2px rgba(60, 64, 67, 0.3), 0px 1px 3px 1px rgba(60, 64, 67, 0.15);\n",
              "      fill: #174EA6;\n",
              "    }\n",
              "\n",
              "    [theme=dark] .colab-df-convert {\n",
              "      background-color: #3B4455;\n",
              "      fill: #D2E3FC;\n",
              "    }\n",
              "\n",
              "    [theme=dark] .colab-df-convert:hover {\n",
              "      background-color: #434B5C;\n",
              "      box-shadow: 0px 1px 3px 1px rgba(0, 0, 0, 0.15);\n",
              "      filter: drop-shadow(0px 1px 2px rgba(0, 0, 0, 0.3));\n",
              "      fill: #FFFFFF;\n",
              "    }\n",
              "  </style>\n",
              "\n",
              "      <script>\n",
              "        const buttonEl =\n",
              "          document.querySelector('#df-c0470c8c-6357-49c2-8997-24f7c52c3c7d button.colab-df-convert');\n",
              "        buttonEl.style.display =\n",
              "          google.colab.kernel.accessAllowed ? 'block' : 'none';\n",
              "\n",
              "        async function convertToInteractive(key) {\n",
              "          const element = document.querySelector('#df-c0470c8c-6357-49c2-8997-24f7c52c3c7d');\n",
              "          const dataTable =\n",
              "            await google.colab.kernel.invokeFunction('convertToInteractive',\n",
              "                                                     [key], {});\n",
              "          if (!dataTable) return;\n",
              "\n",
              "          const docLinkHtml = 'Like what you see? Visit the ' +\n",
              "            '<a target=\"_blank\" href=https://colab.research.google.com/notebooks/data_table.ipynb>data table notebook</a>'\n",
              "            + ' to learn more about interactive tables.';\n",
              "          element.innerHTML = '';\n",
              "          dataTable['output_type'] = 'display_data';\n",
              "          await google.colab.output.renderOutput(dataTable, element);\n",
              "          const docLink = document.createElement('div');\n",
              "          docLink.innerHTML = docLinkHtml;\n",
              "          element.appendChild(docLink);\n",
              "        }\n",
              "      </script>\n",
              "    </div>\n",
              "  </div>\n"
            ]
          },
          "metadata": {},
          "execution_count": 123
        }
      ]
    },
    {
      "cell_type": "code",
      "source": [
        "resultsinDataFrame.nlargest(n=10, columns='Lift') # sorts by the columns"
      ],
      "metadata": {
        "colab": {
          "base_uri": "https://localhost:8080/",
          "height": 363
        },
        "id": "ZFCc5jJrOSVH",
        "outputId": "515d1a73-a319-441d-adc5-2a3c082dfc9c"
      },
      "execution_count": 133,
      "outputs": [
        {
          "output_type": "execute_result",
          "data": {
            "text/plain": [
              "                         Left Hand Side                    Right Hand Side  \\\n",
              "167     GREEN REGENCY TEACUP AND SAUCER     PINK REGENCY TEACUP AND SAUCER   \n",
              "154  GARDENERS KNEELING PAD CUP OF TEA   GARDENERS KNEELING PAD KEEP CALM    \n",
              "494      PINK REGENCY TEACUP AND SAUCER   ROSES REGENCY TEACUP AND SAUCER    \n",
              "172     GREEN REGENCY TEACUP AND SAUCER   ROSES REGENCY TEACUP AND SAUCER    \n",
              "102                DOLLY GIRL LUNCH BOX                SPACEBOY LUNCH BOX    \n",
              "52          CHARLOTTE BAG PINK POLKADOT           STRAWBERRY CHARLOTTE BAG   \n",
              "50          CHARLOTTE BAG PINK POLKADOT        RED RETROSPOT CHARLOTTE BAG   \n",
              "545            STRAWBERRY CHARLOTTE BAG             WOODLAND CHARLOTTE BAG   \n",
              "537   SET OF 3 BUTTERFLY COOKIE CUTTERS      SET OF 3 HEART COOKIE CUTTERS   \n",
              "526         RED RETROSPOT CHARLOTTE BAG           STRAWBERRY CHARLOTTE BAG   \n",
              "\n",
              "      Support  Confidence       Lift  \n",
              "167  0.038799    0.621514  13.117859  \n",
              "154  0.033327    0.714667  12.686517  \n",
              "494  0.036747    0.775591  11.790003  \n",
              "172  0.046882    0.750996  11.416133  \n",
              "102  0.032954    0.629454  11.311177  \n",
              "52   0.022881    0.504801  11.307404  \n",
              "50   0.031337    0.691358  10.890412  \n",
              "545  0.024871    0.557103  10.847323  \n",
              "537  0.018964    0.447214  10.608472  \n",
              "526  0.029783    0.469148  10.508782  "
            ],
            "text/html": [
              "\n",
              "\n",
              "  <div id=\"df-4029152d-bcf4-49d1-a4d3-7589c98ba7b6\">\n",
              "    <div class=\"colab-df-container\">\n",
              "      <div>\n",
              "<style scoped>\n",
              "    .dataframe tbody tr th:only-of-type {\n",
              "        vertical-align: middle;\n",
              "    }\n",
              "\n",
              "    .dataframe tbody tr th {\n",
              "        vertical-align: top;\n",
              "    }\n",
              "\n",
              "    .dataframe thead th {\n",
              "        text-align: right;\n",
              "    }\n",
              "</style>\n",
              "<table border=\"1\" class=\"dataframe\">\n",
              "  <thead>\n",
              "    <tr style=\"text-align: right;\">\n",
              "      <th></th>\n",
              "      <th>Left Hand Side</th>\n",
              "      <th>Right Hand Side</th>\n",
              "      <th>Support</th>\n",
              "      <th>Confidence</th>\n",
              "      <th>Lift</th>\n",
              "    </tr>\n",
              "  </thead>\n",
              "  <tbody>\n",
              "    <tr>\n",
              "      <th>167</th>\n",
              "      <td>GREEN REGENCY TEACUP AND SAUCER</td>\n",
              "      <td>PINK REGENCY TEACUP AND SAUCER</td>\n",
              "      <td>0.038799</td>\n",
              "      <td>0.621514</td>\n",
              "      <td>13.117859</td>\n",
              "    </tr>\n",
              "    <tr>\n",
              "      <th>154</th>\n",
              "      <td>GARDENERS KNEELING PAD CUP OF TEA</td>\n",
              "      <td>GARDENERS KNEELING PAD KEEP CALM</td>\n",
              "      <td>0.033327</td>\n",
              "      <td>0.714667</td>\n",
              "      <td>12.686517</td>\n",
              "    </tr>\n",
              "    <tr>\n",
              "      <th>494</th>\n",
              "      <td>PINK REGENCY TEACUP AND SAUCER</td>\n",
              "      <td>ROSES REGENCY TEACUP AND SAUCER</td>\n",
              "      <td>0.036747</td>\n",
              "      <td>0.775591</td>\n",
              "      <td>11.790003</td>\n",
              "    </tr>\n",
              "    <tr>\n",
              "      <th>172</th>\n",
              "      <td>GREEN REGENCY TEACUP AND SAUCER</td>\n",
              "      <td>ROSES REGENCY TEACUP AND SAUCER</td>\n",
              "      <td>0.046882</td>\n",
              "      <td>0.750996</td>\n",
              "      <td>11.416133</td>\n",
              "    </tr>\n",
              "    <tr>\n",
              "      <th>102</th>\n",
              "      <td>DOLLY GIRL LUNCH BOX</td>\n",
              "      <td>SPACEBOY LUNCH BOX</td>\n",
              "      <td>0.032954</td>\n",
              "      <td>0.629454</td>\n",
              "      <td>11.311177</td>\n",
              "    </tr>\n",
              "    <tr>\n",
              "      <th>52</th>\n",
              "      <td>CHARLOTTE BAG PINK POLKADOT</td>\n",
              "      <td>STRAWBERRY CHARLOTTE BAG</td>\n",
              "      <td>0.022881</td>\n",
              "      <td>0.504801</td>\n",
              "      <td>11.307404</td>\n",
              "    </tr>\n",
              "    <tr>\n",
              "      <th>50</th>\n",
              "      <td>CHARLOTTE BAG PINK POLKADOT</td>\n",
              "      <td>RED RETROSPOT CHARLOTTE BAG</td>\n",
              "      <td>0.031337</td>\n",
              "      <td>0.691358</td>\n",
              "      <td>10.890412</td>\n",
              "    </tr>\n",
              "    <tr>\n",
              "      <th>545</th>\n",
              "      <td>STRAWBERRY CHARLOTTE BAG</td>\n",
              "      <td>WOODLAND CHARLOTTE BAG</td>\n",
              "      <td>0.024871</td>\n",
              "      <td>0.557103</td>\n",
              "      <td>10.847323</td>\n",
              "    </tr>\n",
              "    <tr>\n",
              "      <th>537</th>\n",
              "      <td>SET OF 3 BUTTERFLY COOKIE CUTTERS</td>\n",
              "      <td>SET OF 3 HEART COOKIE CUTTERS</td>\n",
              "      <td>0.018964</td>\n",
              "      <td>0.447214</td>\n",
              "      <td>10.608472</td>\n",
              "    </tr>\n",
              "    <tr>\n",
              "      <th>526</th>\n",
              "      <td>RED RETROSPOT CHARLOTTE BAG</td>\n",
              "      <td>STRAWBERRY CHARLOTTE BAG</td>\n",
              "      <td>0.029783</td>\n",
              "      <td>0.469148</td>\n",
              "      <td>10.508782</td>\n",
              "    </tr>\n",
              "  </tbody>\n",
              "</table>\n",
              "</div>\n",
              "      <button class=\"colab-df-convert\" onclick=\"convertToInteractive('df-4029152d-bcf4-49d1-a4d3-7589c98ba7b6')\"\n",
              "              title=\"Convert this dataframe to an interactive table.\"\n",
              "              style=\"display:none;\">\n",
              "\n",
              "  <svg xmlns=\"http://www.w3.org/2000/svg\" height=\"24px\"viewBox=\"0 0 24 24\"\n",
              "       width=\"24px\">\n",
              "    <path d=\"M0 0h24v24H0V0z\" fill=\"none\"/>\n",
              "    <path d=\"M18.56 5.44l.94 2.06.94-2.06 2.06-.94-2.06-.94-.94-2.06-.94 2.06-2.06.94zm-11 1L8.5 8.5l.94-2.06 2.06-.94-2.06-.94L8.5 2.5l-.94 2.06-2.06.94zm10 10l.94 2.06.94-2.06 2.06-.94-2.06-.94-.94-2.06-.94 2.06-2.06.94z\"/><path d=\"M17.41 7.96l-1.37-1.37c-.4-.4-.92-.59-1.43-.59-.52 0-1.04.2-1.43.59L10.3 9.45l-7.72 7.72c-.78.78-.78 2.05 0 2.83L4 21.41c.39.39.9.59 1.41.59.51 0 1.02-.2 1.41-.59l7.78-7.78 2.81-2.81c.8-.78.8-2.07 0-2.86zM5.41 20L4 18.59l7.72-7.72 1.47 1.35L5.41 20z\"/>\n",
              "  </svg>\n",
              "      </button>\n",
              "\n",
              "\n",
              "\n",
              "    <div id=\"df-a9484d35-bf2f-4936-b2ae-2d5c523e00bb\">\n",
              "      <button class=\"colab-df-quickchart\" onclick=\"quickchart('df-a9484d35-bf2f-4936-b2ae-2d5c523e00bb')\"\n",
              "              title=\"Suggest charts.\"\n",
              "              style=\"display:none;\">\n",
              "\n",
              "<svg xmlns=\"http://www.w3.org/2000/svg\" height=\"24px\"viewBox=\"0 0 24 24\"\n",
              "     width=\"24px\">\n",
              "    <g>\n",
              "        <path d=\"M19 3H5c-1.1 0-2 .9-2 2v14c0 1.1.9 2 2 2h14c1.1 0 2-.9 2-2V5c0-1.1-.9-2-2-2zM9 17H7v-7h2v7zm4 0h-2V7h2v10zm4 0h-2v-4h2v4z\"/>\n",
              "    </g>\n",
              "</svg>\n",
              "      </button>\n",
              "    </div>\n",
              "\n",
              "<style>\n",
              "  .colab-df-quickchart {\n",
              "    background-color: #E8F0FE;\n",
              "    border: none;\n",
              "    border-radius: 50%;\n",
              "    cursor: pointer;\n",
              "    display: none;\n",
              "    fill: #1967D2;\n",
              "    height: 32px;\n",
              "    padding: 0 0 0 0;\n",
              "    width: 32px;\n",
              "  }\n",
              "\n",
              "  .colab-df-quickchart:hover {\n",
              "    background-color: #E2EBFA;\n",
              "    box-shadow: 0px 1px 2px rgba(60, 64, 67, 0.3), 0px 1px 3px 1px rgba(60, 64, 67, 0.15);\n",
              "    fill: #174EA6;\n",
              "  }\n",
              "\n",
              "  [theme=dark] .colab-df-quickchart {\n",
              "    background-color: #3B4455;\n",
              "    fill: #D2E3FC;\n",
              "  }\n",
              "\n",
              "  [theme=dark] .colab-df-quickchart:hover {\n",
              "    background-color: #434B5C;\n",
              "    box-shadow: 0px 1px 3px 1px rgba(0, 0, 0, 0.15);\n",
              "    filter: drop-shadow(0px 1px 2px rgba(0, 0, 0, 0.3));\n",
              "    fill: #FFFFFF;\n",
              "  }\n",
              "</style>\n",
              "\n",
              "    <script>\n",
              "      async function quickchart(key) {\n",
              "        const containerElement = document.querySelector('#' + key);\n",
              "        const charts = await google.colab.kernel.invokeFunction(\n",
              "            'suggestCharts', [key], {});\n",
              "      }\n",
              "    </script>\n",
              "\n",
              "      <script>\n",
              "\n",
              "function displayQuickchartButton(domScope) {\n",
              "  let quickchartButtonEl =\n",
              "    domScope.querySelector('#df-a9484d35-bf2f-4936-b2ae-2d5c523e00bb button.colab-df-quickchart');\n",
              "  quickchartButtonEl.style.display =\n",
              "    google.colab.kernel.accessAllowed ? 'block' : 'none';\n",
              "}\n",
              "\n",
              "        displayQuickchartButton(document);\n",
              "      </script>\n",
              "      <style>\n",
              "    .colab-df-container {\n",
              "      display:flex;\n",
              "      flex-wrap:wrap;\n",
              "      gap: 12px;\n",
              "    }\n",
              "\n",
              "    .colab-df-convert {\n",
              "      background-color: #E8F0FE;\n",
              "      border: none;\n",
              "      border-radius: 50%;\n",
              "      cursor: pointer;\n",
              "      display: none;\n",
              "      fill: #1967D2;\n",
              "      height: 32px;\n",
              "      padding: 0 0 0 0;\n",
              "      width: 32px;\n",
              "    }\n",
              "\n",
              "    .colab-df-convert:hover {\n",
              "      background-color: #E2EBFA;\n",
              "      box-shadow: 0px 1px 2px rgba(60, 64, 67, 0.3), 0px 1px 3px 1px rgba(60, 64, 67, 0.15);\n",
              "      fill: #174EA6;\n",
              "    }\n",
              "\n",
              "    [theme=dark] .colab-df-convert {\n",
              "      background-color: #3B4455;\n",
              "      fill: #D2E3FC;\n",
              "    }\n",
              "\n",
              "    [theme=dark] .colab-df-convert:hover {\n",
              "      background-color: #434B5C;\n",
              "      box-shadow: 0px 1px 3px 1px rgba(0, 0, 0, 0.15);\n",
              "      filter: drop-shadow(0px 1px 2px rgba(0, 0, 0, 0.3));\n",
              "      fill: #FFFFFF;\n",
              "    }\n",
              "  </style>\n",
              "\n",
              "      <script>\n",
              "        const buttonEl =\n",
              "          document.querySelector('#df-4029152d-bcf4-49d1-a4d3-7589c98ba7b6 button.colab-df-convert');\n",
              "        buttonEl.style.display =\n",
              "          google.colab.kernel.accessAllowed ? 'block' : 'none';\n",
              "\n",
              "        async function convertToInteractive(key) {\n",
              "          const element = document.querySelector('#df-4029152d-bcf4-49d1-a4d3-7589c98ba7b6');\n",
              "          const dataTable =\n",
              "            await google.colab.kernel.invokeFunction('convertToInteractive',\n",
              "                                                     [key], {});\n",
              "          if (!dataTable) return;\n",
              "\n",
              "          const docLinkHtml = 'Like what you see? Visit the ' +\n",
              "            '<a target=\"_blank\" href=https://colab.research.google.com/notebooks/data_table.ipynb>data table notebook</a>'\n",
              "            + ' to learn more about interactive tables.';\n",
              "          element.innerHTML = '';\n",
              "          dataTable['output_type'] = 'display_data';\n",
              "          await google.colab.output.renderOutput(dataTable, element);\n",
              "          const docLink = document.createElement('div');\n",
              "          docLink.innerHTML = docLinkHtml;\n",
              "          element.appendChild(docLink);\n",
              "        }\n",
              "      </script>\n",
              "    </div>\n",
              "  </div>\n"
            ]
          },
          "metadata": {},
          "execution_count": 133
        }
      ]
    }
  ]
}